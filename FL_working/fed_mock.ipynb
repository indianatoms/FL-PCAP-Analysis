{
 "cells": [
  {
   "cell_type": "code",
   "execution_count": 23,
   "metadata": {},
   "outputs": [],
   "source": [
    "import os\n",
    "import sys\n",
    "module_path = os.path.abspath(os.path.join('fede'))\n",
    "if module_path not in sys.path:\n",
    "    sys.path.append(module_path)\n",
    "# import pandas as pd\n",
    "from client import Client\n",
    "from supported_modles import Supported_modles\n",
    "import utils\n",
    "from fedavg import Fedavg\n",
    "from sklearn.utils.class_weight import compute_sample_weight\n",
    "import numpy as np\n",
    "import random"
   ]
  },
  {
   "cell_type": "code",
   "execution_count": 24,
   "metadata": {},
   "outputs": [],
   "source": [
    "def warn(*args, **kwargs):\n",
    "    pass\n",
    "import warnings\n",
    "warnings.warn = warn"
   ]
  },
  {
   "cell_type": "code",
   "execution_count": 25,
   "metadata": {},
   "outputs": [
    {
     "name": "stdout",
     "output_type": "stream",
     "text": [
      "Creating node1.\n"
     ]
    }
   ],
   "source": [
    "selected_model = Supported_modles.NN_classifier\n",
    "client1 = Client(\"node1\",\"0.0.0.0\", 5000, selected_model, \"api\")\n",
    "dataset = client1.load_data('data/xaa.csv', True)\n",
    "client1.preprocess_data(dataset, True)\n",
    "client1.prep_data()\n",
    "test_x = client1.x\n",
    "test_y = client1.y\n",
    "\n"
   ]
  },
  {
   "cell_type": "code",
   "execution_count": 37,
   "metadata": {},
   "outputs": [
    {
     "name": "stdout",
     "output_type": "stream",
     "text": [
      "loged in succesfully!\n",
      "----------------------------------------\n",
      "0.6377155369035672\n",
      "----------------------------------------\n"
     ]
    }
   ],
   "source": [
    "client1.login_api()\n",
    "client1.init_empty_model()\n",
    "client1.get_global_model()\n",
    "client1.model.fc3.bias.data\n",
    "\n",
    "print('----------------------------------------')\n",
    "print(client1.test_model_f1(test_y,test_x))\n",
    "print('----------------------------------------')"
   ]
  },
  {
   "cell_type": "code",
   "execution_count": null,
   "metadata": {},
   "outputs": [],
   "source": [
    "0, 59, 72, 0,71 0.617, 0.81 0.601 0.852 0.58 0.70 0.717 0.734"
   ]
  },
  {
   "cell_type": "code",
   "execution_count": 4,
   "metadata": {},
   "outputs": [],
   "source": [
    "selected_model = Supported_modles.NN_classifier"
   ]
  },
  {
   "cell_type": "code",
   "execution_count": 5,
   "metadata": {},
   "outputs": [
    {
     "name": "stdout",
     "output_type": "stream",
     "text": [
      "Creating node1.\n",
      "Creating node2.\n",
      "Creating node3.\n",
      "Creating node4.\n"
     ]
    }
   ],
   "source": [
    "clients = utils.set_data_mock(selected_model, True)"
   ]
  },
  {
   "cell_type": "code",
   "execution_count": null,
   "metadata": {},
   "outputs": [],
   "source": []
  },
  {
   "cell_type": "code",
   "execution_count": null,
   "metadata": {},
   "outputs": [],
   "source": [
    "client1.model = fedavg.model\n",
    "print('----------------------------------------')\n",
    "print(client1.test_model_f1(test_y,test_x))\n",
    "print('----------------------------------------')\n"
   ]
  },
  {
   "cell_type": "code",
   "execution_count": 5,
   "metadata": {},
   "outputs": [],
   "source": [
    "# for client in clients:\n",
    "#     client.init_empty_model(epochs=50)\n",
    "#     client.train_model(epochs=50)\n",
    "#     score = client.test_model_f1()\n",
    "#     print(score)"
   ]
  },
  {
   "cell_type": "code",
   "execution_count": 24,
   "metadata": {},
   "outputs": [
    {
     "name": "stdout",
     "output_type": "stream",
     "text": [
      "0.9328640431347587\n",
      "0.8814088754847049\n",
      "0.9372570794003332\n"
     ]
    }
   ],
   "source": [
    "for client in clients:\n",
    "    client.init_empty_model(epochs=50)\n",
    "    data = client.fed_avg_prepare_data(epochs=10)\n",
    "    score = client.test_model_f1()\n",
    "    print(score)"
   ]
  },
  {
   "cell_type": "code",
   "execution_count": 50,
   "metadata": {},
   "outputs": [
    {
     "name": "stdout",
     "output_type": "stream",
     "text": [
      "loged in succesfully!\n",
      "200\n",
      "{\"message\":\"Model created\"}\n",
      "\n"
     ]
    }
   ],
   "source": [
    "clients[0].login_api()\n",
    "data = clients[0].fed_avg_prepare_data(epochs=10)\n",
    "clients[0].send_local_model(data)"
   ]
  },
  {
   "cell_type": "code",
   "execution_count": 51,
   "metadata": {},
   "outputs": [
    {
     "name": "stdout",
     "output_type": "stream",
     "text": [
      "loged in succesfully!\n",
      "200\n",
      "{\"message\":\"Model created\"}\n",
      "\n"
     ]
    }
   ],
   "source": [
    "clients[1].login_api()\n",
    "data = clients[1].fed_avg_prepare_data(epochs=10)\n",
    "clients[1].send_local_model(data)"
   ]
  },
  {
   "cell_type": "code",
   "execution_count": 52,
   "metadata": {},
   "outputs": [
    {
     "name": "stdout",
     "output_type": "stream",
     "text": [
      "loged in succesfully!\n",
      "200\n",
      "{\"message\":\"Model created\"}\n",
      "\n"
     ]
    }
   ],
   "source": [
    "clients[2].login_api()\n",
    "data = clients[2].fed_avg_prepare_data(epochs=10)\n",
    "clients[2].send_local_model(data)"
   ]
  },
  {
   "cell_type": "code",
   "execution_count": 54,
   "metadata": {},
   "outputs": [
    {
     "name": "stdout",
     "output_type": "stream",
     "text": [
      "loged in succesfully!\n",
      "0.7945866475666302\n",
      "Parameter containing:\n",
      "tensor([-9.0175e-05,  9.0175e-05], requires_grad=True)\n",
      "loged in succesfully!\n",
      "0.6597278543750563\n",
      "Parameter containing:\n",
      "tensor([-9.0175e-05,  9.0175e-05], requires_grad=True)\n",
      "loged in succesfully!\n",
      "0.9333333333333333\n",
      "Parameter containing:\n",
      "tensor([-9.0175e-05,  9.0175e-05], requires_grad=True)\n"
     ]
    }
   ],
   "source": [
    "for client in clients:\n",
    "    client.login_api()\n",
    "    client.get_global_model()\n",
    "    score = client.test_model_f1()\n",
    "    print(score)\n",
    "    print(client.model.fc3.bias)"
   ]
  },
  {
   "cell_type": "code",
   "execution_count": null,
   "metadata": {},
   "outputs": [],
   "source": []
  }
 ],
 "metadata": {
  "kernelspec": {
   "display_name": "Python 3.9.12 ('base')",
   "language": "python",
   "name": "python3"
  },
  "language_info": {
   "codemirror_mode": {
    "name": "ipython",
    "version": 3
   },
   "file_extension": ".py",
   "mimetype": "text/x-python",
   "name": "python",
   "nbconvert_exporter": "python",
   "pygments_lexer": "ipython3",
   "version": "3.9.12 (main, Apr  5 2022, 06:56:58) \n[GCC 7.5.0]"
  },
  "orig_nbformat": 4,
  "vscode": {
   "interpreter": {
    "hash": "a23a6e25f04d9f91b77ea4396a46e870b27d23d0696169b2210a13d1cc496850"
   }
  }
 },
 "nbformat": 4,
 "nbformat_minor": 2
}
