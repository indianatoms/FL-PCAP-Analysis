{
 "cells": [
  {
   "cell_type": "code",
   "execution_count": 1,
   "metadata": {},
   "outputs": [],
   "source": [
    "import os\n",
    "import sys\n",
    "module_path = os.path.abspath(os.path.join('fede'))\n",
    "if module_path not in sys.path:\n",
    "    sys.path.append(module_path)\n",
    "# import pandas as pd\n",
    "from client import Client\n",
    "from supported_modles import Supported_modles\n",
    "import utils\n",
    "from fedavg import Fedavg\n",
    "from sklearn.utils.class_weight import compute_sample_weight\n",
    "import numpy as np\n",
    "import random\n",
    "from copy import deepcopy\n",
    "import statistics\n",
    "import matplotlib.pyplot as plt"
   ]
  },
  {
   "cell_type": "code",
   "execution_count": 2,
   "metadata": {},
   "outputs": [],
   "source": [
    "def warn(*args, **kwargs):\n",
    "    pass\n",
    "import warnings\n",
    "warnings.warn = warn"
   ]
  },
  {
   "cell_type": "code",
   "execution_count": 3,
   "metadata": {},
   "outputs": [],
   "source": [
    "selected_model = Supported_modles.NN_classifier"
   ]
  },
  {
   "cell_type": "code",
   "execution_count": 6,
   "metadata": {},
   "outputs": [
    {
     "name": "stdout",
     "output_type": "stream",
     "text": [
      "Creating node1.\n",
      "Creating node2.\n",
      "Creating node3.\n",
      "Creating node4.\n"
     ]
    }
   ],
   "source": [
    "clients, test_x, test_y = utils.set_data_mock(selected_model,True, False)"
   ]
  },
  {
   "cell_type": "code",
   "execution_count": 7,
   "metadata": {},
   "outputs": [
    {
     "name": "stdout",
     "output_type": "stream",
     "text": [
      "0.0\n",
      "0.6880129890357812\n",
      "0.0\n"
     ]
    }
   ],
   "source": [
    "epochs = 30\n",
    "f1_before = []\n",
    "for client in clients:\n",
    "    client.init_empty_model(epochs=epochs)\n",
    "    try:\n",
    "        client.train_model(epochs=epochs)\n",
    "    except ValueError:\n",
    "        score = 0\n",
    "        print(client.name)\n",
    "        f1_before.append(score)\n",
    "        continue \n",
    "    try: \n",
    "        score = client.test_model_f1(y_test=test_y, X_test=test_x)\n",
    "    except IndexError:\n",
    "        score = 0\n",
    "    f1_before.append(score)\n",
    "    print(score)"
   ]
  },
  {
   "cell_type": "code",
   "execution_count": 8,
   "metadata": {},
   "outputs": [
    {
     "name": "stdout",
     "output_type": "stream",
     "text": [
      "Waitiing for a Connection..\n"
     ]
    }
   ],
   "source": [
    "fedavg = Fedavg(\"global\", selected_model)"
   ]
  },
  {
   "cell_type": "code",
   "execution_count": 9,
   "metadata": {},
   "outputs": [],
   "source": [
    "model = clients[1].model"
   ]
  },
  {
   "cell_type": "code",
   "execution_count": 10,
   "metadata": {},
   "outputs": [],
   "source": [
    "###First learn model on clients:\n",
    "def plot(epochs, split, rounds):\n",
    "    epochs = epochs\n",
    "    scores = []\n",
    "\n",
    "    for _ in range(10):\n",
    "        round_scores = []\n",
    "        score = 0\n",
    "        round_weights = []\n",
    "        dataset_size = 0\n",
    "        applicable_models = []\n",
    "        first = True\n",
    "\n",
    "        for client in clients:\n",
    "            client.init_empty_model(epochs)\n",
    "            X_train, X_test, y_train, y_test = client.split_data(split)\n",
    "\n",
    "            # X_train = client.x_chunks[0]\n",
    "            # y_train = client.y_chunks[0]\n",
    "\n",
    "            client.train_model(X_train,y_train,epochs=epochs)\n",
    "            dataset_size += client.x.shape[0]\n",
    "            round_weights.append(dataset_size)\n",
    "            applicable_models.append(client.model)\n",
    "            if first:\n",
    "                fedavg.init_global_model(client.model)\n",
    "                first = False\n",
    "            # print('.')\n",
    "\n",
    "        round_weights = np.array(round_weights) / dataset_size # calculate weight based on actual dataset size\n",
    "        fedavg.update_global_model(applicable_models, round_weights, selected_model)\n",
    "\n",
    "        score = fedavg.test_model_f1(y_test=test_y, X_test=test_x)\n",
    "        round_scores.append(score)\n",
    "\n",
    "        number_of_rounds = rounds\n",
    "        max_score = 0\n",
    "        optimal_model = None\n",
    "\n",
    "\n",
    "        for round in range(number_of_rounds):\n",
    "\n",
    "            applicable_clients = random.sample((clients), len(clients))\n",
    "            applicable_models = []\n",
    "            applicable_name = []\n",
    "            round_weights = []\n",
    "            dataset_size = 0\n",
    "            \n",
    "\n",
    "            for client in applicable_clients:\n",
    "                # print(f'.', end='')\n",
    "\n",
    "                X_train, X_test, y_train, y_test = client.split_data(split)\n",
    "\n",
    "                # X_train = client.x_chunks[round + 1]\n",
    "                # y_train = client.y_chunks[round + 1]\n",
    "            \n",
    "                dataset_size += X_train.shape[0]\n",
    "                sample_weights = compute_sample_weight('balanced', y=y_train)\n",
    "\n",
    "                client.load_global_model(fedavg.model)\n",
    "                client.train_local_agent(X_train, y_train, epochs, sample_weights)\n",
    "                round_weights.append(X_train.shape[0])\n",
    "                applicable_models.append(client.model)\n",
    "\n",
    "\n",
    "            round_weights = np.array(round_weights) / dataset_size\n",
    "            fedavg.update_global_model(applicable_models, round_weights, selected_model)\n",
    "\n",
    "            score = fedavg.test_model_f1(y_test=test_y, X_test=test_x)\n",
    "            round_scores.append(score)\n",
    "            # print(score, end=' ')\n",
    "            if score > max_score:\n",
    "                # print(score)\n",
    "                max_score = score\n",
    "                optimal_model = deepcopy(fedavg.model)\n",
    "        print(score)\n",
    "        print('--------------------')\n",
    "        scores.append(round_scores)\n",
    "\n",
    "    #print(f'epochs: {epochs} split = {split} --- {statistics.mean(scores)} stdev {statistics.stdev(scores)}')\n",
    "    plt.rcParams[\"figure.figsize\"] = (10,10)\n",
    "    for x in scores:\n",
    "        plt.plot(x)\n",
    "\n",
    "    plt.xlabel(\"Number of Rounds\", fontsize=16)\n",
    "    plt.ylabel(\"F1-Score\", fontsize=16)\n",
    "    plt.xticks(range(0,rounds+1,5))\n",
    "    plt.xticks(size = 16)\n",
    "    plt.yticks(size = 16)\n",
    "    # plt.title('UNSW - SGD-LR, E=' +str(epochs)+', B=0.1, C=5')\n",
    "    plt.show()\n"
   ]
  },
  {
   "cell_type": "code",
   "execution_count": 11,
   "metadata": {},
   "outputs": [],
   "source": [
    "###First learn model on clients:\n",
    "def find_scores(epochs, split, rounds):\n",
    "    epochs = epochs\n",
    "    scores = []\n",
    "\n",
    "    for _ in range(5):\n",
    "        score = 0\n",
    "        round_weights = []\n",
    "        dataset_size = 0\n",
    "        applicable_models = []\n",
    "        first = True\n",
    "\n",
    "        for client in clients:\n",
    "            client.init_empty_model(epochs)\n",
    "            X_train, X_test, y_train, y_test = client.split_data(split)\n",
    "\n",
    "            client.train_model(X_train,y_train,epochs=epochs)\n",
    "            dataset_size += client.x.shape[0]\n",
    "            round_weights.append(dataset_size)\n",
    "            applicable_models.append(client.model)\n",
    "            if first:\n",
    "                fedavg.init_global_model(client.model)\n",
    "                first = False\n",
    "            # print('.')\n",
    "\n",
    "        round_weights = np.array(round_weights) / dataset_size # calculate weight based on actual dataset size\n",
    "        fedavg.update_global_model(applicable_models, round_weights, selected_model)\n",
    "\n",
    "        score = fedavg.test_model_f1(y_test=test_y, X_test=test_x)\n",
    "\n",
    "        number_of_rounds = rounds\n",
    "        max_score = 0\n",
    "        optimal_model = None\n",
    "\n",
    "\n",
    "        for round in range(number_of_rounds):\n",
    "\n",
    "            applicable_clients = random.sample((clients), len(clients))\n",
    "            applicable_models = []\n",
    "            applicable_name = []\n",
    "            round_weights = []\n",
    "            dataset_size = 0\n",
    "            \n",
    "\n",
    "            for client in applicable_clients:\n",
    "                # print(f'.', end='')\n",
    "\n",
    "                X_train, X_test, y_train, y_test = client.split_data(split)\n",
    "            \n",
    "                dataset_size += X_train.shape[0]\n",
    "                sample_weights = compute_sample_weight('balanced', y=y_train)\n",
    "\n",
    "                client.load_global_model(fedavg.model)\n",
    "                client.train_local_agent(X_train, y_train, epochs, sample_weights)\n",
    "                round_weights.append(X_train.shape[0])\n",
    "                applicable_models.append(client.model)\n",
    "\n",
    "\n",
    "            round_weights = np.array(round_weights) / dataset_size\n",
    "            fedavg.update_global_model(applicable_models, round_weights, selected_model)\n",
    "\n",
    "            score = fedavg.test_model_f1(y_test=test_y, X_test=test_x)\n",
    "            print(score, end=' ')\n",
    "            if score > max_score:\n",
    "                # print(score)\n",
    "                max_score = score\n",
    "                optimal_model = deepcopy(fedavg.model)\n",
    "        print(score)\n",
    "        print('--------------------')\n",
    "        scores.append(score)\n",
    "\n",
    "    print(f'epochs: {epochs} split = {split} --- {statistics.mean(scores)} stdev {statistics.stdev(scores)}')\n",
    "    # plt.rcParams[\"figure.figsize\"] = (10,10)\n",
    "    # for x in scores:\n",
    "    #     plt.plot(x)\n",
    "\n",
    "    # plt.xlabel(\"Number of Rounds\", fontsize=16)\n",
    "    # plt.ylabel(\"F1-Score\", fontsize=16)\n",
    "    # plt.xticks(range(0,rounds+1,5))\n",
    "    # plt.xticks(size = 16)\n",
    "    # plt.yticks(size = 16)\n",
    "    # plt.title('UNSW - LR-SGD, E=' +str(epochs)+', B=' + str(split) +', C=5')\n",
    "    # plt.show()\n"
   ]
  },
  {
   "cell_type": "code",
   "execution_count": 12,
   "metadata": {},
   "outputs": [],
   "source": [
    "#plot(20,0.9,9)"
   ]
  },
  {
   "cell_type": "code",
   "execution_count": 13,
   "metadata": {},
   "outputs": [],
   "source": [
    "#plot(20,0.8,9)"
   ]
  },
  {
   "cell_type": "code",
   "execution_count": 14,
   "metadata": {},
   "outputs": [],
   "source": [
    "#plot(10,0.8,19)"
   ]
  },
  {
   "cell_type": "code",
   "execution_count": 15,
   "metadata": {},
   "outputs": [],
   "source": [
    "#plot(10,0.8,19)"
   ]
  },
  {
   "cell_type": "code",
   "execution_count": 18,
   "metadata": {},
   "outputs": [
    {
     "name": "stdout",
     "output_type": "stream",
     "text": [
      "0.2812977188902201 0.6317453191927128 0.5241102413041724 0.4777967371400033 0.6541621054761882 0.7985055439498634 0.7900653876997101 0.8081705962038996 0.8099179772744376 0.8099179772744376\n",
      "--------------------\n",
      "0.0016348328383422794 0.0 0.28261864794750496 0.7865972306325945 0.7863037803485862 0.8174499743076086 0.7898759698890258 0.8274848977603909 0.797904312618948 0.797904312618948\n",
      "--------------------\n",
      "0.7288514099060064 0.6686617124041514 0.4841841333651067 0.49613502734262577 0.6640795492937169 0.7957989546694718 0.8095123310785363 0.8285747581866916 0.8222925741670832 0.8222925741670832\n",
      "--------------------\n",
      "0.006349895525223195 0.0022667067209219756 0.6619083328063027 0.8259288992562748 0.8099295108002598 0.7843072091458196 0.6603853056440684 0.6664661380001823 0.815239218436235 0.815239218436235\n",
      "--------------------\n",
      "0.0 0.652244356887727 0.6586905339917002 0.7342853930057349 0.7772737525375304 0.8140125663956425 0.8039619480858782 0.8233580743413076 0.8038679488932439 0.8038679488932439\n",
      "--------------------\n",
      "epochs: 5 split = 0.9 --- 0.8098444062779896 stdev 0.009517748869450433\n"
     ]
    }
   ],
   "source": [
    "find_scores(5, 0.9, 9)\n",
    "# find_scores(10, 0.8, 5)\n",
    "# find_scores(20, 0.9, 10)\n",
    "# find_scores(20, 0.8, 10)"
   ]
  },
  {
   "cell_type": "markdown",
   "metadata": {},
   "source": []
  }
 ],
 "metadata": {
  "kernelspec": {
   "display_name": "Python 3.9.12 ('base')",
   "language": "python",
   "name": "python3"
  },
  "language_info": {
   "codemirror_mode": {
    "name": "ipython",
    "version": 3
   },
   "file_extension": ".py",
   "mimetype": "text/x-python",
   "name": "python",
   "nbconvert_exporter": "python",
   "pygments_lexer": "ipython3",
   "version": "3.9.12"
  },
  "orig_nbformat": 4,
  "vscode": {
   "interpreter": {
    "hash": "a23a6e25f04d9f91b77ea4396a46e870b27d23d0696169b2210a13d1cc496850"
   }
  }
 },
 "nbformat": 4,
 "nbformat_minor": 2
}
