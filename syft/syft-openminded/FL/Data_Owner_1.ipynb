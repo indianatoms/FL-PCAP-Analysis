{
 "cells": [
  {
   "cell_type": "code",
   "execution_count": 1,
   "id": "6ef3363f",
   "metadata": {},
   "outputs": [
    {
     "name": "stdout",
     "output_type": "stream",
     "text": [
      "🎤  🎸  ♪♪♪ Starting Duet ♫♫♫  🎻  🎹\n",
      "\n",
      "♫♫♫ >\u001b[93m DISCLAIMER\u001b[0m: \u001b[1mDuet is an experimental feature currently in beta.\n",
      "♫♫♫ > Use at your own risk.\n",
      "\u001b[0m\n",
      "\u001b[1m\n",
      "    > ❤️ \u001b[91mLove\u001b[0m \u001b[92mDuet\u001b[0m? \u001b[93mPlease\u001b[0m \u001b[94mconsider\u001b[0m \u001b[95msupporting\u001b[0m \u001b[91mour\u001b[0m \u001b[93mcommunity!\u001b[0m\n",
      "    > https://github.com/sponsors/OpenMined\u001b[1m\n",
      "\n",
      "♫♫♫ > Punching through firewall to OpenGrid Network Node at:\n",
      "♫♫♫ > http://ec2-18-218-7-180.us-east-2.compute.amazonaws.com:5000\n",
      "♫♫♫ >\n",
      "♫♫♫ > ...waiting for response from OpenGrid Network... \n",
      "♫♫♫ > \u001b[92mDONE!\u001b[0m\n",
      "\n",
      "♫♫♫ > \u001b[95mSTEP 1:\u001b[0m Send the following code to your Duet Partner!\n",
      "\n",
      "import syft as sy\n",
      "duet = sy.join_duet(loopback=True)\n",
      "\n",
      "♫♫♫ > Connecting...\n"
     ]
    },
    {
     "name": "stderr",
     "output_type": "stream",
     "text": [
      "/home/tk/Desktop/Studia/masters/env/lib/python3.10/site-packages/aiortc/rtcdtlstransport.py:211: CryptographyDeprecationWarning: This version of cryptography contains a temporary pyOpenSSL fallback path. Upgrade pyOpenSSL now.\n",
      "  _openssl_assert(lib.SSL_CTX_use_certificate(ctx, self._cert._x509) == 1)  # type: ignore\n",
      "/home/tk/Desktop/Studia/masters/env/lib/python3.10/site-packages/aiortc/rtcdtlstransport.py:186: CryptographyDeprecationWarning: This version of cryptography contains a temporary pyOpenSSL fallback path. Upgrade pyOpenSSL now.\n",
      "  value=certificate_digest(self._cert._x509),  # type: ignore\n"
     ]
    },
    {
     "name": "stdout",
     "output_type": "stream",
     "text": [
      "\n",
      "♫♫♫ > \u001b[92mCONNECTED!\u001b[0m\n",
      "\n",
      "♫♫♫ > DUET LIVE STATUS  *  Objects: 1  Requests: 0   Messages: 228  Request Handlers: 1                                                         \r"
     ]
    }
   ],
   "source": [
    "import syft as sy\n",
    "duet1 = sy.launch_duet(loopback=True)"
   ]
  },
  {
   "cell_type": "code",
   "execution_count": 3,
   "id": "8d69385f",
   "metadata": {},
   "outputs": [],
   "source": [
    "import torch as th\n",
    "import numpy as np"
   ]
  },
  {
   "cell_type": "code",
   "execution_count": 4,
   "id": "664e8d7a",
   "metadata": {},
   "outputs": [],
   "source": [
    "data = th.FloatTensor(np.array([5, 15, 25, 35, 45, 55]).reshape(-1,1))\n",
    "\n",
    "data = data.tag(\"DO1 data\")\n",
    "data = data.describe(\"6 samples\")\n",
    "\n",
    "data_ptr = data.send(duet1, pointable=True)"
   ]
  },
  {
   "cell_type": "code",
   "execution_count": 5,
   "id": "e4098c53",
   "metadata": {},
   "outputs": [
    {
     "data": {
      "text/html": [
       "<div>\n",
       "<style scoped>\n",
       "    .dataframe tbody tr th:only-of-type {\n",
       "        vertical-align: middle;\n",
       "    }\n",
       "\n",
       "    .dataframe tbody tr th {\n",
       "        vertical-align: top;\n",
       "    }\n",
       "\n",
       "    .dataframe thead th {\n",
       "        text-align: right;\n",
       "    }\n",
       "</style>\n",
       "<table border=\"1\" class=\"dataframe\">\n",
       "  <thead>\n",
       "    <tr style=\"text-align: right;\">\n",
       "      <th></th>\n",
       "      <th>ID</th>\n",
       "      <th>Tags</th>\n",
       "      <th>Description</th>\n",
       "      <th>object_type</th>\n",
       "    </tr>\n",
       "  </thead>\n",
       "  <tbody>\n",
       "    <tr>\n",
       "      <th>0</th>\n",
       "      <td>&lt;UID: a145c5f08cc84df38819fbde95b5c364&gt;</td>\n",
       "      <td>[DO1 data]</td>\n",
       "      <td>6 samples</td>\n",
       "      <td>&lt;class 'torch.Tensor'&gt;</td>\n",
       "    </tr>\n",
       "  </tbody>\n",
       "</table>\n",
       "</div>"
      ],
      "text/plain": [
       "                                        ID        Tags Description  \\\n",
       "0  <UID: a145c5f08cc84df38819fbde95b5c364>  [DO1 data]   6 samples   \n",
       "\n",
       "              object_type  \n",
       "0  <class 'torch.Tensor'>  "
      ]
     },
     "execution_count": 5,
     "metadata": {},
     "output_type": "execute_result"
    }
   ],
   "source": [
    "duet1.store.pandas"
   ]
  },
  {
   "cell_type": "code",
   "execution_count": 6,
   "id": "e7e741db",
   "metadata": {},
   "outputs": [
    {
     "data": {
      "text/plain": [
       "tensor([[ 5.],\n",
       "        [15.],\n",
       "        [25.],\n",
       "        [35.],\n",
       "        [45.],\n",
       "        [55.]])"
      ]
     },
     "execution_count": 6,
     "metadata": {},
     "output_type": "execute_result"
    }
   ],
   "source": [
    "data"
   ]
  },
  {
   "cell_type": "code",
   "execution_count": 7,
   "id": "7b130188",
   "metadata": {},
   "outputs": [
    {
     "name": "stderr",
     "output_type": "stream",
     "text": [
      "[2022-09-15T09:58:30.090969+0200][CRITICAL][logger]][43989] > HANDLER Request <UID: 8ebb4e7b165e4951a845890c08d8c8a3>: To eval training\n",
      "Value: <Storable: 52.02812576293945>\n",
      "[2022-09-15T09:58:30.334679+0200][CRITICAL][logger]][43989] > HANDLER Request <UID: 71f821d144fb405fbfd4a0eff545768e>: To eval training\n",
      "Value: <Storable: 14.859127044677734>\n",
      "[2022-09-15T09:58:30.558111+0200][CRITICAL][logger]][43989] > HANDLER Request <UID: 6492e253e70b4e398567862f69002039>: To eval training\n",
      "Value: <Storable: 2.7746779918670654>\n",
      "[2022-09-15T09:58:31.714862+0200][CRITICAL][logger]][43989] > HANDLER Request <UID: 3897cbc1a3264bfa9d59311656829ca8>: To eval training\n",
      "Value: <Storable: 8.565349578857422>\n",
      "[2022-09-15T09:58:32.862720+0200][CRITICAL][logger]][43989] > HANDLER Request <UID: 190c18409a704d2eb43564fd8190676d>: To eval training\n",
      "Value: <Storable: 17.505184173583984>\n",
      "[2022-09-15T09:58:33.079246+0200][CRITICAL][logger]][43989] > HANDLER Request <UID: e86f6782ca9a4fb28fff6da0d813d73b>: To eval training\n",
      "Value: <Storable: 19.677640914916992>\n",
      "[2022-09-15T09:58:34.239225+0200][CRITICAL][logger]][43989] > HANDLER Request <UID: 08d2f6b3508a498cb20e5096efbce990>: To eval training\n",
      "Value: <Storable: 15.440752983093262>\n",
      "[2022-09-15T09:58:35.387503+0200][CRITICAL][logger]][43989] > HANDLER Request <UID: f5c9c2b5cab4415b84b625d4df97931f>: To eval training\n",
      "Value: <Storable: 9.011955261230469>\n",
      "[2022-09-15T09:58:36.545778+0200][CRITICAL][logger]][43989] > HANDLER Request <UID: e7e362a3c91546b7a513b677780abc00>: To eval training\n",
      "Value: <Storable: 4.1528000831604>\n",
      "[2022-09-15T09:58:37.687987+0200][CRITICAL][logger]][43989] > HANDLER Request <UID: 89673e4fecf848b986c9be4c20fcbd38>: To eval training\n",
      "Value: <Storable: 2.755591630935669>\n",
      "[2022-09-15T09:58:56.866189+0200][CRITICAL][logger]][43989] > HANDLER Request <UID: cdf781928a574288a9a6461c11e8327e>:\n",
      "Value: <Storable: [Parameter containing:tensor([[0.6345]], requires_grad=True), Parameter containing:tensor([0.4473], requires_grad=True)]>\n",
      "[2022-09-15T09:58:59.803686+0200][CRITICAL][logger]][43989] > HANDLER Request <UID: 8bd60f61704144848d8a8cd5344f8395>:\n",
      "Value: <Storable: 'in_features=1, out_features=1, bias=True'>\n",
      "[2022-09-15T09:59:00.946541+0200][CRITICAL][logger]][43989] > HANDLER Request <UID: da4a4344090b47d9b6652948ddc230db>:\n",
      "Value: <Storable: OrderedDict([('weight', tensor([[0.6345]])), ('bias', tensor([0.4473]))])>\n",
      "[2022-09-15T10:06:55.208103+0200][CRITICAL][logger]][43989] <class 'syft.core.store.store_memory.MemoryStore'> __getitem__ error <UID: 8909416d277d462f97f35ffa4b5761cd> <UID: 8909416d277d462f97f35ffa4b5761cd>\n",
      "[2022-09-15T10:06:55.210142+0200][CRITICAL][logger]][43989] <UID: 8909416d277d462f97f35ffa4b5761cd>\n",
      "[2022-09-15T10:06:55.212489+0200][CRITICAL][logger]][43989] <UID: 8909416d277d462f97f35ffa4b5761cd>\n",
      "[2022-09-15T10:06:55.214814+0200][CRITICAL][logger]][43989] <UID: 8909416d277d462f97f35ffa4b5761cd>\n",
      "Exception in callback AsyncIOEventEmitter._emit_run.<locals>.callback(<Task finishe...ffa4b5761cd>)>) at /home/tk/Desktop/Studia/masters/env/lib/python3.10/site-packages/pyee/asyncio.py:65\n",
      "handle: <Handle AsyncIOEventEmitter._emit_run.<locals>.callback(<Task finishe...ffa4b5761cd>)>) at /home/tk/Desktop/Studia/masters/env/lib/python3.10/site-packages/pyee/asyncio.py:65>\n",
      "Traceback (most recent call last):\n",
      "  File \"/usr/lib/python3.10/asyncio/events.py\", line 80, in _run\n",
      "    self._context.run(self._callback, *self._args)\n",
      "  File \"/home/tk/Desktop/Studia/masters/env/lib/python3.10/site-packages/pyee/asyncio.py\", line 71, in callback\n",
      "    self.emit(\"error\", exc)\n",
      "  File \"/home/tk/Desktop/Studia/masters/env/lib/python3.10/site-packages/pyee/base.py\", line 179, in emit\n",
      "    self._emit_handle_potential_error(event, args[0] if args else None)\n",
      "  File \"/home/tk/Desktop/Studia/masters/env/lib/python3.10/site-packages/pyee/base.py\", line 139, in _emit_handle_potential_error\n",
      "    raise error\n",
      "  File \"/usr/lib/python3.10/asyncio/tasks.py\", line 232, in __step\n",
      "    result = coro.send(None)\n",
      "  File \"/home/tk/Desktop/Studia/masters/env/lib/python3.10/site-packages/syft/grid/connections/webrtc.py\", line 240, in on_message\n",
      "    await self.consumer(msg=message)\n",
      "  File \"/home/tk/Desktop/Studia/masters/env/lib/python3.10/site-packages/syft/grid/connections/webrtc.py\", line 456, in consumer\n",
      "    traceback_and_raise(e)\n",
      "  File \"/home/tk/Desktop/Studia/masters/env/lib/python3.10/site-packages/syft/logger.py\", line 61, in traceback_and_raise\n",
      "    raise e\n",
      "  File \"/home/tk/Desktop/Studia/masters/env/lib/python3.10/site-packages/syft/grid/connections/webrtc.py\", line 441, in consumer\n",
      "    self.recv_immediate_msg_without_reply(msg=_msg)\n",
      "  File \"/home/tk/Desktop/Studia/masters/env/lib/python3.10/site-packages/syft/grid/connections/webrtc.py\", line 497, in recv_immediate_msg_without_reply\n",
      "    traceback_and_raise(e)\n",
      "  File \"/home/tk/Desktop/Studia/masters/env/lib/python3.10/site-packages/syft/logger.py\", line 61, in traceback_and_raise\n",
      "    raise e\n",
      "  File \"/home/tk/Desktop/Studia/masters/env/lib/python3.10/site-packages/syft/grid/connections/webrtc.py\", line 492, in recv_immediate_msg_without_reply\n",
      "    self.node.recv_immediate_msg_without_reply(msg=msg)\n",
      "  File \"/home/tk/Desktop/Studia/masters/env/lib/python3.10/site-packages/syft/core/node/common/node.py\", line 399, in recv_immediate_msg_without_reply\n",
      "    self.process_message(msg=msg, router=self.immediate_msg_without_reply_router)\n",
      "  File \"/home/tk/Desktop/Studia/masters/env/lib/python3.10/site-packages/syft/core/node/common/node.py\", line 481, in process_message\n",
      "    result = service.process(\n",
      "  File \"/home/tk/Desktop/Studia/masters/env/lib/python3.10/site-packages/syft/core/node/common/service/obj_action_service.py\", line 27, in process\n",
      "    msg.execute_action(node=node, verify_key=verify_key)\n",
      "  File \"/home/tk/Desktop/Studia/masters/env/lib/python3.10/site-packages/syft/core/node/common/action/run_class_method_action.py\", line 126, in execute_action\n",
      "    r_arg = node.store[arg.id_at_location]\n",
      "  File \"/home/tk/Desktop/Studia/masters/env/lib/python3.10/site-packages/syft/core/store/store_memory.py\", line 66, in __getitem__\n",
      "    traceback_and_raise(e)\n",
      "  File \"/home/tk/Desktop/Studia/masters/env/lib/python3.10/site-packages/syft/logger.py\", line 61, in traceback_and_raise\n",
      "    raise e\n",
      "  File \"/home/tk/Desktop/Studia/masters/env/lib/python3.10/site-packages/syft/core/store/store_memory.py\", line 63, in __getitem__\n",
      "    return self._objects[key]\n",
      "KeyError: <UID: 8909416d277d462f97f35ffa4b5761cd>\n"
     ]
    }
   ],
   "source": [
    "duet1.requests.add_handler(\n",
    "    action=\"accept\",\n",
    "    print_local=True\n",
    ")"
   ]
  },
  {
   "cell_type": "code",
   "execution_count": null,
   "id": "f02c8e2f",
   "metadata": {},
   "outputs": [],
   "source": []
  }
 ],
 "metadata": {
  "kernelspec": {
   "display_name": "env",
   "language": "python",
   "name": "env"
  },
  "language_info": {
   "codemirror_mode": {
    "name": "ipython",
    "version": 3
   },
   "file_extension": ".py",
   "mimetype": "text/x-python",
   "name": "python",
   "nbconvert_exporter": "python",
   "pygments_lexer": "ipython3",
   "version": "3.10.4"
  }
 },
 "nbformat": 4,
 "nbformat_minor": 5
}
