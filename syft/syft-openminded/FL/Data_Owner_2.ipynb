{
 "cells": [
  {
   "cell_type": "code",
   "execution_count": 1,
   "id": "8762b2c4",
   "metadata": {},
   "outputs": [
    {
     "name": "stdout",
     "output_type": "stream",
     "text": [
      "🎤  🎸  ♪♪♪ Starting Duet ♫♫♫  🎻  🎹\n",
      "\n",
      "♫♫♫ >\u001b[93m DISCLAIMER\u001b[0m: \u001b[1mDuet is an experimental feature currently in beta.\n",
      "♫♫♫ > Use at your own risk.\n",
      "\u001b[0m\n",
      "\u001b[1m\n",
      "    > ❤️ \u001b[91mLove\u001b[0m \u001b[92mDuet\u001b[0m? \u001b[93mPlease\u001b[0m \u001b[94mconsider\u001b[0m \u001b[95msupporting\u001b[0m \u001b[91mour\u001b[0m \u001b[93mcommunity!\u001b[0m\n",
      "    > https://github.com/sponsors/OpenMined\u001b[1m\n",
      "\n",
      "♫♫♫ > Punching through firewall to OpenGrid Network Node at:\n",
      "♫♫♫ > http://ec2-18-218-7-180.us-east-2.compute.amazonaws.com:5000\n",
      "♫♫♫ >\n",
      "♫♫♫ > ...waiting for response from OpenGrid Network... \n",
      "♫♫♫ > \u001b[92mDONE!\u001b[0m\n",
      "\n",
      "♫♫♫ > \u001b[95mSTEP 1:\u001b[0m Send the following code to your Duet Partner!\n",
      "\n",
      "import syft as sy\n",
      "duet = sy.join_duet(loopback=True)\n",
      "\n",
      "♫♫♫ > Connecting...\n"
     ]
    },
    {
     "name": "stderr",
     "output_type": "stream",
     "text": [
      "/home/tk/Desktop/Studia/masters/env/lib/python3.10/site-packages/aiortc/rtcdtlstransport.py:211: CryptographyDeprecationWarning: This version of cryptography contains a temporary pyOpenSSL fallback path. Upgrade pyOpenSSL now.\n",
      "  _openssl_assert(lib.SSL_CTX_use_certificate(ctx, self._cert._x509) == 1)  # type: ignore\n",
      "/home/tk/Desktop/Studia/masters/env/lib/python3.10/site-packages/aiortc/rtcdtlstransport.py:186: CryptographyDeprecationWarning: This version of cryptography contains a temporary pyOpenSSL fallback path. Upgrade pyOpenSSL now.\n",
      "  value=certificate_digest(self._cert._x509),  # type: ignore\n"
     ]
    },
    {
     "name": "stdout",
     "output_type": "stream",
     "text": [
      "\n",
      "♫♫♫ > \u001b[92mCONNECTED!\u001b[0m\n",
      "\n",
      "♫♫♫ > DUET LIVE STATUS  -  Objects: 3  Requests: 0   Messages: 225  Request Handlers: 1                                \r"
     ]
    }
   ],
   "source": [
    "import syft as sy\n",
    "duet2 = sy.duet(loopback=True)"
   ]
  },
  {
   "cell_type": "code",
   "execution_count": 2,
   "id": "a26eb029",
   "metadata": {},
   "outputs": [],
   "source": [
    "import torch as th\n",
    "import numpy as np"
   ]
  },
  {
   "cell_type": "code",
   "execution_count": 3,
   "id": "ed37128c",
   "metadata": {},
   "outputs": [],
   "source": [
    "data = th.FloatTensor(np.array([60, 65, 70, 75, 85]).reshape(-1,1))\n",
    "\n",
    "data = data.tag(\"DO2 data\")\n",
    "data = data.describe(\"5 samples\")\n",
    "\n",
    "data_ptr = data.send(duet2, pointable=True)"
   ]
  },
  {
   "cell_type": "code",
   "execution_count": 4,
   "id": "c447da45",
   "metadata": {},
   "outputs": [
    {
     "data": {
      "text/html": [
       "<div>\n",
       "<style scoped>\n",
       "    .dataframe tbody tr th:only-of-type {\n",
       "        vertical-align: middle;\n",
       "    }\n",
       "\n",
       "    .dataframe tbody tr th {\n",
       "        vertical-align: top;\n",
       "    }\n",
       "\n",
       "    .dataframe thead th {\n",
       "        text-align: right;\n",
       "    }\n",
       "</style>\n",
       "<table border=\"1\" class=\"dataframe\">\n",
       "  <thead>\n",
       "    <tr style=\"text-align: right;\">\n",
       "      <th></th>\n",
       "      <th>ID</th>\n",
       "      <th>Tags</th>\n",
       "      <th>Description</th>\n",
       "      <th>object_type</th>\n",
       "    </tr>\n",
       "  </thead>\n",
       "  <tbody>\n",
       "    <tr>\n",
       "      <th>0</th>\n",
       "      <td>&lt;UID: 8909416d277d462f97f35ffa4b5761cd&gt;</td>\n",
       "      <td>[DO2 data]</td>\n",
       "      <td>5 samples</td>\n",
       "      <td>&lt;class 'torch.Tensor'&gt;</td>\n",
       "    </tr>\n",
       "  </tbody>\n",
       "</table>\n",
       "</div>"
      ],
      "text/plain": [
       "                                        ID        Tags Description  \\\n",
       "0  <UID: 8909416d277d462f97f35ffa4b5761cd>  [DO2 data]   5 samples   \n",
       "\n",
       "              object_type  \n",
       "0  <class 'torch.Tensor'>  "
      ]
     },
     "execution_count": 4,
     "metadata": {},
     "output_type": "execute_result"
    }
   ],
   "source": [
    "duet2.store.pandas"
   ]
  },
  {
   "cell_type": "code",
   "execution_count": 5,
   "id": "78fc3965",
   "metadata": {},
   "outputs": [
    {
     "data": {
      "text/plain": [
       "tensor([[60.],\n",
       "        [65.],\n",
       "        [70.],\n",
       "        [75.],\n",
       "        [85.]])"
      ]
     },
     "execution_count": 5,
     "metadata": {},
     "output_type": "execute_result"
    }
   ],
   "source": [
    "data"
   ]
  },
  {
   "cell_type": "code",
   "execution_count": 6,
   "id": "27b893ee",
   "metadata": {},
   "outputs": [
    {
     "name": "stderr",
     "output_type": "stream",
     "text": [
      "[2022-09-15T09:58:40.764063+0200][CRITICAL][logger]][43263] > HANDLER Request <UID: 8900a8b0509244d5a4bd52e63fc32d0a>: To eval training\n",
      "Value: <Storable: 200.14926147460938>\n",
      "[2022-09-15T09:58:41.971615+0200][CRITICAL][logger]][43263] > HANDLER Request <UID: 4595aab4d5534965b8323488fd199e90>: To eval training\n",
      "Value: <Storable: 55.6126594543457>\n",
      "[2022-09-15T09:58:42.183623+0200][CRITICAL][logger]][43263] > HANDLER Request <UID: ef0c3481c8364a85aa2851e46d360215>: To eval training\n",
      "Value: <Storable: 15.525152206420898>\n",
      "[2022-09-15T09:58:42.407847+0200][CRITICAL][logger]][43263] > HANDLER Request <UID: 5d0b215cc6054cd6a702ff68b17da415>: To eval training\n",
      "Value: <Storable: 44.60530471801758>\n",
      "[2022-09-15T09:58:43.565194+0200][CRITICAL][logger]][43263] > HANDLER Request <UID: 2992ca579ae942c68a989143b9c429a4>: To eval training\n",
      "Value: <Storable: 77.37857818603516>\n",
      "[2022-09-15T09:58:44.719276+0200][CRITICAL][logger]][43263] > HANDLER Request <UID: 7949e82dc0554171a90adbec3a10517c>: To eval training\n",
      "Value: <Storable: 79.2303237915039>\n",
      "[2022-09-15T09:58:45.859511+0200][CRITICAL][logger]][43263] > HANDLER Request <UID: 780a7184eda04aa8a28eb8678dcd41b6>: To eval training\n",
      "Value: <Storable: 58.002235412597656>\n",
      "[2022-09-15T09:58:46.993082+0200][CRITICAL][logger]][43263] > HANDLER Request <UID: e381133d50394656ac810c5475ae4df4>: To eval training\n",
      "Value: <Storable: 32.604637145996094>\n",
      "[2022-09-15T09:58:48.145263+0200][CRITICAL][logger]][43263] > HANDLER Request <UID: 0efb8086c5a14f1483a7eb617925b9b6>: To eval training\n",
      "Value: <Storable: 17.29300308227539>\n",
      "[2022-09-15T09:58:49.317878+0200][CRITICAL][logger]][43263] > HANDLER Request <UID: ac75355a43dd40eca682bc4e7fee94d6>: To eval training\n",
      "Value: <Storable: 17.08054542541504>\n",
      "[2022-09-15T09:58:58.019372+0200][CRITICAL][logger]][43263] > HANDLER Request <UID: a1ac695a0b80417daa7a882f432441e8>:\n",
      "Value: <Storable: [Parameter containing:tensor([[0.6131]], requires_grad=True), Parameter containing:tensor([0.4207], requires_grad=True)]>\n",
      "[2022-09-15T09:59:02.098984+0200][CRITICAL][logger]][43263] > HANDLER Request <UID: 39e8bb5325b24453b4778afd260f458e>:\n",
      "Value: <Storable: 'in_features=1, out_features=1, bias=True'>\n",
      "[2022-09-15T09:59:03.245987+0200][CRITICAL][logger]][43263] > HANDLER Request <UID: 2128bc4c8170404795f1ec6b68c19814>:\n",
      "Value: <Storable: OrderedDict([('weight', tensor([[0.6131]])), ('bias', tensor([0.4207]))])>\n"
     ]
    }
   ],
   "source": [
    "duet2.requests.add_handler(\n",
    "    action=\"accept\",\n",
    "    print_local=True\n",
    ")"
   ]
  },
  {
   "cell_type": "code",
   "execution_count": null,
   "id": "7c68af89",
   "metadata": {},
   "outputs": [],
   "source": []
  }
 ],
 "metadata": {
  "kernelspec": {
   "display_name": "env",
   "language": "python",
   "name": "env"
  },
  "language_info": {
   "codemirror_mode": {
    "name": "ipython",
    "version": 3
   },
   "file_extension": ".py",
   "mimetype": "text/x-python",
   "name": "python",
   "nbconvert_exporter": "python",
   "pygments_lexer": "ipython3",
   "version": "3.10.4"
  }
 },
 "nbformat": 4,
 "nbformat_minor": 5
}
