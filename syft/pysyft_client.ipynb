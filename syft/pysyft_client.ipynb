{
 "cells": [
  {
   "cell_type": "code",
   "execution_count": 27,
   "id": "f7ea4ece",
   "metadata": {},
   "outputs": [],
   "source": [
    "import syft as sy\n",
    "from sklearn.model_selection import train_test_split\n",
    "import pandas as pd\n",
    "import numpy as np\n",
    "from syft.core.adp.entity import Entity"
   ]
  },
  {
   "cell_type": "code",
   "execution_count": 8,
   "id": "33cfdad7",
   "metadata": {},
   "outputs": [
    {
     "name": "stdout",
     "output_type": "stream",
     "text": [
      "Connecting to None... done! \t Logging into tomek... done!\n"
     ]
    }
   ],
   "source": [
    "ds_domain = sy.login(\n",
    "    email = \"ttomek.koziak@gmail.com\",\n",
    "    password = \"1234567890\",\n",
    "    port = 8081\n",
    ")"
   ]
  },
  {
   "cell_type": "code",
   "execution_count": 9,
   "id": "3dfc7058",
   "metadata": {},
   "outputs": [
    {
     "data": {
      "text/plain": [
       "10.0"
      ]
     },
     "execution_count": 9,
     "metadata": {},
     "output_type": "execute_result"
    }
   ],
   "source": [
    "ds_domain.privacy_budget"
   ]
  },
  {
   "cell_type": "code",
   "execution_count": 10,
   "id": "a75dd8f5",
   "metadata": {},
   "outputs": [
    {
     "data": {
      "text/html": [
       "(no datasets found)"
      ],
      "text/plain": [
       "<syft.core.node.common.client_manager.dataset_api.DatasetRequestAPI at 0x7f8d6fc89130>"
      ]
     },
     "execution_count": 10,
     "metadata": {},
     "output_type": "execute_result"
    }
   ],
   "source": [
    "ds_domain.datasets"
   ]
  },
  {
   "cell_type": "code",
   "execution_count": 13,
   "id": "b3156ba2",
   "metadata": {},
   "outputs": [],
   "source": [
    "# Load data\n",
    "\"\"\"Load unsw dataset\"\"\"\n",
    "unsw = pd.read_csv(\"UNSW_NB15_training-set.csv\")\n",
    "y = unsw.iloc[:,-1:]\n",
    "#one-hot-encode parameters\n",
    "proto = pd.get_dummies(unsw['proto'])\n",
    "state = pd.get_dummies(unsw['state'])\n",
    "service = pd.get_dummies(unsw['service'])\n",
    "service = service.iloc[:,1:]\n",
    "\n",
    "#remove encoded parameters and add one hot\n",
    "for x in ['proto', 'state', 'service','label','attack_cat']:\n",
    "    unsw = unsw.drop(x,axis = 1)\n",
    "    \n",
    "for x in [proto, state, service]:\n",
    "    unsw = unsw.join(x)\n",
    "    \n",
    "X = unsw.iloc[:,:-2]\n",
    "x_train, x_test, y_train, y_test = train_test_split(X, y, test_size=0.33, random_state=42)"
   ]
  },
  {
   "cell_type": "code",
   "execution_count": 17,
   "id": "d68d466f",
   "metadata": {},
   "outputs": [
    {
     "name": "stdout",
     "output_type": "stream",
     "text": [
      "raw_data is of type: <class 'pandas.core.frame.DataFrame'>\n",
      "raw_data is of type: <class 'numpy.ndarray'>\n"
     ]
    }
   ],
   "source": [
    "# Convert a Pandas Dataframe to NumPy array\n",
    "print(f'raw_data is of type: {type(x_train)}')\n",
    "raw_data = x_train.values\n",
    "print(f'raw_data is of type: {type(raw_data)}')"
   ]
  },
  {
   "cell_type": "code",
   "execution_count": 20,
   "id": "8f300e2b",
   "metadata": {},
   "outputs": [
    {
     "name": "stdout",
     "output_type": "stream",
     "text": [
      "random_data is of dtype: float64\n",
      "random_data is now of type: int32\n"
     ]
    }
   ],
   "source": [
    "print(f'random_data is of dtype: {raw_data.dtype}')\n",
    "raw_data_32 = raw_data.astype(np.int32)\n",
    "print(f'random_data is now of type: {raw_data_32.dtype}')"
   ]
  },
  {
   "cell_type": "code",
   "execution_count": 21,
   "id": "d38c26bf",
   "metadata": {},
   "outputs": [],
   "source": [
    "# select all of Country 0's data\n",
    "packet0_data = raw_data[0, :]"
   ]
  },
  {
   "cell_type": "code",
   "execution_count": 30,
   "id": "8a7d9676",
   "metadata": {},
   "outputs": [
    {
     "data": {
      "text/plain": [
       "0.0"
      ]
     },
     "execution_count": 30,
     "metadata": {},
     "output_type": "execute_result"
    }
   ],
   "source": [
    "np.min(raw_data)"
   ]
  },
  {
   "cell_type": "code",
   "execution_count": 31,
   "id": "064b6a1a",
   "metadata": {},
   "outputs": [
    {
     "data": {
      "text/plain": [
       "5268000256.0"
      ]
     },
     "execution_count": 31,
     "metadata": {},
     "output_type": "execute_result"
    }
   ],
   "source": [
    "np.max(raw_data)"
   ]
  },
  {
   "cell_type": "code",
   "execution_count": 22,
   "id": "3bc0d5d9",
   "metadata": {},
   "outputs": [
    {
     "data": {
      "text/plain": [
       "array([6.6238000e+04, 1.5069646e+01, 4.0000000e+00, 0.0000000e+00,\n",
       "       1.8000000e+02, 0.0000000e+00, 1.9907600e-01, 2.5400000e+02,\n",
       "       0.0000000e+00, 7.1667244e+01, 0.0000000e+00, 3.0000000e+00,\n",
       "       0.0000000e+00, 5.0232155e+03, 0.0000000e+00, 7.1038900e+03,\n",
       "       0.0000000e+00, 2.5500000e+02, 0.0000000e+00, 0.0000000e+00,\n",
       "       0.0000000e+00, 0.0000000e+00, 0.0000000e+00, 0.0000000e+00,\n",
       "       4.5000000e+01, 0.0000000e+00, 0.0000000e+00, 0.0000000e+00,\n",
       "       1.2000000e+01, 6.0000000e+00, 1.2000000e+01, 2.0000000e+00,\n",
       "       2.0000000e+00, 1.2000000e+01, 0.0000000e+00, 0.0000000e+00,\n",
       "       0.0000000e+00, 1.2000000e+01, 1.2000000e+01, 0.0000000e+00,\n",
       "       0.0000000e+00, 0.0000000e+00, 0.0000000e+00, 0.0000000e+00,\n",
       "       0.0000000e+00, 0.0000000e+00, 0.0000000e+00, 0.0000000e+00,\n",
       "       0.0000000e+00, 0.0000000e+00, 0.0000000e+00, 0.0000000e+00,\n",
       "       0.0000000e+00, 0.0000000e+00, 0.0000000e+00, 0.0000000e+00,\n",
       "       0.0000000e+00, 0.0000000e+00, 0.0000000e+00, 0.0000000e+00,\n",
       "       0.0000000e+00, 0.0000000e+00, 0.0000000e+00, 0.0000000e+00,\n",
       "       0.0000000e+00, 0.0000000e+00, 0.0000000e+00, 0.0000000e+00,\n",
       "       0.0000000e+00, 0.0000000e+00, 0.0000000e+00, 0.0000000e+00,\n",
       "       0.0000000e+00, 0.0000000e+00, 0.0000000e+00, 0.0000000e+00,\n",
       "       0.0000000e+00, 0.0000000e+00, 0.0000000e+00, 0.0000000e+00,\n",
       "       0.0000000e+00, 0.0000000e+00, 0.0000000e+00, 0.0000000e+00,\n",
       "       0.0000000e+00, 0.0000000e+00, 0.0000000e+00, 0.0000000e+00,\n",
       "       0.0000000e+00, 0.0000000e+00, 0.0000000e+00, 0.0000000e+00,\n",
       "       0.0000000e+00, 0.0000000e+00, 0.0000000e+00, 0.0000000e+00,\n",
       "       0.0000000e+00, 0.0000000e+00, 0.0000000e+00, 0.0000000e+00,\n",
       "       0.0000000e+00, 0.0000000e+00, 0.0000000e+00, 0.0000000e+00,\n",
       "       0.0000000e+00, 0.0000000e+00, 0.0000000e+00, 0.0000000e+00,\n",
       "       0.0000000e+00, 0.0000000e+00, 0.0000000e+00, 0.0000000e+00,\n",
       "       0.0000000e+00, 0.0000000e+00, 0.0000000e+00, 0.0000000e+00,\n",
       "       0.0000000e+00, 0.0000000e+00, 0.0000000e+00, 0.0000000e+00,\n",
       "       0.0000000e+00, 0.0000000e+00, 0.0000000e+00, 0.0000000e+00,\n",
       "       0.0000000e+00, 0.0000000e+00, 0.0000000e+00, 0.0000000e+00,\n",
       "       0.0000000e+00, 0.0000000e+00, 0.0000000e+00, 0.0000000e+00,\n",
       "       0.0000000e+00, 0.0000000e+00, 0.0000000e+00, 0.0000000e+00,\n",
       "       0.0000000e+00, 0.0000000e+00, 0.0000000e+00, 0.0000000e+00,\n",
       "       0.0000000e+00, 0.0000000e+00, 0.0000000e+00, 0.0000000e+00,\n",
       "       0.0000000e+00, 0.0000000e+00, 0.0000000e+00, 0.0000000e+00,\n",
       "       0.0000000e+00, 0.0000000e+00, 0.0000000e+00, 1.0000000e+00,\n",
       "       0.0000000e+00, 0.0000000e+00, 0.0000000e+00, 0.0000000e+00,\n",
       "       0.0000000e+00, 0.0000000e+00, 0.0000000e+00, 0.0000000e+00,\n",
       "       0.0000000e+00, 0.0000000e+00, 0.0000000e+00, 0.0000000e+00,\n",
       "       0.0000000e+00, 0.0000000e+00, 0.0000000e+00, 0.0000000e+00,\n",
       "       0.0000000e+00, 0.0000000e+00, 0.0000000e+00, 0.0000000e+00,\n",
       "       0.0000000e+00, 0.0000000e+00, 0.0000000e+00, 0.0000000e+00,\n",
       "       1.0000000e+00, 0.0000000e+00, 0.0000000e+00, 0.0000000e+00,\n",
       "       0.0000000e+00, 0.0000000e+00, 0.0000000e+00, 0.0000000e+00,\n",
       "       0.0000000e+00, 0.0000000e+00, 0.0000000e+00, 0.0000000e+00])"
      ]
     },
     "execution_count": 22,
     "metadata": {},
     "output_type": "execute_result"
    }
   ],
   "source": [
    "packet0_data"
   ]
  },
  {
   "cell_type": "code",
   "execution_count": 25,
   "id": "27110c08",
   "metadata": {},
   "outputs": [],
   "source": [
    "# Specify it to be a np.int32 dtype\n",
    "packet0_data = packet0_data.astype(np.int32)"
   ]
  },
  {
   "cell_type": "code",
   "execution_count": 26,
   "id": "e84cc96e",
   "metadata": {},
   "outputs": [
    {
     "data": {
      "text/plain": [
       "array([66238,    15,     4,     0,   180,     0,     0,   254,     0,\n",
       "          71,     0,     3,     0,  5023,     0,  7103,     0,   255,\n",
       "           0,     0,     0,     0,     0,     0,    45,     0,     0,\n",
       "           0,    12,     6,    12,     2,     2,    12,     0,     0,\n",
       "           0,    12,    12,     0,     0,     0,     0,     0,     0,\n",
       "           0,     0,     0,     0,     0,     0,     0,     0,     0,\n",
       "           0,     0,     0,     0,     0,     0,     0,     0,     0,\n",
       "           0,     0,     0,     0,     0,     0,     0,     0,     0,\n",
       "           0,     0,     0,     0,     0,     0,     0,     0,     0,\n",
       "           0,     0,     0,     0,     0,     0,     0,     0,     0,\n",
       "           0,     0,     0,     0,     0,     0,     0,     0,     0,\n",
       "           0,     0,     0,     0,     0,     0,     0,     0,     0,\n",
       "           0,     0,     0,     0,     0,     0,     0,     0,     0,\n",
       "           0,     0,     0,     0,     0,     0,     0,     0,     0,\n",
       "           0,     0,     0,     0,     0,     0,     0,     0,     0,\n",
       "           0,     0,     0,     0,     0,     0,     0,     0,     0,\n",
       "           0,     0,     0,     0,     0,     0,     0,     1,     0,\n",
       "           0,     0,     0,     0,     0,     0,     0,     0,     0,\n",
       "           0,     0,     0,     0,     0,     0,     0,     0,     0,\n",
       "           0,     0,     0,     0,     0,     1,     0,     0,     0,\n",
       "           0,     0,     0,     0,     0,     0,     0,     0],\n",
       "      dtype=int32)"
      ]
     },
     "execution_count": 26,
     "metadata": {},
     "output_type": "execute_result"
    }
   ],
   "source": [
    "packet0_data"
   ]
  },
  {
   "cell_type": "code",
   "execution_count": 32,
   "id": "f8b1998b",
   "metadata": {},
   "outputs": [],
   "source": [
    "packet0 = Entity(name=\"packet 0\")\n",
    "\n",
    "# Create a Syft tensor\n",
    "data = sy.Tensor(packet0_data)\n",
    "\n",
    "# Add DP metadata\n",
    "data = data.private(min_val=0, max_val=5268000256, entities=packet0)"
   ]
  },
  {
   "cell_type": "code",
   "execution_count": 33,
   "id": "9bbe0c01",
   "metadata": {},
   "outputs": [
    {
     "data": {
      "text/plain": [
       "Tensor(child=SingleEntityPhiTensor(entity=packet 0, child=[66238    15     4     0   180     0     0   254     0    71     0     3\n",
       "     0  5023     0  7103     0   255     0     0     0     0     0     0\n",
       "    45     0     0     0    12     6    12     2     2    12     0     0\n",
       "     0    12    12     0     0     0     0     0     0     0     0     0\n",
       "     0     0     0     0     0     0     0     0     0     0     0     0\n",
       "     0     0     0     0     0     0     0     0     0     0     0     0\n",
       "     0     0     0     0     0     0     0     0     0     0     0     0\n",
       "     0     0     0     0     0     0     0     0     0     0     0     0\n",
       "     0     0     0     0     0     0     0     0     0     0     0     0\n",
       "     0     0     0     0     0     0     0     0     0     0     0     0\n",
       "     0     0     0     0     0     0     0     0     0     0     0     0\n",
       "     0     0     0     0     0     0     0     0     0     0     0     0\n",
       "     0     0     0     0     0     0     0     1     0     0     0     0\n",
       "     0     0     0     0     0     0     0     0     0     0     0     0\n",
       "     0     0     0     0     0     0     0     0     1     0     0     0\n",
       "     0     0     0     0     0     0     0     0]))"
      ]
     },
     "execution_count": 33,
     "metadata": {},
     "output_type": "execute_result"
    }
   ],
   "source": [
    "data"
   ]
  },
  {
   "cell_type": "code",
   "execution_count": null,
   "id": "8799b8c9",
   "metadata": {},
   "outputs": [],
   "source": [
    "dataset = dict()\n",
    "entities = []\n",
    "for i in range(raw_data.shape[-1]):\n",
    "    packet_name = f\"Packet {i}\"\n",
    "    \n",
    "    # Create a new Entity correspoinding to the country and add it to the list\n",
    "    new_entity = Entity(name=packet_name)\n",
    "    entities.append(new_entity)\n",
    "    \n",
    "    # Add it to the Dataset Dictionary\n",
    "    dataset[country_name] = sy.Tensor(raw_data[:, i].astype(np.int32)).private(min_val=0, max_val=150000, entities=new_entity)"
   ]
  }
 ],
 "metadata": {
  "kernelspec": {
   "display_name": "Python 3 (ipykernel)",
   "language": "python",
   "name": "python3"
  },
  "language_info": {
   "codemirror_mode": {
    "name": "ipython",
    "version": 3
   },
   "file_extension": ".py",
   "mimetype": "text/x-python",
   "name": "python",
   "nbconvert_exporter": "python",
   "pygments_lexer": "ipython3",
   "version": "3.9.13"
  }
 },
 "nbformat": 4,
 "nbformat_minor": 5
}
