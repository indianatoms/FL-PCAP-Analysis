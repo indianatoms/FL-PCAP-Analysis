{
 "cells": [
  {
   "cell_type": "code",
   "execution_count": 7,
   "metadata": {},
   "outputs": [],
   "source": [
    "import pandas as pd\n",
    "import numpy as np\n",
    "import syft as sy\n",
    "from syft.core.adp.entity import Entity"
   ]
  },
  {
   "cell_type": "code",
   "execution_count": 19,
   "metadata": {},
   "outputs": [],
   "source": [
    "# Load data\n",
    "\"\"\"Load unsw dataset\"\"\"\n",
    "unsw = pd.read_csv(\"../UNSW_NB15_training-set.csv\")\n",
    "y = unsw.iloc[:,-1:]\n",
    "#one-hot-encode parameters\n",
    "proto = pd.get_dummies(unsw['proto'])\n",
    "state = pd.get_dummies(unsw['state'])\n",
    "service = pd.get_dummies(unsw['service'])\n",
    "service = service.iloc[:,1:]\n",
    "raw_data = unsw.values\n",
    "\n",
    "#remove encoded parameters and add one hot\n",
    "for x in ['proto', 'state', 'service','label','attack_cat']:\n",
    "    unsw = unsw.drop(x,axis = 1)\n",
    "    \n",
    "for x in [proto, state, service]:\n",
    "    unsw = unsw.join(x)\n",
    "    \n",
    "X = unsw.iloc[:,:-2]"
   ]
  },
  {
   "cell_type": "code",
   "execution_count": 20,
   "metadata": {},
   "outputs": [],
   "source": [
    "X = X[1000:2000]"
   ]
  },
  {
   "cell_type": "code",
   "execution_count": 21,
   "metadata": {},
   "outputs": [
    {
     "name": "stdout",
     "output_type": "stream",
     "text": [
      "Connecting to None... done! \t Logging into tomek... done!\n"
     ]
    }
   ],
   "source": [
    "ds_domain = sy.login(\n",
    "    email = \"maiacze@gmail.com\",\n",
    "    password = \"1234567890\",\n",
    "    port = 8081\n",
    ")"
   ]
  },
  {
   "cell_type": "code",
   "execution_count": 22,
   "metadata": {},
   "outputs": [
    {
     "name": "stdout",
     "output_type": "stream",
     "text": [
      "raw_data is of type: <class 'pandas.core.frame.DataFrame'>\n",
      "raw_data is of type: <class 'numpy.ndarray'>\n"
     ]
    }
   ],
   "source": [
    "# Convert a Pandas Dataframe to NumPy array\n",
    "print(f'raw_data is of type: {type(X)}')\n",
    "raw_data = X.values\n",
    "print(f'raw_data is of type: {type(raw_data)}')"
   ]
  },
  {
   "cell_type": "code",
   "execution_count": 23,
   "metadata": {},
   "outputs": [],
   "source": [
    "dataset = dict()\n",
    "entities = []\n",
    "for i in range(raw_data.shape[0]):\n",
    "    packet_name = f\"Packet {i}\"\n",
    "    \n",
    "    # Create a new Entity correspoinding to the country and add it to the list\n",
    "    new_entity = Entity(name=packet_name)\n",
    "    entities.append(new_entity)\n",
    "    \n",
    "    # Add it to the Dataset Dictionary\n",
    "    dataset[packet_name] = sy.Tensor(raw_data[i, :].astype(np.int32)).private(min_val=0, max_val=4280658180, entities=new_entity)"
   ]
  },
  {
   "cell_type": "code",
   "execution_count": 24,
   "metadata": {},
   "outputs": [
    {
     "name": "stdout",
     "output_type": "stream",
     "text": [
      "Loading dataset... uploading... SUCCESS!                                                                                                                                      \n",
      "\n",
      "Run <your client variable>.datasets to see your new dataset loaded into your machine!\n"
     ]
    }
   ],
   "source": [
    "ds_domain.load_dataset(\n",
    "    assets=dataset, \n",
    "    name=\"Packets 1000-2000 rows\", \n",
    "    description=\"X for packets classification task\", \n",
    "    metadata=\"iot\"\n",
    ")"
   ]
  },
  {
   "cell_type": "code",
   "execution_count": 10,
   "metadata": {},
   "outputs": [
    {
     "data": {
      "text/html": [
       "<style>\n",
       "                #myInput {\n",
       "                  background-position: 10px 12px; /* Position the search icon */\n",
       "                  background-repeat: no-repeat; /* Do not repeat the icon image */\n",
       "                  background-color: #bbb;\n",
       "                  width: 98%; /* Full-width */\n",
       "                  font-size: 14px; /* Increase font-size */\n",
       "                  padding: 12px 20px 12px 40px; /* Add some padding */\n",
       "                  border: 1px solid #ddd; /* Add a grey border */\n",
       "                  margin-bottom: 12px; /* Add some space below the input */\n",
       "                }\n",
       "\n",
       "                #myTable {\n",
       "                  border-collapse: collapse; /* Collapse borders */\n",
       "                  width: 100%; /* Full-width */\n",
       "                  border: 1px solid #ddd; /* Add a grey border */\n",
       "                  font-size: 14px; /* Increase font-size */\n",
       "                }\n",
       "\n",
       "                #myTable th, #myTable td {\n",
       "                  text-align: left; /* Left-align text */\n",
       "                  padding: 10px; /* Add padding */\n",
       "                }\n",
       "\n",
       "                #myTable tr {\n",
       "                  /* Add a bottom border to all table rows */\n",
       "                  border-bottom: 1px solid #ddd;\n",
       "                }\n",
       "\n",
       "                #myTable tr.header, #myTable tr:hover {\n",
       "                  /* Add a grey background color to the table header and on hover */\n",
       "                  background-color: #777;\n",
       "                }\n",
       "                </style>\n",
       "\n",
       "                <table id=\"myTable\" style=\"width:1000px\">\n",
       "                  <tr class=\"header\">\n",
       "                    <th style=\"width:30px\">Idx</th>\n",
       "                    <th style=\"width:20%;\">Name</th>\n",
       "                    <th style=\"width:35%;\">Description</th>\n",
       "                    <th style=\"width:20%;\">Assets</th>\n",
       "                    <th style=\"width:300px;\">Id</th>\n",
       "                  </tr>\n",
       "                \n",
       "\n",
       "          <tr>\n",
       "            <td>[0]</td>\n",
       "            <td>Packets first 1000 rows</td>\n",
       "            <td>X for packets classification task</td>\n",
       "            <td>[\"Packet 0\"] -> Tensor<br /><br />[\"Packet 1\"] -> Tensor<br /><br />[\"Packet 2\"] -> Tensor<br /><br />...<br /><br /></td>\n",
       "            <td>354b7a28-8af3-441c-a656-50a122c29d48</td>\n",
       "          </tr>\n",
       "\n",
       "          <tr>\n",
       "            <td>[1]</td>\n",
       "            <td>Packets 1000-2000 rows</td>\n",
       "            <td>X for packets classification task</td>\n",
       "            <td>[\"Packet 0\"] -> Tensor<br /><br />[\"Packet 3\"] -> Tensor<br /><br />[\"Packet 6\"] -> Tensor<br /><br />...<br /><br /></td>\n",
       "            <td>d280802d-5006-4976-af5c-925201617764</td>\n",
       "          </tr>\n",
       "        </table>\n",
       "\n",
       "        <script>\n",
       "        function myFunction() {\n",
       "          // Declare variables\n",
       "          var input, filter, table, tr, td, i, txtValue;\n",
       "          input = document.getElementById(\"myInput\");\n",
       "          filter = input.value.toUpperCase();\n",
       "          table = document.getElementById(\"myTable\");\n",
       "          tr = table.getElementsByTagName(\"tr\");\n",
       "\n",
       "          // Loop through all table rows, and hide those who don't match the search query\n",
       "          for (i = 0; i < tr.length; i++) {\n",
       "            name_td = tr[i].getElementsByTagName(\"td\")[1];\n",
       "            desc_td = tr[i].getElementsByTagName(\"td\")[2];\n",
       "            asset_td = tr[i].getElementsByTagName(\"td\")[3];\n",
       "            id_td = tr[i].getElementsByTagName(\"td\")[4];\n",
       "            if (name_td || desc_td || asset_td || id_td) {\n",
       "              name_txtValue = name_td.textContent || name_td.innerText;\n",
       "              desc_txtValue = desc_td.textContent || name_td.innerText;\n",
       "              asset_txtValue = asset_td.textContent || name_td.innerText;\n",
       "              id_txtValue = id_td.textContent || name_td.innerText;\n",
       "              name_bool = name_txtValue.toUpperCase().indexOf(filter) > -1;\n",
       "              desc_bool = desc_txtValue.toUpperCase().indexOf(filter) > -1;\n",
       "              asset_bool = asset_txtValue.toUpperCase().indexOf(filter) > -1;\n",
       "              id_bool = id_txtValue.toUpperCase().indexOf(filter) > -1;\n",
       "              if (name_bool || desc_bool || asset_bool || id_bool) {\n",
       "                tr[i].style.display = \"\";\n",
       "              } else {\n",
       "                tr[i].style.display = \"none\";\n",
       "              }\n",
       "            }\n",
       "          }\n",
       "        }\n",
       "        </script>"
      ],
      "text/plain": [
       "<syft.core.node.common.client_manager.dataset_api.DatasetRequestAPI at 0x7fbe4881a340>"
      ]
     },
     "execution_count": 10,
     "metadata": {},
     "output_type": "execute_result"
    }
   ],
   "source": [
    "ds_domain.datasets"
   ]
  },
  {
   "cell_type": "code",
   "execution_count": 12,
   "metadata": {},
   "outputs": [
    {
     "name": "stdout",
     "output_type": "stream",
     "text": [
      "raw_data is of type: <class 'pandas.core.frame.DataFrame'>\n",
      "raw_data is of type: <class 'numpy.ndarray'>\n"
     ]
    }
   ],
   "source": [
    "y = y[1000:2000]\n",
    "\n",
    "# Convert a Pandas Dataframe to NumPy array\n",
    "print(f'raw_data is of type: {type(y)}')\n",
    "raw_data = y.values\n",
    "print(f'raw_data is of type: {type(raw_data)}')\n",
    "\n",
    "y_dataset = dict()\n",
    "entities = []\n",
    "for i in range(raw_data.shape[0]):\n",
    "    packet_name = f\"Packet {i}\"\n",
    "    \n",
    "    # Create a new Entity correspoinding to the country and add it to the list\n",
    "    new_entity = Entity(name=packet_name)\n",
    "    entities.append(new_entity)\n",
    "    \n",
    "    # Add it to the Dataset Dictionary\n",
    "    y_dataset[packet_name] = sy.Tensor(raw_data[i].astype(np.int32)).private(min_val=0, max_val=1, entities=new_entity)"
   ]
  },
  {
   "cell_type": "code",
   "execution_count": 13,
   "metadata": {},
   "outputs": [
    {
     "name": "stdout",
     "output_type": "stream",
     "text": [
      "Loading dataset... uploading... SUCCESS!                                                                                                                                      \n",
      "\n",
      "Run <your client variable>.datasets to see your new dataset loaded into your machine!\n"
     ]
    }
   ],
   "source": [
    "ds_domain.load_dataset(\n",
    "    assets=y_dataset, \n",
    "    name=\"y Packets 1000-2000 rows\", \n",
    "    description=\"y for packets classification task\", \n",
    "    metadata=\"iot\"\n",
    ")"
   ]
  },
  {
   "cell_type": "code",
   "execution_count": 15,
   "metadata": {},
   "outputs": [
    {
     "data": {
      "text/html": [
       "<div>\n",
       "<style scoped>\n",
       "    .dataframe tbody tr th:only-of-type {\n",
       "        vertical-align: middle;\n",
       "    }\n",
       "\n",
       "    .dataframe tbody tr th {\n",
       "        vertical-align: top;\n",
       "    }\n",
       "\n",
       "    .dataframe thead th {\n",
       "        text-align: right;\n",
       "    }\n",
       "</style>\n",
       "<table border=\"1\" class=\"dataframe\">\n",
       "  <thead>\n",
       "    <tr style=\"text-align: right;\">\n",
       "      <th></th>\n",
       "    </tr>\n",
       "  </thead>\n",
       "  <tbody>\n",
       "  </tbody>\n",
       "</table>\n",
       "</div>"
      ],
      "text/plain": [
       "Empty DataFrame\n",
       "Columns: []\n",
       "Index: []"
      ]
     },
     "execution_count": 15,
     "metadata": {},
     "output_type": "execute_result"
    }
   ],
   "source": [
    "ds_domain.requests.pandas"
   ]
  },
  {
   "cell_type": "code",
   "execution_count": 16,
   "metadata": {},
   "outputs": [
    {
     "data": {
      "text/plain": [
       "1000"
      ]
     },
     "execution_count": 16,
     "metadata": {},
     "output_type": "execute_result"
    }
   ],
   "source": [
    "len(y_dataset)"
   ]
  },
  {
   "cell_type": "code",
   "execution_count": 25,
   "metadata": {},
   "outputs": [
    {
     "data": {
      "text/plain": [
       "1000"
      ]
     },
     "execution_count": 25,
     "metadata": {},
     "output_type": "execute_result"
    }
   ],
   "source": [
    "len(dataset)"
   ]
  },
  {
   "cell_type": "code",
   "execution_count": 18,
   "metadata": {},
   "outputs": [],
   "source": [
    "ds_domain.datasets.delete(dataset_id=\"d280802d-5006-4976-af5c-925201617764\")"
   ]
  },
  {
   "cell_type": "code",
   "execution_count": null,
   "metadata": {},
   "outputs": [],
   "source": []
  }
 ],
 "metadata": {
  "kernelspec": {
   "display_name": "Python 3.9.13 ('syft_env')",
   "language": "python",
   "name": "python3"
  },
  "language_info": {
   "codemirror_mode": {
    "name": "ipython",
    "version": 3
   },
   "file_extension": ".py",
   "mimetype": "text/x-python",
   "name": "python",
   "nbconvert_exporter": "python",
   "pygments_lexer": "ipython3",
   "version": "3.9.13"
  },
  "orig_nbformat": 4,
  "vscode": {
   "interpreter": {
    "hash": "edf1e7ca5fe834974bbe5ce531922913687deaa189a9e4e98f981bcccaee449a"
   }
  }
 },
 "nbformat": 4,
 "nbformat_minor": 2
}
