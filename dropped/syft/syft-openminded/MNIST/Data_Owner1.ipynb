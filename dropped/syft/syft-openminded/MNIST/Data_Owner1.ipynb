{
 "cells": [
  {
   "cell_type": "code",
   "execution_count": 1,
   "id": "b4f63130",
   "metadata": {},
   "outputs": [
    {
     "name": "stdout",
     "output_type": "stream",
     "text": [
      "🎤  🎸  ♪♪♪ Starting Duet ♫♫♫  🎻  🎹\n",
      "\n",
      "♫♫♫ >\u001b[93m DISCLAIMER\u001b[0m: \u001b[1mDuet is an experimental feature currently in beta.\n",
      "♫♫♫ > Use at your own risk.\n",
      "\u001b[0m\n",
      "\u001b[1m\n",
      "    > ❤️ \u001b[91mLove\u001b[0m \u001b[92mDuet\u001b[0m? \u001b[93mPlease\u001b[0m \u001b[94mconsider\u001b[0m \u001b[95msupporting\u001b[0m \u001b[91mour\u001b[0m \u001b[93mcommunity!\u001b[0m\n",
      "    > https://github.com/sponsors/OpenMined\u001b[1m\n",
      "\n",
      "♫♫♫ > Punching through firewall to OpenGrid Network Node at:\n",
      "♫♫♫ > http://ec2-18-218-7-180.us-east-2.compute.amazonaws.com:5000\n",
      "♫♫♫ >\n",
      "♫♫♫ > ...waiting for response from OpenGrid Network... \n",
      "♫♫♫ > \u001b[92mDONE!\u001b[0m\n",
      "\n",
      "♫♫♫ > \u001b[95mSTEP 1:\u001b[0m Send the following code to your Duet Partner!\n",
      "\n",
      "import syft as sy\n",
      "duet = sy.join_duet(loopback=True)\n",
      "\n",
      "♫♫♫ > Connecting...\n"
     ]
    },
    {
     "name": "stderr",
     "output_type": "stream",
     "text": [
      "/home/tk/Desktop/Studia/masters/env/lib/python3.10/site-packages/aiortc/rtcdtlstransport.py:211: CryptographyDeprecationWarning: This version of cryptography contains a temporary pyOpenSSL fallback path. Upgrade pyOpenSSL now.\n",
      "  _openssl_assert(lib.SSL_CTX_use_certificate(ctx, self._cert._x509) == 1)  # type: ignore\n",
      "/home/tk/Desktop/Studia/masters/env/lib/python3.10/site-packages/aiortc/rtcdtlstransport.py:186: CryptographyDeprecationWarning: This version of cryptography contains a temporary pyOpenSSL fallback path. Upgrade pyOpenSSL now.\n",
      "  value=certificate_digest(self._cert._x509),  # type: ignore\n"
     ]
    },
    {
     "name": "stdout",
     "output_type": "stream",
     "text": [
      "\n",
      "♫♫♫ > \u001b[92mCONNECTED!\u001b[0m\n",
      "\n",
      "♫♫♫ > DUET LIVE STATUS  -  Objects: 14  Requests: 0   Messages: 137  Request Handlers: 1                                \r"
     ]
    }
   ],
   "source": [
    "import syft as sy\n",
    "duet1 = sy.launch_duet(loopback=True)"
   ]
  },
  {
   "cell_type": "code",
   "execution_count": 21,
   "id": "20334761",
   "metadata": {},
   "outputs": [],
   "source": [
    "from syft.util import get_root_data_path\n",
    "from torchvision import datasets"
   ]
  },
  {
   "cell_type": "code",
   "execution_count": 23,
   "id": "7c4313cd",
   "metadata": {},
   "outputs": [],
   "source": [
    "mnist_train_set = datasets.MNIST(get_root_data_path(), train = True, download = True)\n",
    "mnist_test_set = datasets.MNIST(get_root_data_path(), train = False, download = True)"
   ]
  },
  {
   "cell_type": "code",
   "execution_count": 60,
   "id": "9d2e33a0",
   "metadata": {},
   "outputs": [
    {
     "name": "stderr",
     "output_type": "stream",
     "text": [
      "/home/tk/Desktop/Studia/masters/env/lib/python3.10/site-packages/torchvision/datasets/mnist.py:65: UserWarning: train_labels has been renamed targets\n",
      "  warnings.warn(\"train_labels has been renamed targets\")\n",
      "/home/tk/Desktop/Studia/masters/env/lib/python3.10/site-packages/torchvision/datasets/mnist.py:80: UserWarning: test_data has been renamed data\n",
      "  warnings.warn(\"test_data has been renamed data\")\n",
      "/home/tk/Desktop/Studia/masters/env/lib/python3.10/site-packages/torchvision/datasets/mnist.py:70: UserWarning: test_labels has been renamed targets\n",
      "  warnings.warn(\"test_labels has been renamed targets\")\n"
     ]
    }
   ],
   "source": [
    "train_input = mnist_train_set.train_data.view(60000, 28, 28).float()\n",
    "train_target = mnist_train_set.train_labels\n",
    "test_input = mnist_test_set.test_data.view(10000, 28, 28).float()\n",
    "test_target = mnist_test_set.test_labels"
   ]
  },
  {
   "cell_type": "code",
   "execution_count": 61,
   "id": "e706a467",
   "metadata": {},
   "outputs": [],
   "source": [
    "train_input = train_input.tag(\"train_data1\")\n",
    "train_input = train_input.describe(\"MNIST train data1\")\n",
    "\n",
    "train_input_ptr = train_input.send(duet1, pointable=True)"
   ]
  },
  {
   "cell_type": "code",
   "execution_count": 62,
   "id": "997f0e17",
   "metadata": {},
   "outputs": [],
   "source": [
    "train_target = train_target.tag(\"train_target\")\n",
    "train_target = train_target.describe(\"MNIST target data\")\n",
    "\n",
    "train_target_ptr = train_target.send(duet1, pointable=True)"
   ]
  },
  {
   "cell_type": "code",
   "execution_count": 63,
   "id": "9fecbd24",
   "metadata": {},
   "outputs": [],
   "source": [
    "test_input = test_input.tag(\"test_data1\")\n",
    "test_input = test_input.describe(\"MNIST test data1\")\n",
    "\n",
    "test_input_ptr = test_input.send(duet1, pointable=True)"
   ]
  },
  {
   "cell_type": "code",
   "execution_count": 64,
   "id": "2175afad",
   "metadata": {},
   "outputs": [],
   "source": [
    "test_target = test_target.tag(\"test_target\")\n",
    "test_target = test_target.describe(\"MNIST test target data\")\n",
    "\n",
    "test_target_ptr = test_target.send(duet1, pointable=True)"
   ]
  },
  {
   "cell_type": "code",
   "execution_count": 65,
   "id": "e9f66462",
   "metadata": {},
   "outputs": [
    {
     "data": {
      "text/html": [
       "<div>\n",
       "<style scoped>\n",
       "    .dataframe tbody tr th:only-of-type {\n",
       "        vertical-align: middle;\n",
       "    }\n",
       "\n",
       "    .dataframe tbody tr th {\n",
       "        vertical-align: top;\n",
       "    }\n",
       "\n",
       "    .dataframe thead th {\n",
       "        text-align: right;\n",
       "    }\n",
       "</style>\n",
       "<table border=\"1\" class=\"dataframe\">\n",
       "  <thead>\n",
       "    <tr style=\"text-align: right;\">\n",
       "      <th></th>\n",
       "      <th>ID</th>\n",
       "      <th>Tags</th>\n",
       "      <th>Description</th>\n",
       "      <th>object_type</th>\n",
       "    </tr>\n",
       "  </thead>\n",
       "  <tbody>\n",
       "    <tr>\n",
       "      <th>0</th>\n",
       "      <td>&lt;UID: 90045de1ce954419ae2b7c56ebd7a56e&gt;</td>\n",
       "      <td>[train_data]</td>\n",
       "      <td>MNIST train data</td>\n",
       "      <td>&lt;class 'torch.Tensor'&gt;</td>\n",
       "    </tr>\n",
       "    <tr>\n",
       "      <th>1</th>\n",
       "      <td>&lt;UID: e2ff700728a84b338cded3f2d593978d&gt;</td>\n",
       "      <td>[train_target]</td>\n",
       "      <td>MNIST target data</td>\n",
       "      <td>&lt;class 'torch.Tensor'&gt;</td>\n",
       "    </tr>\n",
       "    <tr>\n",
       "      <th>2</th>\n",
       "      <td>&lt;UID: 75d4274362074584ad3161fe7c0b0bae&gt;</td>\n",
       "      <td>[test_data]</td>\n",
       "      <td>MNIST test data</td>\n",
       "      <td>&lt;class 'torch.Tensor'&gt;</td>\n",
       "    </tr>\n",
       "    <tr>\n",
       "      <th>3</th>\n",
       "      <td>&lt;UID: 60acf2273b4d4cee89e5cffdd2f0e5b0&gt;</td>\n",
       "      <td>[test_target]</td>\n",
       "      <td>MNIST test target data</td>\n",
       "      <td>&lt;class 'torch.Tensor'&gt;</td>\n",
       "    </tr>\n",
       "    <tr>\n",
       "      <th>4</th>\n",
       "      <td>&lt;UID: 9a33dffe42c44ae7818e41199b64e852&gt;</td>\n",
       "      <td>[train_data1]</td>\n",
       "      <td>MNIST train data1</td>\n",
       "      <td>&lt;class 'torch.Tensor'&gt;</td>\n",
       "    </tr>\n",
       "    <tr>\n",
       "      <th>5</th>\n",
       "      <td>&lt;UID: 482e44628a7e4997946bdc44a66a2464&gt;</td>\n",
       "      <td>[train_target]</td>\n",
       "      <td>MNIST target data</td>\n",
       "      <td>&lt;class 'torch.Tensor'&gt;</td>\n",
       "    </tr>\n",
       "    <tr>\n",
       "      <th>6</th>\n",
       "      <td>&lt;UID: bbc331bee6d74e36aa12bedcd42db1fd&gt;</td>\n",
       "      <td>[test_data1]</td>\n",
       "      <td>MNIST test data1</td>\n",
       "      <td>&lt;class 'torch.Tensor'&gt;</td>\n",
       "    </tr>\n",
       "    <tr>\n",
       "      <th>7</th>\n",
       "      <td>&lt;UID: 6af6d2282c8d42aba97e849208d50464&gt;</td>\n",
       "      <td>[test_target]</td>\n",
       "      <td>MNIST test target data</td>\n",
       "      <td>&lt;class 'torch.Tensor'&gt;</td>\n",
       "    </tr>\n",
       "  </tbody>\n",
       "</table>\n",
       "</div>"
      ],
      "text/plain": [
       "                                        ID            Tags  \\\n",
       "0  <UID: 90045de1ce954419ae2b7c56ebd7a56e>    [train_data]   \n",
       "1  <UID: e2ff700728a84b338cded3f2d593978d>  [train_target]   \n",
       "2  <UID: 75d4274362074584ad3161fe7c0b0bae>     [test_data]   \n",
       "3  <UID: 60acf2273b4d4cee89e5cffdd2f0e5b0>   [test_target]   \n",
       "4  <UID: 9a33dffe42c44ae7818e41199b64e852>   [train_data1]   \n",
       "5  <UID: 482e44628a7e4997946bdc44a66a2464>  [train_target]   \n",
       "6  <UID: bbc331bee6d74e36aa12bedcd42db1fd>    [test_data1]   \n",
       "7  <UID: 6af6d2282c8d42aba97e849208d50464>   [test_target]   \n",
       "\n",
       "              Description             object_type  \n",
       "0        MNIST train data  <class 'torch.Tensor'>  \n",
       "1       MNIST target data  <class 'torch.Tensor'>  \n",
       "2         MNIST test data  <class 'torch.Tensor'>  \n",
       "3  MNIST test target data  <class 'torch.Tensor'>  \n",
       "4       MNIST train data1  <class 'torch.Tensor'>  \n",
       "5       MNIST target data  <class 'torch.Tensor'>  \n",
       "6        MNIST test data1  <class 'torch.Tensor'>  \n",
       "7  MNIST test target data  <class 'torch.Tensor'>  "
      ]
     },
     "execution_count": 65,
     "metadata": {},
     "output_type": "execute_result"
    }
   ],
   "source": [
    "duet1.store.pandas"
   ]
  },
  {
   "cell_type": "code",
   "execution_count": 46,
   "id": "d750d7e2",
   "metadata": {},
   "outputs": [],
   "source": [
    "duet1.requests.add_handler(\n",
    "    action=\"accept\",\n",
    "    print_local=True\n",
    ")"
   ]
  },
  {
   "cell_type": "code",
   "execution_count": 59,
   "id": "e63fed8f",
   "metadata": {},
   "outputs": [
    {
     "data": {
      "text/plain": [
       "torch.Size([10000, 1, 28, 28])"
      ]
     },
     "execution_count": 59,
     "metadata": {},
     "output_type": "execute_result"
    }
   ],
   "source": [
    "test_input.shape"
   ]
  },
  {
   "cell_type": "code",
   "execution_count": null,
   "id": "c48821f4",
   "metadata": {},
   "outputs": [],
   "source": []
  }
 ],
 "metadata": {
  "kernelspec": {
   "display_name": "env",
   "language": "python",
   "name": "env"
  },
  "language_info": {
   "codemirror_mode": {
    "name": "ipython",
    "version": 3
   },
   "file_extension": ".py",
   "mimetype": "text/x-python",
   "name": "python",
   "nbconvert_exporter": "python",
   "pygments_lexer": "ipython3",
   "version": "3.10.4"
  }
 },
 "nbformat": 4,
 "nbformat_minor": 5
}
