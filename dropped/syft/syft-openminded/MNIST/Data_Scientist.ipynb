{
 "cells": [
  {
   "cell_type": "code",
   "execution_count": 1,
   "id": "213a27bc",
   "metadata": {},
   "outputs": [
    {
     "name": "stdout",
     "output_type": "stream",
     "text": [
      "🎤  🎸  ♪♪♪ Joining Duet ♫♫♫  🎻  🎹\n",
      "\n",
      "♫♫♫ >\u001b[93m DISCLAIMER\u001b[0m: \u001b[1mDuet is an experimental feature currently in beta.\n",
      "♫♫♫ > Use at your own risk.\n",
      "\u001b[0m\n",
      "\u001b[1m\n",
      "    > ❤️ \u001b[91mLove\u001b[0m \u001b[92mDuet\u001b[0m? \u001b[93mPlease\u001b[0m \u001b[94mconsider\u001b[0m \u001b[95msupporting\u001b[0m \u001b[91mour\u001b[0m \u001b[93mcommunity!\u001b[0m\n",
      "    > https://github.com/sponsors/OpenMined\u001b[1m\n",
      "\n",
      "♫♫♫ > Punching through firewall to OpenGrid Network Node at:\n",
      "♫♫♫ > http://ec2-18-218-7-180.us-east-2.compute.amazonaws.com:5000\n",
      "♫♫♫ >\n",
      "♫♫♫ > ...waiting for response from OpenGrid Network... \n",
      "♫♫♫ > \u001b[92mDONE!\u001b[0m\n"
     ]
    },
    {
     "name": "stderr",
     "output_type": "stream",
     "text": [
      "/home/tk/Desktop/Studia/masters/env/lib/python3.10/site-packages/aiortc/rtcdtlstransport.py:211: CryptographyDeprecationWarning: This version of cryptography contains a temporary pyOpenSSL fallback path. Upgrade pyOpenSSL now.\n",
      "  _openssl_assert(lib.SSL_CTX_use_certificate(ctx, self._cert._x509) == 1)  # type: ignore\n",
      "/home/tk/Desktop/Studia/masters/env/lib/python3.10/site-packages/aiortc/rtcdtlstransport.py:186: CryptographyDeprecationWarning: This version of cryptography contains a temporary pyOpenSSL fallback path. Upgrade pyOpenSSL now.\n",
      "  value=certificate_digest(self._cert._x509),  # type: ignore\n"
     ]
    },
    {
     "name": "stdout",
     "output_type": "stream",
     "text": [
      "\n",
      "♫♫♫ > \u001b[92mCONNECTED!\u001b[0m\n"
     ]
    }
   ],
   "source": [
    "import syft as sy\n",
    "duet = sy.join_duet(loopback=True)"
   ]
  },
  {
   "cell_type": "code",
   "execution_count": 2,
   "id": "a856fbd5",
   "metadata": {},
   "outputs": [],
   "source": [
    "import torch as th\n",
    "import numpy as np"
   ]
  },
  {
   "cell_type": "code",
   "execution_count": 9,
   "id": "0035afba",
   "metadata": {},
   "outputs": [
    {
     "data": {
      "text/html": [
       "<div>\n",
       "<style scoped>\n",
       "    .dataframe tbody tr th:only-of-type {\n",
       "        vertical-align: middle;\n",
       "    }\n",
       "\n",
       "    .dataframe tbody tr th {\n",
       "        vertical-align: top;\n",
       "    }\n",
       "\n",
       "    .dataframe thead th {\n",
       "        text-align: right;\n",
       "    }\n",
       "</style>\n",
       "<table border=\"1\" class=\"dataframe\">\n",
       "  <thead>\n",
       "    <tr style=\"text-align: right;\">\n",
       "      <th></th>\n",
       "      <th>ID</th>\n",
       "      <th>Tags</th>\n",
       "      <th>Description</th>\n",
       "      <th>object_type</th>\n",
       "    </tr>\n",
       "  </thead>\n",
       "  <tbody>\n",
       "    <tr>\n",
       "      <th>0</th>\n",
       "      <td>&lt;UID: 90045de1ce954419ae2b7c56ebd7a56e&gt;</td>\n",
       "      <td>[train_data]</td>\n",
       "      <td>MNIST train data</td>\n",
       "      <td>&lt;class 'torch.Tensor'&gt;</td>\n",
       "    </tr>\n",
       "    <tr>\n",
       "      <th>1</th>\n",
       "      <td>&lt;UID: e2ff700728a84b338cded3f2d593978d&gt;</td>\n",
       "      <td>[train_target]</td>\n",
       "      <td>MNIST target data</td>\n",
       "      <td>&lt;class 'torch.Tensor'&gt;</td>\n",
       "    </tr>\n",
       "    <tr>\n",
       "      <th>2</th>\n",
       "      <td>&lt;UID: 75d4274362074584ad3161fe7c0b0bae&gt;</td>\n",
       "      <td>[test_data]</td>\n",
       "      <td>MNIST test data</td>\n",
       "      <td>&lt;class 'torch.Tensor'&gt;</td>\n",
       "    </tr>\n",
       "    <tr>\n",
       "      <th>3</th>\n",
       "      <td>&lt;UID: 60acf2273b4d4cee89e5cffdd2f0e5b0&gt;</td>\n",
       "      <td>[test_target]</td>\n",
       "      <td>MNIST test target data</td>\n",
       "      <td>&lt;class 'torch.Tensor'&gt;</td>\n",
       "    </tr>\n",
       "    <tr>\n",
       "      <th>4</th>\n",
       "      <td>&lt;UID: 9a33dffe42c44ae7818e41199b64e852&gt;</td>\n",
       "      <td>[train_data1]</td>\n",
       "      <td>MNIST train data1</td>\n",
       "      <td>&lt;class 'torch.Tensor'&gt;</td>\n",
       "    </tr>\n",
       "    <tr>\n",
       "      <th>5</th>\n",
       "      <td>&lt;UID: 482e44628a7e4997946bdc44a66a2464&gt;</td>\n",
       "      <td>[train_target]</td>\n",
       "      <td>MNIST target data</td>\n",
       "      <td>&lt;class 'torch.Tensor'&gt;</td>\n",
       "    </tr>\n",
       "    <tr>\n",
       "      <th>6</th>\n",
       "      <td>&lt;UID: bbc331bee6d74e36aa12bedcd42db1fd&gt;</td>\n",
       "      <td>[test_data1]</td>\n",
       "      <td>MNIST test data1</td>\n",
       "      <td>&lt;class 'torch.Tensor'&gt;</td>\n",
       "    </tr>\n",
       "    <tr>\n",
       "      <th>7</th>\n",
       "      <td>&lt;UID: 6af6d2282c8d42aba97e849208d50464&gt;</td>\n",
       "      <td>[test_target]</td>\n",
       "      <td>MNIST test target data</td>\n",
       "      <td>&lt;class 'torch.Tensor'&gt;</td>\n",
       "    </tr>\n",
       "  </tbody>\n",
       "</table>\n",
       "</div>"
      ],
      "text/plain": [
       "                                        ID            Tags  \\\n",
       "0  <UID: 90045de1ce954419ae2b7c56ebd7a56e>    [train_data]   \n",
       "1  <UID: e2ff700728a84b338cded3f2d593978d>  [train_target]   \n",
       "2  <UID: 75d4274362074584ad3161fe7c0b0bae>     [test_data]   \n",
       "3  <UID: 60acf2273b4d4cee89e5cffdd2f0e5b0>   [test_target]   \n",
       "4  <UID: 9a33dffe42c44ae7818e41199b64e852>   [train_data1]   \n",
       "5  <UID: 482e44628a7e4997946bdc44a66a2464>  [train_target]   \n",
       "6  <UID: bbc331bee6d74e36aa12bedcd42db1fd>    [test_data1]   \n",
       "7  <UID: 6af6d2282c8d42aba97e849208d50464>   [test_target]   \n",
       "\n",
       "              Description             object_type  \n",
       "0        MNIST train data  <class 'torch.Tensor'>  \n",
       "1       MNIST target data  <class 'torch.Tensor'>  \n",
       "2         MNIST test data  <class 'torch.Tensor'>  \n",
       "3  MNIST test target data  <class 'torch.Tensor'>  \n",
       "4       MNIST train data1  <class 'torch.Tensor'>  \n",
       "5       MNIST target data  <class 'torch.Tensor'>  \n",
       "6        MNIST test data1  <class 'torch.Tensor'>  \n",
       "7  MNIST test target data  <class 'torch.Tensor'>  "
      ]
     },
     "execution_count": 9,
     "metadata": {},
     "output_type": "execute_result"
    }
   ],
   "source": [
    "duet.store.pandas"
   ]
  },
  {
   "cell_type": "code",
   "execution_count": 34,
   "id": "f7f5c3bc",
   "metadata": {},
   "outputs": [],
   "source": [
    "x_ptr = duet.store[4]\n",
    "y_ptr = duet.store[1]"
   ]
  },
  {
   "cell_type": "code",
   "execution_count": 35,
   "id": "cb121859",
   "metadata": {},
   "outputs": [
    {
     "name": "stdout",
     "output_type": "stream",
     "text": [
      "<syft.proxy.torch.TensorPointer object at 0x7f867ae26d70>\n",
      "<syft.proxy.torch.TensorPointer object at 0x7f867ae24a00>\n"
     ]
    }
   ],
   "source": [
    "print(x_ptr)\n",
    "print(y_ptr)"
   ]
  },
  {
   "cell_type": "code",
   "execution_count": 18,
   "id": "997bdff2",
   "metadata": {},
   "outputs": [],
   "source": [
    "in_dim_X = 28\n",
    "in_dim_y = 28\n",
    "out_dim = 10\n",
    "n_samples = 60000"
   ]
  },
  {
   "cell_type": "code",
   "execution_count": 19,
   "id": "7041cfb7",
   "metadata": {},
   "outputs": [],
   "source": [
    "import torch.nn as nn\n",
    "import torch.nn.functional as F\n",
    "import torch.optim as optim"
   ]
  },
  {
   "cell_type": "code",
   "execution_count": 20,
   "id": "89a14808",
   "metadata": {},
   "outputs": [],
   "source": [
    "class SyNet(sy.Module):\n",
    "    def __init__(self, torch_ref):\n",
    "        super(SyNet, self).__init__(torch_ref=torch_ref)\n",
    "        self.conv1 = nn.Conv2d(1, 10, kernel_size=5)\n",
    "        self.conv2 = nn.Conv2d(10, 20, kernel_size=5)\n",
    "        self.conv2_drop = nn.Dropout2d()\n",
    "        self.fc1 = nn.Linear(320, 50)\n",
    "        self.fc2 = nn.Linear(50, 10)\n",
    "\n",
    "    def forward(self, x):\n",
    "        x = F.relu(F.max_pool2d(self.conv1(x), 2))\n",
    "        x = F.relu(F.max_pool2d(self.conv2_drop(self.conv2(x)), 2))\n",
    "        x = x.view(-1, 320)\n",
    "        x = F.relu(self.fc1(x))\n",
    "        x = F.dropout(x, training=self.training)\n",
    "        x = self.fc2(x)\n",
    "        return F.log_softmax(x)"
   ]
  },
  {
   "cell_type": "code",
   "execution_count": 26,
   "id": "191697fd",
   "metadata": {},
   "outputs": [
    {
     "data": {
      "text/plain": [
       "<torch._C.Generator at 0x7f86e609f3f0>"
      ]
     },
     "execution_count": 26,
     "metadata": {},
     "output_type": "execute_result"
    }
   ],
   "source": [
    "n_epochs = 3\n",
    "batch_size_train = 64\n",
    "batch_size_test = 1000\n",
    "learning_rate = 0.01\n",
    "momentum = 0.5\n",
    "log_interval = 10\n",
    "\n",
    "random_seed = 1\n",
    "th.backends.cudnn.enabled = False\n",
    "th.manual_seed(random_seed)"
   ]
  },
  {
   "cell_type": "code",
   "execution_count": 28,
   "id": "82f85e99",
   "metadata": {},
   "outputs": [],
   "source": [
    "local_model = SyNet(th)\n",
    "optimizer = optim.SGD(network.parameters(), lr=learning_rate,momentum=momentum)"
   ]
  },
  {
   "cell_type": "code",
   "execution_count": 29,
   "id": "896311c7",
   "metadata": {},
   "outputs": [],
   "source": [
    "remote_model = local_model.send(duet)"
   ]
  },
  {
   "cell_type": "code",
   "execution_count": 30,
   "id": "ea834750",
   "metadata": {},
   "outputs": [],
   "source": [
    "remote_torch = duet.torch"
   ]
  },
  {
   "cell_type": "code",
   "execution_count": 32,
   "id": "ec34a370",
   "metadata": {},
   "outputs": [],
   "source": []
  },
  {
   "cell_type": "code",
   "execution_count": 33,
   "id": "48876498",
   "metadata": {},
   "outputs": [
    {
     "ename": "NameError",
     "evalue": "name 'train_loader' is not defined",
     "output_type": "error",
     "traceback": [
      "\u001b[0;31m---------------------------------------------------------------------------\u001b[0m",
      "\u001b[0;31mNameError\u001b[0m                                 Traceback (most recent call last)",
      "Input \u001b[0;32mIn [33]\u001b[0m, in \u001b[0;36m<cell line: 1>\u001b[0;34m()\u001b[0m\n\u001b[0;32m----> 1\u001b[0m \u001b[43mtrain\u001b[49m\u001b[43m(\u001b[49m\u001b[38;5;241;43m5\u001b[39;49m\u001b[43m,\u001b[49m\u001b[43m \u001b[49m\u001b[43mremote_model\u001b[49m\u001b[43m,\u001b[49m\u001b[43m \u001b[49m\u001b[43mremote_torch\u001b[49m\u001b[43m,\u001b[49m\u001b[43m \u001b[49m\u001b[43moptim\u001b[49m\u001b[43m,\u001b[49m\u001b[43m \u001b[49m\u001b[43mdata_ptr\u001b[49m\u001b[43m,\u001b[49m\u001b[43m \u001b[49m\u001b[43mtarget_ptr\u001b[49m\u001b[43m)\u001b[49m\n",
      "Input \u001b[0;32mIn [32]\u001b[0m, in \u001b[0;36mtrain\u001b[0;34m(epoch, model, torch_ref, optim, data_ptr, target_ptr)\u001b[0m\n\u001b[1;32m      1\u001b[0m \u001b[38;5;28;01mdef\u001b[39;00m \u001b[38;5;21mtrain\u001b[39m(epoch, model, torch_ref, optim, data_ptr, target_ptr):\n\u001b[1;32m      2\u001b[0m     model\u001b[38;5;241m.\u001b[39mtrain()\n\u001b[0;32m----> 3\u001b[0m     \u001b[38;5;28;01mfor\u001b[39;00m batch_idx, (data, target) \u001b[38;5;129;01min\u001b[39;00m \u001b[38;5;28menumerate\u001b[39m(\u001b[43mtrain_loader\u001b[49m):\n\u001b[1;32m      4\u001b[0m         optimizer\u001b[38;5;241m.\u001b[39mzero_grad()\n\u001b[1;32m      5\u001b[0m         output \u001b[38;5;241m=\u001b[39m model(data_ptr)\n",
      "\u001b[0;31mNameError\u001b[0m: name 'train_loader' is not defined"
     ]
    }
   ],
   "source": [
    "train(5, remote_model, remote_torch, optim, data_ptr, target_ptr)"
   ]
  },
  {
   "cell_type": "code",
   "execution_count": null,
   "id": "9796bad0",
   "metadata": {},
   "outputs": [],
   "source": []
  }
 ],
 "metadata": {
  "kernelspec": {
   "display_name": "env",
   "language": "python",
   "name": "env"
  },
  "language_info": {
   "codemirror_mode": {
    "name": "ipython",
    "version": 3
   },
   "file_extension": ".py",
   "mimetype": "text/x-python",
   "name": "python",
   "nbconvert_exporter": "python",
   "pygments_lexer": "ipython3",
   "version": "3.10.4"
  }
 },
 "nbformat": 4,
 "nbformat_minor": 5
}
