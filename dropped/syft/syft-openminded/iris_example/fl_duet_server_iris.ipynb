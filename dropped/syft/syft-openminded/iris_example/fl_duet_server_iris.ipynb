{
 "cells": [
  {
   "cell_type": "code",
   "execution_count": 1,
   "id": "067fbfc0",
   "metadata": {},
   "outputs": [
    {
     "data": {
      "text/plain": [
       "Dataset MNIST\n",
       "    Number of datapoints: 10000\n",
       "    Root location: /home/tk/.syft/data\n",
       "    Split: Test"
      ]
     },
     "execution_count": 1,
     "metadata": {},
     "output_type": "execute_result"
    }
   ],
   "source": [
    "from syft.util import get_root_data_path\n",
    "from six.moves import urllib\n",
    "opener = urllib.request.build_opener()\n",
    "opener.addheaders = [(\"User-agent\", \"Mozilla/5.0\")]\n",
    "urllib.request.install_opener(opener)\n",
    "import torchvision\n",
    "torchvision.datasets.MNIST(get_root_data_path(), train=True, download=True)\n",
    "torchvision.datasets.MNIST(get_root_data_path(), train=False, download=True)"
   ]
  },
  {
   "cell_type": "code",
   "execution_count": 1,
   "id": "a07c937d",
   "metadata": {},
   "outputs": [
    {
     "name": "stdout",
     "output_type": "stream",
     "text": [
      "🎤  🎸  ♪♪♪ Starting Duet ♫♫♫  🎻  🎹\n",
      "\n",
      "♫♫♫ >\u001b[93m DISCLAIMER\u001b[0m: \u001b[1mDuet is an experimental feature currently in beta.\n",
      "♫♫♫ > Use at your own risk.\n",
      "\u001b[0m\n",
      "\u001b[1m\n",
      "    > ❤️ \u001b[91mLove\u001b[0m \u001b[92mDuet\u001b[0m? \u001b[93mPlease\u001b[0m \u001b[94mconsider\u001b[0m \u001b[95msupporting\u001b[0m \u001b[91mour\u001b[0m \u001b[93mcommunity!\u001b[0m\n",
      "    > https://github.com/sponsors/OpenMined\u001b[1m\n",
      "\n",
      "♫♫♫ > Punching through firewall to OpenGrid Network Node at:\n",
      "♫♫♫ > http://ec2-18-218-7-180.us-east-2.compute.amazonaws.com:5000\n",
      "♫♫♫ >\n",
      "♫♫♫ > ...waiting for response from OpenGrid Network... \n",
      "♫♫♫ > \u001b[92mDONE!\u001b[0m\n",
      "\n",
      "♫♫♫ > \u001b[95mSTEP 1:\u001b[0m Send the following code to your Duet Partner!\n",
      "\n",
      "import syft as sy\n",
      "duet = sy.join_duet(loopback=True)\n",
      "\n",
      "♫♫♫ > Connecting...\n"
     ]
    },
    {
     "name": "stderr",
     "output_type": "stream",
     "text": [
      "/home/tk/Desktop/Studia/masters/env/lib/python3.10/site-packages/aiortc/rtcdtlstransport.py:211: CryptographyDeprecationWarning: This version of cryptography contains a temporary pyOpenSSL fallback path. Upgrade pyOpenSSL now.\n",
      "  _openssl_assert(lib.SSL_CTX_use_certificate(ctx, self._cert._x509) == 1)  # type: ignore\n",
      "/home/tk/Desktop/Studia/masters/env/lib/python3.10/site-packages/aiortc/rtcdtlstransport.py:186: CryptographyDeprecationWarning: This version of cryptography contains a temporary pyOpenSSL fallback path. Upgrade pyOpenSSL now.\n",
      "  value=certificate_digest(self._cert._x509),  # type: ignore\n"
     ]
    },
    {
     "name": "stdout",
     "output_type": "stream",
     "text": [
      "\n",
      "♫♫♫ > \u001b[92mCONNECTED!\u001b[0m\n",
      "\n",
      "♫♫♫ > DUET LIVE STATUS  -  Objects: 16  Requests: 0   Messages: 8947  Request Handlers: 2                                                         \r"
     ]
    }
   ],
   "source": [
    "import syft as sy\n",
    "duet = sy.launch_duet(loopback=True)"
   ]
  },
  {
   "cell_type": "code",
   "execution_count": 3,
   "id": "4e8459e9",
   "metadata": {},
   "outputs": [
    {
     "data": {
      "text/html": [
       "<div>\n",
       "<style scoped>\n",
       "    .dataframe tbody tr th:only-of-type {\n",
       "        vertical-align: middle;\n",
       "    }\n",
       "\n",
       "    .dataframe tbody tr th {\n",
       "        vertical-align: top;\n",
       "    }\n",
       "\n",
       "    .dataframe thead th {\n",
       "        text-align: right;\n",
       "    }\n",
       "</style>\n",
       "<table border=\"1\" class=\"dataframe\">\n",
       "  <thead>\n",
       "    <tr style=\"text-align: right;\">\n",
       "      <th></th>\n",
       "    </tr>\n",
       "  </thead>\n",
       "  <tbody>\n",
       "  </tbody>\n",
       "</table>\n",
       "</div>"
      ],
      "text/plain": [
       "Empty DataFrame\n",
       "Columns: []\n",
       "Index: []"
      ]
     },
     "execution_count": 3,
     "metadata": {},
     "output_type": "execute_result"
    }
   ],
   "source": [
    "duet.store.pandas"
   ]
  },
  {
   "cell_type": "code",
   "execution_count": 8,
   "id": "7f76f40a",
   "metadata": {},
   "outputs": [],
   "source": [
    "data_ptr = duet.store[0]"
   ]
  },
  {
   "cell_type": "code",
   "execution_count": 12,
   "id": "36cb2540",
   "metadata": {},
   "outputs": [
    {
     "name": "stdout",
     "output_type": "stream",
     "text": [
      "tensor(46.8333)\n"
     ]
    }
   ],
   "source": [
    "print(data_ptr.float().mean().get())"
   ]
  },
  {
   "cell_type": "code",
   "execution_count": 7,
   "id": "953bc616",
   "metadata": {},
   "outputs": [],
   "source": [
    "import torch as th"
   ]
  },
  {
   "cell_type": "code",
   "execution_count": 15,
   "id": "cb4977c4",
   "metadata": {},
   "outputs": [
    {
     "data": {
      "text/plain": [
       "tensor([1, 2, 3, 4, 5, 6])"
      ]
     },
     "execution_count": 15,
     "metadata": {},
     "output_type": "execute_result"
    }
   ],
   "source": [
    "test_data = th.tensor([1,2,3,4,5,6])\n",
    "test_data.tag(\"test\")\n",
    "test_data.describe(\"Count to 6\")"
   ]
  },
  {
   "cell_type": "code",
   "execution_count": 16,
   "id": "52e54ffd",
   "metadata": {},
   "outputs": [
    {
     "name": "stderr",
     "output_type": "stream",
     "text": [
      "[2022-09-04T21:12:17.196214+0200][CRITICAL][logger]][11304] You do not have permission to .get() Object with ID: <UID: 5e1e8098692e46d0a17e0eff0e85a044>Please submit a request.\n",
      "[2022-09-04T21:12:17.197130+0200][CRITICAL][logger]][11304] You do not have permission to .get() Object with ID: <UID: 5e1e8098692e46d0a17e0eff0e85a044>Please submit a request.\n",
      "[2022-09-04T21:12:50.189823+0200][CRITICAL][logger]][11304] You do not have permission to .get() Object with ID: <UID: 3fe03ddf509d434c8cfd2b312f6cfbe3>Please submit a request.\n",
      "[2022-09-04T21:12:50.190607+0200][CRITICAL][logger]][11304] You do not have permission to .get() Object with ID: <UID: 3fe03ddf509d434c8cfd2b312f6cfbe3>Please submit a request.\n"
     ]
    }
   ],
   "source": [
    "age_data_pointer = test_data.send(duet,pointable=True)"
   ]
  },
  {
   "cell_type": "code",
   "execution_count": 21,
   "id": "880c1dd7",
   "metadata": {},
   "outputs": [
    {
     "data": {
      "text/html": [
       "<div>\n",
       "<style scoped>\n",
       "    .dataframe tbody tr th:only-of-type {\n",
       "        vertical-align: middle;\n",
       "    }\n",
       "\n",
       "    .dataframe tbody tr th {\n",
       "        vertical-align: top;\n",
       "    }\n",
       "\n",
       "    .dataframe thead th {\n",
       "        text-align: right;\n",
       "    }\n",
       "</style>\n",
       "<table border=\"1\" class=\"dataframe\">\n",
       "  <thead>\n",
       "    <tr style=\"text-align: right;\">\n",
       "      <th></th>\n",
       "      <th>Requested Object's tags</th>\n",
       "      <th>Reason</th>\n",
       "      <th>Request ID</th>\n",
       "      <th>Requested Object's ID</th>\n",
       "      <th>Requested Object's type</th>\n",
       "    </tr>\n",
       "  </thead>\n",
       "  <tbody>\n",
       "    <tr>\n",
       "      <th>0</th>\n",
       "      <td>[test]</td>\n",
       "      <td>I want to access the test data to perform a si...</td>\n",
       "      <td>&lt;UID: d75b28a6846d4cdc9fd143254ec0f0b0&gt;</td>\n",
       "      <td>&lt;UID: feb54e10f132405683e259213b8a6f63&gt;</td>\n",
       "      <td>&lt;class 'torch.Tensor'&gt;</td>\n",
       "    </tr>\n",
       "  </tbody>\n",
       "</table>\n",
       "</div>"
      ],
      "text/plain": [
       "  Requested Object's tags                                             Reason  \\\n",
       "0                  [test]  I want to access the test data to perform a si...   \n",
       "\n",
       "                                Request ID  \\\n",
       "0  <UID: d75b28a6846d4cdc9fd143254ec0f0b0>   \n",
       "\n",
       "                     Requested Object's ID Requested Object's type  \n",
       "0  <UID: feb54e10f132405683e259213b8a6f63>  <class 'torch.Tensor'>  "
      ]
     },
     "execution_count": 21,
     "metadata": {},
     "output_type": "execute_result"
    }
   ],
   "source": [
    "duet.requests.pandas"
   ]
  },
  {
   "cell_type": "code",
   "execution_count": 22,
   "id": "72d36bfa",
   "metadata": {},
   "outputs": [
    {
     "data": {
      "text/plain": [
       "'I want to access the test data to perform a simple analysis'"
      ]
     },
     "execution_count": 22,
     "metadata": {},
     "output_type": "execute_result"
    }
   ],
   "source": [
    "duet.requests[0].request_description"
   ]
  },
  {
   "cell_type": "code",
   "execution_count": 24,
   "id": "4197e54a",
   "metadata": {},
   "outputs": [],
   "source": [
    "#duet.requests[0].deny()\n",
    "duet.requests[0].accept()"
   ]
  },
  {
   "cell_type": "code",
   "execution_count": 12,
   "id": "9dcc532c",
   "metadata": {},
   "outputs": [],
   "source": [
    "duet.requests.add_handler(action=\"accept\",tags=[\"access\"])"
   ]
  },
  {
   "cell_type": "code",
   "execution_count": 8,
   "id": "24fe0fe4",
   "metadata": {},
   "outputs": [
    {
     "data": {
      "text/plain": [
       "tensor([11, 12, 13, 14, 15, 16])"
      ]
     },
     "execution_count": 8,
     "metadata": {},
     "output_type": "execute_result"
    }
   ],
   "source": [
    "test_data = th.tensor([11,12,13,14,15,16])\n",
    "test_data.tag(\"access\")\n",
    "test_data.describe(\"11-16\")\n",
    "age_data_pointer = test_data.send(duet,pointable=True)"
   ]
  },
  {
   "cell_type": "code",
   "execution_count": 9,
   "id": "a6494872",
   "metadata": {},
   "outputs": [],
   "source": [
    "age_data_pointer = test_data.send(duet,pointable=True)"
   ]
  },
  {
   "cell_type": "code",
   "execution_count": 10,
   "id": "a1a7616a",
   "metadata": {},
   "outputs": [
    {
     "data": {
      "text/html": [
       "<div>\n",
       "<style scoped>\n",
       "    .dataframe tbody tr th:only-of-type {\n",
       "        vertical-align: middle;\n",
       "    }\n",
       "\n",
       "    .dataframe tbody tr th {\n",
       "        vertical-align: top;\n",
       "    }\n",
       "\n",
       "    .dataframe thead th {\n",
       "        text-align: right;\n",
       "    }\n",
       "</style>\n",
       "<table border=\"1\" class=\"dataframe\">\n",
       "  <thead>\n",
       "    <tr style=\"text-align: right;\">\n",
       "      <th></th>\n",
       "      <th>ID</th>\n",
       "      <th>Tags</th>\n",
       "      <th>Description</th>\n",
       "      <th>object_type</th>\n",
       "    </tr>\n",
       "  </thead>\n",
       "  <tbody>\n",
       "    <tr>\n",
       "      <th>0</th>\n",
       "      <td>&lt;UID: eae87ea9a5ae4fd79834f4b57a71e060&gt;</td>\n",
       "      <td>[access]</td>\n",
       "      <td>11-16</td>\n",
       "      <td>&lt;class 'torch.Tensor'&gt;</td>\n",
       "    </tr>\n",
       "  </tbody>\n",
       "</table>\n",
       "</div>"
      ],
      "text/plain": [
       "                                        ID      Tags Description  \\\n",
       "0  <UID: eae87ea9a5ae4fd79834f4b57a71e060>  [access]       11-16   \n",
       "\n",
       "              object_type  \n",
       "0  <class 'torch.Tensor'>  "
      ]
     },
     "execution_count": 10,
     "metadata": {},
     "output_type": "execute_result"
    },
    {
     "name": "stderr",
     "output_type": "stream",
     "text": [
      "[2022-09-05T19:14:51.184581+0200][CRITICAL][logger]][37462] You do not have permission to .get() Object with ID: <UID: 12a8c198f15c4b5e822851daa466f59f>Please submit a request.\n",
      "[2022-09-05T19:14:51.185886+0200][CRITICAL][logger]][37462] You do not have permission to .get() Object with ID: <UID: 12a8c198f15c4b5e822851daa466f59f>Please submit a request.\n",
      "[2022-09-05T19:15:13.613967+0200][CRITICAL][logger]][37462] You do not have permission to .get() Object with ID: <UID: 7690f07fbb05473d8730f547cce6b83d>Please submit a request.\n",
      "[2022-09-05T19:15:13.614540+0200][CRITICAL][logger]][37462] You do not have permission to .get() Object with ID: <UID: 7690f07fbb05473d8730f547cce6b83d>Please submit a request.\n"
     ]
    }
   ],
   "source": [
    "duet.store.pandas"
   ]
  },
  {
   "cell_type": "code",
   "execution_count": 13,
   "id": "5c42240b",
   "metadata": {},
   "outputs": [
    {
     "data": {
      "text/html": [
       "<div>\n",
       "<style scoped>\n",
       "    .dataframe tbody tr th:only-of-type {\n",
       "        vertical-align: middle;\n",
       "    }\n",
       "\n",
       "    .dataframe tbody tr th {\n",
       "        vertical-align: top;\n",
       "    }\n",
       "\n",
       "    .dataframe thead th {\n",
       "        text-align: right;\n",
       "    }\n",
       "</style>\n",
       "<table border=\"1\" class=\"dataframe\">\n",
       "  <thead>\n",
       "    <tr style=\"text-align: right;\">\n",
       "      <th></th>\n",
       "    </tr>\n",
       "  </thead>\n",
       "  <tbody>\n",
       "  </tbody>\n",
       "</table>\n",
       "</div>"
      ],
      "text/plain": [
       "Empty DataFrame\n",
       "Columns: []\n",
       "Index: []"
      ]
     },
     "execution_count": 13,
     "metadata": {},
     "output_type": "execute_result"
    }
   ],
   "source": [
    "duet.requests.pandas"
   ]
  },
  {
   "cell_type": "code",
   "execution_count": 14,
   "id": "3046ed15",
   "metadata": {},
   "outputs": [
    {
     "name": "stderr",
     "output_type": "stream",
     "text": [
      "[2022-09-05T19:20:44.827959+0200][CRITICAL][logger]][37462] You do not have permission to .get() Object with ID: <UID: 046391c60abe4b3c879ea26984a25e74>Please submit a request.\n",
      "[2022-09-05T19:20:44.828955+0200][CRITICAL][logger]][37462] You do not have permission to .get() Object with ID: <UID: 046391c60abe4b3c879ea26984a25e74>Please submit a request.\n",
      "[2022-09-05T19:20:50.615470+0200][CRITICAL][logger]][37462] You do not have permission to .get() Object with ID: <UID: 7296b64404484a7e9b3ee77d7fba12f4>Please submit a request.\n",
      "[2022-09-05T19:20:50.616430+0200][CRITICAL][logger]][37462] You do not have permission to .get() Object with ID: <UID: 7296b64404484a7e9b3ee77d7fba12f4>Please submit a request.\n"
     ]
    }
   ],
   "source": [
    "test_data = th.tensor([11,12,13,14,15,16])\n",
    "test_data.tag(\"deny\")\n",
    "test_data.describe(\"11-16\")\n",
    "age_data_pointer = test_data.send(duet,pointable=True)"
   ]
  },
  {
   "cell_type": "code",
   "execution_count": 15,
   "id": "52916e66",
   "metadata": {},
   "outputs": [],
   "source": [
    "test_data = th.tensor([5,6,7,8,9])\n",
    "test_data.tag(\"access\")\n",
    "test_data.describe(\"5-9\")\n",
    "age_data_pointer = test_data.send(duet,pointable=True)"
   ]
  },
  {
   "cell_type": "code",
   "execution_count": 17,
   "id": "afd477a6",
   "metadata": {},
   "outputs": [
    {
     "data": {
      "text/html": [
       "<div>\n",
       "<style scoped>\n",
       "    .dataframe tbody tr th:only-of-type {\n",
       "        vertical-align: middle;\n",
       "    }\n",
       "\n",
       "    .dataframe tbody tr th {\n",
       "        vertical-align: top;\n",
       "    }\n",
       "\n",
       "    .dataframe thead th {\n",
       "        text-align: right;\n",
       "    }\n",
       "</style>\n",
       "<table border=\"1\" class=\"dataframe\">\n",
       "  <thead>\n",
       "    <tr style=\"text-align: right;\">\n",
       "      <th></th>\n",
       "      <th>ID</th>\n",
       "      <th>Tags</th>\n",
       "      <th>Description</th>\n",
       "      <th>object_type</th>\n",
       "    </tr>\n",
       "  </thead>\n",
       "  <tbody>\n",
       "    <tr>\n",
       "      <th>0</th>\n",
       "      <td>&lt;UID: 3a5dc1b9106d4daca6a6aca14d278c90&gt;</td>\n",
       "      <td>[deny]</td>\n",
       "      <td>11-16</td>\n",
       "      <td>&lt;class 'torch.Tensor'&gt;</td>\n",
       "    </tr>\n",
       "    <tr>\n",
       "      <th>1</th>\n",
       "      <td>&lt;UID: 0bf28dd231ac4fd5b6ac70fd14b70029&gt;</td>\n",
       "      <td>[access]</td>\n",
       "      <td>5-9</td>\n",
       "      <td>&lt;class 'torch.Tensor'&gt;</td>\n",
       "    </tr>\n",
       "  </tbody>\n",
       "</table>\n",
       "</div>"
      ],
      "text/plain": [
       "                                        ID      Tags Description  \\\n",
       "0  <UID: 3a5dc1b9106d4daca6a6aca14d278c90>    [deny]       11-16   \n",
       "1  <UID: 0bf28dd231ac4fd5b6ac70fd14b70029>  [access]         5-9   \n",
       "\n",
       "              object_type  \n",
       "0  <class 'torch.Tensor'>  \n",
       "1  <class 'torch.Tensor'>  "
      ]
     },
     "execution_count": 17,
     "metadata": {},
     "output_type": "execute_result"
    }
   ],
   "source": [
    "duet.store.pandas"
   ]
  },
  {
   "cell_type": "markdown",
   "id": "16d335c3",
   "metadata": {},
   "source": [
    "### IRIS Example"
   ]
  },
  {
   "cell_type": "code",
   "execution_count": 2,
   "id": "4360d161",
   "metadata": {},
   "outputs": [],
   "source": [
    "from sklearn import datasets\n",
    "import torch as th"
   ]
  },
  {
   "cell_type": "code",
   "execution_count": 3,
   "id": "7003b65d",
   "metadata": {},
   "outputs": [],
   "source": [
    "iris = datasets.load_iris()\n",
    "x, y = iris.data, iris.target"
   ]
  },
  {
   "cell_type": "code",
   "execution_count": 4,
   "id": "55c2b6d3",
   "metadata": {},
   "outputs": [
    {
     "data": {
      "text/plain": [
       "array([0, 0, 0, 0, 0, 0, 0, 0, 0, 0, 0, 0, 0, 0, 0, 0, 0, 0, 0, 0, 0, 0,\n",
       "       0, 0, 0, 0, 0, 0, 0, 0, 0, 0, 0, 0, 0, 0, 0, 0, 0, 0, 0, 0, 0, 0,\n",
       "       0, 0, 0, 0, 0, 0, 1, 1, 1, 1, 1, 1, 1, 1, 1, 1, 1, 1, 1, 1, 1, 1,\n",
       "       1, 1, 1, 1, 1, 1, 1, 1, 1, 1, 1, 1, 1, 1, 1, 1, 1, 1, 1, 1, 1, 1,\n",
       "       1, 1, 1, 1, 1, 1, 1, 1, 1, 1, 1, 1, 2, 2, 2, 2, 2, 2, 2, 2, 2, 2,\n",
       "       2, 2, 2, 2, 2, 2, 2, 2, 2, 2, 2, 2, 2, 2, 2, 2, 2, 2, 2, 2, 2, 2,\n",
       "       2, 2, 2, 2, 2, 2, 2, 2, 2, 2, 2, 2, 2, 2, 2, 2, 2, 2])"
      ]
     },
     "execution_count": 4,
     "metadata": {},
     "output_type": "execute_result"
    }
   ],
   "source": [
    "y"
   ]
  },
  {
   "cell_type": "code",
   "execution_count": 5,
   "id": "5a0c57a4",
   "metadata": {},
   "outputs": [],
   "source": [
    "th_x = th.FloatTensor(x)\n",
    "th_y = th.FloatTensor(y)"
   ]
  },
  {
   "cell_type": "code",
   "execution_count": 6,
   "id": "2a16ecaf",
   "metadata": {},
   "outputs": [
    {
     "data": {
      "text/plain": [
       "tensor([0., 0., 0., 0., 0., 0., 0., 0., 0., 0., 0., 0., 0., 0., 0., 0., 0., 0.,\n",
       "        0., 0., 0., 0., 0., 0., 0., 0., 0., 0., 0., 0., 0., 0., 0., 0., 0., 0.,\n",
       "        0., 0., 0., 0., 0., 0., 0., 0., 0., 0., 0., 0., 0., 0., 1., 1., 1., 1.,\n",
       "        1., 1., 1., 1., 1., 1., 1., 1., 1., 1., 1., 1., 1., 1., 1., 1., 1., 1.,\n",
       "        1., 1., 1., 1., 1., 1., 1., 1., 1., 1., 1., 1., 1., 1., 1., 1., 1., 1.,\n",
       "        1., 1., 1., 1., 1., 1., 1., 1., 1., 1., 2., 2., 2., 2., 2., 2., 2., 2.,\n",
       "        2., 2., 2., 2., 2., 2., 2., 2., 2., 2., 2., 2., 2., 2., 2., 2., 2., 2.,\n",
       "        2., 2., 2., 2., 2., 2., 2., 2., 2., 2., 2., 2., 2., 2., 2., 2., 2., 2.,\n",
       "        2., 2., 2., 2., 2., 2.])"
      ]
     },
     "execution_count": 6,
     "metadata": {},
     "output_type": "execute_result"
    }
   ],
   "source": [
    "th_x.tag(\"iris-data\")\n",
    "th_x.describe(\"The cms of of septal len, width, prental len, width\")\n",
    "\n",
    "th_y.tag(\"iris-target\")\n",
    "th_y.describe(\"Iris labels\")"
   ]
  },
  {
   "cell_type": "code",
   "execution_count": 7,
   "id": "262aa233",
   "metadata": {},
   "outputs": [
    {
     "data": {
      "text/plain": [
       "<syft.proxy.torch.TensorPointer at 0x7f3db49737c0>"
      ]
     },
     "execution_count": 7,
     "metadata": {},
     "output_type": "execute_result"
    }
   ],
   "source": [
    "th_x.send(duet, pointable=True)\n",
    "th_y.send(duet, pointable=True)"
   ]
  },
  {
   "cell_type": "code",
   "execution_count": 10,
   "id": "8c4fa5f1",
   "metadata": {},
   "outputs": [],
   "source": [
    "duet.requests.add_handler(action=\"accept\")"
   ]
  },
  {
   "cell_type": "code",
   "execution_count": 11,
   "id": "755e90de",
   "metadata": {},
   "outputs": [
    {
     "data": {
      "text/html": [
       "<div>\n",
       "<style scoped>\n",
       "    .dataframe tbody tr th:only-of-type {\n",
       "        vertical-align: middle;\n",
       "    }\n",
       "\n",
       "    .dataframe tbody tr th {\n",
       "        vertical-align: top;\n",
       "    }\n",
       "\n",
       "    .dataframe thead th {\n",
       "        text-align: right;\n",
       "    }\n",
       "</style>\n",
       "<table border=\"1\" class=\"dataframe\">\n",
       "  <thead>\n",
       "    <tr style=\"text-align: right;\">\n",
       "      <th></th>\n",
       "      <th>ID</th>\n",
       "      <th>Tags</th>\n",
       "      <th>Description</th>\n",
       "      <th>object_type</th>\n",
       "    </tr>\n",
       "  </thead>\n",
       "  <tbody>\n",
       "    <tr>\n",
       "      <th>0</th>\n",
       "      <td>&lt;UID: 6f8a7ebaa5664e37afb0e3ff1332852f&gt;</td>\n",
       "      <td>[iris-data]</td>\n",
       "      <td>The cms of of septal len, width, prental len, ...</td>\n",
       "      <td>&lt;class 'torch.Tensor'&gt;</td>\n",
       "    </tr>\n",
       "    <tr>\n",
       "      <th>1</th>\n",
       "      <td>&lt;UID: 43a59b04ac494632a19e9a91452a3045&gt;</td>\n",
       "      <td>[iris-target]</td>\n",
       "      <td>Iris labels</td>\n",
       "      <td>&lt;class 'torch.Tensor'&gt;</td>\n",
       "    </tr>\n",
       "    <tr>\n",
       "      <th>2</th>\n",
       "      <td>&lt;UID: 2b60c2d29b8c49ad8915baa0a18ee078&gt;</td>\n",
       "      <td>[]</td>\n",
       "      <td></td>\n",
       "      <td>&lt;class 'torch.nn.modules.module.Module'&gt;</td>\n",
       "    </tr>\n",
       "    <tr>\n",
       "      <th>3</th>\n",
       "      <td>&lt;UID: 618c9a55bab44224b075065ce968a63e&gt;</td>\n",
       "      <td>[]</td>\n",
       "      <td></td>\n",
       "      <td>&lt;class 'torch.nn.modules.linear.Linear'&gt;</td>\n",
       "    </tr>\n",
       "    <tr>\n",
       "      <th>4</th>\n",
       "      <td>&lt;UID: 8ddfbfd39b9e4b03b345c24a361403bf&gt;</td>\n",
       "      <td>[]</td>\n",
       "      <td></td>\n",
       "      <td>&lt;class 'torch.nn.modules.linear.Linear'&gt;</td>\n",
       "    </tr>\n",
       "    <tr>\n",
       "      <th>5</th>\n",
       "      <td>&lt;UID: a4b3b218979743308201139b72b7c673&gt;</td>\n",
       "      <td>[]</td>\n",
       "      <td></td>\n",
       "      <td>&lt;class 'torch.nn.modules.linear.Linear'&gt;</td>\n",
       "    </tr>\n",
       "    <tr>\n",
       "      <th>6</th>\n",
       "      <td>&lt;UID: 38cb9b6cada642cc9feb29fa9af005b1&gt;</td>\n",
       "      <td>[]</td>\n",
       "      <td></td>\n",
       "      <td>&lt;class 'torch.optim.adam.Adam'&gt;</td>\n",
       "    </tr>\n",
       "    <tr>\n",
       "      <th>7</th>\n",
       "      <td>&lt;UID: be52bae927164db390fa978252eac46f&gt;</td>\n",
       "      <td>[]</td>\n",
       "      <td></td>\n",
       "      <td>&lt;class 'syft.lib.python.list.List'&gt;</td>\n",
       "    </tr>\n",
       "    <tr>\n",
       "      <th>8</th>\n",
       "      <td>&lt;UID: 230c1cefdcac49cabd50bb7e354dd9c5&gt;</td>\n",
       "      <td>[]</td>\n",
       "      <td></td>\n",
       "      <td>&lt;class 'torch.optim.adam.Adam'&gt;</td>\n",
       "    </tr>\n",
       "    <tr>\n",
       "      <th>9</th>\n",
       "      <td>&lt;UID: 4af3acf8411b438da5a0fb2e935aa302&gt;</td>\n",
       "      <td>[]</td>\n",
       "      <td></td>\n",
       "      <td>&lt;class 'torch.nn.modules.module.Module'&gt;</td>\n",
       "    </tr>\n",
       "    <tr>\n",
       "      <th>10</th>\n",
       "      <td>&lt;UID: 7923317b275c4928bfd79cedb22c44f2&gt;</td>\n",
       "      <td>[]</td>\n",
       "      <td></td>\n",
       "      <td>&lt;class 'torch.nn.modules.linear.Linear'&gt;</td>\n",
       "    </tr>\n",
       "    <tr>\n",
       "      <th>11</th>\n",
       "      <td>&lt;UID: 6e4f090b9a684b6b8c3aefce5f745a8c&gt;</td>\n",
       "      <td>[]</td>\n",
       "      <td></td>\n",
       "      <td>&lt;class 'torch.nn.modules.linear.Linear'&gt;</td>\n",
       "    </tr>\n",
       "    <tr>\n",
       "      <th>12</th>\n",
       "      <td>&lt;UID: 9aa1ec49f05e4f2ba04f18aa6c440812&gt;</td>\n",
       "      <td>[]</td>\n",
       "      <td></td>\n",
       "      <td>&lt;class 'torch.nn.modules.linear.Linear'&gt;</td>\n",
       "    </tr>\n",
       "    <tr>\n",
       "      <th>13</th>\n",
       "      <td>&lt;UID: 41fc09b96b3d44e7b0fbb1d79479723d&gt;</td>\n",
       "      <td>[iris-data, __call__, relu, __call__, relu, __...</td>\n",
       "      <td></td>\n",
       "      <td>&lt;class 'torch.Tensor'&gt;</td>\n",
       "    </tr>\n",
       "    <tr>\n",
       "      <th>14</th>\n",
       "      <td>&lt;UID: 06cf4e58c9c849c4bfc88ea142816682&gt;</td>\n",
       "      <td>[iris-data, __call__, relu, __call__, relu, __...</td>\n",
       "      <td></td>\n",
       "      <td>&lt;class 'torch.Tensor'&gt;</td>\n",
       "    </tr>\n",
       "    <tr>\n",
       "      <th>15</th>\n",
       "      <td>&lt;UID: 4540b74dd675402a8972f29478ab66df&gt;</td>\n",
       "      <td>[iris-data, __call__, relu, __call__, relu, __...</td>\n",
       "      <td></td>\n",
       "      <td>&lt;class 'torch.Tensor'&gt;</td>\n",
       "    </tr>\n",
       "    <tr>\n",
       "      <th>16</th>\n",
       "      <td>&lt;UID: a4f790f402184b3dbae9cf35ddc21650&gt;</td>\n",
       "      <td>[iris-data, __call__, relu, __call__, relu, __...</td>\n",
       "      <td></td>\n",
       "      <td>&lt;class 'torch.Tensor'&gt;</td>\n",
       "    </tr>\n",
       "    <tr>\n",
       "      <th>17</th>\n",
       "      <td>&lt;UID: 717d9ee56c0648cfaf9a1f3772d0f63e&gt;</td>\n",
       "      <td>[iris-data, __call__, relu, __call__, relu, __...</td>\n",
       "      <td></td>\n",
       "      <td>&lt;class 'syft.lib.python.Float'&gt;</td>\n",
       "    </tr>\n",
       "    <tr>\n",
       "      <th>18</th>\n",
       "      <td>&lt;UID: 591212fbc4054f66b812f00f86ac2cae&gt;</td>\n",
       "      <td>[iris-data, __call__, relu, __call__, relu, __...</td>\n",
       "      <td></td>\n",
       "      <td>&lt;class 'torch.Tensor'&gt;</td>\n",
       "    </tr>\n",
       "    <tr>\n",
       "      <th>19</th>\n",
       "      <td>&lt;UID: 2fb56d3622c64e0cb50df065eface219&gt;</td>\n",
       "      <td>[iris-data, __call__, relu, __call__, relu, __...</td>\n",
       "      <td></td>\n",
       "      <td>&lt;class 'torch.Tensor'&gt;</td>\n",
       "    </tr>\n",
       "    <tr>\n",
       "      <th>20</th>\n",
       "      <td>&lt;UID: d1899a2b27ad449bb607fe6bb49f23ec&gt;</td>\n",
       "      <td>[iris-data, __call__, relu, __call__, relu, __...</td>\n",
       "      <td></td>\n",
       "      <td>&lt;class 'syft.lib.python.Float'&gt;</td>\n",
       "    </tr>\n",
       "  </tbody>\n",
       "</table>\n",
       "</div>"
      ],
      "text/plain": [
       "                                         ID  \\\n",
       "0   <UID: 6f8a7ebaa5664e37afb0e3ff1332852f>   \n",
       "1   <UID: 43a59b04ac494632a19e9a91452a3045>   \n",
       "2   <UID: 2b60c2d29b8c49ad8915baa0a18ee078>   \n",
       "3   <UID: 618c9a55bab44224b075065ce968a63e>   \n",
       "4   <UID: 8ddfbfd39b9e4b03b345c24a361403bf>   \n",
       "5   <UID: a4b3b218979743308201139b72b7c673>   \n",
       "6   <UID: 38cb9b6cada642cc9feb29fa9af005b1>   \n",
       "7   <UID: be52bae927164db390fa978252eac46f>   \n",
       "8   <UID: 230c1cefdcac49cabd50bb7e354dd9c5>   \n",
       "9   <UID: 4af3acf8411b438da5a0fb2e935aa302>   \n",
       "10  <UID: 7923317b275c4928bfd79cedb22c44f2>   \n",
       "11  <UID: 6e4f090b9a684b6b8c3aefce5f745a8c>   \n",
       "12  <UID: 9aa1ec49f05e4f2ba04f18aa6c440812>   \n",
       "13  <UID: 41fc09b96b3d44e7b0fbb1d79479723d>   \n",
       "14  <UID: 06cf4e58c9c849c4bfc88ea142816682>   \n",
       "15  <UID: 4540b74dd675402a8972f29478ab66df>   \n",
       "16  <UID: a4f790f402184b3dbae9cf35ddc21650>   \n",
       "17  <UID: 717d9ee56c0648cfaf9a1f3772d0f63e>   \n",
       "18  <UID: 591212fbc4054f66b812f00f86ac2cae>   \n",
       "19  <UID: 2fb56d3622c64e0cb50df065eface219>   \n",
       "20  <UID: d1899a2b27ad449bb607fe6bb49f23ec>   \n",
       "\n",
       "                                                 Tags  \\\n",
       "0                                         [iris-data]   \n",
       "1                                       [iris-target]   \n",
       "2                                                  []   \n",
       "3                                                  []   \n",
       "4                                                  []   \n",
       "5                                                  []   \n",
       "6                                                  []   \n",
       "7                                                  []   \n",
       "8                                                  []   \n",
       "9                                                  []   \n",
       "10                                                 []   \n",
       "11                                                 []   \n",
       "12                                                 []   \n",
       "13  [iris-data, __call__, relu, __call__, relu, __...   \n",
       "14  [iris-data, __call__, relu, __call__, relu, __...   \n",
       "15  [iris-data, __call__, relu, __call__, relu, __...   \n",
       "16  [iris-data, __call__, relu, __call__, relu, __...   \n",
       "17  [iris-data, __call__, relu, __call__, relu, __...   \n",
       "18  [iris-data, __call__, relu, __call__, relu, __...   \n",
       "19  [iris-data, __call__, relu, __call__, relu, __...   \n",
       "20  [iris-data, __call__, relu, __call__, relu, __...   \n",
       "\n",
       "                                          Description  \\\n",
       "0   The cms of of septal len, width, prental len, ...   \n",
       "1                                         Iris labels   \n",
       "2                                                       \n",
       "3                                                       \n",
       "4                                                       \n",
       "5                                                       \n",
       "6                                                       \n",
       "7                                                       \n",
       "8                                                       \n",
       "9                                                       \n",
       "10                                                      \n",
       "11                                                      \n",
       "12                                                      \n",
       "13                                                      \n",
       "14                                                      \n",
       "15                                                      \n",
       "16                                                      \n",
       "17                                                      \n",
       "18                                                      \n",
       "19                                                      \n",
       "20                                                      \n",
       "\n",
       "                                 object_type  \n",
       "0                     <class 'torch.Tensor'>  \n",
       "1                     <class 'torch.Tensor'>  \n",
       "2   <class 'torch.nn.modules.module.Module'>  \n",
       "3   <class 'torch.nn.modules.linear.Linear'>  \n",
       "4   <class 'torch.nn.modules.linear.Linear'>  \n",
       "5   <class 'torch.nn.modules.linear.Linear'>  \n",
       "6            <class 'torch.optim.adam.Adam'>  \n",
       "7        <class 'syft.lib.python.list.List'>  \n",
       "8            <class 'torch.optim.adam.Adam'>  \n",
       "9   <class 'torch.nn.modules.module.Module'>  \n",
       "10  <class 'torch.nn.modules.linear.Linear'>  \n",
       "11  <class 'torch.nn.modules.linear.Linear'>  \n",
       "12  <class 'torch.nn.modules.linear.Linear'>  \n",
       "13                    <class 'torch.Tensor'>  \n",
       "14                    <class 'torch.Tensor'>  \n",
       "15                    <class 'torch.Tensor'>  \n",
       "16                    <class 'torch.Tensor'>  \n",
       "17           <class 'syft.lib.python.Float'>  \n",
       "18                    <class 'torch.Tensor'>  \n",
       "19                    <class 'torch.Tensor'>  \n",
       "20           <class 'syft.lib.python.Float'>  "
      ]
     },
     "execution_count": 11,
     "metadata": {},
     "output_type": "execute_result"
    },
    {
     "name": "stderr",
     "output_type": "stream",
     "text": [
      "[2022-09-07T15:49:23.628872+0200][CRITICAL][logger]][45356] You do not have permission to .get() Object with ID: <UID: 6f8a7ebaa5664e37afb0e3ff1332852f>Please submit a request.\n",
      "[2022-09-07T15:49:23.630760+0200][CRITICAL][logger]][45356] You do not have permission to .get() Object with ID: <UID: 6f8a7ebaa5664e37afb0e3ff1332852f>Please submit a request.\n"
     ]
    }
   ],
   "source": [
    "duet.store.pandas"
   ]
  },
  {
   "cell_type": "code",
   "execution_count": null,
   "id": "b577c010",
   "metadata": {},
   "outputs": [],
   "source": []
  }
 ],
 "metadata": {
  "kernelspec": {
   "display_name": "env",
   "language": "python",
   "name": "env"
  },
  "language_info": {
   "codemirror_mode": {
    "name": "ipython",
    "version": 3
   },
   "file_extension": ".py",
   "mimetype": "text/x-python",
   "name": "python",
   "nbconvert_exporter": "python",
   "pygments_lexer": "ipython3",
   "version": "3.10.4"
  }
 },
 "nbformat": 4,
 "nbformat_minor": 5
}
