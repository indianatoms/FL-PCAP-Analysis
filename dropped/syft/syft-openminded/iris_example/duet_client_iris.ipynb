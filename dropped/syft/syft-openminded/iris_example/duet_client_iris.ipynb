{
 "cells": [
  {
   "cell_type": "code",
   "execution_count": 1,
   "id": "71c8a718",
   "metadata": {},
   "outputs": [
    {
     "name": "stdout",
     "output_type": "stream",
     "text": [
      "🎤  🎸  ♪♪♪ Joining Duet ♫♫♫  🎻  🎹\n",
      "\n",
      "♫♫♫ >\u001b[93m DISCLAIMER\u001b[0m: \u001b[1mDuet is an experimental feature currently in beta.\n",
      "♫♫♫ > Use at your own risk.\n",
      "\u001b[0m\n",
      "\u001b[1m\n",
      "    > ❤️ \u001b[91mLove\u001b[0m \u001b[92mDuet\u001b[0m? \u001b[93mPlease\u001b[0m \u001b[94mconsider\u001b[0m \u001b[95msupporting\u001b[0m \u001b[91mour\u001b[0m \u001b[93mcommunity!\u001b[0m\n",
      "    > https://github.com/sponsors/OpenMined\u001b[1m\n",
      "\n",
      "♫♫♫ > Punching through firewall to OpenGrid Network Node at:\n",
      "♫♫♫ > http://ec2-18-218-7-180.us-east-2.compute.amazonaws.com:5000\n",
      "♫♫♫ >\n",
      "♫♫♫ > ...waiting for response from OpenGrid Network... \n",
      "♫♫♫ > \u001b[92mDONE!\u001b[0m\n"
     ]
    },
    {
     "name": "stderr",
     "output_type": "stream",
     "text": [
      "/home/tk/Desktop/Studia/masters/env/lib/python3.10/site-packages/aiortc/rtcdtlstransport.py:211: CryptographyDeprecationWarning: This version of cryptography contains a temporary pyOpenSSL fallback path. Upgrade pyOpenSSL now.\n",
      "  _openssl_assert(lib.SSL_CTX_use_certificate(ctx, self._cert._x509) == 1)  # type: ignore\n",
      "/home/tk/Desktop/Studia/masters/env/lib/python3.10/site-packages/aiortc/rtcdtlstransport.py:186: CryptographyDeprecationWarning: This version of cryptography contains a temporary pyOpenSSL fallback path. Upgrade pyOpenSSL now.\n",
      "  value=certificate_digest(self._cert._x509),  # type: ignore\n"
     ]
    },
    {
     "name": "stdout",
     "output_type": "stream",
     "text": [
      "\n",
      "♫♫♫ > \u001b[92mCONNECTED!\u001b[0m\n"
     ]
    }
   ],
   "source": [
    "import syft as sy\n",
    "duet = sy.join_duet(loopback=True)"
   ]
  },
  {
   "cell_type": "code",
   "execution_count": 28,
   "id": "0d37f82a",
   "metadata": {},
   "outputs": [],
   "source": [
    "import torch as th"
   ]
  },
  {
   "cell_type": "code",
   "execution_count": 6,
   "id": "492329ea",
   "metadata": {},
   "outputs": [
    {
     "data": {
      "text/plain": [
       "tensor([25, 32, 49, 65, 88, 22])"
      ]
     },
     "execution_count": 6,
     "metadata": {},
     "output_type": "execute_result"
    }
   ],
   "source": [
    "age_data = th.tensor([25,32,49,65,88,22])\n",
    "age_data.tag(\"ages\")\n",
    "age_data.describe(\"Ages data of 6 people\")"
   ]
  },
  {
   "cell_type": "code",
   "execution_count": 11,
   "id": "0a0590a9",
   "metadata": {},
   "outputs": [],
   "source": [
    "age_data_pointer = age_data.send(duet,pointable=True)"
   ]
  },
  {
   "cell_type": "code",
   "execution_count": 12,
   "id": "b1fdced9",
   "metadata": {},
   "outputs": [
    {
     "data": {
      "text/plain": [
       "[<syft.proxy.torch.TensorPointer object at 0x7f63a9fb1c30>, <syft.proxy.torch.TensorPointer object at 0x7f63a9fb1750>]"
      ]
     },
     "execution_count": 12,
     "metadata": {},
     "output_type": "execute_result"
    }
   ],
   "source": [
    "duet.store"
   ]
  },
  {
   "cell_type": "code",
   "execution_count": 14,
   "id": "84eea66f",
   "metadata": {},
   "outputs": [
    {
     "data": {
      "text/html": [
       "<div>\n",
       "<style scoped>\n",
       "    .dataframe tbody tr th:only-of-type {\n",
       "        vertical-align: middle;\n",
       "    }\n",
       "\n",
       "    .dataframe tbody tr th {\n",
       "        vertical-align: top;\n",
       "    }\n",
       "\n",
       "    .dataframe thead th {\n",
       "        text-align: right;\n",
       "    }\n",
       "</style>\n",
       "<table border=\"1\" class=\"dataframe\">\n",
       "  <thead>\n",
       "    <tr style=\"text-align: right;\">\n",
       "      <th></th>\n",
       "      <th>ID</th>\n",
       "      <th>Tags</th>\n",
       "      <th>Description</th>\n",
       "      <th>object_type</th>\n",
       "    </tr>\n",
       "  </thead>\n",
       "  <tbody>\n",
       "    <tr>\n",
       "      <th>0</th>\n",
       "      <td>&lt;UID: e67d606671304223bcd907a6e7fa0132&gt;</td>\n",
       "      <td>[ages]</td>\n",
       "      <td>Ages data of 6 people</td>\n",
       "      <td>&lt;class 'torch.Tensor'&gt;</td>\n",
       "    </tr>\n",
       "    <tr>\n",
       "      <th>1</th>\n",
       "      <td>&lt;UID: 04959909420f4f568837cba86f0a5039&gt;</td>\n",
       "      <td>[ages]</td>\n",
       "      <td>Ages data of 6 people</td>\n",
       "      <td>&lt;class 'torch.Tensor'&gt;</td>\n",
       "    </tr>\n",
       "    <tr>\n",
       "      <th>2</th>\n",
       "      <td>&lt;UID: feb54e10f132405683e259213b8a6f63&gt;</td>\n",
       "      <td>[test]</td>\n",
       "      <td>Count to 6</td>\n",
       "      <td>&lt;class 'torch.Tensor'&gt;</td>\n",
       "    </tr>\n",
       "  </tbody>\n",
       "</table>\n",
       "</div>"
      ],
      "text/plain": [
       "                                        ID    Tags            Description  \\\n",
       "0  <UID: e67d606671304223bcd907a6e7fa0132>  [ages]  Ages data of 6 people   \n",
       "1  <UID: 04959909420f4f568837cba86f0a5039>  [ages]  Ages data of 6 people   \n",
       "2  <UID: feb54e10f132405683e259213b8a6f63>  [test]             Count to 6   \n",
       "\n",
       "              object_type  \n",
       "0  <class 'torch.Tensor'>  \n",
       "1  <class 'torch.Tensor'>  \n",
       "2  <class 'torch.Tensor'>  "
      ]
     },
     "execution_count": 14,
     "metadata": {},
     "output_type": "execute_result"
    }
   ],
   "source": [
    "duet.store.pandas"
   ]
  },
  {
   "cell_type": "code",
   "execution_count": 15,
   "id": "75f09773",
   "metadata": {},
   "outputs": [],
   "source": [
    "data_ptr = duet.store[2]"
   ]
  },
  {
   "cell_type": "code",
   "execution_count": 20,
   "id": "f3b130c4",
   "metadata": {},
   "outputs": [
    {
     "name": "stderr",
     "output_type": "stream",
     "text": [
      "[2022-09-04T21:16:08.392395+0200][CRITICAL][logger]][11488] You do not have permission to .get() Object with ID: <UID: 5e537b37744240999837e345c2283ef4>Please submit a request.\n"
     ]
    },
    {
     "name": "stdout",
     "output_type": "stream",
     "text": [
      "You do not have permission to .get() Object with ID: <UID: 5e537b37744240999837e345c2283ef4>Please submit a request.\n"
     ]
    }
   ],
   "source": [
    "try:\n",
    "    print(data_ptr.float().mean().get())\n",
    "except Exception as e:\n",
    "    print(e)"
   ]
  },
  {
   "cell_type": "code",
   "execution_count": 21,
   "id": "02a4f4aa",
   "metadata": {},
   "outputs": [],
   "source": [
    "data_ptr.request(reason=\"I want to access the test data to perform a simple analysis\")"
   ]
  },
  {
   "cell_type": "code",
   "execution_count": 22,
   "id": "897f8946",
   "metadata": {},
   "outputs": [
    {
     "name": "stdout",
     "output_type": "stream",
     "text": [
      "tensor(3.5000)\n"
     ]
    }
   ],
   "source": [
    "try:\n",
    "    print(data_ptr.float().mean().get())\n",
    "except Exception as e:\n",
    "    print(e)"
   ]
  },
  {
   "cell_type": "code",
   "execution_count": 26,
   "id": "f9091217",
   "metadata": {},
   "outputs": [
    {
     "name": "stdout",
     "output_type": "stream",
     "text": [
      "tensor(1.)\n"
     ]
    }
   ],
   "source": [
    "print(data_ptr.float().amin().get())"
   ]
  },
  {
   "cell_type": "code",
   "execution_count": 7,
   "id": "4180cd86",
   "metadata": {},
   "outputs": [
    {
     "data": {
      "text/plain": [
       "[<syft.proxy.torch.TensorPointer object at 0x7f3d08a1a080>]"
      ]
     },
     "execution_count": 7,
     "metadata": {},
     "output_type": "execute_result"
    }
   ],
   "source": [
    "duet.store"
   ]
  },
  {
   "cell_type": "code",
   "execution_count": 9,
   "id": "71bd16d5",
   "metadata": {},
   "outputs": [
    {
     "data": {
      "text/html": [
       "<div>\n",
       "<style scoped>\n",
       "    .dataframe tbody tr th:only-of-type {\n",
       "        vertical-align: middle;\n",
       "    }\n",
       "\n",
       "    .dataframe tbody tr th {\n",
       "        vertical-align: top;\n",
       "    }\n",
       "\n",
       "    .dataframe thead th {\n",
       "        text-align: right;\n",
       "    }\n",
       "</style>\n",
       "<table border=\"1\" class=\"dataframe\">\n",
       "  <thead>\n",
       "    <tr style=\"text-align: right;\">\n",
       "      <th></th>\n",
       "      <th>ID</th>\n",
       "      <th>Tags</th>\n",
       "      <th>Description</th>\n",
       "      <th>object_type</th>\n",
       "    </tr>\n",
       "  </thead>\n",
       "  <tbody>\n",
       "    <tr>\n",
       "      <th>0</th>\n",
       "      <td>&lt;UID: eae87ea9a5ae4fd79834f4b57a71e060&gt;</td>\n",
       "      <td>[access]</td>\n",
       "      <td>11-16</td>\n",
       "      <td>&lt;class 'torch.Tensor'&gt;</td>\n",
       "    </tr>\n",
       "    <tr>\n",
       "      <th>1</th>\n",
       "      <td>&lt;UID: 3a5dc1b9106d4daca6a6aca14d278c90&gt;</td>\n",
       "      <td>[deny]</td>\n",
       "      <td>11-16</td>\n",
       "      <td>&lt;class 'torch.Tensor'&gt;</td>\n",
       "    </tr>\n",
       "  </tbody>\n",
       "</table>\n",
       "</div>"
      ],
      "text/plain": [
       "                                        ID      Tags Description  \\\n",
       "0  <UID: eae87ea9a5ae4fd79834f4b57a71e060>  [access]       11-16   \n",
       "1  <UID: 3a5dc1b9106d4daca6a6aca14d278c90>    [deny]       11-16   \n",
       "\n",
       "              object_type  \n",
       "0  <class 'torch.Tensor'>  \n",
       "1  <class 'torch.Tensor'>  "
      ]
     },
     "execution_count": 9,
     "metadata": {},
     "output_type": "execute_result"
    }
   ],
   "source": [
    "duet.store.pandas"
   ]
  },
  {
   "cell_type": "code",
   "execution_count": 10,
   "id": "9f6d158a",
   "metadata": {},
   "outputs": [],
   "source": [
    "data_ptr = duet.store[1]"
   ]
  },
  {
   "cell_type": "code",
   "execution_count": 11,
   "id": "2c9cf2be",
   "metadata": {},
   "outputs": [
    {
     "name": "stderr",
     "output_type": "stream",
     "text": [
      "[2022-09-05T19:20:44.832411+0200][CRITICAL][logger]][37482] You do not have permission to .get() Object with ID: <UID: 046391c60abe4b3c879ea26984a25e74>Please submit a request.\n"
     ]
    },
    {
     "name": "stdout",
     "output_type": "stream",
     "text": [
      "You do not have permission to .get() Object with ID: <UID: 046391c60abe4b3c879ea26984a25e74>Please submit a request.\n"
     ]
    }
   ],
   "source": [
    "try:\n",
    "    print(data_ptr.float().mean().get())\n",
    "except Exception as e:\n",
    "    print(e)"
   ]
  },
  {
   "cell_type": "code",
   "execution_count": 12,
   "id": "2c54ff65",
   "metadata": {},
   "outputs": [],
   "source": [
    "data_ptr.request(reason=\"I want to access the test data to perform a simple analysis\")"
   ]
  },
  {
   "cell_type": "code",
   "execution_count": 13,
   "id": "534d77d9",
   "metadata": {},
   "outputs": [
    {
     "name": "stderr",
     "output_type": "stream",
     "text": [
      "[2022-09-05T19:20:50.620348+0200][CRITICAL][logger]][37482] You do not have permission to .get() Object with ID: <UID: 7296b64404484a7e9b3ee77d7fba12f4>Please submit a request.\n"
     ]
    },
    {
     "name": "stdout",
     "output_type": "stream",
     "text": [
      "You do not have permission to .get() Object with ID: <UID: 7296b64404484a7e9b3ee77d7fba12f4>Please submit a request.\n"
     ]
    }
   ],
   "source": [
    "try:\n",
    "    print(data_ptr.float().mean().get())\n",
    "except Exception as e:\n",
    "    print(e)"
   ]
  },
  {
   "cell_type": "code",
   "execution_count": 18,
   "id": "36165ca9",
   "metadata": {},
   "outputs": [
    {
     "data": {
      "text/html": [
       "<div>\n",
       "<style scoped>\n",
       "    .dataframe tbody tr th:only-of-type {\n",
       "        vertical-align: middle;\n",
       "    }\n",
       "\n",
       "    .dataframe tbody tr th {\n",
       "        vertical-align: top;\n",
       "    }\n",
       "\n",
       "    .dataframe thead th {\n",
       "        text-align: right;\n",
       "    }\n",
       "</style>\n",
       "<table border=\"1\" class=\"dataframe\">\n",
       "  <thead>\n",
       "    <tr style=\"text-align: right;\">\n",
       "      <th></th>\n",
       "      <th>ID</th>\n",
       "      <th>Tags</th>\n",
       "      <th>Description</th>\n",
       "      <th>object_type</th>\n",
       "    </tr>\n",
       "  </thead>\n",
       "  <tbody>\n",
       "    <tr>\n",
       "      <th>0</th>\n",
       "      <td>&lt;UID: 3a5dc1b9106d4daca6a6aca14d278c90&gt;</td>\n",
       "      <td>[deny]</td>\n",
       "      <td>11-16</td>\n",
       "      <td>&lt;class 'torch.Tensor'&gt;</td>\n",
       "    </tr>\n",
       "    <tr>\n",
       "      <th>1</th>\n",
       "      <td>&lt;UID: 0bf28dd231ac4fd5b6ac70fd14b70029&gt;</td>\n",
       "      <td>[access]</td>\n",
       "      <td>5-9</td>\n",
       "      <td>&lt;class 'torch.Tensor'&gt;</td>\n",
       "    </tr>\n",
       "  </tbody>\n",
       "</table>\n",
       "</div>"
      ],
      "text/plain": [
       "                                        ID      Tags Description  \\\n",
       "0  <UID: 3a5dc1b9106d4daca6a6aca14d278c90>    [deny]       11-16   \n",
       "1  <UID: 0bf28dd231ac4fd5b6ac70fd14b70029>  [access]         5-9   \n",
       "\n",
       "              object_type  \n",
       "0  <class 'torch.Tensor'>  \n",
       "1  <class 'torch.Tensor'>  "
      ]
     },
     "execution_count": 18,
     "metadata": {},
     "output_type": "execute_result"
    }
   ],
   "source": [
    "duet.store.pandas"
   ]
  },
  {
   "cell_type": "code",
   "execution_count": 15,
   "id": "e54ca8d9",
   "metadata": {},
   "outputs": [],
   "source": [
    "data_ptr = duet.store[0]"
   ]
  },
  {
   "cell_type": "code",
   "execution_count": 17,
   "id": "c9027920",
   "metadata": {},
   "outputs": [
    {
     "name": "stdout",
     "output_type": "stream",
     "text": [
      "tensor([11, 12, 13, 14, 15, 16])\n"
     ]
    }
   ],
   "source": [
    "try:\n",
    "    t3_data = data_ptr.get(request_block=True)\n",
    "    print(t3_data)\n",
    "except Exception as e:\n",
    "    print(e)"
   ]
  },
  {
   "cell_type": "markdown",
   "id": "ef7713a8",
   "metadata": {},
   "source": [
    "### IRIS Example"
   ]
  },
  {
   "cell_type": "code",
   "execution_count": 36,
   "id": "5fc63288",
   "metadata": {},
   "outputs": [],
   "source": [
    "from sklearn import datasets\n",
    "import torch\n",
    "from sklearn.model_selection import train_test_split\n",
    "import tqdm\n",
    "import numpy as np\n",
    "import torch.nn.functional as F\n",
    "from torch.autograd import Variable\n",
    "import pandas as pd\n",
    "import matplotlib.pyplot as plt"
   ]
  },
  {
   "cell_type": "code",
   "execution_count": 120,
   "id": "f39f4bb5",
   "metadata": {
    "scrolled": true
   },
   "outputs": [
    {
     "data": {
      "text/html": [
       "<div>\n",
       "<style scoped>\n",
       "    .dataframe tbody tr th:only-of-type {\n",
       "        vertical-align: middle;\n",
       "    }\n",
       "\n",
       "    .dataframe tbody tr th {\n",
       "        vertical-align: top;\n",
       "    }\n",
       "\n",
       "    .dataframe thead th {\n",
       "        text-align: right;\n",
       "    }\n",
       "</style>\n",
       "<table border=\"1\" class=\"dataframe\">\n",
       "  <thead>\n",
       "    <tr style=\"text-align: right;\">\n",
       "      <th></th>\n",
       "      <th>ID</th>\n",
       "      <th>Tags</th>\n",
       "      <th>Description</th>\n",
       "      <th>object_type</th>\n",
       "    </tr>\n",
       "  </thead>\n",
       "  <tbody>\n",
       "    <tr>\n",
       "      <th>0</th>\n",
       "      <td>&lt;UID: 6f8a7ebaa5664e37afb0e3ff1332852f&gt;</td>\n",
       "      <td>[iris-data]</td>\n",
       "      <td>The cms of of septal len, width, prental len, ...</td>\n",
       "      <td>&lt;class 'torch.Tensor'&gt;</td>\n",
       "    </tr>\n",
       "    <tr>\n",
       "      <th>1</th>\n",
       "      <td>&lt;UID: 43a59b04ac494632a19e9a91452a3045&gt;</td>\n",
       "      <td>[iris-target]</td>\n",
       "      <td>Iris labels</td>\n",
       "      <td>&lt;class 'torch.Tensor'&gt;</td>\n",
       "    </tr>\n",
       "  </tbody>\n",
       "</table>\n",
       "</div>"
      ],
      "text/plain": [
       "                                        ID           Tags  \\\n",
       "0  <UID: 6f8a7ebaa5664e37afb0e3ff1332852f>    [iris-data]   \n",
       "1  <UID: 43a59b04ac494632a19e9a91452a3045>  [iris-target]   \n",
       "\n",
       "                                         Description             object_type  \n",
       "0  The cms of of septal len, width, prental len, ...  <class 'torch.Tensor'>  \n",
       "1                                        Iris labels  <class 'torch.Tensor'>  "
      ]
     },
     "execution_count": 120,
     "metadata": {},
     "output_type": "execute_result"
    }
   ],
   "source": [
    "duet.store.pandas"
   ]
  },
  {
   "cell_type": "code",
   "execution_count": 121,
   "id": "4cc073ae",
   "metadata": {},
   "outputs": [],
   "source": [
    "data_ptr = duet.store[0]\n",
    "target_ptr = duet.store[1]"
   ]
  },
  {
   "cell_type": "code",
   "execution_count": 122,
   "id": "888d10cf",
   "metadata": {},
   "outputs": [
    {
     "name": "stdout",
     "output_type": "stream",
     "text": [
      "<syft.proxy.torch.TensorPointer object at 0x7f0ac7ea6dd0>\n",
      "<syft.proxy.torch.TensorPointer object at 0x7f0ac7ea6ef0>\n"
     ]
    }
   ],
   "source": [
    "print(data_ptr)\n",
    "print(target_ptr)"
   ]
  },
  {
   "cell_type": "code",
   "execution_count": 123,
   "id": "58fe17ca",
   "metadata": {},
   "outputs": [
    {
     "name": "stdout",
     "output_type": "stream",
     "text": [
      "The cms of of septal len, width, prental len, width\n",
      "Iris labels\n"
     ]
    }
   ],
   "source": [
    "print(duet.store.pandas[\"Description\"][0])\n",
    "print(duet.store.pandas[\"Description\"][1])"
   ]
  },
  {
   "cell_type": "code",
   "execution_count": 124,
   "id": "7a3e6225",
   "metadata": {},
   "outputs": [],
   "source": [
    "in_dim = 4\n",
    "out_dim = 3\n",
    "n_samples = 150"
   ]
  },
  {
   "cell_type": "code",
   "execution_count": 125,
   "id": "b3e5b660",
   "metadata": {},
   "outputs": [],
   "source": [
    "class SyNet(sy.Module):\n",
    "    def __init__(self, torch_ref):\n",
    "        super(SyNet, self).__init__(torch_ref=torch_ref)\n",
    "        self.layer1 = self.torch_ref.nn.Linear(in_dim, 20)\n",
    "        self.layer2 = self.torch_ref.nn.Linear(20, 30)\n",
    "        self.out = self.torch_ref.nn.Linear(30, out_dim)\n",
    "\n",
    "    def forward(self, x):\n",
    "        x = self.torch_ref.nn.functional.relu(self.layer1(x))\n",
    "        x = self.torch_ref.nn.functional.relu(self.layer2(x))\n",
    "        output = self.torch_ref.nn.functional.log_softmax(self.out(x), dim=1)\n",
    "        return output"
   ]
  },
  {
   "cell_type": "code",
   "execution_count": 126,
   "id": "ba43befc",
   "metadata": {},
   "outputs": [],
   "source": [
    "local_model = SyNet(torch)"
   ]
  },
  {
   "cell_type": "code",
   "execution_count": 127,
   "id": "e490a78a",
   "metadata": {},
   "outputs": [],
   "source": [
    "remote_model = local_model.send(duet)"
   ]
  },
  {
   "cell_type": "code",
   "execution_count": 128,
   "id": "ed922b33",
   "metadata": {},
   "outputs": [],
   "source": [
    "remote_torch = duet.torch"
   ]
  },
  {
   "cell_type": "code",
   "execution_count": 129,
   "id": "af30c2a3",
   "metadata": {},
   "outputs": [
    {
     "name": "stdout",
     "output_type": "stream",
     "text": [
      "params: <syft.proxy.syft.lib.python.ListPointer object at 0x7f0ac7e98970>\n",
      "optim: <syft.proxy.torch.optim.AdamPointer object at 0x7f0aeb743940>\n"
     ]
    }
   ],
   "source": [
    "params = remote_model.parameters()\n",
    "optim = remote_torch.optim.Adam(params=params, lr=0.01)\n",
    "print(\"params:\", params)\n",
    "print(\"optim:\", optim)"
   ]
  },
  {
   "cell_type": "code",
   "execution_count": 130,
   "id": "1afcc594",
   "metadata": {},
   "outputs": [],
   "source": [
    "def train(iterations, model, torch_ref, optim, data_ptr, target_ptr):\n",
    "\n",
    "    losses = []\n",
    "\n",
    "    for i in range(iterations):\n",
    "\n",
    "        optim.zero_grad()\n",
    "\n",
    "        output = model(data_ptr)\n",
    "\n",
    "        # nll_loss = negative log-liklihood loss\n",
    "        loss = torch_ref.nn.functional.nll_loss(output, target_ptr.long())\n",
    "\n",
    "        loss_item = loss.item()\n",
    "\n",
    "        loss_value = loss_item.get(\n",
    "            reason=\"To evaluate training progress\", request_block=True, timeout_secs=5\n",
    "        )\n",
    "\n",
    "        if i % 10 == 0:\n",
    "            print(\"Epoch\", i, \"loss\", loss_value)\n",
    "\n",
    "        losses.append(loss_value)\n",
    "\n",
    "        loss.backward()\n",
    "\n",
    "        optim.step()\n",
    "\n",
    "    return losses\n",
    "\n"
   ]
  },
  {
   "cell_type": "code",
   "execution_count": 131,
   "id": "1b0a822f",
   "metadata": {
    "scrolled": true
   },
   "outputs": [
    {
     "name": "stdout",
     "output_type": "stream",
     "text": [
      "Epoch 0 loss 1.0770183801651\n",
      "Epoch 10 loss 0.4749302566051483\n",
      "Epoch 20 loss 0.26288723945617676\n",
      "Epoch 30 loss 0.11634128540754318\n",
      "Epoch 40 loss 0.07402721792459488\n"
     ]
    }
   ],
   "source": [
    "iteration = 50\n",
    "losses = train(iteration, remote_model, remote_torch, optim, x_ptr, y_ptr)"
   ]
  },
  {
   "cell_type": "code",
   "execution_count": 132,
   "id": "3228a053",
   "metadata": {},
   "outputs": [
    {
     "data": {
      "text/plain": [
       "[1.0770183801651,\n",
       " 0.977566659450531,\n",
       " 0.9098525047302246,\n",
       " 0.8524215817451477,\n",
       " 0.7885106801986694,\n",
       " 0.7244436144828796,\n",
       " 0.6665759086608887,\n",
       " 0.6121807098388672,\n",
       " 0.5608727931976318,\n",
       " 0.5140899419784546,\n",
       " 0.4749302566051483,\n",
       " 0.4440608322620392,\n",
       " 0.41803160309791565,\n",
       " 0.3948517143726349,\n",
       " 0.37504827976226807,\n",
       " 0.3565855622291565,\n",
       " 0.3382933437824249,\n",
       " 0.31953006982803345,\n",
       " 0.3008383512496948,\n",
       " 0.2819530963897705,\n",
       " 0.26288723945617676,\n",
       " 0.24409210681915283,\n",
       " 0.22544418275356293,\n",
       " 0.2076277732849121,\n",
       " 0.19066931307315826,\n",
       " 0.17495664954185486,\n",
       " 0.16044040024280548,\n",
       " 0.14742060005664825,\n",
       " 0.1357089728116989,\n",
       " 0.1254422813653946,\n",
       " 0.11634128540754318,\n",
       " 0.1086689755320549,\n",
       " 0.10212542861700058,\n",
       " 0.09644521027803421,\n",
       " 0.09161742031574249,\n",
       " 0.08753722906112671,\n",
       " 0.08400165289640427,\n",
       " 0.08095978945493698,\n",
       " 0.07836110889911652,\n",
       " 0.07607238739728928,\n",
       " 0.07402721792459488,\n",
       " 0.07222282141447067,\n",
       " 0.07061648368835449,\n",
       " 0.06914732605218887,\n",
       " 0.06779654324054718,\n",
       " 0.06656809151172638,\n",
       " 0.06545151770114899,\n",
       " 0.06442127376794815,\n",
       " 0.06345637887716293,\n",
       " 0.06255246698856354]"
      ]
     },
     "execution_count": 132,
     "metadata": {},
     "output_type": "execute_result"
    }
   ],
   "source": [
    "losses"
   ]
  },
  {
   "cell_type": "code",
   "execution_count": 135,
   "id": "23f87ff6",
   "metadata": {},
   "outputs": [
    {
     "data": {
      "text/plain": [
       "Text(0.5, 0, 'iteration')"
      ]
     },
     "execution_count": 135,
     "metadata": {},
     "output_type": "execute_result"
    },
    {
     "data": {
      "image/png": "[encoded data removed]",
      "text/plain": [
       "<Figure size 640x480 with 1 Axes>"
      ]
     },
     "metadata": {},
     "output_type": "display_data"
    }
   ],
   "source": [
    "plt.plot(losses)\n",
    "plt.ylabel(\"Loss\")\n",
    "plt.xlabel(\"iteration\")"
   ]
  },
  {
   "cell_type": "code",
   "execution_count": 138,
   "id": "9ebf6090",
   "metadata": {},
   "outputs": [],
   "source": [
    "def get_local_model(model):\n",
    "    if not model.is_local:\n",
    "        try:\n",
    "            local_model = model.get(\n",
    "                request_block = True,\n",
    "                reason=\"To run tests\",\n",
    "                timeout_secs=5\n",
    "            )\n",
    "        except Exception as e:\n",
    "            print(e)\n",
    "    else:\n",
    "        local_model = model\n",
    "    return local_model"
   ]
  },
  {
   "cell_type": "code",
   "execution_count": 139,
   "id": "b3ff4332",
   "metadata": {},
   "outputs": [],
   "source": [
    "local_model = get_local_model(remote_model)"
   ]
  },
  {
   "cell_type": "code",
   "execution_count": 140,
   "id": "83cbe266",
   "metadata": {},
   "outputs": [],
   "source": [
    "from sklearn.metrics import accuracy_score"
   ]
  },
  {
   "cell_type": "code",
   "execution_count": 141,
   "id": "19b549cc",
   "metadata": {},
   "outputs": [],
   "source": [
    "iris = datasets.load_iris()\n",
    "x, y = iris.data, iris.target"
   ]
  },
  {
   "cell_type": "code",
   "execution_count": 144,
   "id": "243306f3",
   "metadata": {},
   "outputs": [],
   "source": [
    "x_test = torch.FloatTensor(np.array(x))\n",
    "y_test = torch.LongTensor(np.array(y))"
   ]
  },
  {
   "cell_type": "code",
   "execution_count": 147,
   "id": "7dd08a66",
   "metadata": {},
   "outputs": [
    {
     "name": "stdout",
     "output_type": "stream",
     "text": [
      "0 - tensor(0)\n",
      "0 - tensor(0)\n",
      "0 - tensor(0)\n",
      "0 - tensor(0)\n",
      "0 - tensor(0)\n",
      "0 - tensor(0)\n",
      "0 - tensor(0)\n",
      "0 - tensor(0)\n",
      "0 - tensor(0)\n",
      "0 - tensor(0)\n",
      "0 - tensor(0)\n",
      "0 - tensor(0)\n",
      "0 - tensor(0)\n",
      "0 - tensor(0)\n",
      "0 - tensor(0)\n",
      "0 - tensor(0)\n",
      "0 - tensor(0)\n",
      "0 - tensor(0)\n",
      "0 - tensor(0)\n",
      "0 - tensor(0)\n",
      "0 - tensor(0)\n",
      "0 - tensor(0)\n",
      "0 - tensor(0)\n",
      "0 - tensor(0)\n",
      "0 - tensor(0)\n",
      "0 - tensor(0)\n",
      "0 - tensor(0)\n",
      "0 - tensor(0)\n",
      "0 - tensor(0)\n",
      "0 - tensor(0)\n",
      "0 - tensor(0)\n",
      "0 - tensor(0)\n",
      "0 - tensor(0)\n",
      "0 - tensor(0)\n",
      "0 - tensor(0)\n",
      "0 - tensor(0)\n",
      "0 - tensor(0)\n",
      "0 - tensor(0)\n",
      "0 - tensor(0)\n",
      "0 - tensor(0)\n",
      "0 - tensor(0)\n",
      "0 - tensor(0)\n",
      "0 - tensor(0)\n",
      "0 - tensor(0)\n",
      "0 - tensor(0)\n",
      "0 - tensor(0)\n",
      "0 - tensor(0)\n",
      "0 - tensor(0)\n",
      "0 - tensor(0)\n",
      "0 - tensor(0)\n",
      "1 - tensor(1)\n",
      "1 - tensor(1)\n",
      "1 - tensor(1)\n",
      "1 - tensor(1)\n",
      "1 - tensor(1)\n",
      "1 - tensor(1)\n",
      "1 - tensor(1)\n",
      "1 - tensor(1)\n",
      "1 - tensor(1)\n",
      "1 - tensor(1)\n",
      "1 - tensor(1)\n",
      "1 - tensor(1)\n",
      "1 - tensor(1)\n",
      "1 - tensor(1)\n",
      "1 - tensor(1)\n",
      "1 - tensor(1)\n",
      "1 - tensor(1)\n",
      "1 - tensor(1)\n",
      "1 - tensor(1)\n",
      "1 - tensor(1)\n",
      "1 - tensor(1)\n",
      "1 - tensor(1)\n",
      "2 - tensor(1)\n",
      "1 - tensor(1)\n",
      "1 - tensor(1)\n",
      "1 - tensor(1)\n",
      "1 - tensor(1)\n",
      "1 - tensor(1)\n",
      "1 - tensor(1)\n",
      "1 - tensor(1)\n",
      "1 - tensor(1)\n",
      "1 - tensor(1)\n",
      "1 - tensor(1)\n",
      "2 - tensor(1)\n",
      "1 - tensor(1)\n",
      "1 - tensor(1)\n",
      "1 - tensor(1)\n",
      "1 - tensor(1)\n",
      "1 - tensor(1)\n",
      "1 - tensor(1)\n",
      "1 - tensor(1)\n",
      "1 - tensor(1)\n",
      "1 - tensor(1)\n",
      "1 - tensor(1)\n",
      "1 - tensor(1)\n",
      "1 - tensor(1)\n",
      "1 - tensor(1)\n",
      "1 - tensor(1)\n",
      "1 - tensor(1)\n",
      "1 - tensor(1)\n",
      "2 - tensor(2)\n",
      "2 - tensor(2)\n",
      "2 - tensor(2)\n",
      "2 - tensor(2)\n",
      "2 - tensor(2)\n",
      "2 - tensor(2)\n",
      "2 - tensor(2)\n",
      "2 - tensor(2)\n",
      "2 - tensor(2)\n",
      "2 - tensor(2)\n",
      "2 - tensor(2)\n",
      "2 - tensor(2)\n",
      "2 - tensor(2)\n",
      "2 - tensor(2)\n",
      "2 - tensor(2)\n",
      "2 - tensor(2)\n",
      "2 - tensor(2)\n",
      "2 - tensor(2)\n",
      "2 - tensor(2)\n",
      "2 - tensor(2)\n",
      "2 - tensor(2)\n",
      "2 - tensor(2)\n",
      "2 - tensor(2)\n",
      "2 - tensor(2)\n",
      "2 - tensor(2)\n",
      "2 - tensor(2)\n",
      "2 - tensor(2)\n",
      "2 - tensor(2)\n",
      "2 - tensor(2)\n",
      "2 - tensor(2)\n",
      "2 - tensor(2)\n",
      "2 - tensor(2)\n",
      "2 - tensor(2)\n",
      "2 - tensor(2)\n",
      "2 - tensor(2)\n",
      "2 - tensor(2)\n",
      "2 - tensor(2)\n",
      "2 - tensor(2)\n",
      "2 - tensor(2)\n",
      "2 - tensor(2)\n",
      "2 - tensor(2)\n",
      "2 - tensor(2)\n",
      "2 - tensor(2)\n",
      "2 - tensor(2)\n",
      "2 - tensor(2)\n",
      "2 - tensor(2)\n",
      "2 - tensor(2)\n",
      "2 - tensor(2)\n",
      "2 - tensor(2)\n",
      "2 - tensor(2)\n"
     ]
    }
   ],
   "source": [
    "preds = []\n",
    "with torch.no_grad():\n",
    "    for i in range(len(x_test)):\n",
    "        sample = x_test[i]\n",
    "        y_hat = local_model(sample.unsqueeze(0))\n",
    "        pred = y_hat.argmax().item()\n",
    "        print(pred,\"-\",y_test[i])\n",
    "        preds.append(pred)"
   ]
  },
  {
   "cell_type": "code",
   "execution_count": 148,
   "id": "27e02427",
   "metadata": {},
   "outputs": [
    {
     "data": {
      "text/plain": [
       "[0,\n",
       " 0,\n",
       " 0,\n",
       " 0,\n",
       " 0,\n",
       " 0,\n",
       " 0,\n",
       " 0,\n",
       " 0,\n",
       " 0,\n",
       " 0,\n",
       " 0,\n",
       " 0,\n",
       " 0,\n",
       " 0,\n",
       " 0,\n",
       " 0,\n",
       " 0,\n",
       " 0,\n",
       " 0,\n",
       " 0,\n",
       " 0,\n",
       " 0,\n",
       " 0,\n",
       " 0,\n",
       " 0,\n",
       " 0,\n",
       " 0,\n",
       " 0,\n",
       " 0,\n",
       " 0,\n",
       " 0,\n",
       " 0,\n",
       " 0,\n",
       " 0,\n",
       " 0,\n",
       " 0,\n",
       " 0,\n",
       " 0,\n",
       " 0,\n",
       " 0,\n",
       " 0,\n",
       " 0,\n",
       " 0,\n",
       " 0,\n",
       " 0,\n",
       " 0,\n",
       " 0,\n",
       " 0,\n",
       " 0,\n",
       " 1,\n",
       " 1,\n",
       " 1,\n",
       " 1,\n",
       " 1,\n",
       " 1,\n",
       " 1,\n",
       " 1,\n",
       " 1,\n",
       " 1,\n",
       " 1,\n",
       " 1,\n",
       " 1,\n",
       " 1,\n",
       " 1,\n",
       " 1,\n",
       " 1,\n",
       " 1,\n",
       " 1,\n",
       " 1,\n",
       " 1,\n",
       " 1,\n",
       " 2,\n",
       " 1,\n",
       " 1,\n",
       " 1,\n",
       " 1,\n",
       " 1,\n",
       " 1,\n",
       " 1,\n",
       " 1,\n",
       " 1,\n",
       " 1,\n",
       " 2,\n",
       " 1,\n",
       " 1,\n",
       " 1,\n",
       " 1,\n",
       " 1,\n",
       " 1,\n",
       " 1,\n",
       " 1,\n",
       " 1,\n",
       " 1,\n",
       " 1,\n",
       " 1,\n",
       " 1,\n",
       " 1,\n",
       " 1,\n",
       " 1,\n",
       " 2,\n",
       " 2,\n",
       " 2,\n",
       " 2,\n",
       " 2,\n",
       " 2,\n",
       " 2,\n",
       " 2,\n",
       " 2,\n",
       " 2,\n",
       " 2,\n",
       " 2,\n",
       " 2,\n",
       " 2,\n",
       " 2,\n",
       " 2,\n",
       " 2,\n",
       " 2,\n",
       " 2,\n",
       " 2,\n",
       " 2,\n",
       " 2,\n",
       " 2,\n",
       " 2,\n",
       " 2,\n",
       " 2,\n",
       " 2,\n",
       " 2,\n",
       " 2,\n",
       " 2,\n",
       " 2,\n",
       " 2,\n",
       " 2,\n",
       " 2,\n",
       " 2,\n",
       " 2,\n",
       " 2,\n",
       " 2,\n",
       " 2,\n",
       " 2,\n",
       " 2,\n",
       " 2,\n",
       " 2,\n",
       " 2,\n",
       " 2,\n",
       " 2,\n",
       " 2,\n",
       " 2,\n",
       " 2,\n",
       " 2]"
      ]
     },
     "execution_count": 148,
     "metadata": {},
     "output_type": "execute_result"
    }
   ],
   "source": [
    "preds"
   ]
  },
  {
   "cell_type": "code",
   "execution_count": 149,
   "id": "d204ba86",
   "metadata": {},
   "outputs": [],
   "source": [
    "acc = accuracy_score(y,preds)"
   ]
  },
  {
   "cell_type": "code",
   "execution_count": 150,
   "id": "fcf1d229",
   "metadata": {},
   "outputs": [
    {
     "name": "stdout",
     "output_type": "stream",
     "text": [
      "0.9866666666666667\n"
     ]
    }
   ],
   "source": [
    "print(acc)"
   ]
  },
  {
   "cell_type": "code",
   "execution_count": null,
   "id": "052adc5c",
   "metadata": {},
   "outputs": [],
   "source": []
  }
 ],
 "metadata": {
  "kernelspec": {
   "display_name": "env",
   "language": "python",
   "name": "env"
  },
  "language_info": {
   "codemirror_mode": {
    "name": "ipython",
    "version": 3
   },
   "file_extension": ".py",
   "mimetype": "text/x-python",
   "name": "python",
   "nbconvert_exporter": "python",
   "pygments_lexer": "ipython3",
   "version": "3.10.4"
  }
 },
 "nbformat": 4,
 "nbformat_minor": 5
}
