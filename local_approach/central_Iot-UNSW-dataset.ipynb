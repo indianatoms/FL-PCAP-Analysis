{
 "cells": [
  {
   "cell_type": "code",
   "execution_count": 1,
   "id": "d531add8",
   "metadata": {},
   "outputs": [],
   "source": [
    "import pandas as pd\n",
    "from sklearn.linear_model import LogisticRegression\n",
    "from sklearn.model_selection import train_test_split\n",
    "from sklearn.metrics import precision_recall_fscore_support\n",
    "from sklearn.metrics import accuracy_score\n",
    "from sklearn.model_selection import GridSearchCV"
   ]
  },
  {
   "cell_type": "markdown",
   "id": "c66cd51d",
   "metadata": {},
   "source": [
    "### Data Preprocessing"
   ]
  },
  {
   "cell_type": "code",
   "execution_count": 3,
   "id": "0a7eba97",
   "metadata": {},
   "outputs": [],
   "source": [
    "#read\n",
    "unsw = pd.read_csv(\"../datasets/UNSW_NB15_train-set.csv\")"
   ]
  },
  {
   "cell_type": "code",
   "execution_count": 7,
   "id": "4d902387",
   "metadata": {},
   "outputs": [
    {
     "data": {
      "text/html": [
       "<div>\n",
       "<style scoped>\n",
       "    .dataframe tbody tr th:only-of-type {\n",
       "        vertical-align: middle;\n",
       "    }\n",
       "\n",
       "    .dataframe tbody tr th {\n",
       "        vertical-align: top;\n",
       "    }\n",
       "\n",
       "    .dataframe thead th {\n",
       "        text-align: right;\n",
       "    }\n",
       "</style>\n",
       "<table border=\"1\" class=\"dataframe\">\n",
       "  <thead>\n",
       "    <tr style=\"text-align: right;\">\n",
       "      <th></th>\n",
       "      <th>id</th>\n",
       "      <th>dur</th>\n",
       "      <th>spkts</th>\n",
       "      <th>dpkts</th>\n",
       "      <th>sbytes</th>\n",
       "      <th>dbytes</th>\n",
       "      <th>rate</th>\n",
       "      <th>sttl</th>\n",
       "      <th>dttl</th>\n",
       "      <th>sload</th>\n",
       "      <th>...</th>\n",
       "      <th>ct_src_dport_ltm</th>\n",
       "      <th>ct_dst_sport_ltm</th>\n",
       "      <th>ct_dst_src_ltm</th>\n",
       "      <th>is_ftp_login</th>\n",
       "      <th>ct_ftp_cmd</th>\n",
       "      <th>ct_flw_http_mthd</th>\n",
       "      <th>ct_src_ltm</th>\n",
       "      <th>ct_srv_dst</th>\n",
       "      <th>is_sm_ips_ports</th>\n",
       "      <th>label</th>\n",
       "    </tr>\n",
       "  </thead>\n",
       "  <tbody>\n",
       "    <tr>\n",
       "      <th>count</th>\n",
       "      <td>175341.000000</td>\n",
       "      <td>175341.000000</td>\n",
       "      <td>175341.000000</td>\n",
       "      <td>175341.000000</td>\n",
       "      <td>1.753410e+05</td>\n",
       "      <td>1.753410e+05</td>\n",
       "      <td>1.753410e+05</td>\n",
       "      <td>175341.000000</td>\n",
       "      <td>175341.000000</td>\n",
       "      <td>1.753410e+05</td>\n",
       "      <td>...</td>\n",
       "      <td>175341.000000</td>\n",
       "      <td>175341.000000</td>\n",
       "      <td>175341.000000</td>\n",
       "      <td>175341.000000</td>\n",
       "      <td>175341.000000</td>\n",
       "      <td>175341.000000</td>\n",
       "      <td>175341.000000</td>\n",
       "      <td>175341.000000</td>\n",
       "      <td>175341.000000</td>\n",
       "      <td>175341.000000</td>\n",
       "    </tr>\n",
       "    <tr>\n",
       "      <th>mean</th>\n",
       "      <td>87671.000000</td>\n",
       "      <td>1.359389</td>\n",
       "      <td>20.298664</td>\n",
       "      <td>18.969591</td>\n",
       "      <td>8.844844e+03</td>\n",
       "      <td>1.492892e+04</td>\n",
       "      <td>9.540619e+04</td>\n",
       "      <td>179.546997</td>\n",
       "      <td>79.609567</td>\n",
       "      <td>7.345403e+07</td>\n",
       "      <td>...</td>\n",
       "      <td>5.383538</td>\n",
       "      <td>4.206255</td>\n",
       "      <td>8.729881</td>\n",
       "      <td>0.014948</td>\n",
       "      <td>0.014948</td>\n",
       "      <td>0.133066</td>\n",
       "      <td>6.955789</td>\n",
       "      <td>9.100758</td>\n",
       "      <td>0.015752</td>\n",
       "      <td>0.680622</td>\n",
       "    </tr>\n",
       "    <tr>\n",
       "      <th>std</th>\n",
       "      <td>50616.731112</td>\n",
       "      <td>6.480249</td>\n",
       "      <td>136.887597</td>\n",
       "      <td>110.258271</td>\n",
       "      <td>1.747656e+05</td>\n",
       "      <td>1.436542e+05</td>\n",
       "      <td>1.654010e+05</td>\n",
       "      <td>102.940011</td>\n",
       "      <td>110.506863</td>\n",
       "      <td>1.883574e+08</td>\n",
       "      <td>...</td>\n",
       "      <td>8.047104</td>\n",
       "      <td>5.783585</td>\n",
       "      <td>10.956186</td>\n",
       "      <td>0.126048</td>\n",
       "      <td>0.126048</td>\n",
       "      <td>0.701208</td>\n",
       "      <td>8.321493</td>\n",
       "      <td>10.756952</td>\n",
       "      <td>0.124516</td>\n",
       "      <td>0.466237</td>\n",
       "    </tr>\n",
       "    <tr>\n",
       "      <th>min</th>\n",
       "      <td>1.000000</td>\n",
       "      <td>0.000000</td>\n",
       "      <td>1.000000</td>\n",
       "      <td>0.000000</td>\n",
       "      <td>2.800000e+01</td>\n",
       "      <td>0.000000e+00</td>\n",
       "      <td>0.000000e+00</td>\n",
       "      <td>0.000000</td>\n",
       "      <td>0.000000</td>\n",
       "      <td>0.000000e+00</td>\n",
       "      <td>...</td>\n",
       "      <td>1.000000</td>\n",
       "      <td>1.000000</td>\n",
       "      <td>1.000000</td>\n",
       "      <td>0.000000</td>\n",
       "      <td>0.000000</td>\n",
       "      <td>0.000000</td>\n",
       "      <td>1.000000</td>\n",
       "      <td>1.000000</td>\n",
       "      <td>0.000000</td>\n",
       "      <td>0.000000</td>\n",
       "    </tr>\n",
       "    <tr>\n",
       "      <th>25%</th>\n",
       "      <td>43836.000000</td>\n",
       "      <td>0.000008</td>\n",
       "      <td>2.000000</td>\n",
       "      <td>0.000000</td>\n",
       "      <td>1.140000e+02</td>\n",
       "      <td>0.000000e+00</td>\n",
       "      <td>3.278614e+01</td>\n",
       "      <td>62.000000</td>\n",
       "      <td>0.000000</td>\n",
       "      <td>1.305334e+04</td>\n",
       "      <td>...</td>\n",
       "      <td>1.000000</td>\n",
       "      <td>1.000000</td>\n",
       "      <td>1.000000</td>\n",
       "      <td>0.000000</td>\n",
       "      <td>0.000000</td>\n",
       "      <td>0.000000</td>\n",
       "      <td>2.000000</td>\n",
       "      <td>2.000000</td>\n",
       "      <td>0.000000</td>\n",
       "      <td>0.000000</td>\n",
       "    </tr>\n",
       "    <tr>\n",
       "      <th>50%</th>\n",
       "      <td>87671.000000</td>\n",
       "      <td>0.001582</td>\n",
       "      <td>2.000000</td>\n",
       "      <td>2.000000</td>\n",
       "      <td>4.300000e+02</td>\n",
       "      <td>1.640000e+02</td>\n",
       "      <td>3.225807e+03</td>\n",
       "      <td>254.000000</td>\n",
       "      <td>29.000000</td>\n",
       "      <td>8.796748e+05</td>\n",
       "      <td>...</td>\n",
       "      <td>1.000000</td>\n",
       "      <td>1.000000</td>\n",
       "      <td>3.000000</td>\n",
       "      <td>0.000000</td>\n",
       "      <td>0.000000</td>\n",
       "      <td>0.000000</td>\n",
       "      <td>3.000000</td>\n",
       "      <td>4.000000</td>\n",
       "      <td>0.000000</td>\n",
       "      <td>1.000000</td>\n",
       "    </tr>\n",
       "    <tr>\n",
       "      <th>75%</th>\n",
       "      <td>131506.000000</td>\n",
       "      <td>0.668069</td>\n",
       "      <td>12.000000</td>\n",
       "      <td>10.000000</td>\n",
       "      <td>1.418000e+03</td>\n",
       "      <td>1.102000e+03</td>\n",
       "      <td>1.250000e+05</td>\n",
       "      <td>254.000000</td>\n",
       "      <td>252.000000</td>\n",
       "      <td>8.888889e+07</td>\n",
       "      <td>...</td>\n",
       "      <td>5.000000</td>\n",
       "      <td>3.000000</td>\n",
       "      <td>12.000000</td>\n",
       "      <td>0.000000</td>\n",
       "      <td>0.000000</td>\n",
       "      <td>0.000000</td>\n",
       "      <td>9.000000</td>\n",
       "      <td>12.000000</td>\n",
       "      <td>0.000000</td>\n",
       "      <td>1.000000</td>\n",
       "    </tr>\n",
       "    <tr>\n",
       "      <th>max</th>\n",
       "      <td>175341.000000</td>\n",
       "      <td>59.999989</td>\n",
       "      <td>9616.000000</td>\n",
       "      <td>10974.000000</td>\n",
       "      <td>1.296523e+07</td>\n",
       "      <td>1.465555e+07</td>\n",
       "      <td>1.000000e+06</td>\n",
       "      <td>255.000000</td>\n",
       "      <td>254.000000</td>\n",
       "      <td>5.988000e+09</td>\n",
       "      <td>...</td>\n",
       "      <td>51.000000</td>\n",
       "      <td>46.000000</td>\n",
       "      <td>65.000000</td>\n",
       "      <td>4.000000</td>\n",
       "      <td>4.000000</td>\n",
       "      <td>30.000000</td>\n",
       "      <td>60.000000</td>\n",
       "      <td>62.000000</td>\n",
       "      <td>1.000000</td>\n",
       "      <td>1.000000</td>\n",
       "    </tr>\n",
       "  </tbody>\n",
       "</table>\n",
       "<p>8 rows × 41 columns</p>\n",
       "</div>"
      ],
      "text/plain": [
       "                  id            dur          spkts          dpkts  \\\n",
       "count  175341.000000  175341.000000  175341.000000  175341.000000   \n",
       "mean    87671.000000       1.359389      20.298664      18.969591   \n",
       "std     50616.731112       6.480249     136.887597     110.258271   \n",
       "min         1.000000       0.000000       1.000000       0.000000   \n",
       "25%     43836.000000       0.000008       2.000000       0.000000   \n",
       "50%     87671.000000       0.001582       2.000000       2.000000   \n",
       "75%    131506.000000       0.668069      12.000000      10.000000   \n",
       "max    175341.000000      59.999989    9616.000000   10974.000000   \n",
       "\n",
       "             sbytes        dbytes          rate           sttl           dttl  \\\n",
       "count  1.753410e+05  1.753410e+05  1.753410e+05  175341.000000  175341.000000   \n",
       "mean   8.844844e+03  1.492892e+04  9.540619e+04     179.546997      79.609567   \n",
       "std    1.747656e+05  1.436542e+05  1.654010e+05     102.940011     110.506863   \n",
       "min    2.800000e+01  0.000000e+00  0.000000e+00       0.000000       0.000000   \n",
       "25%    1.140000e+02  0.000000e+00  3.278614e+01      62.000000       0.000000   \n",
       "50%    4.300000e+02  1.640000e+02  3.225807e+03     254.000000      29.000000   \n",
       "75%    1.418000e+03  1.102000e+03  1.250000e+05     254.000000     252.000000   \n",
       "max    1.296523e+07  1.465555e+07  1.000000e+06     255.000000     254.000000   \n",
       "\n",
       "              sload  ...  ct_src_dport_ltm  ct_dst_sport_ltm  ct_dst_src_ltm  \\\n",
       "count  1.753410e+05  ...     175341.000000     175341.000000   175341.000000   \n",
       "mean   7.345403e+07  ...          5.383538          4.206255        8.729881   \n",
       "std    1.883574e+08  ...          8.047104          5.783585       10.956186   \n",
       "min    0.000000e+00  ...          1.000000          1.000000        1.000000   \n",
       "25%    1.305334e+04  ...          1.000000          1.000000        1.000000   \n",
       "50%    8.796748e+05  ...          1.000000          1.000000        3.000000   \n",
       "75%    8.888889e+07  ...          5.000000          3.000000       12.000000   \n",
       "max    5.988000e+09  ...         51.000000         46.000000       65.000000   \n",
       "\n",
       "        is_ftp_login     ct_ftp_cmd  ct_flw_http_mthd     ct_src_ltm  \\\n",
       "count  175341.000000  175341.000000     175341.000000  175341.000000   \n",
       "mean        0.014948       0.014948          0.133066       6.955789   \n",
       "std         0.126048       0.126048          0.701208       8.321493   \n",
       "min         0.000000       0.000000          0.000000       1.000000   \n",
       "25%         0.000000       0.000000          0.000000       2.000000   \n",
       "50%         0.000000       0.000000          0.000000       3.000000   \n",
       "75%         0.000000       0.000000          0.000000       9.000000   \n",
       "max         4.000000       4.000000         30.000000      60.000000   \n",
       "\n",
       "          ct_srv_dst  is_sm_ips_ports          label  \n",
       "count  175341.000000    175341.000000  175341.000000  \n",
       "mean        9.100758         0.015752       0.680622  \n",
       "std        10.756952         0.124516       0.466237  \n",
       "min         1.000000         0.000000       0.000000  \n",
       "25%         2.000000         0.000000       0.000000  \n",
       "50%         4.000000         0.000000       1.000000  \n",
       "75%        12.000000         0.000000       1.000000  \n",
       "max        62.000000         1.000000       1.000000  \n",
       "\n",
       "[8 rows x 41 columns]"
      ]
     },
     "execution_count": 7,
     "metadata": {},
     "output_type": "execute_result"
    }
   ],
   "source": [
    "unsw.describe()"
   ]
  },
  {
   "cell_type": "code",
   "execution_count": 8,
   "id": "a03655a1",
   "metadata": {},
   "outputs": [],
   "source": [
    "#drop nulls\n",
    "unsw1 = unsw.dropna()"
   ]
  },
  {
   "cell_type": "code",
   "execution_count": 9,
   "id": "2a2fd3d8",
   "metadata": {},
   "outputs": [],
   "source": [
    "y = unsw.iloc[:,-1:]"
   ]
  },
  {
   "cell_type": "code",
   "execution_count": 11,
   "id": "027976fa",
   "metadata": {},
   "outputs": [
    {
     "data": {
      "text/plain": [
       "label\n",
       "1        119341\n",
       "0         56000\n",
       "dtype: int64"
      ]
     },
     "execution_count": 11,
     "metadata": {},
     "output_type": "execute_result"
    }
   ],
   "source": [
    "y.value_counts()"
   ]
  },
  {
   "cell_type": "code",
   "execution_count": 13,
   "id": "3c5c80be",
   "metadata": {},
   "outputs": [
    {
     "data": {
      "text/plain": [
       "0.6806223302022916"
      ]
     },
     "execution_count": 13,
     "metadata": {},
     "output_type": "execute_result"
    }
   ],
   "source": [
    "119341/(119341+56000)"
   ]
  },
  {
   "cell_type": "code",
   "execution_count": 6,
   "id": "4265a270",
   "metadata": {},
   "outputs": [],
   "source": [
    "#one hot encode protocols names\n",
    "proto = pd.get_dummies(unsw['proto']) "
   ]
  },
  {
   "cell_type": "code",
   "execution_count": 7,
   "id": "428fb865",
   "metadata": {},
   "outputs": [],
   "source": [
    "#one hot encode states\n",
    "state = pd.get_dummies(unsw['state'])"
   ]
  },
  {
   "cell_type": "code",
   "execution_count": 8,
   "id": "c774e7eb",
   "metadata": {
    "scrolled": true
   },
   "outputs": [],
   "source": [
    "#one hot encode service\n",
    "service = pd.get_dummies(unsw['service'])\n",
    "service = service.iloc[:,1:]"
   ]
  },
  {
   "cell_type": "code",
   "execution_count": 9,
   "id": "191b5fb1",
   "metadata": {},
   "outputs": [],
   "source": [
    "for x in ['proto', 'state', 'service','label','attack_cat']:\n",
    "    unsw = unsw.drop(x,axis = 1)"
   ]
  },
  {
   "cell_type": "code",
   "execution_count": 10,
   "id": "a8471790",
   "metadata": {},
   "outputs": [],
   "source": [
    "for x in [proto, state, service]:\n",
    "    # Join the encoded df\n",
    "    unsw = unsw.join(x)"
   ]
  },
  {
   "cell_type": "code",
   "execution_count": 11,
   "id": "60c4b9b7",
   "metadata": {},
   "outputs": [
    {
     "data": {
      "text/html": [
       "<div>\n",
       "<style scoped>\n",
       "    .dataframe tbody tr th:only-of-type {\n",
       "        vertical-align: middle;\n",
       "    }\n",
       "\n",
       "    .dataframe tbody tr th {\n",
       "        vertical-align: top;\n",
       "    }\n",
       "\n",
       "    .dataframe thead th {\n",
       "        text-align: right;\n",
       "    }\n",
       "</style>\n",
       "<table border=\"1\" class=\"dataframe\">\n",
       "  <thead>\n",
       "    <tr style=\"text-align: right;\">\n",
       "      <th></th>\n",
       "      <th>id</th>\n",
       "      <th>dur</th>\n",
       "      <th>spkts</th>\n",
       "      <th>dpkts</th>\n",
       "      <th>sbytes</th>\n",
       "      <th>dbytes</th>\n",
       "      <th>rate</th>\n",
       "      <th>sttl</th>\n",
       "      <th>dttl</th>\n",
       "      <th>sload</th>\n",
       "      <th>...</th>\n",
       "      <th>ftp</th>\n",
       "      <th>ftp-data</th>\n",
       "      <th>http</th>\n",
       "      <th>irc</th>\n",
       "      <th>pop3</th>\n",
       "      <th>radius</th>\n",
       "      <th>smtp</th>\n",
       "      <th>snmp</th>\n",
       "      <th>ssh</th>\n",
       "      <th>ssl</th>\n",
       "    </tr>\n",
       "  </thead>\n",
       "  <tbody>\n",
       "    <tr>\n",
       "      <th>0</th>\n",
       "      <td>1</td>\n",
       "      <td>0.000011</td>\n",
       "      <td>2</td>\n",
       "      <td>0</td>\n",
       "      <td>496</td>\n",
       "      <td>0</td>\n",
       "      <td>90909.090200</td>\n",
       "      <td>254</td>\n",
       "      <td>0</td>\n",
       "      <td>1.803636e+08</td>\n",
       "      <td>...</td>\n",
       "      <td>0</td>\n",
       "      <td>0</td>\n",
       "      <td>0</td>\n",
       "      <td>0</td>\n",
       "      <td>0</td>\n",
       "      <td>0</td>\n",
       "      <td>0</td>\n",
       "      <td>0</td>\n",
       "      <td>0</td>\n",
       "      <td>0</td>\n",
       "    </tr>\n",
       "    <tr>\n",
       "      <th>1</th>\n",
       "      <td>2</td>\n",
       "      <td>0.000008</td>\n",
       "      <td>2</td>\n",
       "      <td>0</td>\n",
       "      <td>1762</td>\n",
       "      <td>0</td>\n",
       "      <td>125000.000300</td>\n",
       "      <td>254</td>\n",
       "      <td>0</td>\n",
       "      <td>8.810000e+08</td>\n",
       "      <td>...</td>\n",
       "      <td>0</td>\n",
       "      <td>0</td>\n",
       "      <td>0</td>\n",
       "      <td>0</td>\n",
       "      <td>0</td>\n",
       "      <td>0</td>\n",
       "      <td>0</td>\n",
       "      <td>0</td>\n",
       "      <td>0</td>\n",
       "      <td>0</td>\n",
       "    </tr>\n",
       "    <tr>\n",
       "      <th>2</th>\n",
       "      <td>3</td>\n",
       "      <td>0.000005</td>\n",
       "      <td>2</td>\n",
       "      <td>0</td>\n",
       "      <td>1068</td>\n",
       "      <td>0</td>\n",
       "      <td>200000.005100</td>\n",
       "      <td>254</td>\n",
       "      <td>0</td>\n",
       "      <td>8.544000e+08</td>\n",
       "      <td>...</td>\n",
       "      <td>0</td>\n",
       "      <td>0</td>\n",
       "      <td>0</td>\n",
       "      <td>0</td>\n",
       "      <td>0</td>\n",
       "      <td>0</td>\n",
       "      <td>0</td>\n",
       "      <td>0</td>\n",
       "      <td>0</td>\n",
       "      <td>0</td>\n",
       "    </tr>\n",
       "    <tr>\n",
       "      <th>3</th>\n",
       "      <td>4</td>\n",
       "      <td>0.000006</td>\n",
       "      <td>2</td>\n",
       "      <td>0</td>\n",
       "      <td>900</td>\n",
       "      <td>0</td>\n",
       "      <td>166666.660800</td>\n",
       "      <td>254</td>\n",
       "      <td>0</td>\n",
       "      <td>6.000000e+08</td>\n",
       "      <td>...</td>\n",
       "      <td>0</td>\n",
       "      <td>0</td>\n",
       "      <td>0</td>\n",
       "      <td>0</td>\n",
       "      <td>0</td>\n",
       "      <td>0</td>\n",
       "      <td>0</td>\n",
       "      <td>0</td>\n",
       "      <td>0</td>\n",
       "      <td>0</td>\n",
       "    </tr>\n",
       "    <tr>\n",
       "      <th>4</th>\n",
       "      <td>5</td>\n",
       "      <td>0.000010</td>\n",
       "      <td>2</td>\n",
       "      <td>0</td>\n",
       "      <td>2126</td>\n",
       "      <td>0</td>\n",
       "      <td>100000.002500</td>\n",
       "      <td>254</td>\n",
       "      <td>0</td>\n",
       "      <td>8.504000e+08</td>\n",
       "      <td>...</td>\n",
       "      <td>0</td>\n",
       "      <td>0</td>\n",
       "      <td>0</td>\n",
       "      <td>0</td>\n",
       "      <td>0</td>\n",
       "      <td>0</td>\n",
       "      <td>0</td>\n",
       "      <td>0</td>\n",
       "      <td>0</td>\n",
       "      <td>0</td>\n",
       "    </tr>\n",
       "    <tr>\n",
       "      <th>...</th>\n",
       "      <td>...</td>\n",
       "      <td>...</td>\n",
       "      <td>...</td>\n",
       "      <td>...</td>\n",
       "      <td>...</td>\n",
       "      <td>...</td>\n",
       "      <td>...</td>\n",
       "      <td>...</td>\n",
       "      <td>...</td>\n",
       "      <td>...</td>\n",
       "      <td>...</td>\n",
       "      <td>...</td>\n",
       "      <td>...</td>\n",
       "      <td>...</td>\n",
       "      <td>...</td>\n",
       "      <td>...</td>\n",
       "      <td>...</td>\n",
       "      <td>...</td>\n",
       "      <td>...</td>\n",
       "      <td>...</td>\n",
       "      <td>...</td>\n",
       "    </tr>\n",
       "    <tr>\n",
       "      <th>82327</th>\n",
       "      <td>82328</td>\n",
       "      <td>0.000005</td>\n",
       "      <td>2</td>\n",
       "      <td>0</td>\n",
       "      <td>104</td>\n",
       "      <td>0</td>\n",
       "      <td>200000.005100</td>\n",
       "      <td>254</td>\n",
       "      <td>0</td>\n",
       "      <td>8.320000e+07</td>\n",
       "      <td>...</td>\n",
       "      <td>0</td>\n",
       "      <td>0</td>\n",
       "      <td>0</td>\n",
       "      <td>0</td>\n",
       "      <td>0</td>\n",
       "      <td>0</td>\n",
       "      <td>0</td>\n",
       "      <td>0</td>\n",
       "      <td>0</td>\n",
       "      <td>0</td>\n",
       "    </tr>\n",
       "    <tr>\n",
       "      <th>82328</th>\n",
       "      <td>82329</td>\n",
       "      <td>1.106101</td>\n",
       "      <td>20</td>\n",
       "      <td>8</td>\n",
       "      <td>18062</td>\n",
       "      <td>354</td>\n",
       "      <td>24.410067</td>\n",
       "      <td>254</td>\n",
       "      <td>252</td>\n",
       "      <td>1.241044e+05</td>\n",
       "      <td>...</td>\n",
       "      <td>0</td>\n",
       "      <td>0</td>\n",
       "      <td>0</td>\n",
       "      <td>0</td>\n",
       "      <td>0</td>\n",
       "      <td>0</td>\n",
       "      <td>0</td>\n",
       "      <td>0</td>\n",
       "      <td>0</td>\n",
       "      <td>0</td>\n",
       "    </tr>\n",
       "    <tr>\n",
       "      <th>82329</th>\n",
       "      <td>82330</td>\n",
       "      <td>0.000000</td>\n",
       "      <td>1</td>\n",
       "      <td>0</td>\n",
       "      <td>46</td>\n",
       "      <td>0</td>\n",
       "      <td>0.000000</td>\n",
       "      <td>0</td>\n",
       "      <td>0</td>\n",
       "      <td>0.000000e+00</td>\n",
       "      <td>...</td>\n",
       "      <td>0</td>\n",
       "      <td>0</td>\n",
       "      <td>0</td>\n",
       "      <td>0</td>\n",
       "      <td>0</td>\n",
       "      <td>0</td>\n",
       "      <td>0</td>\n",
       "      <td>0</td>\n",
       "      <td>0</td>\n",
       "      <td>0</td>\n",
       "    </tr>\n",
       "    <tr>\n",
       "      <th>82330</th>\n",
       "      <td>82331</td>\n",
       "      <td>0.000000</td>\n",
       "      <td>1</td>\n",
       "      <td>0</td>\n",
       "      <td>46</td>\n",
       "      <td>0</td>\n",
       "      <td>0.000000</td>\n",
       "      <td>0</td>\n",
       "      <td>0</td>\n",
       "      <td>0.000000e+00</td>\n",
       "      <td>...</td>\n",
       "      <td>0</td>\n",
       "      <td>0</td>\n",
       "      <td>0</td>\n",
       "      <td>0</td>\n",
       "      <td>0</td>\n",
       "      <td>0</td>\n",
       "      <td>0</td>\n",
       "      <td>0</td>\n",
       "      <td>0</td>\n",
       "      <td>0</td>\n",
       "    </tr>\n",
       "    <tr>\n",
       "      <th>82331</th>\n",
       "      <td>82332</td>\n",
       "      <td>0.000009</td>\n",
       "      <td>2</td>\n",
       "      <td>0</td>\n",
       "      <td>104</td>\n",
       "      <td>0</td>\n",
       "      <td>111111.107200</td>\n",
       "      <td>254</td>\n",
       "      <td>0</td>\n",
       "      <td>4.622222e+07</td>\n",
       "      <td>...</td>\n",
       "      <td>0</td>\n",
       "      <td>0</td>\n",
       "      <td>0</td>\n",
       "      <td>0</td>\n",
       "      <td>0</td>\n",
       "      <td>0</td>\n",
       "      <td>0</td>\n",
       "      <td>0</td>\n",
       "      <td>0</td>\n",
       "      <td>0</td>\n",
       "    </tr>\n",
       "  </tbody>\n",
       "</table>\n",
       "<p>82332 rows × 190 columns</p>\n",
       "</div>"
      ],
      "text/plain": [
       "          id       dur  spkts  dpkts  sbytes  dbytes           rate  sttl  \\\n",
       "0          1  0.000011      2      0     496       0   90909.090200   254   \n",
       "1          2  0.000008      2      0    1762       0  125000.000300   254   \n",
       "2          3  0.000005      2      0    1068       0  200000.005100   254   \n",
       "3          4  0.000006      2      0     900       0  166666.660800   254   \n",
       "4          5  0.000010      2      0    2126       0  100000.002500   254   \n",
       "...      ...       ...    ...    ...     ...     ...            ...   ...   \n",
       "82327  82328  0.000005      2      0     104       0  200000.005100   254   \n",
       "82328  82329  1.106101     20      8   18062     354      24.410067   254   \n",
       "82329  82330  0.000000      1      0      46       0       0.000000     0   \n",
       "82330  82331  0.000000      1      0      46       0       0.000000     0   \n",
       "82331  82332  0.000009      2      0     104       0  111111.107200   254   \n",
       "\n",
       "       dttl         sload  ...  ftp  ftp-data  http  irc  pop3  radius  smtp  \\\n",
       "0         0  1.803636e+08  ...    0         0     0    0     0       0     0   \n",
       "1         0  8.810000e+08  ...    0         0     0    0     0       0     0   \n",
       "2         0  8.544000e+08  ...    0         0     0    0     0       0     0   \n",
       "3         0  6.000000e+08  ...    0         0     0    0     0       0     0   \n",
       "4         0  8.504000e+08  ...    0         0     0    0     0       0     0   \n",
       "...     ...           ...  ...  ...       ...   ...  ...   ...     ...   ...   \n",
       "82327     0  8.320000e+07  ...    0         0     0    0     0       0     0   \n",
       "82328   252  1.241044e+05  ...    0         0     0    0     0       0     0   \n",
       "82329     0  0.000000e+00  ...    0         0     0    0     0       0     0   \n",
       "82330     0  0.000000e+00  ...    0         0     0    0     0       0     0   \n",
       "82331     0  4.622222e+07  ...    0         0     0    0     0       0     0   \n",
       "\n",
       "       snmp  ssh  ssl  \n",
       "0         0    0    0  \n",
       "1         0    0    0  \n",
       "2         0    0    0  \n",
       "3         0    0    0  \n",
       "4         0    0    0  \n",
       "...     ...  ...  ...  \n",
       "82327     0    0    0  \n",
       "82328     0    0    0  \n",
       "82329     0    0    0  \n",
       "82330     0    0    0  \n",
       "82331     0    0    0  \n",
       "\n",
       "[82332 rows x 190 columns]"
      ]
     },
     "execution_count": 11,
     "metadata": {},
     "output_type": "execute_result"
    }
   ],
   "source": [
    "unsw"
   ]
  },
  {
   "cell_type": "code",
   "execution_count": 12,
   "id": "b60e09b5",
   "metadata": {},
   "outputs": [],
   "source": [
    "X = unsw.iloc[:,:-2]"
   ]
  },
  {
   "cell_type": "code",
   "execution_count": 13,
   "id": "a83c5613",
   "metadata": {},
   "outputs": [
    {
     "data": {
      "text/html": [
       "<div>\n",
       "<style scoped>\n",
       "    .dataframe tbody tr th:only-of-type {\n",
       "        vertical-align: middle;\n",
       "    }\n",
       "\n",
       "    .dataframe tbody tr th {\n",
       "        vertical-align: top;\n",
       "    }\n",
       "\n",
       "    .dataframe thead th {\n",
       "        text-align: right;\n",
       "    }\n",
       "</style>\n",
       "<table border=\"1\" class=\"dataframe\">\n",
       "  <thead>\n",
       "    <tr style=\"text-align: right;\">\n",
       "      <th></th>\n",
       "      <th>id</th>\n",
       "      <th>dur</th>\n",
       "      <th>spkts</th>\n",
       "      <th>dpkts</th>\n",
       "      <th>sbytes</th>\n",
       "      <th>dbytes</th>\n",
       "      <th>rate</th>\n",
       "      <th>sttl</th>\n",
       "      <th>dttl</th>\n",
       "      <th>sload</th>\n",
       "      <th>...</th>\n",
       "      <th>dhcp</th>\n",
       "      <th>dns</th>\n",
       "      <th>ftp</th>\n",
       "      <th>ftp-data</th>\n",
       "      <th>http</th>\n",
       "      <th>irc</th>\n",
       "      <th>pop3</th>\n",
       "      <th>radius</th>\n",
       "      <th>smtp</th>\n",
       "      <th>snmp</th>\n",
       "    </tr>\n",
       "  </thead>\n",
       "  <tbody>\n",
       "    <tr>\n",
       "      <th>0</th>\n",
       "      <td>1</td>\n",
       "      <td>0.000011</td>\n",
       "      <td>2</td>\n",
       "      <td>0</td>\n",
       "      <td>496</td>\n",
       "      <td>0</td>\n",
       "      <td>90909.090200</td>\n",
       "      <td>254</td>\n",
       "      <td>0</td>\n",
       "      <td>1.803636e+08</td>\n",
       "      <td>...</td>\n",
       "      <td>0</td>\n",
       "      <td>0</td>\n",
       "      <td>0</td>\n",
       "      <td>0</td>\n",
       "      <td>0</td>\n",
       "      <td>0</td>\n",
       "      <td>0</td>\n",
       "      <td>0</td>\n",
       "      <td>0</td>\n",
       "      <td>0</td>\n",
       "    </tr>\n",
       "    <tr>\n",
       "      <th>1</th>\n",
       "      <td>2</td>\n",
       "      <td>0.000008</td>\n",
       "      <td>2</td>\n",
       "      <td>0</td>\n",
       "      <td>1762</td>\n",
       "      <td>0</td>\n",
       "      <td>125000.000300</td>\n",
       "      <td>254</td>\n",
       "      <td>0</td>\n",
       "      <td>8.810000e+08</td>\n",
       "      <td>...</td>\n",
       "      <td>0</td>\n",
       "      <td>0</td>\n",
       "      <td>0</td>\n",
       "      <td>0</td>\n",
       "      <td>0</td>\n",
       "      <td>0</td>\n",
       "      <td>0</td>\n",
       "      <td>0</td>\n",
       "      <td>0</td>\n",
       "      <td>0</td>\n",
       "    </tr>\n",
       "    <tr>\n",
       "      <th>2</th>\n",
       "      <td>3</td>\n",
       "      <td>0.000005</td>\n",
       "      <td>2</td>\n",
       "      <td>0</td>\n",
       "      <td>1068</td>\n",
       "      <td>0</td>\n",
       "      <td>200000.005100</td>\n",
       "      <td>254</td>\n",
       "      <td>0</td>\n",
       "      <td>8.544000e+08</td>\n",
       "      <td>...</td>\n",
       "      <td>0</td>\n",
       "      <td>0</td>\n",
       "      <td>0</td>\n",
       "      <td>0</td>\n",
       "      <td>0</td>\n",
       "      <td>0</td>\n",
       "      <td>0</td>\n",
       "      <td>0</td>\n",
       "      <td>0</td>\n",
       "      <td>0</td>\n",
       "    </tr>\n",
       "    <tr>\n",
       "      <th>3</th>\n",
       "      <td>4</td>\n",
       "      <td>0.000006</td>\n",
       "      <td>2</td>\n",
       "      <td>0</td>\n",
       "      <td>900</td>\n",
       "      <td>0</td>\n",
       "      <td>166666.660800</td>\n",
       "      <td>254</td>\n",
       "      <td>0</td>\n",
       "      <td>6.000000e+08</td>\n",
       "      <td>...</td>\n",
       "      <td>0</td>\n",
       "      <td>0</td>\n",
       "      <td>0</td>\n",
       "      <td>0</td>\n",
       "      <td>0</td>\n",
       "      <td>0</td>\n",
       "      <td>0</td>\n",
       "      <td>0</td>\n",
       "      <td>0</td>\n",
       "      <td>0</td>\n",
       "    </tr>\n",
       "    <tr>\n",
       "      <th>4</th>\n",
       "      <td>5</td>\n",
       "      <td>0.000010</td>\n",
       "      <td>2</td>\n",
       "      <td>0</td>\n",
       "      <td>2126</td>\n",
       "      <td>0</td>\n",
       "      <td>100000.002500</td>\n",
       "      <td>254</td>\n",
       "      <td>0</td>\n",
       "      <td>8.504000e+08</td>\n",
       "      <td>...</td>\n",
       "      <td>0</td>\n",
       "      <td>0</td>\n",
       "      <td>0</td>\n",
       "      <td>0</td>\n",
       "      <td>0</td>\n",
       "      <td>0</td>\n",
       "      <td>0</td>\n",
       "      <td>0</td>\n",
       "      <td>0</td>\n",
       "      <td>0</td>\n",
       "    </tr>\n",
       "    <tr>\n",
       "      <th>...</th>\n",
       "      <td>...</td>\n",
       "      <td>...</td>\n",
       "      <td>...</td>\n",
       "      <td>...</td>\n",
       "      <td>...</td>\n",
       "      <td>...</td>\n",
       "      <td>...</td>\n",
       "      <td>...</td>\n",
       "      <td>...</td>\n",
       "      <td>...</td>\n",
       "      <td>...</td>\n",
       "      <td>...</td>\n",
       "      <td>...</td>\n",
       "      <td>...</td>\n",
       "      <td>...</td>\n",
       "      <td>...</td>\n",
       "      <td>...</td>\n",
       "      <td>...</td>\n",
       "      <td>...</td>\n",
       "      <td>...</td>\n",
       "      <td>...</td>\n",
       "    </tr>\n",
       "    <tr>\n",
       "      <th>82327</th>\n",
       "      <td>82328</td>\n",
       "      <td>0.000005</td>\n",
       "      <td>2</td>\n",
       "      <td>0</td>\n",
       "      <td>104</td>\n",
       "      <td>0</td>\n",
       "      <td>200000.005100</td>\n",
       "      <td>254</td>\n",
       "      <td>0</td>\n",
       "      <td>8.320000e+07</td>\n",
       "      <td>...</td>\n",
       "      <td>0</td>\n",
       "      <td>0</td>\n",
       "      <td>0</td>\n",
       "      <td>0</td>\n",
       "      <td>0</td>\n",
       "      <td>0</td>\n",
       "      <td>0</td>\n",
       "      <td>0</td>\n",
       "      <td>0</td>\n",
       "      <td>0</td>\n",
       "    </tr>\n",
       "    <tr>\n",
       "      <th>82328</th>\n",
       "      <td>82329</td>\n",
       "      <td>1.106101</td>\n",
       "      <td>20</td>\n",
       "      <td>8</td>\n",
       "      <td>18062</td>\n",
       "      <td>354</td>\n",
       "      <td>24.410067</td>\n",
       "      <td>254</td>\n",
       "      <td>252</td>\n",
       "      <td>1.241044e+05</td>\n",
       "      <td>...</td>\n",
       "      <td>0</td>\n",
       "      <td>0</td>\n",
       "      <td>0</td>\n",
       "      <td>0</td>\n",
       "      <td>0</td>\n",
       "      <td>0</td>\n",
       "      <td>0</td>\n",
       "      <td>0</td>\n",
       "      <td>0</td>\n",
       "      <td>0</td>\n",
       "    </tr>\n",
       "    <tr>\n",
       "      <th>82329</th>\n",
       "      <td>82330</td>\n",
       "      <td>0.000000</td>\n",
       "      <td>1</td>\n",
       "      <td>0</td>\n",
       "      <td>46</td>\n",
       "      <td>0</td>\n",
       "      <td>0.000000</td>\n",
       "      <td>0</td>\n",
       "      <td>0</td>\n",
       "      <td>0.000000e+00</td>\n",
       "      <td>...</td>\n",
       "      <td>0</td>\n",
       "      <td>0</td>\n",
       "      <td>0</td>\n",
       "      <td>0</td>\n",
       "      <td>0</td>\n",
       "      <td>0</td>\n",
       "      <td>0</td>\n",
       "      <td>0</td>\n",
       "      <td>0</td>\n",
       "      <td>0</td>\n",
       "    </tr>\n",
       "    <tr>\n",
       "      <th>82330</th>\n",
       "      <td>82331</td>\n",
       "      <td>0.000000</td>\n",
       "      <td>1</td>\n",
       "      <td>0</td>\n",
       "      <td>46</td>\n",
       "      <td>0</td>\n",
       "      <td>0.000000</td>\n",
       "      <td>0</td>\n",
       "      <td>0</td>\n",
       "      <td>0.000000e+00</td>\n",
       "      <td>...</td>\n",
       "      <td>0</td>\n",
       "      <td>0</td>\n",
       "      <td>0</td>\n",
       "      <td>0</td>\n",
       "      <td>0</td>\n",
       "      <td>0</td>\n",
       "      <td>0</td>\n",
       "      <td>0</td>\n",
       "      <td>0</td>\n",
       "      <td>0</td>\n",
       "    </tr>\n",
       "    <tr>\n",
       "      <th>82331</th>\n",
       "      <td>82332</td>\n",
       "      <td>0.000009</td>\n",
       "      <td>2</td>\n",
       "      <td>0</td>\n",
       "      <td>104</td>\n",
       "      <td>0</td>\n",
       "      <td>111111.107200</td>\n",
       "      <td>254</td>\n",
       "      <td>0</td>\n",
       "      <td>4.622222e+07</td>\n",
       "      <td>...</td>\n",
       "      <td>0</td>\n",
       "      <td>0</td>\n",
       "      <td>0</td>\n",
       "      <td>0</td>\n",
       "      <td>0</td>\n",
       "      <td>0</td>\n",
       "      <td>0</td>\n",
       "      <td>0</td>\n",
       "      <td>0</td>\n",
       "      <td>0</td>\n",
       "    </tr>\n",
       "  </tbody>\n",
       "</table>\n",
       "<p>82332 rows × 188 columns</p>\n",
       "</div>"
      ],
      "text/plain": [
       "          id       dur  spkts  dpkts  sbytes  dbytes           rate  sttl  \\\n",
       "0          1  0.000011      2      0     496       0   90909.090200   254   \n",
       "1          2  0.000008      2      0    1762       0  125000.000300   254   \n",
       "2          3  0.000005      2      0    1068       0  200000.005100   254   \n",
       "3          4  0.000006      2      0     900       0  166666.660800   254   \n",
       "4          5  0.000010      2      0    2126       0  100000.002500   254   \n",
       "...      ...       ...    ...    ...     ...     ...            ...   ...   \n",
       "82327  82328  0.000005      2      0     104       0  200000.005100   254   \n",
       "82328  82329  1.106101     20      8   18062     354      24.410067   254   \n",
       "82329  82330  0.000000      1      0      46       0       0.000000     0   \n",
       "82330  82331  0.000000      1      0      46       0       0.000000     0   \n",
       "82331  82332  0.000009      2      0     104       0  111111.107200   254   \n",
       "\n",
       "       dttl         sload  ...  dhcp  dns  ftp  ftp-data  http  irc  pop3  \\\n",
       "0         0  1.803636e+08  ...     0    0    0         0     0    0     0   \n",
       "1         0  8.810000e+08  ...     0    0    0         0     0    0     0   \n",
       "2         0  8.544000e+08  ...     0    0    0         0     0    0     0   \n",
       "3         0  6.000000e+08  ...     0    0    0         0     0    0     0   \n",
       "4         0  8.504000e+08  ...     0    0    0         0     0    0     0   \n",
       "...     ...           ...  ...   ...  ...  ...       ...   ...  ...   ...   \n",
       "82327     0  8.320000e+07  ...     0    0    0         0     0    0     0   \n",
       "82328   252  1.241044e+05  ...     0    0    0         0     0    0     0   \n",
       "82329     0  0.000000e+00  ...     0    0    0         0     0    0     0   \n",
       "82330     0  0.000000e+00  ...     0    0    0         0     0    0     0   \n",
       "82331     0  4.622222e+07  ...     0    0    0         0     0    0     0   \n",
       "\n",
       "       radius  smtp  snmp  \n",
       "0           0     0     0  \n",
       "1           0     0     0  \n",
       "2           0     0     0  \n",
       "3           0     0     0  \n",
       "4           0     0     0  \n",
       "...       ...   ...   ...  \n",
       "82327       0     0     0  \n",
       "82328       0     0     0  \n",
       "82329       0     0     0  \n",
       "82330       0     0     0  \n",
       "82331       0     0     0  \n",
       "\n",
       "[82332 rows x 188 columns]"
      ]
     },
     "execution_count": 13,
     "metadata": {},
     "output_type": "execute_result"
    }
   ],
   "source": [
    "X"
   ]
  },
  {
   "cell_type": "code",
   "execution_count": 14,
   "id": "c4b312d9",
   "metadata": {},
   "outputs": [
    {
     "data": {
      "text/html": [
       "<div>\n",
       "<style scoped>\n",
       "    .dataframe tbody tr th:only-of-type {\n",
       "        vertical-align: middle;\n",
       "    }\n",
       "\n",
       "    .dataframe tbody tr th {\n",
       "        vertical-align: top;\n",
       "    }\n",
       "\n",
       "    .dataframe thead th {\n",
       "        text-align: right;\n",
       "    }\n",
       "</style>\n",
       "<table border=\"1\" class=\"dataframe\">\n",
       "  <thead>\n",
       "    <tr style=\"text-align: right;\">\n",
       "      <th></th>\n",
       "      <th>label</th>\n",
       "    </tr>\n",
       "  </thead>\n",
       "  <tbody>\n",
       "    <tr>\n",
       "      <th>0</th>\n",
       "      <td>0</td>\n",
       "    </tr>\n",
       "    <tr>\n",
       "      <th>1</th>\n",
       "      <td>0</td>\n",
       "    </tr>\n",
       "    <tr>\n",
       "      <th>2</th>\n",
       "      <td>0</td>\n",
       "    </tr>\n",
       "    <tr>\n",
       "      <th>3</th>\n",
       "      <td>0</td>\n",
       "    </tr>\n",
       "    <tr>\n",
       "      <th>4</th>\n",
       "      <td>0</td>\n",
       "    </tr>\n",
       "    <tr>\n",
       "      <th>...</th>\n",
       "      <td>...</td>\n",
       "    </tr>\n",
       "    <tr>\n",
       "      <th>82327</th>\n",
       "      <td>0</td>\n",
       "    </tr>\n",
       "    <tr>\n",
       "      <th>82328</th>\n",
       "      <td>0</td>\n",
       "    </tr>\n",
       "    <tr>\n",
       "      <th>82329</th>\n",
       "      <td>0</td>\n",
       "    </tr>\n",
       "    <tr>\n",
       "      <th>82330</th>\n",
       "      <td>0</td>\n",
       "    </tr>\n",
       "    <tr>\n",
       "      <th>82331</th>\n",
       "      <td>0</td>\n",
       "    </tr>\n",
       "  </tbody>\n",
       "</table>\n",
       "<p>82332 rows × 1 columns</p>\n",
       "</div>"
      ],
      "text/plain": [
       "       label\n",
       "0          0\n",
       "1          0\n",
       "2          0\n",
       "3          0\n",
       "4          0\n",
       "...      ...\n",
       "82327      0\n",
       "82328      0\n",
       "82329      0\n",
       "82330      0\n",
       "82331      0\n",
       "\n",
       "[82332 rows x 1 columns]"
      ]
     },
     "execution_count": 14,
     "metadata": {},
     "output_type": "execute_result"
    }
   ],
   "source": [
    "y"
   ]
  },
  {
   "cell_type": "code",
   "execution_count": 15,
   "id": "11f88960",
   "metadata": {},
   "outputs": [],
   "source": [
    "X_train, X_test, y_train, y_test = train_test_split(X, y, test_size=0.33, random_state=42)"
   ]
  },
  {
   "cell_type": "code",
   "execution_count": 16,
   "id": "fd45f788",
   "metadata": {},
   "outputs": [
    {
     "data": {
      "text/html": [
       "<div>\n",
       "<style scoped>\n",
       "    .dataframe tbody tr th:only-of-type {\n",
       "        vertical-align: middle;\n",
       "    }\n",
       "\n",
       "    .dataframe tbody tr th {\n",
       "        vertical-align: top;\n",
       "    }\n",
       "\n",
       "    .dataframe thead th {\n",
       "        text-align: right;\n",
       "    }\n",
       "</style>\n",
       "<table border=\"1\" class=\"dataframe\">\n",
       "  <thead>\n",
       "    <tr style=\"text-align: right;\">\n",
       "      <th></th>\n",
       "      <th>label</th>\n",
       "    </tr>\n",
       "  </thead>\n",
       "  <tbody>\n",
       "    <tr>\n",
       "      <th>66237</th>\n",
       "      <td>0</td>\n",
       "    </tr>\n",
       "    <tr>\n",
       "      <th>22284</th>\n",
       "      <td>1</td>\n",
       "    </tr>\n",
       "    <tr>\n",
       "      <th>48620</th>\n",
       "      <td>1</td>\n",
       "    </tr>\n",
       "    <tr>\n",
       "      <th>9317</th>\n",
       "      <td>1</td>\n",
       "    </tr>\n",
       "    <tr>\n",
       "      <th>21709</th>\n",
       "      <td>1</td>\n",
       "    </tr>\n",
       "    <tr>\n",
       "      <th>...</th>\n",
       "      <td>...</td>\n",
       "    </tr>\n",
       "    <tr>\n",
       "      <th>6265</th>\n",
       "      <td>1</td>\n",
       "    </tr>\n",
       "    <tr>\n",
       "      <th>54886</th>\n",
       "      <td>1</td>\n",
       "    </tr>\n",
       "    <tr>\n",
       "      <th>76820</th>\n",
       "      <td>0</td>\n",
       "    </tr>\n",
       "    <tr>\n",
       "      <th>860</th>\n",
       "      <td>1</td>\n",
       "    </tr>\n",
       "    <tr>\n",
       "      <th>15795</th>\n",
       "      <td>1</td>\n",
       "    </tr>\n",
       "  </tbody>\n",
       "</table>\n",
       "<p>55162 rows × 1 columns</p>\n",
       "</div>"
      ],
      "text/plain": [
       "       label\n",
       "66237      0\n",
       "22284      1\n",
       "48620      1\n",
       "9317       1\n",
       "21709      1\n",
       "...      ...\n",
       "6265       1\n",
       "54886      1\n",
       "76820      0\n",
       "860        1\n",
       "15795      1\n",
       "\n",
       "[55162 rows x 1 columns]"
      ]
     },
     "execution_count": 16,
     "metadata": {},
     "output_type": "execute_result"
    }
   ],
   "source": [
    "y_train"
   ]
  },
  {
   "cell_type": "markdown",
   "id": "49183419",
   "metadata": {},
   "source": [
    "# Learining Stage"
   ]
  },
  {
   "cell_type": "markdown",
   "id": "4f10f45f",
   "metadata": {},
   "source": [
    "## LogReg"
   ]
  },
  {
   "cell_type": "code",
   "execution_count": 61,
   "id": "4cb3ac22",
   "metadata": {},
   "outputs": [
    {
     "name": "stderr",
     "output_type": "stream",
     "text": [
      "/home/tk/Desktop/Studia/masters/env/lib/python3.10/site-packages/sklearn/utils/validation.py:1111: DataConversionWarning: A column-vector y was passed when a 1d array was expected. Please change the shape of y to (n_samples, ), for example using ravel().\n",
      "  y = column_or_1d(y, warn=True)\n"
     ]
    }
   ],
   "source": [
    "clf = LogisticRegression(C=1.0, class_weight=None, dual=False, fit_intercept=False, intercept_scaling=1,\n",
    "                   l1_ratio=None, max_iter=100, multi_class='auto', n_jobs=None, penalty='l2', \n",
    "                   random_state=131, solver='lbfgs', tol=0.0001, verbose=0, warm_start=False).fit(X_train,y_train)"
   ]
  },
  {
   "cell_type": "code",
   "execution_count": 62,
   "id": "3e8bb8a3",
   "metadata": {},
   "outputs": [
    {
     "name": "stdout",
     "output_type": "stream",
     "text": [
      "-------------------------\n",
      "(27170, 188)\n",
      "(188, 1)\n",
      "-------------------------\n"
     ]
    }
   ],
   "source": [
    "y_hat = clf.predict(X_test)"
   ]
  },
  {
   "cell_type": "code",
   "execution_count": 63,
   "id": "8a88c873",
   "metadata": {},
   "outputs": [
    {
     "data": {
      "text/plain": [
       "array([0, 1, 1, ..., 0, 1, 1])"
      ]
     },
     "execution_count": 63,
     "metadata": {},
     "output_type": "execute_result"
    }
   ],
   "source": [
    "y_hat"
   ]
  },
  {
   "cell_type": "code",
   "execution_count": 64,
   "id": "680682ee",
   "metadata": {},
   "outputs": [
    {
     "data": {
      "text/plain": [
       "(0.7627967592011053, 0.7573183468060156, 0.746509202370998, None)"
      ]
     },
     "execution_count": 64,
     "metadata": {},
     "output_type": "execute_result"
    }
   ],
   "source": [
    "precision_recall_fscore_support(y_test, y_hat, average='macro')"
   ]
  },
  {
   "cell_type": "code",
   "execution_count": 65,
   "id": "df0a2c6c",
   "metadata": {},
   "outputs": [
    {
     "data": {
      "text/plain": [
       "0.74688995215311"
      ]
     },
     "execution_count": 65,
     "metadata": {},
     "output_type": "execute_result"
    }
   ],
   "source": [
    "accuracy_score(y_test, y_hat)"
   ]
  },
  {
   "cell_type": "code",
   "execution_count": 66,
   "id": "d81aa707",
   "metadata": {},
   "outputs": [
    {
     "name": "stderr",
     "output_type": "stream",
     "text": [
      "/home/tk/Desktop/Studia/masters/env/lib/python3.10/site-packages/sklearn/utils/validation.py:1111: DataConversionWarning: A column-vector y was passed when a 1d array was expected. Please change the shape of y to (n_samples, ), for example using ravel().\n",
      "  y = column_or_1d(y, warn=True)\n",
      "/home/tk/Desktop/Studia/masters/env/lib/python3.10/site-packages/scipy/optimize/linesearch.py:478: LineSearchWarning: The line search algorithm did not converge\n",
      "  warn('The line search algorithm did not converge', LineSearchWarning)\n",
      "/home/tk/Desktop/Studia/masters/env/lib/python3.10/site-packages/scipy/optimize/linesearch.py:327: LineSearchWarning: The line search algorithm did not converge\n",
      "  warn('The line search algorithm did not converge', LineSearchWarning)\n",
      "/home/tk/Desktop/Studia/masters/env/lib/python3.10/site-packages/sklearn/utils/optimize.py:210: ConvergenceWarning: newton-cg failed to converge. Increase the number of iterations.\n",
      "  warnings.warn(\n"
     ]
    },
    {
     "name": "stdout",
     "output_type": "stream",
     "text": [
      "-------------------------\n",
      "(11033, 188)\n",
      "(188, 1)\n",
      "-------------------------\n"
     ]
    },
    {
     "name": "stderr",
     "output_type": "stream",
     "text": [
      "/home/tk/Desktop/Studia/masters/env/lib/python3.10/site-packages/sklearn/utils/validation.py:1111: DataConversionWarning: A column-vector y was passed when a 1d array was expected. Please change the shape of y to (n_samples, ), for example using ravel().\n",
      "  y = column_or_1d(y, warn=True)\n",
      "/home/tk/Desktop/Studia/masters/env/lib/python3.10/site-packages/scipy/optimize/linesearch.py:478: LineSearchWarning: The line search algorithm did not converge\n",
      "  warn('The line search algorithm did not converge', LineSearchWarning)\n",
      "/home/tk/Desktop/Studia/masters/env/lib/python3.10/site-packages/scipy/optimize/linesearch.py:327: LineSearchWarning: The line search algorithm did not converge\n",
      "  warn('The line search algorithm did not converge', LineSearchWarning)\n",
      "/home/tk/Desktop/Studia/masters/env/lib/python3.10/site-packages/sklearn/utils/optimize.py:210: ConvergenceWarning: newton-cg failed to converge. Increase the number of iterations.\n",
      "  warnings.warn(\n"
     ]
    },
    {
     "name": "stdout",
     "output_type": "stream",
     "text": [
      "-------------------------\n",
      "(11033, 188)\n",
      "(188, 1)\n",
      "-------------------------\n"
     ]
    },
    {
     "name": "stderr",
     "output_type": "stream",
     "text": [
      "/home/tk/Desktop/Studia/masters/env/lib/python3.10/site-packages/sklearn/utils/validation.py:1111: DataConversionWarning: A column-vector y was passed when a 1d array was expected. Please change the shape of y to (n_samples, ), for example using ravel().\n",
      "  y = column_or_1d(y, warn=True)\n",
      "/home/tk/Desktop/Studia/masters/env/lib/python3.10/site-packages/scipy/optimize/linesearch.py:478: LineSearchWarning: The line search algorithm did not converge\n",
      "  warn('The line search algorithm did not converge', LineSearchWarning)\n",
      "/home/tk/Desktop/Studia/masters/env/lib/python3.10/site-packages/scipy/optimize/linesearch.py:327: LineSearchWarning: The line search algorithm did not converge\n",
      "  warn('The line search algorithm did not converge', LineSearchWarning)\n",
      "/home/tk/Desktop/Studia/masters/env/lib/python3.10/site-packages/sklearn/utils/optimize.py:210: ConvergenceWarning: newton-cg failed to converge. Increase the number of iterations.\n",
      "  warnings.warn(\n"
     ]
    },
    {
     "name": "stdout",
     "output_type": "stream",
     "text": [
      "-------------------------\n",
      "(11032, 188)\n",
      "(188, 1)\n",
      "-------------------------\n"
     ]
    },
    {
     "name": "stderr",
     "output_type": "stream",
     "text": [
      "/home/tk/Desktop/Studia/masters/env/lib/python3.10/site-packages/sklearn/utils/validation.py:1111: DataConversionWarning: A column-vector y was passed when a 1d array was expected. Please change the shape of y to (n_samples, ), for example using ravel().\n",
      "  y = column_or_1d(y, warn=True)\n",
      "/home/tk/Desktop/Studia/masters/env/lib/python3.10/site-packages/scipy/optimize/linesearch.py:478: LineSearchWarning: The line search algorithm did not converge\n",
      "  warn('The line search algorithm did not converge', LineSearchWarning)\n",
      "/home/tk/Desktop/Studia/masters/env/lib/python3.10/site-packages/scipy/optimize/linesearch.py:327: LineSearchWarning: The line search algorithm did not converge\n",
      "  warn('The line search algorithm did not converge', LineSearchWarning)\n",
      "/home/tk/Desktop/Studia/masters/env/lib/python3.10/site-packages/sklearn/utils/optimize.py:210: ConvergenceWarning: newton-cg failed to converge. Increase the number of iterations.\n",
      "  warnings.warn(\n"
     ]
    },
    {
     "name": "stdout",
     "output_type": "stream",
     "text": [
      "-------------------------\n",
      "(11032, 188)\n",
      "(188, 1)\n",
      "-------------------------\n"
     ]
    },
    {
     "name": "stderr",
     "output_type": "stream",
     "text": [
      "/home/tk/Desktop/Studia/masters/env/lib/python3.10/site-packages/sklearn/utils/validation.py:1111: DataConversionWarning: A column-vector y was passed when a 1d array was expected. Please change the shape of y to (n_samples, ), for example using ravel().\n",
      "  y = column_or_1d(y, warn=True)\n",
      "/home/tk/Desktop/Studia/masters/env/lib/python3.10/site-packages/scipy/optimize/linesearch.py:478: LineSearchWarning: The line search algorithm did not converge\n",
      "  warn('The line search algorithm did not converge', LineSearchWarning)\n",
      "/home/tk/Desktop/Studia/masters/env/lib/python3.10/site-packages/scipy/optimize/linesearch.py:327: LineSearchWarning: The line search algorithm did not converge\n",
      "  warn('The line search algorithm did not converge', LineSearchWarning)\n",
      "/home/tk/Desktop/Studia/masters/env/lib/python3.10/site-packages/sklearn/utils/optimize.py:210: ConvergenceWarning: newton-cg failed to converge. Increase the number of iterations.\n",
      "  warnings.warn(\n",
      "/home/tk/Desktop/Studia/masters/env/lib/python3.10/site-packages/sklearn/utils/validation.py:1111: DataConversionWarning: A column-vector y was passed when a 1d array was expected. Please change the shape of y to (n_samples, ), for example using ravel().\n",
      "  y = column_or_1d(y, warn=True)\n"
     ]
    },
    {
     "name": "stdout",
     "output_type": "stream",
     "text": [
      "-------------------------\n",
      "(11032, 188)\n",
      "(188, 1)\n",
      "-------------------------\n",
      "-------------------------\n",
      "(11033, 188)\n",
      "(188, 1)\n",
      "-------------------------\n"
     ]
    },
    {
     "name": "stderr",
     "output_type": "stream",
     "text": [
      "/home/tk/Desktop/Studia/masters/env/lib/python3.10/site-packages/sklearn/utils/validation.py:1111: DataConversionWarning: A column-vector y was passed when a 1d array was expected. Please change the shape of y to (n_samples, ), for example using ravel().\n",
      "  y = column_or_1d(y, warn=True)\n"
     ]
    },
    {
     "name": "stdout",
     "output_type": "stream",
     "text": [
      "-------------------------\n",
      "(11033, 188)\n",
      "(188, 1)\n",
      "-------------------------\n"
     ]
    },
    {
     "name": "stderr",
     "output_type": "stream",
     "text": [
      "/home/tk/Desktop/Studia/masters/env/lib/python3.10/site-packages/sklearn/utils/validation.py:1111: DataConversionWarning: A column-vector y was passed when a 1d array was expected. Please change the shape of y to (n_samples, ), for example using ravel().\n",
      "  y = column_or_1d(y, warn=True)\n"
     ]
    },
    {
     "name": "stdout",
     "output_type": "stream",
     "text": [
      "-------------------------\n",
      "(11032, 188)\n",
      "(188, 1)\n",
      "-------------------------\n"
     ]
    },
    {
     "name": "stderr",
     "output_type": "stream",
     "text": [
      "/home/tk/Desktop/Studia/masters/env/lib/python3.10/site-packages/sklearn/utils/validation.py:1111: DataConversionWarning: A column-vector y was passed when a 1d array was expected. Please change the shape of y to (n_samples, ), for example using ravel().\n",
      "  y = column_or_1d(y, warn=True)\n"
     ]
    },
    {
     "name": "stdout",
     "output_type": "stream",
     "text": [
      "-------------------------\n",
      "(11032, 188)\n",
      "(188, 1)\n",
      "-------------------------\n"
     ]
    },
    {
     "name": "stderr",
     "output_type": "stream",
     "text": [
      "/home/tk/Desktop/Studia/masters/env/lib/python3.10/site-packages/sklearn/utils/validation.py:1111: DataConversionWarning: A column-vector y was passed when a 1d array was expected. Please change the shape of y to (n_samples, ), for example using ravel().\n",
      "  y = column_or_1d(y, warn=True)\n"
     ]
    },
    {
     "name": "stdout",
     "output_type": "stream",
     "text": [
      "-------------------------\n",
      "(11032, 188)\n",
      "(188, 1)\n",
      "-------------------------\n"
     ]
    },
    {
     "name": "stderr",
     "output_type": "stream",
     "text": [
      "/home/tk/Desktop/Studia/masters/env/lib/python3.10/site-packages/sklearn/utils/validation.py:1111: DataConversionWarning: A column-vector y was passed when a 1d array was expected. Please change the shape of y to (n_samples, ), for example using ravel().\n",
      "  y = column_or_1d(y, warn=True)\n"
     ]
    },
    {
     "name": "stdout",
     "output_type": "stream",
     "text": [
      "-------------------------\n",
      "(11033, 188)\n",
      "(188, 1)\n",
      "-------------------------\n"
     ]
    },
    {
     "name": "stderr",
     "output_type": "stream",
     "text": [
      "/home/tk/Desktop/Studia/masters/env/lib/python3.10/site-packages/sklearn/utils/validation.py:1111: DataConversionWarning: A column-vector y was passed when a 1d array was expected. Please change the shape of y to (n_samples, ), for example using ravel().\n",
      "  y = column_or_1d(y, warn=True)\n"
     ]
    },
    {
     "name": "stdout",
     "output_type": "stream",
     "text": [
      "-------------------------\n",
      "(11033, 188)\n",
      "(188, 1)\n",
      "-------------------------\n"
     ]
    },
    {
     "name": "stderr",
     "output_type": "stream",
     "text": [
      "/home/tk/Desktop/Studia/masters/env/lib/python3.10/site-packages/sklearn/utils/validation.py:1111: DataConversionWarning: A column-vector y was passed when a 1d array was expected. Please change the shape of y to (n_samples, ), for example using ravel().\n",
      "  y = column_or_1d(y, warn=True)\n"
     ]
    },
    {
     "name": "stdout",
     "output_type": "stream",
     "text": [
      "-------------------------\n",
      "(11032, 188)\n",
      "(188, 1)\n",
      "-------------------------\n"
     ]
    },
    {
     "name": "stderr",
     "output_type": "stream",
     "text": [
      "/home/tk/Desktop/Studia/masters/env/lib/python3.10/site-packages/sklearn/utils/validation.py:1111: DataConversionWarning: A column-vector y was passed when a 1d array was expected. Please change the shape of y to (n_samples, ), for example using ravel().\n",
      "  y = column_or_1d(y, warn=True)\n"
     ]
    },
    {
     "name": "stdout",
     "output_type": "stream",
     "text": [
      "-------------------------\n",
      "(11032, 188)\n",
      "(188, 1)\n",
      "-------------------------\n"
     ]
    },
    {
     "name": "stderr",
     "output_type": "stream",
     "text": [
      "/home/tk/Desktop/Studia/masters/env/lib/python3.10/site-packages/sklearn/utils/validation.py:1111: DataConversionWarning: A column-vector y was passed when a 1d array was expected. Please change the shape of y to (n_samples, ), for example using ravel().\n",
      "  y = column_or_1d(y, warn=True)\n"
     ]
    },
    {
     "name": "stdout",
     "output_type": "stream",
     "text": [
      "-------------------------\n",
      "(11032, 188)\n",
      "(188, 1)\n",
      "-------------------------\n"
     ]
    },
    {
     "name": "stderr",
     "output_type": "stream",
     "text": [
      "/home/tk/Desktop/Studia/masters/env/lib/python3.10/site-packages/sklearn/utils/validation.py:1111: DataConversionWarning: A column-vector y was passed when a 1d array was expected. Please change the shape of y to (n_samples, ), for example using ravel().\n",
      "  y = column_or_1d(y, warn=True)\n",
      "/home/tk/Desktop/Studia/masters/env/lib/python3.10/site-packages/sklearn/linear_model/_sag.py:350: ConvergenceWarning: The max_iter was reached which means the coef_ did not converge\n",
      "  warnings.warn(\n",
      "/home/tk/Desktop/Studia/masters/env/lib/python3.10/site-packages/sklearn/utils/validation.py:1111: DataConversionWarning: A column-vector y was passed when a 1d array was expected. Please change the shape of y to (n_samples, ), for example using ravel().\n",
      "  y = column_or_1d(y, warn=True)\n"
     ]
    },
    {
     "name": "stdout",
     "output_type": "stream",
     "text": [
      "-------------------------\n",
      "(11033, 188)\n",
      "(188, 1)\n",
      "-------------------------\n"
     ]
    },
    {
     "name": "stderr",
     "output_type": "stream",
     "text": [
      "/home/tk/Desktop/Studia/masters/env/lib/python3.10/site-packages/sklearn/linear_model/_sag.py:350: ConvergenceWarning: The max_iter was reached which means the coef_ did not converge\n",
      "  warnings.warn(\n",
      "/home/tk/Desktop/Studia/masters/env/lib/python3.10/site-packages/sklearn/utils/validation.py:1111: DataConversionWarning: A column-vector y was passed when a 1d array was expected. Please change the shape of y to (n_samples, ), for example using ravel().\n",
      "  y = column_or_1d(y, warn=True)\n"
     ]
    },
    {
     "name": "stdout",
     "output_type": "stream",
     "text": [
      "-------------------------\n",
      "(11033, 188)\n",
      "(188, 1)\n",
      "-------------------------\n"
     ]
    },
    {
     "name": "stderr",
     "output_type": "stream",
     "text": [
      "/home/tk/Desktop/Studia/masters/env/lib/python3.10/site-packages/sklearn/linear_model/_sag.py:350: ConvergenceWarning: The max_iter was reached which means the coef_ did not converge\n",
      "  warnings.warn(\n",
      "/home/tk/Desktop/Studia/masters/env/lib/python3.10/site-packages/sklearn/utils/validation.py:1111: DataConversionWarning: A column-vector y was passed when a 1d array was expected. Please change the shape of y to (n_samples, ), for example using ravel().\n",
      "  y = column_or_1d(y, warn=True)\n"
     ]
    },
    {
     "name": "stdout",
     "output_type": "stream",
     "text": [
      "-------------------------\n",
      "(11032, 188)\n",
      "(188, 1)\n",
      "-------------------------\n"
     ]
    },
    {
     "name": "stderr",
     "output_type": "stream",
     "text": [
      "/home/tk/Desktop/Studia/masters/env/lib/python3.10/site-packages/sklearn/linear_model/_sag.py:350: ConvergenceWarning: The max_iter was reached which means the coef_ did not converge\n",
      "  warnings.warn(\n",
      "/home/tk/Desktop/Studia/masters/env/lib/python3.10/site-packages/sklearn/utils/validation.py:1111: DataConversionWarning: A column-vector y was passed when a 1d array was expected. Please change the shape of y to (n_samples, ), for example using ravel().\n",
      "  y = column_or_1d(y, warn=True)\n"
     ]
    },
    {
     "name": "stdout",
     "output_type": "stream",
     "text": [
      "-------------------------\n",
      "(11032, 188)\n",
      "(188, 1)\n",
      "-------------------------\n"
     ]
    },
    {
     "name": "stderr",
     "output_type": "stream",
     "text": [
      "/home/tk/Desktop/Studia/masters/env/lib/python3.10/site-packages/sklearn/linear_model/_sag.py:350: ConvergenceWarning: The max_iter was reached which means the coef_ did not converge\n",
      "  warnings.warn(\n",
      "/home/tk/Desktop/Studia/masters/env/lib/python3.10/site-packages/sklearn/utils/validation.py:1111: DataConversionWarning: A column-vector y was passed when a 1d array was expected. Please change the shape of y to (n_samples, ), for example using ravel().\n",
      "  y = column_or_1d(y, warn=True)\n"
     ]
    },
    {
     "name": "stdout",
     "output_type": "stream",
     "text": [
      "-------------------------\n",
      "(11032, 188)\n",
      "(188, 1)\n",
      "-------------------------\n"
     ]
    },
    {
     "name": "stderr",
     "output_type": "stream",
     "text": [
      "/home/tk/Desktop/Studia/masters/env/lib/python3.10/site-packages/sklearn/linear_model/_sag.py:350: ConvergenceWarning: The max_iter was reached which means the coef_ did not converge\n",
      "  warnings.warn(\n",
      "/home/tk/Desktop/Studia/masters/env/lib/python3.10/site-packages/sklearn/utils/validation.py:1111: DataConversionWarning: A column-vector y was passed when a 1d array was expected. Please change the shape of y to (n_samples, ), for example using ravel().\n",
      "  y = column_or_1d(y, warn=True)\n"
     ]
    },
    {
     "name": "stdout",
     "output_type": "stream",
     "text": [
      "-------------------------\n",
      "(11033, 188)\n",
      "(188, 1)\n",
      "-------------------------\n"
     ]
    },
    {
     "name": "stderr",
     "output_type": "stream",
     "text": [
      "/home/tk/Desktop/Studia/masters/env/lib/python3.10/site-packages/sklearn/linear_model/_sag.py:350: ConvergenceWarning: The max_iter was reached which means the coef_ did not converge\n",
      "  warnings.warn(\n",
      "/home/tk/Desktop/Studia/masters/env/lib/python3.10/site-packages/sklearn/utils/validation.py:1111: DataConversionWarning: A column-vector y was passed when a 1d array was expected. Please change the shape of y to (n_samples, ), for example using ravel().\n",
      "  y = column_or_1d(y, warn=True)\n"
     ]
    },
    {
     "name": "stdout",
     "output_type": "stream",
     "text": [
      "-------------------------\n",
      "(11033, 188)\n",
      "(188, 1)\n",
      "-------------------------\n"
     ]
    },
    {
     "name": "stderr",
     "output_type": "stream",
     "text": [
      "/home/tk/Desktop/Studia/masters/env/lib/python3.10/site-packages/sklearn/linear_model/_sag.py:350: ConvergenceWarning: The max_iter was reached which means the coef_ did not converge\n",
      "  warnings.warn(\n",
      "/home/tk/Desktop/Studia/masters/env/lib/python3.10/site-packages/sklearn/utils/validation.py:1111: DataConversionWarning: A column-vector y was passed when a 1d array was expected. Please change the shape of y to (n_samples, ), for example using ravel().\n",
      "  y = column_or_1d(y, warn=True)\n"
     ]
    },
    {
     "name": "stdout",
     "output_type": "stream",
     "text": [
      "-------------------------\n",
      "(11032, 188)\n",
      "(188, 1)\n",
      "-------------------------\n"
     ]
    },
    {
     "name": "stderr",
     "output_type": "stream",
     "text": [
      "/home/tk/Desktop/Studia/masters/env/lib/python3.10/site-packages/sklearn/linear_model/_sag.py:350: ConvergenceWarning: The max_iter was reached which means the coef_ did not converge\n",
      "  warnings.warn(\n",
      "/home/tk/Desktop/Studia/masters/env/lib/python3.10/site-packages/sklearn/utils/validation.py:1111: DataConversionWarning: A column-vector y was passed when a 1d array was expected. Please change the shape of y to (n_samples, ), for example using ravel().\n",
      "  y = column_or_1d(y, warn=True)\n"
     ]
    },
    {
     "name": "stdout",
     "output_type": "stream",
     "text": [
      "-------------------------\n",
      "(11032, 188)\n",
      "(188, 1)\n",
      "-------------------------\n"
     ]
    },
    {
     "name": "stderr",
     "output_type": "stream",
     "text": [
      "/home/tk/Desktop/Studia/masters/env/lib/python3.10/site-packages/sklearn/linear_model/_sag.py:350: ConvergenceWarning: The max_iter was reached which means the coef_ did not converge\n",
      "  warnings.warn(\n",
      "/home/tk/Desktop/Studia/masters/env/lib/python3.10/site-packages/sklearn/utils/validation.py:1111: DataConversionWarning: A column-vector y was passed when a 1d array was expected. Please change the shape of y to (n_samples, ), for example using ravel().\n",
      "  y = column_or_1d(y, warn=True)\n"
     ]
    },
    {
     "name": "stdout",
     "output_type": "stream",
     "text": [
      "-------------------------\n",
      "(11032, 188)\n",
      "(188, 1)\n",
      "-------------------------\n",
      "-------------------------\n",
      "(11033, 188)\n",
      "(188, 1)\n",
      "-------------------------\n"
     ]
    },
    {
     "name": "stderr",
     "output_type": "stream",
     "text": [
      "/home/tk/Desktop/Studia/masters/env/lib/python3.10/site-packages/sklearn/utils/validation.py:1111: DataConversionWarning: A column-vector y was passed when a 1d array was expected. Please change the shape of y to (n_samples, ), for example using ravel().\n",
      "  y = column_or_1d(y, warn=True)\n"
     ]
    },
    {
     "name": "stdout",
     "output_type": "stream",
     "text": [
      "-------------------------\n",
      "(11033, 188)\n",
      "(188, 1)\n",
      "-------------------------\n"
     ]
    },
    {
     "name": "stderr",
     "output_type": "stream",
     "text": [
      "/home/tk/Desktop/Studia/masters/env/lib/python3.10/site-packages/sklearn/utils/validation.py:1111: DataConversionWarning: A column-vector y was passed when a 1d array was expected. Please change the shape of y to (n_samples, ), for example using ravel().\n",
      "  y = column_or_1d(y, warn=True)\n"
     ]
    },
    {
     "name": "stdout",
     "output_type": "stream",
     "text": [
      "-------------------------\n",
      "(11032, 188)\n",
      "(188, 1)\n",
      "-------------------------\n"
     ]
    },
    {
     "name": "stderr",
     "output_type": "stream",
     "text": [
      "/home/tk/Desktop/Studia/masters/env/lib/python3.10/site-packages/sklearn/utils/validation.py:1111: DataConversionWarning: A column-vector y was passed when a 1d array was expected. Please change the shape of y to (n_samples, ), for example using ravel().\n",
      "  y = column_or_1d(y, warn=True)\n"
     ]
    },
    {
     "name": "stdout",
     "output_type": "stream",
     "text": [
      "-------------------------\n",
      "(11032, 188)\n",
      "(188, 1)\n",
      "-------------------------\n"
     ]
    },
    {
     "name": "stderr",
     "output_type": "stream",
     "text": [
      "/home/tk/Desktop/Studia/masters/env/lib/python3.10/site-packages/sklearn/utils/validation.py:1111: DataConversionWarning: A column-vector y was passed when a 1d array was expected. Please change the shape of y to (n_samples, ), for example using ravel().\n",
      "  y = column_or_1d(y, warn=True)\n"
     ]
    },
    {
     "name": "stdout",
     "output_type": "stream",
     "text": [
      "-------------------------\n",
      "(11032, 188)\n",
      "(188, 1)\n",
      "-------------------------\n"
     ]
    },
    {
     "name": "stderr",
     "output_type": "stream",
     "text": [
      "/home/tk/Desktop/Studia/masters/env/lib/python3.10/site-packages/sklearn/utils/validation.py:1111: DataConversionWarning: A column-vector y was passed when a 1d array was expected. Please change the shape of y to (n_samples, ), for example using ravel().\n",
      "  y = column_or_1d(y, warn=True)\n"
     ]
    },
    {
     "name": "stdout",
     "output_type": "stream",
     "text": [
      "-------------------------\n",
      "(11033, 188)\n",
      "(188, 1)\n",
      "-------------------------\n"
     ]
    },
    {
     "name": "stderr",
     "output_type": "stream",
     "text": [
      "/home/tk/Desktop/Studia/masters/env/lib/python3.10/site-packages/sklearn/utils/validation.py:1111: DataConversionWarning: A column-vector y was passed when a 1d array was expected. Please change the shape of y to (n_samples, ), for example using ravel().\n",
      "  y = column_or_1d(y, warn=True)\n"
     ]
    },
    {
     "name": "stdout",
     "output_type": "stream",
     "text": [
      "-------------------------\n",
      "(11033, 188)\n",
      "(188, 1)\n",
      "-------------------------\n"
     ]
    },
    {
     "name": "stderr",
     "output_type": "stream",
     "text": [
      "/home/tk/Desktop/Studia/masters/env/lib/python3.10/site-packages/sklearn/utils/validation.py:1111: DataConversionWarning: A column-vector y was passed when a 1d array was expected. Please change the shape of y to (n_samples, ), for example using ravel().\n",
      "  y = column_or_1d(y, warn=True)\n"
     ]
    },
    {
     "name": "stdout",
     "output_type": "stream",
     "text": [
      "-------------------------\n",
      "(11032, 188)\n",
      "(188, 1)\n",
      "-------------------------\n"
     ]
    },
    {
     "name": "stderr",
     "output_type": "stream",
     "text": [
      "/home/tk/Desktop/Studia/masters/env/lib/python3.10/site-packages/sklearn/utils/validation.py:1111: DataConversionWarning: A column-vector y was passed when a 1d array was expected. Please change the shape of y to (n_samples, ), for example using ravel().\n",
      "  y = column_or_1d(y, warn=True)\n"
     ]
    },
    {
     "name": "stdout",
     "output_type": "stream",
     "text": [
      "-------------------------\n",
      "(11032, 188)\n",
      "(188, 1)\n",
      "-------------------------\n"
     ]
    },
    {
     "name": "stderr",
     "output_type": "stream",
     "text": [
      "/home/tk/Desktop/Studia/masters/env/lib/python3.10/site-packages/sklearn/utils/validation.py:1111: DataConversionWarning: A column-vector y was passed when a 1d array was expected. Please change the shape of y to (n_samples, ), for example using ravel().\n",
      "  y = column_or_1d(y, warn=True)\n"
     ]
    },
    {
     "name": "stdout",
     "output_type": "stream",
     "text": [
      "-------------------------\n",
      "(11032, 188)\n",
      "(188, 1)\n",
      "-------------------------\n"
     ]
    },
    {
     "name": "stderr",
     "output_type": "stream",
     "text": [
      "/home/tk/Desktop/Studia/masters/env/lib/python3.10/site-packages/sklearn/utils/validation.py:1111: DataConversionWarning: A column-vector y was passed when a 1d array was expected. Please change the shape of y to (n_samples, ), for example using ravel().\n",
      "  y = column_or_1d(y, warn=True)\n"
     ]
    },
    {
     "name": "stdout",
     "output_type": "stream",
     "text": [
      "-------------------------\n",
      "(11033, 188)\n",
      "(188, 1)\n",
      "-------------------------\n"
     ]
    },
    {
     "name": "stderr",
     "output_type": "stream",
     "text": [
      "/home/tk/Desktop/Studia/masters/env/lib/python3.10/site-packages/sklearn/utils/validation.py:1111: DataConversionWarning: A column-vector y was passed when a 1d array was expected. Please change the shape of y to (n_samples, ), for example using ravel().\n",
      "  y = column_or_1d(y, warn=True)\n"
     ]
    },
    {
     "name": "stdout",
     "output_type": "stream",
     "text": [
      "-------------------------\n",
      "(11033, 188)\n",
      "(188, 1)\n",
      "-------------------------\n"
     ]
    },
    {
     "name": "stderr",
     "output_type": "stream",
     "text": [
      "/home/tk/Desktop/Studia/masters/env/lib/python3.10/site-packages/sklearn/utils/validation.py:1111: DataConversionWarning: A column-vector y was passed when a 1d array was expected. Please change the shape of y to (n_samples, ), for example using ravel().\n",
      "  y = column_or_1d(y, warn=True)\n"
     ]
    },
    {
     "name": "stdout",
     "output_type": "stream",
     "text": [
      "-------------------------\n",
      "(11032, 188)\n",
      "(188, 1)\n",
      "-------------------------\n"
     ]
    },
    {
     "name": "stderr",
     "output_type": "stream",
     "text": [
      "/home/tk/Desktop/Studia/masters/env/lib/python3.10/site-packages/sklearn/utils/validation.py:1111: DataConversionWarning: A column-vector y was passed when a 1d array was expected. Please change the shape of y to (n_samples, ), for example using ravel().\n",
      "  y = column_or_1d(y, warn=True)\n"
     ]
    },
    {
     "name": "stdout",
     "output_type": "stream",
     "text": [
      "-------------------------\n",
      "(11032, 188)\n",
      "(188, 1)\n",
      "-------------------------\n"
     ]
    },
    {
     "name": "stderr",
     "output_type": "stream",
     "text": [
      "/home/tk/Desktop/Studia/masters/env/lib/python3.10/site-packages/sklearn/utils/validation.py:1111: DataConversionWarning: A column-vector y was passed when a 1d array was expected. Please change the shape of y to (n_samples, ), for example using ravel().\n",
      "  y = column_or_1d(y, warn=True)\n"
     ]
    },
    {
     "name": "stdout",
     "output_type": "stream",
     "text": [
      "-------------------------\n",
      "(11032, 188)\n",
      "(188, 1)\n",
      "-------------------------\n"
     ]
    },
    {
     "name": "stderr",
     "output_type": "stream",
     "text": [
      "/home/tk/Desktop/Studia/masters/env/lib/python3.10/site-packages/sklearn/utils/validation.py:1111: DataConversionWarning: A column-vector y was passed when a 1d array was expected. Please change the shape of y to (n_samples, ), for example using ravel().\n",
      "  y = column_or_1d(y, warn=True)\n"
     ]
    },
    {
     "name": "stdout",
     "output_type": "stream",
     "text": [
      "-------------------------\n",
      "(11033, 188)\n",
      "(188, 1)\n",
      "-------------------------\n"
     ]
    },
    {
     "name": "stderr",
     "output_type": "stream",
     "text": [
      "/home/tk/Desktop/Studia/masters/env/lib/python3.10/site-packages/sklearn/utils/validation.py:1111: DataConversionWarning: A column-vector y was passed when a 1d array was expected. Please change the shape of y to (n_samples, ), for example using ravel().\n",
      "  y = column_or_1d(y, warn=True)\n"
     ]
    },
    {
     "name": "stdout",
     "output_type": "stream",
     "text": [
      "-------------------------\n",
      "(11033, 188)\n",
      "(188, 1)\n",
      "-------------------------\n"
     ]
    },
    {
     "name": "stderr",
     "output_type": "stream",
     "text": [
      "/home/tk/Desktop/Studia/masters/env/lib/python3.10/site-packages/sklearn/utils/validation.py:1111: DataConversionWarning: A column-vector y was passed when a 1d array was expected. Please change the shape of y to (n_samples, ), for example using ravel().\n",
      "  y = column_or_1d(y, warn=True)\n"
     ]
    },
    {
     "name": "stdout",
     "output_type": "stream",
     "text": [
      "-------------------------\n",
      "(11032, 188)\n",
      "(188, 1)\n",
      "-------------------------\n"
     ]
    },
    {
     "name": "stderr",
     "output_type": "stream",
     "text": [
      "/home/tk/Desktop/Studia/masters/env/lib/python3.10/site-packages/sklearn/utils/validation.py:1111: DataConversionWarning: A column-vector y was passed when a 1d array was expected. Please change the shape of y to (n_samples, ), for example using ravel().\n",
      "  y = column_or_1d(y, warn=True)\n"
     ]
    },
    {
     "name": "stdout",
     "output_type": "stream",
     "text": [
      "-------------------------\n",
      "(11032, 188)\n",
      "(188, 1)\n",
      "-------------------------\n"
     ]
    },
    {
     "name": "stderr",
     "output_type": "stream",
     "text": [
      "/home/tk/Desktop/Studia/masters/env/lib/python3.10/site-packages/sklearn/utils/validation.py:1111: DataConversionWarning: A column-vector y was passed when a 1d array was expected. Please change the shape of y to (n_samples, ), for example using ravel().\n",
      "  y = column_or_1d(y, warn=True)\n"
     ]
    },
    {
     "name": "stdout",
     "output_type": "stream",
     "text": [
      "-------------------------\n",
      "(11032, 188)\n",
      "(188, 1)\n",
      "-------------------------\n"
     ]
    },
    {
     "name": "stderr",
     "output_type": "stream",
     "text": [
      "/home/tk/Desktop/Studia/masters/env/lib/python3.10/site-packages/sklearn/utils/validation.py:1111: DataConversionWarning: A column-vector y was passed when a 1d array was expected. Please change the shape of y to (n_samples, ), for example using ravel().\n",
      "  y = column_or_1d(y, warn=True)\n"
     ]
    },
    {
     "name": "stdout",
     "output_type": "stream",
     "text": [
      "-------------------------\n",
      "(11033, 188)\n",
      "(188, 1)\n",
      "-------------------------\n"
     ]
    },
    {
     "name": "stderr",
     "output_type": "stream",
     "text": [
      "/home/tk/Desktop/Studia/masters/env/lib/python3.10/site-packages/sklearn/utils/validation.py:1111: DataConversionWarning: A column-vector y was passed when a 1d array was expected. Please change the shape of y to (n_samples, ), for example using ravel().\n",
      "  y = column_or_1d(y, warn=True)\n"
     ]
    },
    {
     "name": "stdout",
     "output_type": "stream",
     "text": [
      "-------------------------\n",
      "(11033, 188)\n",
      "(188, 1)\n",
      "-------------------------\n"
     ]
    },
    {
     "name": "stderr",
     "output_type": "stream",
     "text": [
      "/home/tk/Desktop/Studia/masters/env/lib/python3.10/site-packages/sklearn/utils/validation.py:1111: DataConversionWarning: A column-vector y was passed when a 1d array was expected. Please change the shape of y to (n_samples, ), for example using ravel().\n",
      "  y = column_or_1d(y, warn=True)\n"
     ]
    },
    {
     "name": "stdout",
     "output_type": "stream",
     "text": [
      "-------------------------\n",
      "(11032, 188)\n",
      "(188, 1)\n",
      "-------------------------\n"
     ]
    },
    {
     "name": "stderr",
     "output_type": "stream",
     "text": [
      "/home/tk/Desktop/Studia/masters/env/lib/python3.10/site-packages/sklearn/utils/validation.py:1111: DataConversionWarning: A column-vector y was passed when a 1d array was expected. Please change the shape of y to (n_samples, ), for example using ravel().\n",
      "  y = column_or_1d(y, warn=True)\n"
     ]
    },
    {
     "name": "stdout",
     "output_type": "stream",
     "text": [
      "-------------------------\n",
      "(11032, 188)\n",
      "(188, 1)\n",
      "-------------------------\n"
     ]
    },
    {
     "name": "stderr",
     "output_type": "stream",
     "text": [
      "/home/tk/Desktop/Studia/masters/env/lib/python3.10/site-packages/sklearn/utils/validation.py:1111: DataConversionWarning: A column-vector y was passed when a 1d array was expected. Please change the shape of y to (n_samples, ), for example using ravel().\n",
      "  y = column_or_1d(y, warn=True)\n"
     ]
    },
    {
     "name": "stdout",
     "output_type": "stream",
     "text": [
      "-------------------------\n",
      "(11032, 188)\n",
      "(188, 1)\n",
      "-------------------------\n"
     ]
    },
    {
     "name": "stderr",
     "output_type": "stream",
     "text": [
      "/home/tk/Desktop/Studia/masters/env/lib/python3.10/site-packages/sklearn/utils/validation.py:1111: DataConversionWarning: A column-vector y was passed when a 1d array was expected. Please change the shape of y to (n_samples, ), for example using ravel().\n",
      "  y = column_or_1d(y, warn=True)\n"
     ]
    },
    {
     "name": "stdout",
     "output_type": "stream",
     "text": [
      "-------------------------\n",
      "(11033, 188)\n",
      "(188, 1)\n",
      "-------------------------\n"
     ]
    },
    {
     "name": "stderr",
     "output_type": "stream",
     "text": [
      "/home/tk/Desktop/Studia/masters/env/lib/python3.10/site-packages/sklearn/utils/validation.py:1111: DataConversionWarning: A column-vector y was passed when a 1d array was expected. Please change the shape of y to (n_samples, ), for example using ravel().\n",
      "  y = column_or_1d(y, warn=True)\n"
     ]
    },
    {
     "name": "stdout",
     "output_type": "stream",
     "text": [
      "-------------------------\n",
      "(11033, 188)\n",
      "(188, 1)\n",
      "-------------------------\n"
     ]
    },
    {
     "name": "stderr",
     "output_type": "stream",
     "text": [
      "/home/tk/Desktop/Studia/masters/env/lib/python3.10/site-packages/sklearn/utils/validation.py:1111: DataConversionWarning: A column-vector y was passed when a 1d array was expected. Please change the shape of y to (n_samples, ), for example using ravel().\n",
      "  y = column_or_1d(y, warn=True)\n"
     ]
    },
    {
     "name": "stdout",
     "output_type": "stream",
     "text": [
      "-------------------------\n",
      "(11032, 188)\n",
      "(188, 1)\n",
      "-------------------------\n"
     ]
    },
    {
     "name": "stderr",
     "output_type": "stream",
     "text": [
      "/home/tk/Desktop/Studia/masters/env/lib/python3.10/site-packages/sklearn/utils/validation.py:1111: DataConversionWarning: A column-vector y was passed when a 1d array was expected. Please change the shape of y to (n_samples, ), for example using ravel().\n",
      "  y = column_or_1d(y, warn=True)\n"
     ]
    },
    {
     "name": "stdout",
     "output_type": "stream",
     "text": [
      "-------------------------\n",
      "(11032, 188)\n",
      "(188, 1)\n",
      "-------------------------\n"
     ]
    },
    {
     "name": "stderr",
     "output_type": "stream",
     "text": [
      "/home/tk/Desktop/Studia/masters/env/lib/python3.10/site-packages/sklearn/utils/validation.py:1111: DataConversionWarning: A column-vector y was passed when a 1d array was expected. Please change the shape of y to (n_samples, ), for example using ravel().\n",
      "  y = column_or_1d(y, warn=True)\n"
     ]
    },
    {
     "name": "stdout",
     "output_type": "stream",
     "text": [
      "-------------------------\n",
      "(11032, 188)\n",
      "(188, 1)\n",
      "-------------------------\n"
     ]
    },
    {
     "name": "stderr",
     "output_type": "stream",
     "text": [
      "/home/tk/Desktop/Studia/masters/env/lib/python3.10/site-packages/sklearn/utils/validation.py:1111: DataConversionWarning: A column-vector y was passed when a 1d array was expected. Please change the shape of y to (n_samples, ), for example using ravel().\n",
      "  y = column_or_1d(y, warn=True)\n"
     ]
    },
    {
     "name": "stdout",
     "output_type": "stream",
     "text": [
      "-------------------------\n",
      "(11033, 188)\n",
      "(188, 1)\n",
      "-------------------------\n"
     ]
    },
    {
     "name": "stderr",
     "output_type": "stream",
     "text": [
      "/home/tk/Desktop/Studia/masters/env/lib/python3.10/site-packages/sklearn/utils/validation.py:1111: DataConversionWarning: A column-vector y was passed when a 1d array was expected. Please change the shape of y to (n_samples, ), for example using ravel().\n",
      "  y = column_or_1d(y, warn=True)\n"
     ]
    },
    {
     "name": "stdout",
     "output_type": "stream",
     "text": [
      "-------------------------\n",
      "(11033, 188)\n",
      "(188, 1)\n",
      "-------------------------\n"
     ]
    },
    {
     "name": "stderr",
     "output_type": "stream",
     "text": [
      "/home/tk/Desktop/Studia/masters/env/lib/python3.10/site-packages/sklearn/utils/validation.py:1111: DataConversionWarning: A column-vector y was passed when a 1d array was expected. Please change the shape of y to (n_samples, ), for example using ravel().\n",
      "  y = column_or_1d(y, warn=True)\n"
     ]
    },
    {
     "name": "stdout",
     "output_type": "stream",
     "text": [
      "-------------------------\n",
      "(11032, 188)\n",
      "(188, 1)\n",
      "-------------------------\n"
     ]
    },
    {
     "name": "stderr",
     "output_type": "stream",
     "text": [
      "/home/tk/Desktop/Studia/masters/env/lib/python3.10/site-packages/sklearn/utils/validation.py:1111: DataConversionWarning: A column-vector y was passed when a 1d array was expected. Please change the shape of y to (n_samples, ), for example using ravel().\n",
      "  y = column_or_1d(y, warn=True)\n"
     ]
    },
    {
     "name": "stdout",
     "output_type": "stream",
     "text": [
      "-------------------------\n",
      "(11032, 188)\n",
      "(188, 1)\n",
      "-------------------------\n"
     ]
    },
    {
     "name": "stderr",
     "output_type": "stream",
     "text": [
      "/home/tk/Desktop/Studia/masters/env/lib/python3.10/site-packages/sklearn/utils/validation.py:1111: DataConversionWarning: A column-vector y was passed when a 1d array was expected. Please change the shape of y to (n_samples, ), for example using ravel().\n",
      "  y = column_or_1d(y, warn=True)\n"
     ]
    },
    {
     "name": "stdout",
     "output_type": "stream",
     "text": [
      "-------------------------\n",
      "(11032, 188)\n",
      "(188, 1)\n",
      "-------------------------\n"
     ]
    },
    {
     "name": "stderr",
     "output_type": "stream",
     "text": [
      "/home/tk/Desktop/Studia/masters/env/lib/python3.10/site-packages/sklearn/utils/validation.py:1111: DataConversionWarning: A column-vector y was passed when a 1d array was expected. Please change the shape of y to (n_samples, ), for example using ravel().\n",
      "  y = column_or_1d(y, warn=True)\n"
     ]
    },
    {
     "name": "stdout",
     "output_type": "stream",
     "text": [
      "-------------------------\n",
      "(11033, 188)\n",
      "(188, 1)\n",
      "-------------------------\n"
     ]
    },
    {
     "name": "stderr",
     "output_type": "stream",
     "text": [
      "/home/tk/Desktop/Studia/masters/env/lib/python3.10/site-packages/sklearn/utils/validation.py:1111: DataConversionWarning: A column-vector y was passed when a 1d array was expected. Please change the shape of y to (n_samples, ), for example using ravel().\n",
      "  y = column_or_1d(y, warn=True)\n"
     ]
    },
    {
     "name": "stdout",
     "output_type": "stream",
     "text": [
      "-------------------------\n",
      "(11033, 188)\n",
      "(188, 1)\n",
      "-------------------------\n"
     ]
    },
    {
     "name": "stderr",
     "output_type": "stream",
     "text": [
      "/home/tk/Desktop/Studia/masters/env/lib/python3.10/site-packages/sklearn/utils/validation.py:1111: DataConversionWarning: A column-vector y was passed when a 1d array was expected. Please change the shape of y to (n_samples, ), for example using ravel().\n",
      "  y = column_or_1d(y, warn=True)\n"
     ]
    },
    {
     "name": "stdout",
     "output_type": "stream",
     "text": [
      "-------------------------\n",
      "(11032, 188)\n",
      "(188, 1)\n",
      "-------------------------\n"
     ]
    },
    {
     "name": "stderr",
     "output_type": "stream",
     "text": [
      "/home/tk/Desktop/Studia/masters/env/lib/python3.10/site-packages/sklearn/utils/validation.py:1111: DataConversionWarning: A column-vector y was passed when a 1d array was expected. Please change the shape of y to (n_samples, ), for example using ravel().\n",
      "  y = column_or_1d(y, warn=True)\n"
     ]
    },
    {
     "name": "stdout",
     "output_type": "stream",
     "text": [
      "-------------------------\n",
      "(11032, 188)\n",
      "(188, 1)\n",
      "-------------------------\n"
     ]
    },
    {
     "name": "stderr",
     "output_type": "stream",
     "text": [
      "/home/tk/Desktop/Studia/masters/env/lib/python3.10/site-packages/sklearn/utils/validation.py:1111: DataConversionWarning: A column-vector y was passed when a 1d array was expected. Please change the shape of y to (n_samples, ), for example using ravel().\n",
      "  y = column_or_1d(y, warn=True)\n"
     ]
    },
    {
     "name": "stdout",
     "output_type": "stream",
     "text": [
      "-------------------------\n",
      "(11032, 188)\n",
      "(188, 1)\n",
      "-------------------------\n"
     ]
    },
    {
     "name": "stderr",
     "output_type": "stream",
     "text": [
      "/home/tk/Desktop/Studia/masters/env/lib/python3.10/site-packages/sklearn/model_selection/_validation.py:378: FitFailedWarning: \n",
      "10 fits failed out of a total of 75.\n",
      "The score on these train-test partitions for these parameters will be set to nan.\n",
      "If these failures are not expected, you can try to debug them by setting error_score='raise'.\n",
      "\n",
      "Below are more details about the failures:\n",
      "--------------------------------------------------------------------------------\n",
      "5 fits failed with the following error:\n",
      "Traceback (most recent call last):\n",
      "  File \"/home/tk/Desktop/Studia/masters/env/lib/python3.10/site-packages/sklearn/model_selection/_validation.py\", line 686, in _fit_and_score\n",
      "    estimator.fit(X_train, y_train, **fit_params)\n",
      "  File \"/home/tk/Desktop/Studia/masters/env/lib/python3.10/site-packages/sklearn/linear_model/_logistic.py\", line 1091, in fit\n",
      "    solver = _check_solver(self.solver, self.penalty, self.dual)\n",
      "  File \"/home/tk/Desktop/Studia/masters/env/lib/python3.10/site-packages/sklearn/linear_model/_logistic.py\", line 61, in _check_solver\n",
      "    raise ValueError(\n",
      "ValueError: Solver lbfgs supports only 'l2' or 'none' penalties, got elasticnet penalty.\n",
      "\n",
      "--------------------------------------------------------------------------------\n",
      "5 fits failed with the following error:\n",
      "Traceback (most recent call last):\n",
      "  File \"/home/tk/Desktop/Studia/masters/env/lib/python3.10/site-packages/sklearn/model_selection/_validation.py\", line 686, in _fit_and_score\n",
      "    estimator.fit(X_train, y_train, **fit_params)\n",
      "  File \"/home/tk/Desktop/Studia/masters/env/lib/python3.10/site-packages/sklearn/linear_model/_logistic.py\", line 1091, in fit\n",
      "    solver = _check_solver(self.solver, self.penalty, self.dual)\n",
      "  File \"/home/tk/Desktop/Studia/masters/env/lib/python3.10/site-packages/sklearn/linear_model/_logistic.py\", line 61, in _check_solver\n",
      "    raise ValueError(\n",
      "ValueError: Solver lbfgs supports only 'l2' or 'none' penalties, got l1 penalty.\n",
      "\n",
      "  warnings.warn(some_fits_failed_message, FitFailedWarning)\n",
      "/home/tk/Desktop/Studia/masters/env/lib/python3.10/site-packages/sklearn/model_selection/_search.py:953: UserWarning: One or more of the test scores are non-finite: [0.81287874 0.75171318 0.77196342 0.7489939  0.74946524 0.75171318\n",
      "        nan        nan 0.75171318 0.75171318 0.75171318 0.75171318\n",
      " 0.75171318 0.75171318 0.75171318]\n",
      "  warnings.warn(\n",
      "/home/tk/Desktop/Studia/masters/env/lib/python3.10/site-packages/sklearn/utils/validation.py:1111: DataConversionWarning: A column-vector y was passed when a 1d array was expected. Please change the shape of y to (n_samples, ), for example using ravel().\n",
      "  y = column_or_1d(y, warn=True)\n",
      "/home/tk/Desktop/Studia/masters/env/lib/python3.10/site-packages/scipy/optimize/linesearch.py:478: LineSearchWarning: The line search algorithm did not converge\n",
      "  warn('The line search algorithm did not converge', LineSearchWarning)\n",
      "/home/tk/Desktop/Studia/masters/env/lib/python3.10/site-packages/scipy/optimize/linesearch.py:327: LineSearchWarning: The line search algorithm did not converge\n",
      "  warn('The line search algorithm did not converge', LineSearchWarning)\n",
      "/home/tk/Desktop/Studia/masters/env/lib/python3.10/site-packages/sklearn/utils/optimize.py:210: ConvergenceWarning: newton-cg failed to converge. Increase the number of iterations.\n",
      "  warnings.warn(\n"
     ]
    },
    {
     "data": {
      "text/html": [
       "<style>#sk-container-id-2 {color: black;background-color: white;}#sk-container-id-2 pre{padding: 0;}#sk-container-id-2 div.sk-toggleable {background-color: white;}#sk-container-id-2 label.sk-toggleable__label {cursor: pointer;display: block;width: 100%;margin-bottom: 0;padding: 0.3em;box-sizing: border-box;text-align: center;}#sk-container-id-2 label.sk-toggleable__label-arrow:before {content: \"▸\";float: left;margin-right: 0.25em;color: #696969;}#sk-container-id-2 label.sk-toggleable__label-arrow:hover:before {color: black;}#sk-container-id-2 div.sk-estimator:hover label.sk-toggleable__label-arrow:before {color: black;}#sk-container-id-2 div.sk-toggleable__content {max-height: 0;max-width: 0;overflow: hidden;text-align: left;background-color: #f0f8ff;}#sk-container-id-2 div.sk-toggleable__content pre {margin: 0.2em;color: black;border-radius: 0.25em;background-color: #f0f8ff;}#sk-container-id-2 input.sk-toggleable__control:checked~div.sk-toggleable__content {max-height: 200px;max-width: 100%;overflow: auto;}#sk-container-id-2 input.sk-toggleable__control:checked~label.sk-toggleable__label-arrow:before {content: \"▾\";}#sk-container-id-2 div.sk-estimator input.sk-toggleable__control:checked~label.sk-toggleable__label {background-color: #d4ebff;}#sk-container-id-2 div.sk-label input.sk-toggleable__control:checked~label.sk-toggleable__label {background-color: #d4ebff;}#sk-container-id-2 input.sk-hidden--visually {border: 0;clip: rect(1px 1px 1px 1px);clip: rect(1px, 1px, 1px, 1px);height: 1px;margin: -1px;overflow: hidden;padding: 0;position: absolute;width: 1px;}#sk-container-id-2 div.sk-estimator {font-family: monospace;background-color: #f0f8ff;border: 1px dotted black;border-radius: 0.25em;box-sizing: border-box;margin-bottom: 0.5em;}#sk-container-id-2 div.sk-estimator:hover {background-color: #d4ebff;}#sk-container-id-2 div.sk-parallel-item::after {content: \"\";width: 100%;border-bottom: 1px solid gray;flex-grow: 1;}#sk-container-id-2 div.sk-label:hover label.sk-toggleable__label {background-color: #d4ebff;}#sk-container-id-2 div.sk-serial::before {content: \"\";position: absolute;border-left: 1px solid gray;box-sizing: border-box;top: 0;bottom: 0;left: 50%;z-index: 0;}#sk-container-id-2 div.sk-serial {display: flex;flex-direction: column;align-items: center;background-color: white;padding-right: 0.2em;padding-left: 0.2em;position: relative;}#sk-container-id-2 div.sk-item {position: relative;z-index: 1;}#sk-container-id-2 div.sk-parallel {display: flex;align-items: stretch;justify-content: center;background-color: white;position: relative;}#sk-container-id-2 div.sk-item::before, #sk-container-id-2 div.sk-parallel-item::before {content: \"\";position: absolute;border-left: 1px solid gray;box-sizing: border-box;top: 0;bottom: 0;left: 50%;z-index: -1;}#sk-container-id-2 div.sk-parallel-item {display: flex;flex-direction: column;z-index: 1;position: relative;background-color: white;}#sk-container-id-2 div.sk-parallel-item:first-child::after {align-self: flex-end;width: 50%;}#sk-container-id-2 div.sk-parallel-item:last-child::after {align-self: flex-start;width: 50%;}#sk-container-id-2 div.sk-parallel-item:only-child::after {width: 0;}#sk-container-id-2 div.sk-dashed-wrapped {border: 1px dashed gray;margin: 0 0.4em 0.5em 0.4em;box-sizing: border-box;padding-bottom: 0.4em;background-color: white;}#sk-container-id-2 div.sk-label label {font-family: monospace;font-weight: bold;display: inline-block;line-height: 1.2em;}#sk-container-id-2 div.sk-label-container {text-align: center;}#sk-container-id-2 div.sk-container {/* jupyter's `normalize.less` sets `[hidden] { display: none; }` but bootstrap.min.css set `[hidden] { display: none !important; }` so we also need the `!important` here to be able to override the default hidden behavior on the sphinx rendered scikit-learn.org. See: https://github.com/scikit-learn/scikit-learn/issues/21755 */display: inline-block !important;position: relative;}#sk-container-id-2 div.sk-text-repr-fallback {display: none;}</style><div id=\"sk-container-id-2\" class=\"sk-top-container\"><div class=\"sk-text-repr-fallback\"><pre>GridSearchCV(estimator=LogisticRegression(),\n",
       "             param_grid=[{&#x27;solver&#x27;: [&#x27;newton-cg&#x27;, &#x27;lbfgs&#x27;, &#x27;liblinear&#x27;, &#x27;sag&#x27;,\n",
       "                                     &#x27;saga&#x27;]},\n",
       "                         {&#x27;penalty&#x27;: [&#x27;none&#x27;, &#x27;elasticnet&#x27;, &#x27;l1&#x27;, &#x27;l2&#x27;]},\n",
       "                         {&#x27;C&#x27;: [0.001, 0.01, 0.1, 1, 10, 100]}])</pre><b>In a Jupyter environment, please rerun this cell to show the HTML representation or trust the notebook. <br />On GitHub, the HTML representation is unable to render, please try loading this page with nbviewer.org.</b></div><div class=\"sk-container\" hidden><div class=\"sk-item sk-dashed-wrapped\"><div class=\"sk-label-container\"><div class=\"sk-label sk-toggleable\"><input class=\"sk-toggleable__control sk-hidden--visually\" id=\"sk-estimator-id-4\" type=\"checkbox\" ><label for=\"sk-estimator-id-4\" class=\"sk-toggleable__label sk-toggleable__label-arrow\">GridSearchCV</label><div class=\"sk-toggleable__content\"><pre>GridSearchCV(estimator=LogisticRegression(),\n",
       "             param_grid=[{&#x27;solver&#x27;: [&#x27;newton-cg&#x27;, &#x27;lbfgs&#x27;, &#x27;liblinear&#x27;, &#x27;sag&#x27;,\n",
       "                                     &#x27;saga&#x27;]},\n",
       "                         {&#x27;penalty&#x27;: [&#x27;none&#x27;, &#x27;elasticnet&#x27;, &#x27;l1&#x27;, &#x27;l2&#x27;]},\n",
       "                         {&#x27;C&#x27;: [0.001, 0.01, 0.1, 1, 10, 100]}])</pre></div></div></div><div class=\"sk-parallel\"><div class=\"sk-parallel-item\"><div class=\"sk-item\"><div class=\"sk-label-container\"><div class=\"sk-label sk-toggleable\"><input class=\"sk-toggleable__control sk-hidden--visually\" id=\"sk-estimator-id-5\" type=\"checkbox\" ><label for=\"sk-estimator-id-5\" class=\"sk-toggleable__label sk-toggleable__label-arrow\">estimator: LogisticRegression</label><div class=\"sk-toggleable__content\"><pre>LogisticRegression()</pre></div></div></div><div class=\"sk-serial\"><div class=\"sk-item\"><div class=\"sk-estimator sk-toggleable\"><input class=\"sk-toggleable__control sk-hidden--visually\" id=\"sk-estimator-id-6\" type=\"checkbox\" ><label for=\"sk-estimator-id-6\" class=\"sk-toggleable__label sk-toggleable__label-arrow\">LogisticRegression</label><div class=\"sk-toggleable__content\"><pre>LogisticRegression()</pre></div></div></div></div></div></div></div></div></div></div>"
      ],
      "text/plain": [
       "GridSearchCV(estimator=LogisticRegression(),\n",
       "             param_grid=[{'solver': ['newton-cg', 'lbfgs', 'liblinear', 'sag',\n",
       "                                     'saga']},\n",
       "                         {'penalty': ['none', 'elasticnet', 'l1', 'l2']},\n",
       "                         {'C': [0.001, 0.01, 0.1, 1, 10, 100]}])"
      ]
     },
     "execution_count": 66,
     "metadata": {},
     "output_type": "execute_result"
    }
   ],
   "source": [
    "parameters = [{'solver': ['newton-cg', 'lbfgs', 'liblinear', 'sag', 'saga']},\n",
    "              {'penalty':['none', 'elasticnet', 'l1', 'l2']},\n",
    "              {'C':[0.001, 0.01, 0.1, 1, 10, 100]}]\n",
    "LogReg = LogisticRegression()\n",
    "clf = GridSearchCV(LogReg, parameters)\n",
    "clf.fit(X_train, y_train)"
   ]
  },
  {
   "cell_type": "code",
   "execution_count": 68,
   "id": "0c7d6d7a",
   "metadata": {},
   "outputs": [
    {
     "name": "stdout",
     "output_type": "stream",
     "text": [
      "-------------------------\n",
      "(27170, 188)\n",
      "(188, 1)\n",
      "-------------------------\n"
     ]
    }
   ],
   "source": [
    "y_hat_grid = clf.predict(X_test)"
   ]
  },
  {
   "cell_type": "code",
   "execution_count": 69,
   "id": "2ae03b3a",
   "metadata": {},
   "outputs": [
    {
     "data": {
      "text/plain": [
       "0.8170408538829591"
      ]
     },
     "execution_count": 69,
     "metadata": {},
     "output_type": "execute_result"
    }
   ],
   "source": [
    "accuracy_score(y_test, y_hat_grid)"
   ]
  },
  {
   "cell_type": "code",
   "execution_count": 70,
   "id": "e7111add",
   "metadata": {},
   "outputs": [
    {
     "data": {
      "text/plain": [
       "(0.8180574420669884, 0.8208076983998054, 0.816780093800073, None)"
      ]
     },
     "execution_count": 70,
     "metadata": {},
     "output_type": "execute_result"
    }
   ],
   "source": [
    "precision_recall_fscore_support(y_test, y_hat_grid, average='macro')"
   ]
  },
  {
   "cell_type": "code",
   "execution_count": 71,
   "id": "bd0c71e4",
   "metadata": {},
   "outputs": [
    {
     "data": {
      "text/plain": [
       "{'cv': None,\n",
       " 'error_score': nan,\n",
       " 'estimator__C': 1.0,\n",
       " 'estimator__class_weight': None,\n",
       " 'estimator__dual': False,\n",
       " 'estimator__fit_intercept': True,\n",
       " 'estimator__intercept_scaling': 1,\n",
       " 'estimator__l1_ratio': None,\n",
       " 'estimator__max_iter': 100,\n",
       " 'estimator__multi_class': 'auto',\n",
       " 'estimator__n_jobs': None,\n",
       " 'estimator__penalty': 'l2',\n",
       " 'estimator__random_state': None,\n",
       " 'estimator__solver': 'lbfgs',\n",
       " 'estimator__tol': 0.0001,\n",
       " 'estimator__verbose': 0,\n",
       " 'estimator__warm_start': False,\n",
       " 'estimator': LogisticRegression(),\n",
       " 'n_jobs': None,\n",
       " 'param_grid': [{'solver': ['newton-cg', 'lbfgs', 'liblinear', 'sag', 'saga']},\n",
       "  {'penalty': ['none', 'elasticnet', 'l1', 'l2']},\n",
       "  {'C': [0.001, 0.01, 0.1, 1, 10, 100]}],\n",
       " 'pre_dispatch': '2*n_jobs',\n",
       " 'refit': True,\n",
       " 'return_train_score': False,\n",
       " 'scoring': None,\n",
       " 'verbose': 0}"
      ]
     },
     "execution_count": 71,
     "metadata": {},
     "output_type": "execute_result"
    }
   ],
   "source": [
    "clf.get_params()"
   ]
  },
  {
   "cell_type": "markdown",
   "id": "4dfdbbdc",
   "metadata": {},
   "source": [
    "### Gradient Boost"
   ]
  },
  {
   "cell_type": "code",
   "execution_count": 72,
   "id": "9433efd6",
   "metadata": {},
   "outputs": [],
   "source": [
    "from sklearn.ensemble import GradientBoostingClassifier"
   ]
  },
  {
   "cell_type": "code",
   "execution_count": 78,
   "id": "c4e8f3c9",
   "metadata": {},
   "outputs": [
    {
     "name": "stdout",
     "output_type": "stream",
     "text": [
      "Fitting 5 folds for each of 40 candidates, totalling 200 fits\n",
      "[CV 1/5; 1/40] START learning_rate=0.01, max_depth=1, n_estimators=5............\n",
      "[CV 1/5; 1/40] END learning_rate=0.01, max_depth=1, n_estimators=5;, score=0.552 total time=   0.4s\n",
      "[CV 2/5; 1/40] START learning_rate=0.01, max_depth=1, n_estimators=5............\n",
      "[CV 2/5; 1/40] END learning_rate=0.01, max_depth=1, n_estimators=5;, score=0.552 total time=   0.4s\n",
      "[CV 3/5; 1/40] START learning_rate=0.01, max_depth=1, n_estimators=5............\n",
      "[CV 3/5; 1/40] END learning_rate=0.01, max_depth=1, n_estimators=5;, score=0.552 total time=   0.4s\n",
      "[CV 4/5; 1/40] START learning_rate=0.01, max_depth=1, n_estimators=5............\n",
      "[CV 4/5; 1/40] END learning_rate=0.01, max_depth=1, n_estimators=5;, score=0.552 total time=   0.4s\n",
      "[CV 5/5; 1/40] START learning_rate=0.01, max_depth=1, n_estimators=5............\n",
      "[CV 5/5; 1/40] END learning_rate=0.01, max_depth=1, n_estimators=5;, score=0.552 total time=   0.4s\n",
      "[CV 1/5; 2/40] START learning_rate=0.01, max_depth=1, n_estimators=50...........\n",
      "[CV 1/5; 2/40] END learning_rate=0.01, max_depth=1, n_estimators=50;, score=0.959 total time=   3.4s\n",
      "[CV 2/5; 2/40] START learning_rate=0.01, max_depth=1, n_estimators=50...........\n",
      "[CV 2/5; 2/40] END learning_rate=0.01, max_depth=1, n_estimators=50;, score=0.957 total time=   3.6s\n",
      "[CV 3/5; 2/40] START learning_rate=0.01, max_depth=1, n_estimators=50...........\n",
      "[CV 3/5; 2/40] END learning_rate=0.01, max_depth=1, n_estimators=50;, score=0.958 total time=   4.3s\n",
      "[CV 4/5; 2/40] START learning_rate=0.01, max_depth=1, n_estimators=50...........\n",
      "[CV 4/5; 2/40] END learning_rate=0.01, max_depth=1, n_estimators=50;, score=0.957 total time=   4.0s\n",
      "[CV 5/5; 2/40] START learning_rate=0.01, max_depth=1, n_estimators=50...........\n",
      "[CV 5/5; 2/40] END learning_rate=0.01, max_depth=1, n_estimators=50;, score=0.961 total time=   4.4s\n",
      "[CV 1/5; 3/40] START learning_rate=0.01, max_depth=3, n_estimators=5............\n",
      "[CV 1/5; 3/40] END learning_rate=0.01, max_depth=3, n_estimators=5;, score=0.552 total time=   1.7s\n",
      "[CV 2/5; 3/40] START learning_rate=0.01, max_depth=3, n_estimators=5............\n",
      "[CV 2/5; 3/40] END learning_rate=0.01, max_depth=3, n_estimators=5;, score=0.552 total time=   1.6s\n",
      "[CV 3/5; 3/40] START learning_rate=0.01, max_depth=3, n_estimators=5............\n",
      "[CV 3/5; 3/40] END learning_rate=0.01, max_depth=3, n_estimators=5;, score=0.552 total time=   1.3s\n",
      "[CV 4/5; 3/40] START learning_rate=0.01, max_depth=3, n_estimators=5............\n",
      "[CV 4/5; 3/40] END learning_rate=0.01, max_depth=3, n_estimators=5;, score=0.552 total time=   1.3s\n",
      "[CV 5/5; 3/40] START learning_rate=0.01, max_depth=3, n_estimators=5............\n",
      "[CV 5/5; 3/40] END learning_rate=0.01, max_depth=3, n_estimators=5;, score=0.552 total time=   1.2s\n",
      "[CV 1/5; 4/40] START learning_rate=0.01, max_depth=3, n_estimators=50...........\n",
      "[CV 1/5; 4/40] END learning_rate=0.01, max_depth=3, n_estimators=50;, score=0.969 total time=  15.9s\n",
      "[CV 2/5; 4/40] START learning_rate=0.01, max_depth=3, n_estimators=50...........\n",
      "[CV 2/5; 4/40] END learning_rate=0.01, max_depth=3, n_estimators=50;, score=0.966 total time=  15.0s\n",
      "[CV 3/5; 4/40] START learning_rate=0.01, max_depth=3, n_estimators=50...........\n",
      "[CV 3/5; 4/40] END learning_rate=0.01, max_depth=3, n_estimators=50;, score=0.967 total time=  11.6s\n",
      "[CV 4/5; 4/40] START learning_rate=0.01, max_depth=3, n_estimators=50...........\n",
      "[CV 4/5; 4/40] END learning_rate=0.01, max_depth=3, n_estimators=50;, score=0.967 total time=  11.6s\n",
      "[CV 5/5; 4/40] START learning_rate=0.01, max_depth=3, n_estimators=50...........\n",
      "[CV 5/5; 4/40] END learning_rate=0.01, max_depth=3, n_estimators=50;, score=0.968 total time=  12.2s\n",
      "[CV 1/5; 5/40] START learning_rate=0.01, max_depth=5, n_estimators=5............\n",
      "[CV 1/5; 5/40] END learning_rate=0.01, max_depth=5, n_estimators=5;, score=0.552 total time=   1.6s\n",
      "[CV 2/5; 5/40] START learning_rate=0.01, max_depth=5, n_estimators=5............\n",
      "[CV 2/5; 5/40] END learning_rate=0.01, max_depth=5, n_estimators=5;, score=0.552 total time=   1.6s\n",
      "[CV 3/5; 5/40] START learning_rate=0.01, max_depth=5, n_estimators=5............\n",
      "[CV 3/5; 5/40] END learning_rate=0.01, max_depth=5, n_estimators=5;, score=0.552 total time=   1.6s\n",
      "[CV 4/5; 5/40] START learning_rate=0.01, max_depth=5, n_estimators=5............\n",
      "[CV 4/5; 5/40] END learning_rate=0.01, max_depth=5, n_estimators=5;, score=0.552 total time=   1.5s\n",
      "[CV 5/5; 5/40] START learning_rate=0.01, max_depth=5, n_estimators=5............\n",
      "[CV 5/5; 5/40] END learning_rate=0.01, max_depth=5, n_estimators=5;, score=0.552 total time=   1.6s\n",
      "[CV 1/5; 6/40] START learning_rate=0.01, max_depth=5, n_estimators=50...........\n",
      "[CV 1/5; 6/40] END learning_rate=0.01, max_depth=5, n_estimators=50;, score=1.000 total time=  14.8s\n",
      "[CV 2/5; 6/40] START learning_rate=0.01, max_depth=5, n_estimators=50...........\n",
      "[CV 2/5; 6/40] END learning_rate=0.01, max_depth=5, n_estimators=50;, score=1.000 total time=  14.6s\n",
      "[CV 3/5; 6/40] START learning_rate=0.01, max_depth=5, n_estimators=50...........\n",
      "[CV 3/5; 6/40] END learning_rate=0.01, max_depth=5, n_estimators=50;, score=0.967 total time=  14.8s\n",
      "[CV 4/5; 6/40] START learning_rate=0.01, max_depth=5, n_estimators=50...........\n",
      "[CV 4/5; 6/40] END learning_rate=0.01, max_depth=5, n_estimators=50;, score=1.000 total time=  16.3s\n",
      "[CV 5/5; 6/40] START learning_rate=0.01, max_depth=5, n_estimators=50...........\n",
      "[CV 5/5; 6/40] END learning_rate=0.01, max_depth=5, n_estimators=50;, score=1.000 total time=  15.2s\n",
      "[CV 1/5; 7/40] START learning_rate=0.01, max_depth=8, n_estimators=5............\n",
      "[CV 1/5; 7/40] END learning_rate=0.01, max_depth=8, n_estimators=5;, score=0.552 total time=   2.1s\n",
      "[CV 2/5; 7/40] START learning_rate=0.01, max_depth=8, n_estimators=5............\n",
      "[CV 2/5; 7/40] END learning_rate=0.01, max_depth=8, n_estimators=5;, score=0.552 total time=   2.1s\n",
      "[CV 3/5; 7/40] START learning_rate=0.01, max_depth=8, n_estimators=5............\n",
      "[CV 3/5; 7/40] END learning_rate=0.01, max_depth=8, n_estimators=5;, score=0.552 total time=   2.1s\n",
      "[CV 4/5; 7/40] START learning_rate=0.01, max_depth=8, n_estimators=5............\n",
      "[CV 4/5; 7/40] END learning_rate=0.01, max_depth=8, n_estimators=5;, score=0.552 total time=   2.1s\n",
      "[CV 5/5; 7/40] START learning_rate=0.01, max_depth=8, n_estimators=5............\n",
      "[CV 5/5; 7/40] END learning_rate=0.01, max_depth=8, n_estimators=5;, score=0.552 total time=   2.1s\n",
      "[CV 1/5; 8/40] START learning_rate=0.01, max_depth=8, n_estimators=50...........\n",
      "[CV 1/5; 8/40] END learning_rate=0.01, max_depth=8, n_estimators=50;, score=0.995 total time=  20.0s\n",
      "[CV 2/5; 8/40] START learning_rate=0.01, max_depth=8, n_estimators=50...........\n",
      "[CV 2/5; 8/40] END learning_rate=0.01, max_depth=8, n_estimators=50;, score=0.996 total time=  19.7s\n",
      "[CV 3/5; 8/40] START learning_rate=0.01, max_depth=8, n_estimators=50...........\n",
      "[CV 3/5; 8/40] END learning_rate=0.01, max_depth=8, n_estimators=50;, score=0.996 total time=  20.1s\n",
      "[CV 4/5; 8/40] START learning_rate=0.01, max_depth=8, n_estimators=50...........\n",
      "[CV 4/5; 8/40] END learning_rate=0.01, max_depth=8, n_estimators=50;, score=0.994 total time=  20.0s\n",
      "[CV 5/5; 8/40] START learning_rate=0.01, max_depth=8, n_estimators=50...........\n",
      "[CV 5/5; 8/40] END learning_rate=0.01, max_depth=8, n_estimators=50;, score=0.996 total time=  20.0s\n",
      "[CV 1/5; 9/40] START learning_rate=0.1, max_depth=1, n_estimators=5.............\n",
      "[CV 1/5; 9/40] END learning_rate=0.1, max_depth=1, n_estimators=5;, score=0.959 total time=   0.5s\n",
      "[CV 2/5; 9/40] START learning_rate=0.1, max_depth=1, n_estimators=5.............\n",
      "[CV 2/5; 9/40] END learning_rate=0.1, max_depth=1, n_estimators=5;, score=0.957 total time=   0.5s\n",
      "[CV 3/5; 9/40] START learning_rate=0.1, max_depth=1, n_estimators=5.............\n",
      "[CV 3/5; 9/40] END learning_rate=0.1, max_depth=1, n_estimators=5;, score=0.958 total time=   0.5s\n",
      "[CV 4/5; 9/40] START learning_rate=0.1, max_depth=1, n_estimators=5.............\n",
      "[CV 4/5; 9/40] END learning_rate=0.1, max_depth=1, n_estimators=5;, score=0.957 total time=   0.5s\n",
      "[CV 5/5; 9/40] START learning_rate=0.1, max_depth=1, n_estimators=5.............\n",
      "[CV 5/5; 9/40] END learning_rate=0.1, max_depth=1, n_estimators=5;, score=0.961 total time=   0.5s\n",
      "[CV 1/5; 10/40] START learning_rate=0.1, max_depth=1, n_estimators=50...........\n"
     ]
    },
    {
     "name": "stdout",
     "output_type": "stream",
     "text": [
      "[CV 1/5; 10/40] END learning_rate=0.1, max_depth=1, n_estimators=50;, score=0.959 total time=   3.9s\n",
      "[CV 2/5; 10/40] START learning_rate=0.1, max_depth=1, n_estimators=50...........\n",
      "[CV 2/5; 10/40] END learning_rate=0.1, max_depth=1, n_estimators=50;, score=0.957 total time=   4.0s\n",
      "[CV 3/5; 10/40] START learning_rate=0.1, max_depth=1, n_estimators=50...........\n",
      "[CV 3/5; 10/40] END learning_rate=0.1, max_depth=1, n_estimators=50;, score=0.958 total time=   4.0s\n",
      "[CV 4/5; 10/40] START learning_rate=0.1, max_depth=1, n_estimators=50...........\n",
      "[CV 4/5; 10/40] END learning_rate=0.1, max_depth=1, n_estimators=50;, score=0.957 total time=   4.0s\n",
      "[CV 5/5; 10/40] START learning_rate=0.1, max_depth=1, n_estimators=50...........\n",
      "[CV 5/5; 10/40] END learning_rate=0.1, max_depth=1, n_estimators=50;, score=0.961 total time=   4.0s\n",
      "[CV 1/5; 11/40] START learning_rate=0.1, max_depth=3, n_estimators=5............\n",
      "[CV 1/5; 11/40] END learning_rate=0.1, max_depth=3, n_estimators=5;, score=0.969 total time=   1.1s\n",
      "[CV 2/5; 11/40] START learning_rate=0.1, max_depth=3, n_estimators=5............\n",
      "[CV 2/5; 11/40] END learning_rate=0.1, max_depth=3, n_estimators=5;, score=0.966 total time=   1.2s\n",
      "[CV 3/5; 11/40] START learning_rate=0.1, max_depth=3, n_estimators=5............\n",
      "[CV 3/5; 11/40] END learning_rate=0.1, max_depth=3, n_estimators=5;, score=0.967 total time=   1.2s\n",
      "[CV 4/5; 11/40] START learning_rate=0.1, max_depth=3, n_estimators=5............\n",
      "[CV 4/5; 11/40] END learning_rate=0.1, max_depth=3, n_estimators=5;, score=0.967 total time=   1.2s\n",
      "[CV 5/5; 11/40] START learning_rate=0.1, max_depth=3, n_estimators=5............\n",
      "[CV 5/5; 11/40] END learning_rate=0.1, max_depth=3, n_estimators=5;, score=0.968 total time=   1.2s\n",
      "[CV 1/5; 12/40] START learning_rate=0.1, max_depth=3, n_estimators=50...........\n",
      "[CV 1/5; 12/40] END learning_rate=0.1, max_depth=3, n_estimators=50;, score=1.000 total time=  11.1s\n",
      "[CV 2/5; 12/40] START learning_rate=0.1, max_depth=3, n_estimators=50...........\n",
      "[CV 2/5; 12/40] END learning_rate=0.1, max_depth=3, n_estimators=50;, score=1.000 total time=  11.1s\n",
      "[CV 3/5; 12/40] START learning_rate=0.1, max_depth=3, n_estimators=50...........\n",
      "[CV 3/5; 12/40] END learning_rate=0.1, max_depth=3, n_estimators=50;, score=1.000 total time=  11.6s\n",
      "[CV 4/5; 12/40] START learning_rate=0.1, max_depth=3, n_estimators=50...........\n",
      "[CV 4/5; 12/40] END learning_rate=0.1, max_depth=3, n_estimators=50;, score=1.000 total time=  11.6s\n",
      "[CV 5/5; 12/40] START learning_rate=0.1, max_depth=3, n_estimators=50...........\n",
      "[CV 5/5; 12/40] END learning_rate=0.1, max_depth=3, n_estimators=50;, score=1.000 total time=  10.8s\n",
      "[CV 1/5; 13/40] START learning_rate=0.1, max_depth=5, n_estimators=5............\n",
      "[CV 1/5; 13/40] END learning_rate=0.1, max_depth=5, n_estimators=5;, score=1.000 total time=   1.5s\n",
      "[CV 2/5; 13/40] START learning_rate=0.1, max_depth=5, n_estimators=5............\n",
      "[CV 2/5; 13/40] END learning_rate=0.1, max_depth=5, n_estimators=5;, score=0.995 total time=   1.7s\n",
      "[CV 3/5; 13/40] START learning_rate=0.1, max_depth=5, n_estimators=5............\n",
      "[CV 3/5; 13/40] END learning_rate=0.1, max_depth=5, n_estimators=5;, score=0.967 total time=   1.6s\n",
      "[CV 4/5; 13/40] START learning_rate=0.1, max_depth=5, n_estimators=5............\n",
      "[CV 4/5; 13/40] END learning_rate=0.1, max_depth=5, n_estimators=5;, score=0.989 total time=   1.6s\n",
      "[CV 5/5; 13/40] START learning_rate=0.1, max_depth=5, n_estimators=5............\n",
      "[CV 5/5; 13/40] END learning_rate=0.1, max_depth=5, n_estimators=5;, score=0.992 total time=   1.7s\n",
      "[CV 1/5; 14/40] START learning_rate=0.1, max_depth=5, n_estimators=50...........\n",
      "[CV 1/5; 14/40] END learning_rate=0.1, max_depth=5, n_estimators=50;, score=1.000 total time=  14.2s\n",
      "[CV 2/5; 14/40] START learning_rate=0.1, max_depth=5, n_estimators=50...........\n",
      "[CV 2/5; 14/40] END learning_rate=0.1, max_depth=5, n_estimators=50;, score=1.000 total time=  16.2s\n",
      "[CV 3/5; 14/40] START learning_rate=0.1, max_depth=5, n_estimators=50...........\n",
      "[CV 3/5; 14/40] END learning_rate=0.1, max_depth=5, n_estimators=50;, score=1.000 total time=  16.2s\n",
      "[CV 4/5; 14/40] START learning_rate=0.1, max_depth=5, n_estimators=50...........\n",
      "[CV 4/5; 14/40] END learning_rate=0.1, max_depth=5, n_estimators=50;, score=1.000 total time=  14.7s\n",
      "[CV 5/5; 14/40] START learning_rate=0.1, max_depth=5, n_estimators=50...........\n",
      "[CV 5/5; 14/40] END learning_rate=0.1, max_depth=5, n_estimators=50;, score=1.000 total time=  16.1s\n",
      "[CV 1/5; 15/40] START learning_rate=0.1, max_depth=8, n_estimators=5............\n",
      "[CV 1/5; 15/40] END learning_rate=0.1, max_depth=8, n_estimators=5;, score=0.995 total time=   2.0s\n",
      "[CV 2/5; 15/40] START learning_rate=0.1, max_depth=8, n_estimators=5............\n",
      "[CV 2/5; 15/40] END learning_rate=0.1, max_depth=8, n_estimators=5;, score=0.996 total time=   2.1s\n",
      "[CV 3/5; 15/40] START learning_rate=0.1, max_depth=8, n_estimators=5............\n",
      "[CV 3/5; 15/40] END learning_rate=0.1, max_depth=8, n_estimators=5;, score=0.997 total time=   2.1s\n",
      "[CV 4/5; 15/40] START learning_rate=0.1, max_depth=8, n_estimators=5............\n",
      "[CV 4/5; 15/40] END learning_rate=0.1, max_depth=8, n_estimators=5;, score=0.993 total time=   2.0s\n",
      "[CV 5/5; 15/40] START learning_rate=0.1, max_depth=8, n_estimators=5............\n",
      "[CV 5/5; 15/40] END learning_rate=0.1, max_depth=8, n_estimators=5;, score=0.996 total time=   2.2s\n",
      "[CV 1/5; 16/40] START learning_rate=0.1, max_depth=8, n_estimators=50...........\n",
      "[CV 1/5; 16/40] END learning_rate=0.1, max_depth=8, n_estimators=50;, score=1.000 total time=  19.5s\n",
      "[CV 2/5; 16/40] START learning_rate=0.1, max_depth=8, n_estimators=50...........\n",
      "[CV 2/5; 16/40] END learning_rate=0.1, max_depth=8, n_estimators=50;, score=1.000 total time=  19.9s\n",
      "[CV 3/5; 16/40] START learning_rate=0.1, max_depth=8, n_estimators=50...........\n",
      "[CV 3/5; 16/40] END learning_rate=0.1, max_depth=8, n_estimators=50;, score=1.000 total time=  20.8s\n",
      "[CV 4/5; 16/40] START learning_rate=0.1, max_depth=8, n_estimators=50...........\n",
      "[CV 4/5; 16/40] END learning_rate=0.1, max_depth=8, n_estimators=50;, score=1.000 total time=  21.5s\n",
      "[CV 5/5; 16/40] START learning_rate=0.1, max_depth=8, n_estimators=50...........\n",
      "[CV 5/5; 16/40] END learning_rate=0.1, max_depth=8, n_estimators=50;, score=1.000 total time=  19.9s\n",
      "[CV 1/5; 17/40] START learning_rate=1, max_depth=1, n_estimators=5..............\n",
      "[CV 1/5; 17/40] END learning_rate=1, max_depth=1, n_estimators=5;, score=0.959 total time=   0.5s\n",
      "[CV 2/5; 17/40] START learning_rate=1, max_depth=1, n_estimators=5..............\n",
      "[CV 2/5; 17/40] END learning_rate=1, max_depth=1, n_estimators=5;, score=0.956 total time=   0.5s\n",
      "[CV 3/5; 17/40] START learning_rate=1, max_depth=1, n_estimators=5..............\n",
      "[CV 3/5; 17/40] END learning_rate=1, max_depth=1, n_estimators=5;, score=0.958 total time=   0.5s\n",
      "[CV 4/5; 17/40] START learning_rate=1, max_depth=1, n_estimators=5..............\n",
      "[CV 4/5; 17/40] END learning_rate=1, max_depth=1, n_estimators=5;, score=0.957 total time=   0.5s\n",
      "[CV 5/5; 17/40] START learning_rate=1, max_depth=1, n_estimators=5..............\n",
      "[CV 5/5; 17/40] END learning_rate=1, max_depth=1, n_estimators=5;, score=0.961 total time=   0.5s\n",
      "[CV 1/5; 18/40] START learning_rate=1, max_depth=1, n_estimators=50.............\n",
      "[CV 1/5; 18/40] END learning_rate=1, max_depth=1, n_estimators=50;, score=1.000 total time=   4.0s\n",
      "[CV 2/5; 18/40] START learning_rate=1, max_depth=1, n_estimators=50.............\n",
      "[CV 2/5; 18/40] END learning_rate=1, max_depth=1, n_estimators=50;, score=1.000 total time=   4.3s\n",
      "[CV 3/5; 18/40] START learning_rate=1, max_depth=1, n_estimators=50.............\n",
      "[CV 3/5; 18/40] END learning_rate=1, max_depth=1, n_estimators=50;, score=1.000 total time=   3.9s\n",
      "[CV 4/5; 18/40] START learning_rate=1, max_depth=1, n_estimators=50.............\n",
      "[CV 4/5; 18/40] END learning_rate=1, max_depth=1, n_estimators=50;, score=1.000 total time=   3.9s\n",
      "[CV 5/5; 18/40] START learning_rate=1, max_depth=1, n_estimators=50.............\n",
      "[CV 5/5; 18/40] END learning_rate=1, max_depth=1, n_estimators=50;, score=1.000 total time=   3.9s\n",
      "[CV 1/5; 19/40] START learning_rate=1, max_depth=3, n_estimators=5..............\n",
      "[CV 1/5; 19/40] END learning_rate=1, max_depth=3, n_estimators=5;, score=1.000 total time=   1.1s\n",
      "[CV 2/5; 19/40] START learning_rate=1, max_depth=3, n_estimators=5..............\n"
     ]
    },
    {
     "name": "stdout",
     "output_type": "stream",
     "text": [
      "[CV 2/5; 19/40] END learning_rate=1, max_depth=3, n_estimators=5;, score=1.000 total time=   1.2s\n",
      "[CV 3/5; 19/40] START learning_rate=1, max_depth=3, n_estimators=5..............\n",
      "[CV 3/5; 19/40] END learning_rate=1, max_depth=3, n_estimators=5;, score=1.000 total time=   1.3s\n",
      "[CV 4/5; 19/40] START learning_rate=1, max_depth=3, n_estimators=5..............\n",
      "[CV 4/5; 19/40] END learning_rate=1, max_depth=3, n_estimators=5;, score=1.000 total time=   1.2s\n",
      "[CV 5/5; 19/40] START learning_rate=1, max_depth=3, n_estimators=5..............\n",
      "[CV 5/5; 19/40] END learning_rate=1, max_depth=3, n_estimators=5;, score=1.000 total time=   1.2s\n",
      "[CV 1/5; 20/40] START learning_rate=1, max_depth=3, n_estimators=50.............\n",
      "[CV 1/5; 20/40] END learning_rate=1, max_depth=3, n_estimators=50;, score=1.000 total time=   4.0s\n",
      "[CV 2/5; 20/40] START learning_rate=1, max_depth=3, n_estimators=50.............\n",
      "[CV 2/5; 20/40] END learning_rate=1, max_depth=3, n_estimators=50;, score=1.000 total time=   4.1s\n",
      "[CV 3/5; 20/40] START learning_rate=1, max_depth=3, n_estimators=50.............\n",
      "[CV 3/5; 20/40] END learning_rate=1, max_depth=3, n_estimators=50;, score=1.000 total time=   4.0s\n",
      "[CV 4/5; 20/40] START learning_rate=1, max_depth=3, n_estimators=50.............\n",
      "[CV 4/5; 20/40] END learning_rate=1, max_depth=3, n_estimators=50;, score=1.000 total time=   4.0s\n",
      "[CV 5/5; 20/40] START learning_rate=1, max_depth=3, n_estimators=50.............\n",
      "[CV 5/5; 20/40] END learning_rate=1, max_depth=3, n_estimators=50;, score=1.000 total time=   4.0s\n",
      "[CV 1/5; 21/40] START learning_rate=1, max_depth=5, n_estimators=5..............\n",
      "[CV 1/5; 21/40] END learning_rate=1, max_depth=5, n_estimators=5;, score=1.000 total time=   1.7s\n",
      "[CV 2/5; 21/40] START learning_rate=1, max_depth=5, n_estimators=5..............\n",
      "[CV 2/5; 21/40] END learning_rate=1, max_depth=5, n_estimators=5;, score=1.000 total time=   1.7s\n",
      "[CV 3/5; 21/40] START learning_rate=1, max_depth=5, n_estimators=5..............\n",
      "[CV 3/5; 21/40] END learning_rate=1, max_depth=5, n_estimators=5;, score=1.000 total time=   1.7s\n",
      "[CV 4/5; 21/40] START learning_rate=1, max_depth=5, n_estimators=5..............\n",
      "[CV 4/5; 21/40] END learning_rate=1, max_depth=5, n_estimators=5;, score=1.000 total time=   1.7s\n",
      "[CV 5/5; 21/40] START learning_rate=1, max_depth=5, n_estimators=5..............\n",
      "[CV 5/5; 21/40] END learning_rate=1, max_depth=5, n_estimators=5;, score=1.000 total time=   1.7s\n",
      "[CV 1/5; 22/40] START learning_rate=1, max_depth=5, n_estimators=50.............\n",
      "[CV 1/5; 22/40] END learning_rate=1, max_depth=5, n_estimators=50;, score=1.000 total time=   5.5s\n",
      "[CV 2/5; 22/40] START learning_rate=1, max_depth=5, n_estimators=50.............\n",
      "[CV 2/5; 22/40] END learning_rate=1, max_depth=5, n_estimators=50;, score=1.000 total time=   5.6s\n",
      "[CV 3/5; 22/40] START learning_rate=1, max_depth=5, n_estimators=50.............\n",
      "[CV 3/5; 22/40] END learning_rate=1, max_depth=5, n_estimators=50;, score=1.000 total time=   5.5s\n",
      "[CV 4/5; 22/40] START learning_rate=1, max_depth=5, n_estimators=50.............\n",
      "[CV 4/5; 22/40] END learning_rate=1, max_depth=5, n_estimators=50;, score=1.000 total time=   5.4s\n",
      "[CV 5/5; 22/40] START learning_rate=1, max_depth=5, n_estimators=50.............\n",
      "[CV 5/5; 22/40] END learning_rate=1, max_depth=5, n_estimators=50;, score=1.000 total time=   5.5s\n",
      "[CV 1/5; 23/40] START learning_rate=1, max_depth=8, n_estimators=5..............\n",
      "[CV 1/5; 23/40] END learning_rate=1, max_depth=8, n_estimators=5;, score=1.000 total time=   2.3s\n",
      "[CV 2/5; 23/40] START learning_rate=1, max_depth=8, n_estimators=5..............\n",
      "[CV 2/5; 23/40] END learning_rate=1, max_depth=8, n_estimators=5;, score=1.000 total time=   2.2s\n",
      "[CV 3/5; 23/40] START learning_rate=1, max_depth=8, n_estimators=5..............\n",
      "[CV 3/5; 23/40] END learning_rate=1, max_depth=8, n_estimators=5;, score=1.000 total time=   2.1s\n",
      "[CV 4/5; 23/40] START learning_rate=1, max_depth=8, n_estimators=5..............\n",
      "[CV 4/5; 23/40] END learning_rate=1, max_depth=8, n_estimators=5;, score=1.000 total time=   2.1s\n",
      "[CV 5/5; 23/40] START learning_rate=1, max_depth=8, n_estimators=5..............\n",
      "[CV 5/5; 23/40] END learning_rate=1, max_depth=8, n_estimators=5;, score=1.000 total time=   2.2s\n",
      "[CV 1/5; 24/40] START learning_rate=1, max_depth=8, n_estimators=50.............\n",
      "[CV 1/5; 24/40] END learning_rate=1, max_depth=8, n_estimators=50;, score=1.000 total time=   7.4s\n",
      "[CV 2/5; 24/40] START learning_rate=1, max_depth=8, n_estimators=50.............\n",
      "[CV 2/5; 24/40] END learning_rate=1, max_depth=8, n_estimators=50;, score=1.000 total time=   7.5s\n",
      "[CV 3/5; 24/40] START learning_rate=1, max_depth=8, n_estimators=50.............\n",
      "[CV 3/5; 24/40] END learning_rate=1, max_depth=8, n_estimators=50;, score=1.000 total time=   7.4s\n",
      "[CV 4/5; 24/40] START learning_rate=1, max_depth=8, n_estimators=50.............\n",
      "[CV 4/5; 24/40] END learning_rate=1, max_depth=8, n_estimators=50;, score=1.000 total time=   7.3s\n",
      "[CV 5/5; 24/40] START learning_rate=1, max_depth=8, n_estimators=50.............\n",
      "[CV 5/5; 24/40] END learning_rate=1, max_depth=8, n_estimators=50;, score=1.000 total time=   7.6s\n",
      "[CV 1/5; 25/40] START learning_rate=10, max_depth=1, n_estimators=5.............\n",
      "[CV 1/5; 25/40] END learning_rate=10, max_depth=1, n_estimators=5;, score=0.768 total time=   0.5s\n",
      "[CV 2/5; 25/40] START learning_rate=10, max_depth=1, n_estimators=5.............\n",
      "[CV 2/5; 25/40] END learning_rate=10, max_depth=1, n_estimators=5;, score=0.769 total time=   0.5s\n",
      "[CV 3/5; 25/40] START learning_rate=10, max_depth=1, n_estimators=5.............\n",
      "[CV 3/5; 25/40] END learning_rate=10, max_depth=1, n_estimators=5;, score=0.448 total time=   0.5s\n",
      "[CV 4/5; 25/40] START learning_rate=10, max_depth=1, n_estimators=5.............\n",
      "[CV 4/5; 25/40] END learning_rate=10, max_depth=1, n_estimators=5;, score=0.448 total time=   0.5s\n",
      "[CV 5/5; 25/40] START learning_rate=10, max_depth=1, n_estimators=5.............\n",
      "[CV 5/5; 25/40] END learning_rate=10, max_depth=1, n_estimators=5;, score=0.769 total time=   0.5s\n",
      "[CV 1/5; 26/40] START learning_rate=10, max_depth=1, n_estimators=50............\n",
      "[CV 1/5; 26/40] END learning_rate=10, max_depth=1, n_estimators=50;, score=0.768 total time=   3.9s\n",
      "[CV 2/5; 26/40] START learning_rate=10, max_depth=1, n_estimators=50............\n",
      "[CV 2/5; 26/40] END learning_rate=10, max_depth=1, n_estimators=50;, score=0.769 total time=   4.0s\n",
      "[CV 3/5; 26/40] START learning_rate=10, max_depth=1, n_estimators=50............\n",
      "[CV 3/5; 26/40] END learning_rate=10, max_depth=1, n_estimators=50;, score=0.448 total time=   4.0s\n",
      "[CV 4/5; 26/40] START learning_rate=10, max_depth=1, n_estimators=50............\n",
      "[CV 4/5; 26/40] END learning_rate=10, max_depth=1, n_estimators=50;, score=0.448 total time=   3.9s\n",
      "[CV 5/5; 26/40] START learning_rate=10, max_depth=1, n_estimators=50............\n",
      "[CV 5/5; 26/40] END learning_rate=10, max_depth=1, n_estimators=50;, score=0.769 total time=   4.1s\n",
      "[CV 1/5; 27/40] START learning_rate=10, max_depth=3, n_estimators=5.............\n",
      "[CV 1/5; 27/40] END learning_rate=10, max_depth=3, n_estimators=5;, score=0.386 total time=   1.2s\n",
      "[CV 2/5; 27/40] START learning_rate=10, max_depth=3, n_estimators=5.............\n",
      "[CV 2/5; 27/40] END learning_rate=10, max_depth=3, n_estimators=5;, score=0.242 total time=   1.1s\n",
      "[CV 3/5; 27/40] START learning_rate=10, max_depth=3, n_estimators=5.............\n",
      "[CV 3/5; 27/40] END learning_rate=10, max_depth=3, n_estimators=5;, score=0.597 total time=   1.1s\n",
      "[CV 4/5; 27/40] START learning_rate=10, max_depth=3, n_estimators=5.............\n",
      "[CV 4/5; 27/40] END learning_rate=10, max_depth=3, n_estimators=5;, score=0.045 total time=   1.2s\n",
      "[CV 5/5; 27/40] START learning_rate=10, max_depth=3, n_estimators=5.............\n",
      "[CV 5/5; 27/40] END learning_rate=10, max_depth=3, n_estimators=5;, score=0.052 total time=   1.2s\n",
      "[CV 1/5; 28/40] START learning_rate=10, max_depth=3, n_estimators=50............\n",
      "[CV 1/5; 28/40] END learning_rate=10, max_depth=3, n_estimators=50;, score=0.386 total time=  11.2s\n",
      "[CV 2/5; 28/40] START learning_rate=10, max_depth=3, n_estimators=50............\n",
      "[CV 2/5; 28/40] END learning_rate=10, max_depth=3, n_estimators=50;, score=0.242 total time=  10.1s\n",
      "[CV 3/5; 28/40] START learning_rate=10, max_depth=3, n_estimators=50............\n"
     ]
    },
    {
     "name": "stdout",
     "output_type": "stream",
     "text": [
      "[CV 3/5; 28/40] END learning_rate=10, max_depth=3, n_estimators=50;, score=0.597 total time=   9.9s\n",
      "[CV 4/5; 28/40] START learning_rate=10, max_depth=3, n_estimators=50............\n",
      "[CV 4/5; 28/40] END learning_rate=10, max_depth=3, n_estimators=50;, score=0.045 total time=   9.3s\n",
      "[CV 5/5; 28/40] START learning_rate=10, max_depth=3, n_estimators=50............\n",
      "[CV 5/5; 28/40] END learning_rate=10, max_depth=3, n_estimators=50;, score=0.052 total time=  10.0s\n",
      "[CV 1/5; 29/40] START learning_rate=10, max_depth=5, n_estimators=5.............\n",
      "[CV 1/5; 29/40] END learning_rate=10, max_depth=5, n_estimators=5;, score=0.763 total time=   1.1s\n",
      "[CV 2/5; 29/40] START learning_rate=10, max_depth=5, n_estimators=5.............\n",
      "[CV 2/5; 29/40] END learning_rate=10, max_depth=5, n_estimators=5;, score=0.622 total time=   1.7s\n",
      "[CV 3/5; 29/40] START learning_rate=10, max_depth=5, n_estimators=5.............\n",
      "[CV 3/5; 29/40] END learning_rate=10, max_depth=5, n_estimators=5;, score=0.552 total time=   1.4s\n",
      "[CV 4/5; 29/40] START learning_rate=10, max_depth=5, n_estimators=5.............\n",
      "[CV 4/5; 29/40] END learning_rate=10, max_depth=5, n_estimators=5;, score=0.321 total time=   1.7s\n",
      "[CV 5/5; 29/40] START learning_rate=10, max_depth=5, n_estimators=5.............\n",
      "[CV 5/5; 29/40] END learning_rate=10, max_depth=5, n_estimators=5;, score=1.000 total time=   1.3s\n",
      "[CV 1/5; 30/40] START learning_rate=10, max_depth=5, n_estimators=50............\n",
      "[CV 1/5; 30/40] END learning_rate=10, max_depth=5, n_estimators=50;, score=0.763 total time=   6.4s\n",
      "[CV 2/5; 30/40] START learning_rate=10, max_depth=5, n_estimators=50............\n",
      "[CV 2/5; 30/40] END learning_rate=10, max_depth=5, n_estimators=50;, score=0.622 total time=  17.1s\n",
      "[CV 3/5; 30/40] START learning_rate=10, max_depth=5, n_estimators=50............\n",
      "[CV 3/5; 30/40] END learning_rate=10, max_depth=5, n_estimators=50;, score=0.749 total time=   9.3s\n",
      "[CV 4/5; 30/40] START learning_rate=10, max_depth=5, n_estimators=50............\n",
      "[CV 4/5; 30/40] END learning_rate=10, max_depth=5, n_estimators=50;, score=0.466 total time=  15.9s\n",
      "[CV 5/5; 30/40] START learning_rate=10, max_depth=5, n_estimators=50............\n",
      "[CV 5/5; 30/40] END learning_rate=10, max_depth=5, n_estimators=50;, score=1.000 total time=   8.2s\n",
      "[CV 1/5; 31/40] START learning_rate=10, max_depth=8, n_estimators=5.............\n",
      "[CV 1/5; 31/40] END learning_rate=10, max_depth=8, n_estimators=5;, score=0.554 total time=   2.5s\n",
      "[CV 2/5; 31/40] START learning_rate=10, max_depth=8, n_estimators=5.............\n",
      "[CV 2/5; 31/40] END learning_rate=10, max_depth=8, n_estimators=5;, score=1.000 total time=   1.8s\n",
      "[CV 3/5; 31/40] START learning_rate=10, max_depth=8, n_estimators=5.............\n",
      "[CV 3/5; 31/40] END learning_rate=10, max_depth=8, n_estimators=5;, score=0.988 total time=   2.2s\n",
      "[CV 4/5; 31/40] START learning_rate=10, max_depth=8, n_estimators=5.............\n",
      "[CV 4/5; 31/40] END learning_rate=10, max_depth=8, n_estimators=5;, score=1.000 total time=   2.2s\n",
      "[CV 5/5; 31/40] START learning_rate=10, max_depth=8, n_estimators=5.............\n",
      "[CV 5/5; 31/40] END learning_rate=10, max_depth=8, n_estimators=5;, score=1.000 total time=   2.1s\n",
      "[CV 1/5; 32/40] START learning_rate=10, max_depth=8, n_estimators=50............\n",
      "[CV 1/5; 32/40] END learning_rate=10, max_depth=8, n_estimators=50;, score=0.554 total time=  20.9s\n",
      "[CV 2/5; 32/40] START learning_rate=10, max_depth=8, n_estimators=50............\n",
      "[CV 2/5; 32/40] END learning_rate=10, max_depth=8, n_estimators=50;, score=0.999 total time=   4.4s\n",
      "[CV 3/5; 32/40] START learning_rate=10, max_depth=8, n_estimators=50............\n",
      "[CV 3/5; 32/40] END learning_rate=10, max_depth=8, n_estimators=50;, score=0.988 total time=  16.0s\n",
      "[CV 4/5; 32/40] START learning_rate=10, max_depth=8, n_estimators=50............\n",
      "[CV 4/5; 32/40] END learning_rate=10, max_depth=8, n_estimators=50;, score=1.000 total time=  16.5s\n",
      "[CV 5/5; 32/40] START learning_rate=10, max_depth=8, n_estimators=50............\n",
      "[CV 5/5; 32/40] END learning_rate=10, max_depth=8, n_estimators=50;, score=1.000 total time=   6.1s\n",
      "[CV 1/5; 33/40] START learning_rate=100, max_depth=1, n_estimators=5............\n",
      "[CV 1/5; 33/40] END learning_rate=100, max_depth=1, n_estimators=5;, score=0.448 total time=   0.5s\n",
      "[CV 2/5; 33/40] START learning_rate=100, max_depth=1, n_estimators=5............\n",
      "[CV 2/5; 33/40] END learning_rate=100, max_depth=1, n_estimators=5;, score=0.448 total time=   0.5s\n",
      "[CV 3/5; 33/40] START learning_rate=100, max_depth=1, n_estimators=5............\n",
      "[CV 3/5; 33/40] END learning_rate=100, max_depth=1, n_estimators=5;, score=0.448 total time=   0.5s\n",
      "[CV 4/5; 33/40] START learning_rate=100, max_depth=1, n_estimators=5............\n",
      "[CV 4/5; 33/40] END learning_rate=100, max_depth=1, n_estimators=5;, score=0.448 total time=   0.5s\n",
      "[CV 5/5; 33/40] START learning_rate=100, max_depth=1, n_estimators=5............\n",
      "[CV 5/5; 33/40] END learning_rate=100, max_depth=1, n_estimators=5;, score=0.448 total time=   0.5s\n",
      "[CV 1/5; 34/40] START learning_rate=100, max_depth=1, n_estimators=50...........\n",
      "[CV 1/5; 34/40] END learning_rate=100, max_depth=1, n_estimators=50;, score=0.448 total time=   3.9s\n",
      "[CV 2/5; 34/40] START learning_rate=100, max_depth=1, n_estimators=50...........\n",
      "[CV 2/5; 34/40] END learning_rate=100, max_depth=1, n_estimators=50;, score=0.448 total time=   3.9s\n",
      "[CV 3/5; 34/40] START learning_rate=100, max_depth=1, n_estimators=50...........\n",
      "[CV 3/5; 34/40] END learning_rate=100, max_depth=1, n_estimators=50;, score=0.448 total time=   3.9s\n",
      "[CV 4/5; 34/40] START learning_rate=100, max_depth=1, n_estimators=50...........\n",
      "[CV 4/5; 34/40] END learning_rate=100, max_depth=1, n_estimators=50;, score=0.448 total time=   4.0s\n",
      "[CV 5/5; 34/40] START learning_rate=100, max_depth=1, n_estimators=50...........\n",
      "[CV 5/5; 34/40] END learning_rate=100, max_depth=1, n_estimators=50;, score=0.448 total time=   3.9s\n",
      "[CV 1/5; 35/40] START learning_rate=100, max_depth=3, n_estimators=5............\n",
      "[CV 1/5; 35/40] END learning_rate=100, max_depth=3, n_estimators=5;, score=0.429 total time=   1.2s\n",
      "[CV 2/5; 35/40] START learning_rate=100, max_depth=3, n_estimators=5............\n",
      "[CV 2/5; 35/40] END learning_rate=100, max_depth=3, n_estimators=5;, score=0.599 total time=   1.2s\n",
      "[CV 3/5; 35/40] START learning_rate=100, max_depth=3, n_estimators=5............\n",
      "[CV 3/5; 35/40] END learning_rate=100, max_depth=3, n_estimators=5;, score=0.596 total time=   1.1s\n",
      "[CV 4/5; 35/40] START learning_rate=100, max_depth=3, n_estimators=5............\n",
      "[CV 4/5; 35/40] END learning_rate=100, max_depth=3, n_estimators=5;, score=0.589 total time=   1.1s\n",
      "[CV 5/5; 35/40] START learning_rate=100, max_depth=3, n_estimators=5............\n",
      "[CV 5/5; 35/40] END learning_rate=100, max_depth=3, n_estimators=5;, score=0.600 total time=   1.1s\n",
      "[CV 1/5; 36/40] START learning_rate=100, max_depth=3, n_estimators=50...........\n",
      "[CV 1/5; 36/40] END learning_rate=100, max_depth=3, n_estimators=50;, score=0.429 total time=  10.6s\n",
      "[CV 2/5; 36/40] START learning_rate=100, max_depth=3, n_estimators=50...........\n",
      "[CV 2/5; 36/40] END learning_rate=100, max_depth=3, n_estimators=50;, score=0.599 total time=  10.4s\n",
      "[CV 3/5; 36/40] START learning_rate=100, max_depth=3, n_estimators=50...........\n",
      "[CV 3/5; 36/40] END learning_rate=100, max_depth=3, n_estimators=50;, score=0.596 total time=   9.9s\n",
      "[CV 4/5; 36/40] START learning_rate=100, max_depth=3, n_estimators=50...........\n",
      "[CV 4/5; 36/40] END learning_rate=100, max_depth=3, n_estimators=50;, score=0.589 total time=   9.3s\n",
      "[CV 5/5; 36/40] START learning_rate=100, max_depth=3, n_estimators=50...........\n",
      "[CV 5/5; 36/40] END learning_rate=100, max_depth=3, n_estimators=50;, score=0.600 total time=  10.0s\n",
      "[CV 1/5; 37/40] START learning_rate=100, max_depth=5, n_estimators=5............\n",
      "[CV 1/5; 37/40] END learning_rate=100, max_depth=5, n_estimators=5;, score=0.439 total time=   1.7s\n",
      "[CV 2/5; 37/40] START learning_rate=100, max_depth=5, n_estimators=5............\n",
      "[CV 2/5; 37/40] END learning_rate=100, max_depth=5, n_estimators=5;, score=0.245 total time=   1.6s\n",
      "[CV 3/5; 37/40] START learning_rate=100, max_depth=5, n_estimators=5............\n",
      "[CV 3/5; 37/40] END learning_rate=100, max_depth=5, n_estimators=5;, score=0.249 total time=   1.7s\n",
      "[CV 4/5; 37/40] START learning_rate=100, max_depth=5, n_estimators=5............\n"
     ]
    },
    {
     "name": "stdout",
     "output_type": "stream",
     "text": [
      "[CV 4/5; 37/40] END learning_rate=100, max_depth=5, n_estimators=5;, score=0.643 total time=   1.8s\n",
      "[CV 5/5; 37/40] START learning_rate=100, max_depth=5, n_estimators=5............\n",
      "[CV 5/5; 37/40] END learning_rate=100, max_depth=5, n_estimators=5;, score=0.714 total time=   1.4s\n",
      "[CV 1/5; 38/40] START learning_rate=100, max_depth=5, n_estimators=50...........\n",
      "[CV 1/5; 38/40] END learning_rate=100, max_depth=5, n_estimators=50;, score=0.439 total time=  16.0s\n",
      "[CV 2/5; 38/40] START learning_rate=100, max_depth=5, n_estimators=50...........\n",
      "[CV 2/5; 38/40] END learning_rate=100, max_depth=5, n_estimators=50;, score=0.245 total time=  14.2s\n",
      "[CV 3/5; 38/40] START learning_rate=100, max_depth=5, n_estimators=50...........\n",
      "[CV 3/5; 38/40] END learning_rate=100, max_depth=5, n_estimators=50;, score=0.249 total time=  14.5s\n",
      "[CV 4/5; 38/40] START learning_rate=100, max_depth=5, n_estimators=50...........\n",
      "[CV 4/5; 38/40] END learning_rate=100, max_depth=5, n_estimators=50;, score=0.643 total time=  15.0s\n",
      "[CV 5/5; 38/40] START learning_rate=100, max_depth=5, n_estimators=50...........\n",
      "[CV 5/5; 38/40] END learning_rate=100, max_depth=5, n_estimators=50;, score=0.714 total time=   8.8s\n",
      "[CV 1/5; 39/40] START learning_rate=100, max_depth=8, n_estimators=5............\n",
      "[CV 1/5; 39/40] END learning_rate=100, max_depth=8, n_estimators=5;, score=0.450 total time=   2.2s\n",
      "[CV 2/5; 39/40] START learning_rate=100, max_depth=8, n_estimators=5............\n",
      "[CV 2/5; 39/40] END learning_rate=100, max_depth=8, n_estimators=5;, score=0.551 total time=   2.1s\n",
      "[CV 3/5; 39/40] START learning_rate=100, max_depth=8, n_estimators=5............\n",
      "[CV 3/5; 39/40] END learning_rate=100, max_depth=8, n_estimators=5;, score=0.981 total time=   2.1s\n",
      "[CV 4/5; 39/40] START learning_rate=100, max_depth=8, n_estimators=5............\n",
      "[CV 4/5; 39/40] END learning_rate=100, max_depth=8, n_estimators=5;, score=0.995 total time=   2.2s\n",
      "[CV 5/5; 39/40] START learning_rate=100, max_depth=8, n_estimators=5............\n",
      "[CV 5/5; 39/40] END learning_rate=100, max_depth=8, n_estimators=5;, score=0.995 total time=   2.1s\n",
      "[CV 1/5; 40/40] START learning_rate=100, max_depth=8, n_estimators=50...........\n",
      "[CV 1/5; 40/40] END learning_rate=100, max_depth=8, n_estimators=50;, score=0.450 total time=  17.6s\n",
      "[CV 2/5; 40/40] START learning_rate=100, max_depth=8, n_estimators=50...........\n",
      "[CV 2/5; 40/40] END learning_rate=100, max_depth=8, n_estimators=50;, score=0.534 total time=  19.9s\n",
      "[CV 3/5; 40/40] START learning_rate=100, max_depth=8, n_estimators=50...........\n",
      "[CV 3/5; 40/40] END learning_rate=100, max_depth=8, n_estimators=50;, score=0.981 total time=  20.5s\n",
      "[CV 4/5; 40/40] START learning_rate=100, max_depth=8, n_estimators=50...........\n",
      "[CV 4/5; 40/40] END learning_rate=100, max_depth=8, n_estimators=50;, score=0.995 total time=  25.6s\n",
      "[CV 5/5; 40/40] START learning_rate=100, max_depth=8, n_estimators=50...........\n",
      "[CV 5/5; 40/40] END learning_rate=100, max_depth=8, n_estimators=50;, score=0.996 total time=  22.6s\n"
     ]
    },
    {
     "data": {
      "text/html": [
       "<style>#sk-container-id-3 {color: black;background-color: white;}#sk-container-id-3 pre{padding: 0;}#sk-container-id-3 div.sk-toggleable {background-color: white;}#sk-container-id-3 label.sk-toggleable__label {cursor: pointer;display: block;width: 100%;margin-bottom: 0;padding: 0.3em;box-sizing: border-box;text-align: center;}#sk-container-id-3 label.sk-toggleable__label-arrow:before {content: \"▸\";float: left;margin-right: 0.25em;color: #696969;}#sk-container-id-3 label.sk-toggleable__label-arrow:hover:before {color: black;}#sk-container-id-3 div.sk-estimator:hover label.sk-toggleable__label-arrow:before {color: black;}#sk-container-id-3 div.sk-toggleable__content {max-height: 0;max-width: 0;overflow: hidden;text-align: left;background-color: #f0f8ff;}#sk-container-id-3 div.sk-toggleable__content pre {margin: 0.2em;color: black;border-radius: 0.25em;background-color: #f0f8ff;}#sk-container-id-3 input.sk-toggleable__control:checked~div.sk-toggleable__content {max-height: 200px;max-width: 100%;overflow: auto;}#sk-container-id-3 input.sk-toggleable__control:checked~label.sk-toggleable__label-arrow:before {content: \"▾\";}#sk-container-id-3 div.sk-estimator input.sk-toggleable__control:checked~label.sk-toggleable__label {background-color: #d4ebff;}#sk-container-id-3 div.sk-label input.sk-toggleable__control:checked~label.sk-toggleable__label {background-color: #d4ebff;}#sk-container-id-3 input.sk-hidden--visually {border: 0;clip: rect(1px 1px 1px 1px);clip: rect(1px, 1px, 1px, 1px);height: 1px;margin: -1px;overflow: hidden;padding: 0;position: absolute;width: 1px;}#sk-container-id-3 div.sk-estimator {font-family: monospace;background-color: #f0f8ff;border: 1px dotted black;border-radius: 0.25em;box-sizing: border-box;margin-bottom: 0.5em;}#sk-container-id-3 div.sk-estimator:hover {background-color: #d4ebff;}#sk-container-id-3 div.sk-parallel-item::after {content: \"\";width: 100%;border-bottom: 1px solid gray;flex-grow: 1;}#sk-container-id-3 div.sk-label:hover label.sk-toggleable__label {background-color: #d4ebff;}#sk-container-id-3 div.sk-serial::before {content: \"\";position: absolute;border-left: 1px solid gray;box-sizing: border-box;top: 0;bottom: 0;left: 50%;z-index: 0;}#sk-container-id-3 div.sk-serial {display: flex;flex-direction: column;align-items: center;background-color: white;padding-right: 0.2em;padding-left: 0.2em;position: relative;}#sk-container-id-3 div.sk-item {position: relative;z-index: 1;}#sk-container-id-3 div.sk-parallel {display: flex;align-items: stretch;justify-content: center;background-color: white;position: relative;}#sk-container-id-3 div.sk-item::before, #sk-container-id-3 div.sk-parallel-item::before {content: \"\";position: absolute;border-left: 1px solid gray;box-sizing: border-box;top: 0;bottom: 0;left: 50%;z-index: -1;}#sk-container-id-3 div.sk-parallel-item {display: flex;flex-direction: column;z-index: 1;position: relative;background-color: white;}#sk-container-id-3 div.sk-parallel-item:first-child::after {align-self: flex-end;width: 50%;}#sk-container-id-3 div.sk-parallel-item:last-child::after {align-self: flex-start;width: 50%;}#sk-container-id-3 div.sk-parallel-item:only-child::after {width: 0;}#sk-container-id-3 div.sk-dashed-wrapped {border: 1px dashed gray;margin: 0 0.4em 0.5em 0.4em;box-sizing: border-box;padding-bottom: 0.4em;background-color: white;}#sk-container-id-3 div.sk-label label {font-family: monospace;font-weight: bold;display: inline-block;line-height: 1.2em;}#sk-container-id-3 div.sk-label-container {text-align: center;}#sk-container-id-3 div.sk-container {/* jupyter's `normalize.less` sets `[hidden] { display: none; }` but bootstrap.min.css set `[hidden] { display: none !important; }` so we also need the `!important` here to be able to override the default hidden behavior on the sphinx rendered scikit-learn.org. See: https://github.com/scikit-learn/scikit-learn/issues/21755 */display: inline-block !important;position: relative;}#sk-container-id-3 div.sk-text-repr-fallback {display: none;}</style><div id=\"sk-container-id-3\" class=\"sk-top-container\"><div class=\"sk-text-repr-fallback\"><pre>GridSearchCV(estimator=GradientBoostingClassifier(),\n",
       "             param_grid={&#x27;learning_rate&#x27;: [0.01, 0.1, 1, 10, 100],\n",
       "                         &#x27;max_depth&#x27;: [1, 3, 5, 8], &#x27;n_estimators&#x27;: [5, 50]},\n",
       "             scoring=&#x27;accuracy&#x27;, verbose=10)</pre><b>In a Jupyter environment, please rerun this cell to show the HTML representation or trust the notebook. <br />On GitHub, the HTML representation is unable to render, please try loading this page with nbviewer.org.</b></div><div class=\"sk-container\" hidden><div class=\"sk-item sk-dashed-wrapped\"><div class=\"sk-label-container\"><div class=\"sk-label sk-toggleable\"><input class=\"sk-toggleable__control sk-hidden--visually\" id=\"sk-estimator-id-7\" type=\"checkbox\" ><label for=\"sk-estimator-id-7\" class=\"sk-toggleable__label sk-toggleable__label-arrow\">GridSearchCV</label><div class=\"sk-toggleable__content\"><pre>GridSearchCV(estimator=GradientBoostingClassifier(),\n",
       "             param_grid={&#x27;learning_rate&#x27;: [0.01, 0.1, 1, 10, 100],\n",
       "                         &#x27;max_depth&#x27;: [1, 3, 5, 8], &#x27;n_estimators&#x27;: [5, 50]},\n",
       "             scoring=&#x27;accuracy&#x27;, verbose=10)</pre></div></div></div><div class=\"sk-parallel\"><div class=\"sk-parallel-item\"><div class=\"sk-item\"><div class=\"sk-label-container\"><div class=\"sk-label sk-toggleable\"><input class=\"sk-toggleable__control sk-hidden--visually\" id=\"sk-estimator-id-8\" type=\"checkbox\" ><label for=\"sk-estimator-id-8\" class=\"sk-toggleable__label sk-toggleable__label-arrow\">estimator: GradientBoostingClassifier</label><div class=\"sk-toggleable__content\"><pre>GradientBoostingClassifier()</pre></div></div></div><div class=\"sk-serial\"><div class=\"sk-item\"><div class=\"sk-estimator sk-toggleable\"><input class=\"sk-toggleable__control sk-hidden--visually\" id=\"sk-estimator-id-9\" type=\"checkbox\" ><label for=\"sk-estimator-id-9\" class=\"sk-toggleable__label sk-toggleable__label-arrow\">GradientBoostingClassifier</label><div class=\"sk-toggleable__content\"><pre>GradientBoostingClassifier()</pre></div></div></div></div></div></div></div></div></div></div>"
      ],
      "text/plain": [
       "GridSearchCV(estimator=GradientBoostingClassifier(),\n",
       "             param_grid={'learning_rate': [0.01, 0.1, 1, 10, 100],\n",
       "                         'max_depth': [1, 3, 5, 8], 'n_estimators': [5, 50]},\n",
       "             scoring='accuracy', verbose=10)"
      ]
     },
     "execution_count": 78,
     "metadata": {},
     "output_type": "execute_result"
    }
   ],
   "source": [
    "parameters = {\n",
    "    \"n_estimators\":[5,50],\n",
    "    \"max_depth\":[1,3,5,8],\n",
    "    \"learning_rate\":[0.01,0.1,1,10,100]\n",
    "}\n",
    "GBC = GradientBoostingClassifier()\n",
    "gbc_clf = GridSearchCV(GBC, parameters, scoring='accuracy', verbose=10)\n",
    "gbc_clf.fit(X_train, y_train.values.ravel())"
   ]
  },
  {
   "cell_type": "code",
   "execution_count": 85,
   "id": "9327acd6",
   "metadata": {},
   "outputs": [],
   "source": [
    "y_hat_gbc_grid = gbc_clf.predict(X_test)"
   ]
  },
  {
   "cell_type": "code",
   "execution_count": 87,
   "id": "49fe0169",
   "metadata": {},
   "outputs": [
    {
     "data": {
      "text/plain": [
       "1.0"
      ]
     },
     "execution_count": 87,
     "metadata": {},
     "output_type": "execute_result"
    }
   ],
   "source": [
    "accuracy_score(y_test, y_hat_gbc_grid)"
   ]
  },
  {
   "cell_type": "code",
   "execution_count": 89,
   "id": "aec453cb",
   "metadata": {},
   "outputs": [
    {
     "data": {
      "text/plain": [
       "(1.0, 1.0, 1.0, None)"
      ]
     },
     "execution_count": 89,
     "metadata": {},
     "output_type": "execute_result"
    }
   ],
   "source": [
    "precision_recall_fscore_support(y_test, y_hat_gbc_grid, average='macro')"
   ]
  },
  {
   "cell_type": "code",
   "execution_count": null,
   "id": "36ecbada",
   "metadata": {},
   "outputs": [],
   "source": []
  }
 ],
 "metadata": {
  "kernelspec": {
   "display_name": "Python 3.10.6 64-bit",
   "language": "python",
   "name": "python3"
  },
  "language_info": {
   "codemirror_mode": {
    "name": "ipython",
    "version": 3
   },
   "file_extension": ".py",
   "mimetype": "text/x-python",
   "name": "python",
   "nbconvert_exporter": "python",
   "pygments_lexer": "ipython3",
   "version": "3.10.6"
  },
  "vscode": {
   "interpreter": {
    "hash": "916dbcbb3f70747c44a77c7bcd40155683ae19c65e1c03b4aa3499c5328201f1"
   }
  }
 },
 "nbformat": 4,
 "nbformat_minor": 5
}
