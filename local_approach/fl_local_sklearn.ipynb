{
 "cells": [
  {
   "cell_type": "code",
   "execution_count": 27,
   "metadata": {},
   "outputs": [],
   "source": [
    "import pandas as pd\n",
    "import numpy as np\n",
    "from sklearn.linear_model import LogisticRegression\n",
    "from sklearn.model_selection import train_test_split\n",
    "from sklearn.metrics import precision_recall_fscore_support\n",
    "from sklearn.metrics import accuracy_score\n",
    "from sklearn.model_selection import GridSearchCV\n",
    "from client import Client"
   ]
  },
  {
   "cell_type": "code",
   "execution_count": 28,
   "metadata": {},
   "outputs": [],
   "source": [
    "#NODEs\n",
    "client1 = Client(\"node1\",\"0.0.0.0\")\n",
    "dataset = client1.load_data(\"../datasets/UNSW_NB15_training-set.csv\")\n",
    "client2 = Client(\"node2\",\"0.0.0.0\")\n",
    "client3 = Client(\"node3\",\"0.0.0.0\")\n",
    "\n",
    "clients = [client1, client2, client3]\n",
    "\n",
    "client1.preprocess_data(dataset)\n",
    "\n",
    "X = client1.x\n",
    "y = client1.y\n",
    "\n",
    "client1.x = X[:20000]\n",
    "client1.y = y[:20000]\n",
    "\n",
    "client2.x = X[20000:40000]\n",
    "client2.y = y[20000:40000]\n",
    "\n",
    "client3.x = X[40000:60000]\n",
    "client3.y = y[40000:60000]\n",
    "\n",
    "x_test = X[60000:]\n",
    "y_test = y[60000:]"
   ]
  },
  {
   "cell_type": "code",
   "execution_count": 30,
   "metadata": {},
   "outputs": [
    {
     "name": "stderr",
     "output_type": "stream",
     "text": [
      "/home/tk/.local/lib/python3.10/site-packages/sklearn/utils/validation.py:1111: DataConversionWarning: A column-vector y was passed when a 1d array was expected. Please change the shape of y to (n_samples, ), for example using ravel().\n",
      "  y = column_or_1d(y, warn=True)\n"
     ]
    },
    {
     "name": "stdout",
     "output_type": "stream",
     "text": [
      "Model accuracy: 0.9884848484848485\n",
      "Model f1 score: 0.994206433907608\n"
     ]
    },
    {
     "name": "stderr",
     "output_type": "stream",
     "text": [
      "/home/tk/.local/lib/python3.10/site-packages/sklearn/utils/validation.py:1111: DataConversionWarning: A column-vector y was passed when a 1d array was expected. Please change the shape of y to (n_samples, ), for example using ravel().\n",
      "  y = column_or_1d(y, warn=True)\n",
      "/home/tk/.local/lib/python3.10/site-packages/sklearn/linear_model/_logistic.py:444: ConvergenceWarning: lbfgs failed to converge (status=1):\n",
      "STOP: TOTAL NO. of ITERATIONS REACHED LIMIT.\n",
      "\n",
      "Increase the number of iterations (max_iter) or scale the data as shown in:\n",
      "    https://scikit-learn.org/stable/modules/preprocessing.html\n",
      "Please also refer to the documentation for alternative solver options:\n",
      "    https://scikit-learn.org/stable/modules/linear_model.html#logistic-regression\n",
      "  n_iter_i = _check_optimize_result(\n",
      "/home/tk/.local/lib/python3.10/site-packages/sklearn/utils/validation.py:1111: DataConversionWarning: A column-vector y was passed when a 1d array was expected. Please change the shape of y to (n_samples, ), for example using ravel().\n",
      "  y = column_or_1d(y, warn=True)\n"
     ]
    },
    {
     "name": "stdout",
     "output_type": "stream",
     "text": [
      "Model accuracy: 0.9978787878787879\n",
      "Model f1 score: 0.9935364727608494\n",
      "Model accuracy: 0.826060606060606\n",
      "Model f1 score: 0.9038364885240409\n"
     ]
    }
   ],
   "source": [
    "for client in clients:\n",
    "    client.train_model()\n",
    "    print(f'Model accuracy: {client.accuracy}')\n",
    "    print(f'Model f1 score: {client.F1}')"
   ]
  },
  {
   "cell_type": "code",
   "execution_count": 31,
   "metadata": {},
   "outputs": [
    {
     "name": "stdout",
     "output_type": "stream",
     "text": [
      "Starting new round!\n",
      "0.41513183576422164\n",
      "0.5115710418304079\n",
      "0.41461505621175465\n",
      "0.30949547851504744\n",
      "0.3813943204193763\n",
      "0.3091102010655762\n",
      "acc local:  0.26200071646068424\n",
      "acc fede:  0.7492835393157801\n",
      "f1 fl was better\n",
      "0.7492835393157801\n",
      "acc local:  0.7495522120723626\n",
      "acc fede:  0.7492835393157801\n",
      "f1 local was better\n",
      "0.7495522120723626\n",
      "acc local:  0.2632097438653054\n",
      "acc fede:  0.7492835393157801\n",
      "f1 fl was better\n",
      "0.7492835393157801\n",
      "++++++++++++++++++++++++++++++++++++\n",
      "Starting new round!\n",
      "0.5160342294061717\n",
      "0.5115710418304079\n",
      "0.5160342294061717\n",
      "0.33429711353674335\n",
      "0.3314057729265132\n",
      "0.33429711353674335\n",
      "acc local:  0.7492835393157801\n",
      "acc fede:  0.74964176965789\n",
      "f1 fl was better\n",
      "0.74964176965789\n",
      "acc local:  0.7495522120723626\n",
      "acc fede:  0.74964176965789\n",
      "f1 fl was better\n",
      "0.74964176965789\n",
      "acc local:  0.7492835393157801\n",
      "acc fede:  0.74964176965789\n",
      "f1 fl was better\n",
      "0.74964176965789\n",
      "++++++++++++++++++++++++++++++++++++\n",
      "Starting new round!\n",
      "0.5135299747672496\n",
      "0.5135299747672496\n",
      "0.5135299747672496\n",
      "0.33333333333333337\n",
      "0.33333333333333337\n",
      "0.33333333333333337\n",
      "acc local:  0.74964176965789\n",
      "acc fede:  0.74964176965789\n",
      "the same\n",
      "acc local:  0.74964176965789\n",
      "acc fede:  0.74964176965789\n",
      "the same\n",
      "acc local:  0.74964176965789\n",
      "acc fede:  0.74964176965789\n",
      "the same\n",
      "++++++++++++++++++++++++++++++++++++\n",
      "Starting new round!\n",
      "0.5135299747672496\n",
      "0.5135299747672496\n",
      "0.5135299747672496\n",
      "0.33333333333333337\n",
      "0.33333333333333337\n",
      "0.33333333333333337\n",
      "acc local:  0.74964176965789\n",
      "acc fede:  0.74964176965789\n",
      "the same\n",
      "acc local:  0.74964176965789\n",
      "acc fede:  0.74964176965789\n",
      "the same\n",
      "acc local:  0.74964176965789\n",
      "acc fede:  0.74964176965789\n",
      "the same\n",
      "++++++++++++++++++++++++++++++++++++\n",
      "Starting new round!\n",
      "0.5135299747672496\n",
      "0.5135299747672496\n",
      "0.5135299747672496\n",
      "0.33333333333333337\n",
      "0.33333333333333337\n",
      "0.33333333333333337\n",
      "acc local:  0.74964176965789\n",
      "acc fede:  0.74964176965789\n",
      "the same\n",
      "acc local:  0.74964176965789\n",
      "acc fede:  0.74964176965789\n",
      "the same\n",
      "acc local:  0.74964176965789\n",
      "acc fede:  0.74964176965789\n",
      "the same\n",
      "++++++++++++++++++++++++++++++++++++\n"
     ]
    }
   ],
   "source": [
    "number_of_rounds = 5\n",
    "for _ in range(number_of_rounds):\n",
    "    print(f'Starting new round!')\n",
    "    f1_local1 = client1.test_model_f1(y_test,x_test); print(f1_local1)\n",
    "    f1_local2 = client2.test_model_f1(y_test,x_test); print(f1_local2)\n",
    "    f1_local3 = client3.test_model_f1(y_test,x_test); print(f1_local3)\n",
    "    \n",
    "    w1 = f1_local1/(f1_local1+f1_local2+f1_local3); print(w1)\n",
    "    w2 = f1_local2/(f1_local1+f1_local2+f1_local3); print(w2)\n",
    "    w3 = f1_local3/(f1_local1+f1_local2+f1_local3); print(w3)\n",
    "    \n",
    "    intercept_fl = w1*client1.model.intercept_ + w2*client2.model.intercept_ + w3*client2.model.intercept_\n",
    "    coefs_fl = w1*client1.model.coef_ + w2*client2.model.coef_ + + w3*client2.model.coef_\n",
    "    \n",
    "    for client in clients:\n",
    "        f1_local = client.test_model_accuracy(y_test,x_test)\n",
    "        int_local = client.model.intercept_\n",
    "        coef_local = client.model.coef_\n",
    "        print(\"f1 local: \", f1_local)\n",
    "\n",
    "        client1.model.intercept_ = intercept_fl\n",
    "        client.model.coef_ = coefs_fl\n",
    "        f1_fede = client.test_model_accuracy(y_test,x_test)\n",
    "        print(\"f1 fede: \", f1_fede)\n",
    "        if f1_fede < f1_local:\n",
    "            client.model.intercept_ = int_local\n",
    "            client.model.coef_ = coef_local\n",
    "            print(\"f1 local was better\")\n",
    "            print(f1_local)\n",
    "\n",
    "        elif f1_fede == f1_local:\n",
    "            print(\"the same\")\n",
    "\n",
    "        else:\n",
    "            print(\"f1 fl was better\")\n",
    "            print(f1_fede)\n",
    "    print(f'++++++++++++++++++++++++++++++++++++')"
   ]
  },
  {
   "cell_type": "code",
   "execution_count": 13,
   "metadata": {},
   "outputs": [],
   "source": [
    "def init_global_model():\n",
    "    fedavg = Client(\"global\",\"1.1.1.1\")\n",
    "    fedavg.model = LogisticRegression(C=1.0, class_weight=None, dual=False, fit_intercept=True, intercept_scaling=1,\n",
    "                       l1_ratio=None, max_iter=100, multi_class='auto', n_jobs=None, penalty='l2', \n",
    "                       random_state=13, solver='lbfgs', tol=0.0001, verbose=0, warm_start=False)\n",
    "    fedavg.model.intercept_ = np.zeros(1)\n",
    "    fedavg.model.coef_ = np.zeros((1,X.shape[1]))\n",
    "    fedavg.classes_ = np.array([0,1])"
   ]
  },
  {
   "cell_type": "code",
   "execution_count": 22,
   "metadata": {},
   "outputs": [
    {
     "data": {
      "text/plain": [
       "0.7857575757575758"
      ]
     },
     "execution_count": 22,
     "metadata": {},
     "output_type": "execute_result"
    }
   ],
   "source": [
    "client1.accuracy\n",
    "client2.accuracy"
   ]
  },
  {
   "cell_type": "code",
   "execution_count": 23,
   "metadata": {},
   "outputs": [],
   "source": [
    "\n",
    "rounds = 50\n",
    "epochs = 10\n",
    "batch_size = 100"
   ]
  },
  {
   "cell_type": "code",
   "execution_count": 24,
   "metadata": {},
   "outputs": [],
   "source": [
    "sample_size = 2\n",
    "remove_agents = []"
   ]
  },
  {
   "cell_type": "code",
   "execution_count": null,
   "metadata": {},
   "outputs": [],
   "source": [
    "weights = []\n",
    "\n",
    "for client in clients:\n",
    "    n_samples = client.x.shape[0]\n",
    "    scan = sum(client.y[\"label\"] == 1)\n",
    "    w = n_samples / (2*scan)\n",
    "    weights.append(w)"
   ]
  },
  {
   "cell_type": "code",
   "execution_count": 26,
   "metadata": {},
   "outputs": [],
   "source": [
    "n_iterations = 50"
   ]
  },
  {
   "cell_type": "code",
   "execution_count": 28,
   "metadata": {},
   "outputs": [
    {
     "ename": "NameError",
     "evalue": "name 'init_global_model' is not defined",
     "output_type": "error",
     "traceback": [
      "\u001b[0;31m---------------------------------------------------------------------------\u001b[0m",
      "\u001b[0;31mNameError\u001b[0m                                 Traceback (most recent call last)",
      "\u001b[1;32m/home/tk/Desktop/Studia/masters/git-repo/local_approach/fl_local_sklearn.ipynb Cell 17\u001b[0m in \u001b[0;36m<cell line: 4>\u001b[0;34m()\u001b[0m\n\u001b[1;32m      <a href='vscode-notebook-cell:/home/tk/Desktop/Studia/masters/git-repo/local_approach/fl_local_sklearn.ipynb#X34sZmlsZQ%3D%3D?line=0'>1</a>\u001b[0m \u001b[39mimport\u001b[39;00m \u001b[39mrandom\u001b[39;00m\n\u001b[1;32m      <a href='vscode-notebook-cell:/home/tk/Desktop/Studia/masters/git-repo/local_approach/fl_local_sklearn.ipynb#X34sZmlsZQ%3D%3D?line=3'>4</a>\u001b[0m \u001b[39mfor\u001b[39;00m i \u001b[39min\u001b[39;00m \u001b[39mrange\u001b[39m(\u001b[39m0\u001b[39m,n_iterations):\n\u001b[0;32m----> <a href='vscode-notebook-cell:/home/tk/Desktop/Studia/masters/git-repo/local_approach/fl_local_sklearn.ipynb#X34sZmlsZQ%3D%3D?line=4'>5</a>\u001b[0m     init_global_model()\n\u001b[1;32m      <a href='vscode-notebook-cell:/home/tk/Desktop/Studia/masters/git-repo/local_approach/fl_local_sklearn.ipynb#X34sZmlsZQ%3D%3D?line=6'>7</a>\u001b[0m     \u001b[39mfor\u001b[39;00m r \u001b[39min\u001b[39;00m \u001b[39mrange\u001b[39m(rounds):\n\u001b[1;32m      <a href='vscode-notebook-cell:/home/tk/Desktop/Studia/masters/git-repo/local_approach/fl_local_sklearn.ipynb#X34sZmlsZQ%3D%3D?line=7'>8</a>\u001b[0m         applicable_agents \u001b[39m=\u001b[39m random\u001b[39m.\u001b[39msample(clients,k\u001b[39m=\u001b[39m\u001b[39m2\u001b[39m)\n",
      "\u001b[0;31mNameError\u001b[0m: name 'init_global_model' is not defined"
     ]
    }
   ],
   "source": [
    "import random\n",
    "\n",
    "\n",
    "for i in range(0,n_iterations):\n",
    "    init_global_model()\n",
    "\n",
    "    for r in range(rounds):\n",
    "        applicable_agents = random.sample(clients,k=2)\n",
    "\n",
    "        applicable_models = []\n",
    "        applicable_name = []\n",
    "\n",
    "        #weight average\n",
    "        round_weights = []\n",
    "        dataset_size = 0\n",
    "\n",
    "        for client in "
   ]
  }
 ],
 "metadata": {
  "kernelspec": {
   "display_name": "Python 3.10.4 64-bit",
   "language": "python",
   "name": "python3"
  },
  "language_info": {
   "codemirror_mode": {
    "name": "ipython",
    "version": 3
   },
   "file_extension": ".py",
   "mimetype": "text/x-python",
   "name": "python",
   "nbconvert_exporter": "python",
   "pygments_lexer": "ipython3",
   "version": "3.10.6"
  },
  "orig_nbformat": 4,
  "vscode": {
   "interpreter": {
    "hash": "916dbcbb3f70747c44a77c7bcd40155683ae19c65e1c03b4aa3499c5328201f1"
   }
  }
 },
 "nbformat": 4,
 "nbformat_minor": 2
}
