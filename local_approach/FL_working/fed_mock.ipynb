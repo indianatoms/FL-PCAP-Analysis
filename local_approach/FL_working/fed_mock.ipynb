{
 "cells": [
  {
   "cell_type": "code",
   "execution_count": 1,
   "metadata": {},
   "outputs": [],
   "source": [
    "import os\n",
    "import sys\n",
    "module_path = os.path.abspath(os.path.join('fede'))\n",
    "if module_path not in sys.path:\n",
    "    sys.path.append(module_path)\n",
    "# import pandas as pd\n",
    "from client import Client\n",
    "from supported_modles import Supported_modles\n",
    "import utils\n",
    "from fedavg import Fedavg\n",
    "from sklearn.utils.class_weight import compute_sample_weight\n",
    "import numpy as np\n",
    "import random"
   ]
  },
  {
   "cell_type": "code",
   "execution_count": 2,
   "metadata": {},
   "outputs": [],
   "source": [
    "def warn(*args, **kwargs):\n",
    "    pass\n",
    "import warnings\n",
    "warnings.warn = warn"
   ]
  },
  {
   "cell_type": "code",
   "execution_count": 3,
   "metadata": {},
   "outputs": [],
   "source": [
    "selected_model = Supported_modles.NN_classifier"
   ]
  },
  {
   "cell_type": "code",
   "execution_count": 4,
   "metadata": {},
   "outputs": [
    {
     "name": "stdout",
     "output_type": "stream",
     "text": [
      "Creating node1.\n",
      "Creating node2.\n",
      "Creating node3.\n",
      "70665\n",
      "139435\n",
      "119085\n",
      "103107\n",
      "249932\n",
      "9180\n",
      "DOWNSAMLING node3\n"
     ]
    }
   ],
   "source": [
    "clients = utils.set_data_mock(selected_model, True)"
   ]
  },
  {
   "cell_type": "code",
   "execution_count": 5,
   "metadata": {},
   "outputs": [],
   "source": [
    "# for client in clients:\n",
    "#     client.init_empty_model(epochs=50)\n",
    "#     client.train_model(epochs=50)\n",
    "#     score = client.test_model_f1()\n",
    "#     print(score)"
   ]
  },
  {
   "cell_type": "code",
   "execution_count": 24,
   "metadata": {},
   "outputs": [
    {
     "name": "stdout",
     "output_type": "stream",
     "text": [
      "0.9328640431347587\n",
      "0.8814088754847049\n",
      "0.9372570794003332\n"
     ]
    }
   ],
   "source": [
    "for client in clients:\n",
    "    client.init_empty_model(epochs=50)\n",
    "    data = client.fed_avg_prepare_data(epochs=10)\n",
    "    score = client.test_model_f1()\n",
    "    print(score)"
   ]
  },
  {
   "cell_type": "code",
   "execution_count": 50,
   "metadata": {},
   "outputs": [
    {
     "name": "stdout",
     "output_type": "stream",
     "text": [
      "loged in succesfully!\n",
      "200\n",
      "{\"message\":\"Model created\"}\n",
      "\n"
     ]
    }
   ],
   "source": [
    "clients[0].login_api()\n",
    "data = clients[0].fed_avg_prepare_data(epochs=10)\n",
    "clients[0].send_local_model(data)"
   ]
  },
  {
   "cell_type": "code",
   "execution_count": 51,
   "metadata": {},
   "outputs": [
    {
     "name": "stdout",
     "output_type": "stream",
     "text": [
      "loged in succesfully!\n",
      "200\n",
      "{\"message\":\"Model created\"}\n",
      "\n"
     ]
    }
   ],
   "source": [
    "clients[1].login_api()\n",
    "data = clients[1].fed_avg_prepare_data(epochs=10)\n",
    "clients[1].send_local_model(data)"
   ]
  },
  {
   "cell_type": "code",
   "execution_count": 52,
   "metadata": {},
   "outputs": [
    {
     "name": "stdout",
     "output_type": "stream",
     "text": [
      "loged in succesfully!\n",
      "200\n",
      "{\"message\":\"Model created\"}\n",
      "\n"
     ]
    }
   ],
   "source": [
    "clients[2].login_api()\n",
    "data = clients[2].fed_avg_prepare_data(epochs=10)\n",
    "clients[2].send_local_model(data)"
   ]
  },
  {
   "cell_type": "code",
   "execution_count": 54,
   "metadata": {},
   "outputs": [
    {
     "name": "stdout",
     "output_type": "stream",
     "text": [
      "loged in succesfully!\n",
      "0.7945866475666302\n",
      "Parameter containing:\n",
      "tensor([-9.0175e-05,  9.0175e-05], requires_grad=True)\n",
      "loged in succesfully!\n",
      "0.6597278543750563\n",
      "Parameter containing:\n",
      "tensor([-9.0175e-05,  9.0175e-05], requires_grad=True)\n",
      "loged in succesfully!\n",
      "0.9333333333333333\n",
      "Parameter containing:\n",
      "tensor([-9.0175e-05,  9.0175e-05], requires_grad=True)\n"
     ]
    }
   ],
   "source": [
    "for client in clients:\n",
    "    client.login_api()\n",
    "    client.get_global_model()\n",
    "    score = client.test_model_f1()\n",
    "    print(score)\n",
    "    print(client.model.fc3.bias)"
   ]
  },
  {
   "cell_type": "code",
   "execution_count": null,
   "metadata": {},
   "outputs": [],
   "source": []
  }
 ],
 "metadata": {
  "kernelspec": {
   "display_name": "Python 3.9.12 ('base')",
   "language": "python",
   "name": "python3"
  },
  "language_info": {
   "codemirror_mode": {
    "name": "ipython",
    "version": 3
   },
   "file_extension": ".py",
   "mimetype": "text/x-python",
   "name": "python",
   "nbconvert_exporter": "python",
   "pygments_lexer": "ipython3",
   "version": "3.9.12 (main, Apr  5 2022, 06:56:58) \n[GCC 7.5.0]"
  },
  "orig_nbformat": 4,
  "vscode": {
   "interpreter": {
    "hash": "a23a6e25f04d9f91b77ea4396a46e870b27d23d0696169b2210a13d1cc496850"
   }
  }
 },
 "nbformat": 4,
 "nbformat_minor": 2
}
