{
 "cells": [
  {
   "cell_type": "code",
   "execution_count": 22,
   "metadata": {},
   "outputs": [],
   "source": [
    "from client import Client\n",
    "from global_model import Global_model\n",
    "from sklearn.utils import shuffle\n",
    "from supported_modles import Supported_modles\n",
    "\n",
    "import random"
   ]
  },
  {
   "cell_type": "code",
   "execution_count": 23,
   "metadata": {},
   "outputs": [],
   "source": [
    "def warn(*args, **kwargs):\n",
    "    pass\n",
    "import warnings\n",
    "warnings.warn = warn"
   ]
  },
  {
   "cell_type": "code",
   "execution_count": 24,
   "metadata": {},
   "outputs": [],
   "source": [
    "selected_model = Supported_modles.MLP_classifier"
   ]
  },
  {
   "cell_type": "code",
   "execution_count": 25,
   "metadata": {},
   "outputs": [],
   "source": [
    "#NODEs\n",
    "client1 = Client(\"node1\",\"0.0.0.0\")\n",
    "dataset = client1.load_data(\"../../datasets/UNSW_NB15_training-set.csv\")\n",
    "client2 = Client(\"node2\",\"0.0.0.0\")\n",
    "client3 = Client(\"node3\",\"0.0.0.0\")\n",
    "client4 = Client(\"node4\",\"0.0.0.0\")\n",
    "\n",
    "dataset = shuffle(dataset)\n",
    "\n",
    "clients = [client1, client2, client3, client4 ]\n",
    "\n",
    "client1.preprocess_data(dataset)\n",
    "\n",
    "X = client1.x\n",
    "y = client1.y\n",
    "\n",
    "client1.x = X[:20000]\n",
    "client1.y = y[:20000]\n",
    "\n",
    "client2.x = X[20000:40000]\n",
    "client2.y = y[20000:40000]\n",
    "\n",
    "client3.x = X[40000:50000]\n",
    "client3.y = y[40000:50000]\n",
    "\n",
    "client4.x = X[60000:]\n",
    "client4.y = y[60000:]"
   ]
  },
  {
   "cell_type": "code",
   "execution_count": 26,
   "metadata": {},
   "outputs": [
    {
     "name": "stdout",
     "output_type": "stream",
     "text": [
      "11014\n",
      "Model accuracy: 0.9015151515151515\n",
      "Model f1 score: 0.9115646258503401\n",
      "11066\n",
      "Model accuracy: 0.9078787878787878\n",
      "Model f1 score: 0.9203771608171818\n",
      "5397\n",
      "Model accuracy: 0.9157575757575758\n",
      "Model f1 score: 0.9240851993446205\n",
      "12280\n",
      "Model accuracy: 0.9202170963364993\n",
      "Model f1 score: 0.9289855072463767\n"
     ]
    }
   ],
   "source": [
    "f1_before = []\n",
    "for client in clients:\n",
    "    print(client.y.sum())\n",
    "    client.split_data()\n",
    "    client.train_model(selected_model)\n",
    "    print(f'Model accuracy: {client.accuracy}')\n",
    "    print(f'Model f1 score: {client.F1}')\n",
    "    f1_before.append(client.F1)"
   ]
  },
  {
   "cell_type": "code",
   "execution_count": 27,
   "metadata": {},
   "outputs": [],
   "source": [
    "global_model = Global_model(selected_model)\n",
    "global_model.init_global_model(client1.x.shape[1], selected_model)"
   ]
  },
  {
   "cell_type": "code",
   "execution_count": 28,
   "metadata": {},
   "outputs": [
    {
     "name": "stdout",
     "output_type": "stream",
     "text": [
      "Starting new round!\n",
      "Weights: [0.32972327856541367, 0.3342521122048304, 0.3360246092297559]\n",
      "f1 local:  0.9115646258503401\n",
      "f1 fede:  0.8035153797865662\n",
      "f1 local was better\n",
      "f1 local:  0.9203771608171818\n",
      "f1 fede:  0.799755426475084\n",
      "f1 local was better\n",
      "f1 local:  0.9240851993446205\n",
      "f1 fede:  0.8032581453634084\n",
      "f1 local was better\n",
      "f1 local:  0.9289855072463767\n"
     ]
    },
    {
     "name": "stderr",
     "output_type": "stream",
     "text": [
      "/home/tk/.local/lib/python3.10/site-packages/numpy/lib/function_base.py:509: VisibleDeprecationWarning: Creating an ndarray from ragged nested sequences (which is a list-or-tuple of lists-or-tuples-or ndarrays with different lengths or shapes) is deprecated. If you meant to do this, you must specify 'dtype=object' when creating the ndarray.\n",
      "  a = np.asanyarray(a)\n"
     ]
    },
    {
     "name": "stdout",
     "output_type": "stream",
     "text": [
      "f1 fede:  0.8120155038759689\n",
      "f1 local was better\n",
      "++++++++++++++++++++++++++++++++++++++++++++++++++++++++++++++++++++++++++++++\n",
      "Starting new round!\n",
      "Weights: [0.33016611044403976, 0.33647590405375877, 0.33335798550220147]\n",
      "f1 local:  0.9115646258503401\n",
      "f1 fede:  0.7588527479570581\n",
      "f1 local was better\n",
      "f1 local:  0.9203771608171818\n",
      "f1 fede:  0.7573300062383032\n",
      "f1 local was better\n",
      "f1 local:  0.9240851993446205\n",
      "f1 fede:  0.7611749680715197\n",
      "f1 local was better\n"
     ]
    },
    {
     "name": "stderr",
     "output_type": "stream",
     "text": [
      "/home/tk/.local/lib/python3.10/site-packages/numpy/lib/function_base.py:509: VisibleDeprecationWarning: Creating an ndarray from ragged nested sequences (which is a list-or-tuple of lists-or-tuples-or ndarrays with different lengths or shapes) is deprecated. If you meant to do this, you must specify 'dtype=object' when creating the ndarray.\n",
      "  a = np.asanyarray(a)\n",
      "/home/tk/.local/lib/python3.10/site-packages/numpy/lib/function_base.py:509: VisibleDeprecationWarning: Creating an ndarray from ragged nested sequences (which is a list-or-tuple of lists-or-tuples-or ndarrays with different lengths or shapes) is deprecated. If you meant to do this, you must specify 'dtype=object' when creating the ndarray.\n",
      "  a = np.asanyarray(a)\n"
     ]
    },
    {
     "name": "stdout",
     "output_type": "stream",
     "text": [
      "f1 local:  0.9289855072463767\n",
      "f1 fede:  0.7649391107335032\n",
      "f1 local was better\n",
      "++++++++++++++++++++++++++++++++++++++++++++++++++++++++++++++++++++++++++++++\n",
      "Starting new round!\n",
      "Weights: [0.3318530597358174, 0.33319003764371796, 0.3349569026204646]\n",
      "f1 local:  0.9115646258503401\n",
      "f1 fede:  0.759823903473015\n",
      "f1 local was better\n",
      "f1 local:  0.9203771608171818\n",
      "f1 fede:  0.7570657351540171\n",
      "f1 local was better\n",
      "f1 local:  0.9240851993446205\n",
      "f1 fede:  0.7638256343526351\n",
      "f1 local was better\n",
      "f1 local:  0.9289855072463767\n",
      "f1 fede:  0.768231046931408\n",
      "f1 local was better\n",
      "++++++++++++++++++++++++++++++++++++++++++++++++++++++++++++++++++++++++++++++\n",
      "Starting new round!\n",
      "Weights: [0.32972327856541367, 0.3342521122048304, 0.3360246092297559]\n",
      "f1 local:  0.9115646258503401\n",
      "f1 fede:  0.8035153797865662\n",
      "f1 local was better\n",
      "f1 local:  0.9203771608171818\n",
      "f1 fede:  0.799755426475084\n",
      "f1 local was better\n",
      "f1 local:  0.9240851993446205\n",
      "f1 fede:  0.8032581453634084\n",
      "f1 local was better\n",
      "f1 local:  0.9289855072463767\n",
      "f1 fede:  0.8120155038759689\n",
      "f1 local was better\n",
      "++++++++++++++++++++++++++++++++++++++++++++++++++++++++++++++++++++++++++++++\n",
      "Starting new round!\n",
      "Weights: [0.3307531568003028, 0.3339507071187752, 0.33529613608092196]\n"
     ]
    },
    {
     "name": "stderr",
     "output_type": "stream",
     "text": [
      "/home/tk/.local/lib/python3.10/site-packages/numpy/lib/function_base.py:509: VisibleDeprecationWarning: Creating an ndarray from ragged nested sequences (which is a list-or-tuple of lists-or-tuples-or ndarrays with different lengths or shapes) is deprecated. If you meant to do this, you must specify 'dtype=object' when creating the ndarray.\n",
      "  a = np.asanyarray(a)\n",
      "/home/tk/.local/lib/python3.10/site-packages/numpy/lib/function_base.py:509: VisibleDeprecationWarning: Creating an ndarray from ragged nested sequences (which is a list-or-tuple of lists-or-tuples-or ndarrays with different lengths or shapes) is deprecated. If you meant to do this, you must specify 'dtype=object' when creating the ndarray.\n",
      "  a = np.asanyarray(a)\n"
     ]
    },
    {
     "name": "stdout",
     "output_type": "stream",
     "text": [
      "f1 local:  0.9115646258503401\n",
      "f1 fede:  0.8218754827746023\n",
      "f1 local was better\n",
      "f1 local:  0.9203771608171818\n",
      "f1 fede:  0.8192481203007519\n",
      "f1 local was better\n",
      "f1 local:  0.9240851993446205\n",
      "f1 fede:  0.8160990712074303\n",
      "f1 local was better\n",
      "f1 local:  0.9289855072463767\n",
      "f1 fede:  0.8293347873500546\n",
      "f1 local was better\n",
      "++++++++++++++++++++++++++++++++++++++++++++++++++++++++++++++++++++++++++++++\n"
     ]
    }
   ],
   "source": [
    "number_of_rounds = 5\n",
    "for _ in range(number_of_rounds):\n",
    "    print(f'Starting new round!')\n",
    "    f1s = []\n",
    "    weigths = []\n",
    "\n",
    "    applicable_clients = random.sample((clients), k=3)\n",
    "\n",
    "    for client in applicable_clients:\n",
    "        client.test_model_f1()\n",
    "        f1s.append(client.F1)\n",
    "    \n",
    "    for x in range(len(applicable_clients)):\n",
    "        w = f1s[x]/(sum(f1s))\n",
    "        weigths.append(w)\n",
    "    print(f'Weights: {weigths}')\n",
    "\n",
    "    global_model.update_global_model(applicable_clients,weigths,selected_model)\n",
    "    \n",
    "    for client in clients:\n",
    "        f1_local = client.test_model_f1()\n",
    "        if selected_model == Supported_modles.MLP_classifier:\n",
    "            int_local = client.model.intercepts_\n",
    "            coef_local = client.model.coefs_\n",
    "            client.model.intercepts_ = global_model.model.intercepts_\n",
    "            client.model.coefs_ = global_model.model.coefs_\n",
    "        else:\n",
    "            int_local = client.model.intercept_\n",
    "            coef_local = client.model.coef_\n",
    "            client.model.intercept_ = global_model.model.intercept_\n",
    "            client.model.coef_ = global_model.model.coef_\n",
    "        print(\"f1 local: \", f1_local)\n",
    "\n",
    "        f1_fede = client.test_model_f1()\n",
    "        print(\"f1 fede: \", f1_fede)\n",
    "        if f1_fede < f1_local:\n",
    "            # local was better set to local values\n",
    "            if selected_model == Supported_modles.MLP_classifier:\n",
    "                client.model.intercepts_ = int_local\n",
    "                client.model.coefs_ = coef_local\n",
    "            else:\n",
    "                client.model.intercept_ = int_local\n",
    "                client.model.coef_ = coef_local\n",
    "            print(\"f1 local was better\")\n",
    "        elif f1_fede == f1_local:\n",
    "            print(\"the same\")\n",
    "        else:\n",
    "            print(\"f1 fede was better\")\n",
    "            client.F1 = f1_fede\n",
    "    print(f'++++++++++++++++++++++++++++++++++++++++++++++++++++++++++++++++++++++++++++++')"
   ]
  },
  {
   "cell_type": "code",
   "execution_count": 29,
   "metadata": {},
   "outputs": [
    {
     "name": "stdout",
     "output_type": "stream",
     "text": [
      "Difference 0.0\n",
      "Difference 0.0\n",
      "Difference 0.0\n",
      "Difference 0.0\n"
     ]
    }
   ],
   "source": [
    "i = 0\n",
    "for client in clients:\n",
    "    f1_before[i]\n",
    "    print(f'Difference {client.F1-f1_before[i]}')\n",
    "    i = i + 1"
   ]
  },
  {
   "cell_type": "code",
   "execution_count": null,
   "metadata": {},
   "outputs": [],
   "source": []
  }
 ],
 "metadata": {
  "kernelspec": {
   "display_name": "Python 3.10.4 64-bit",
   "language": "python",
   "name": "python3"
  },
  "language_info": {
   "codemirror_mode": {
    "name": "ipython",
    "version": 3
   },
   "file_extension": ".py",
   "mimetype": "text/x-python",
   "name": "python",
   "nbconvert_exporter": "python",
   "pygments_lexer": "ipython3",
   "version": "3.10.6"
  },
  "orig_nbformat": 4,
  "vscode": {
   "interpreter": {
    "hash": "916dbcbb3f70747c44a77c7bcd40155683ae19c65e1c03b4aa3499c5328201f1"
   }
  }
 },
 "nbformat": 4,
 "nbformat_minor": 2
}
