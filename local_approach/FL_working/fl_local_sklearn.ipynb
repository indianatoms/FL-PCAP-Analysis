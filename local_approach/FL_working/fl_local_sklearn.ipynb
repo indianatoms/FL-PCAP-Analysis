{
 "cells": [
  {
   "cell_type": "code",
   "execution_count": 104,
   "metadata": {},
   "outputs": [],
   "source": [
    "from client import Client\n",
    "from global_model import Global_model\n",
    "from sklearn.utils import shuffle\n",
    "from supported_modles import Supported_modles\n",
    "import numpy as np\n",
    "\n",
    "import random"
   ]
  },
  {
   "cell_type": "code",
   "execution_count": 105,
   "metadata": {},
   "outputs": [],
   "source": [
    "def warn(*args, **kwargs):\n",
    "    pass\n",
    "import warnings\n",
    "warnings.warn = warn"
   ]
  },
  {
   "cell_type": "code",
   "execution_count": 106,
   "metadata": {},
   "outputs": [],
   "source": [
    "selected_model = Supported_modles.logistic_regression\n",
    "RANDOM_NUMBER_OF_CLIENTS = 3"
   ]
  },
  {
   "cell_type": "code",
   "execution_count": 107,
   "metadata": {},
   "outputs": [],
   "source": [
    "#NODEs\n",
    "client1 = Client(\"node1\",\"0.0.0.0\")\n",
    "dataset = client1.load_data(\"../../datasets/UNSW_NB15_training-set.csv\")\n",
    "client2 = Client(\"node2\",\"0.0.0.0\")\n",
    "client3 = Client(\"node3\",\"0.0.0.0\")\n",
    "client4 = Client(\"node4\",\"0.0.0.0\")\n",
    "client5 = Client(\"node5\",\"0.0.0.0\")\n",
    "\n",
    "dataset = shuffle(dataset)\n",
    "\n",
    "clients = [client1, client2, client3, client4, client5]\n",
    "\n",
    "client1.preprocess_data(dataset)\n",
    "\n",
    "X = client1.x\n",
    "y = client1.y\n",
    "\n",
    "client1.x = X[:20000]\n",
    "client1.y = y[:20000]\n",
    "\n",
    "client2.x = X[20000:40000]\n",
    "client2.y = y[20000:40000]\n",
    "\n",
    "client3.x = X[40000:50000]\n",
    "client3.y = y[40000:50000]\n",
    "\n",
    "client4.x = X[50000:60000]\n",
    "client4.y = y[50000:60000]\n",
    "\n",
    "client5.x = X[60000:]\n",
    "client5.y = y[60000:]"
   ]
  },
  {
   "cell_type": "code",
   "execution_count": 108,
   "metadata": {},
   "outputs": [
    {
     "name": "stdout",
     "output_type": "stream",
     "text": [
      "Model accuracy: 0.8562121212121212\n",
      "Model f1 score: 0.8710772992799891\n",
      "Total size: 13400\n",
      "Totla sum of malicious packets: 7400\n",
      "Model accuracy: 0.8501515151515151\n",
      "Model f1 score: 0.8628864550117842\n",
      "Total size: 13400\n",
      "Totla sum of malicious packets: 7387\n",
      "Model accuracy: 0.8545454545454545\n",
      "Model f1 score: 0.8671831765356945\n",
      "Total size: 6700\n",
      "Totla sum of malicious packets: 3658\n",
      "Model accuracy: 0.8636363636363636\n",
      "Model f1 score: 0.878771551724138\n",
      "Total size: 6700\n",
      "Totla sum of malicious packets: 3751\n",
      "Model accuracy: 0.8618724559023067\n",
      "Model f1 score: 0.8733830845771144\n",
      "Total size: 14962\n",
      "Totla sum of malicious packets: 8269\n"
     ]
    }
   ],
   "source": [
    "f1_before = []\n",
    "for client in clients:\n",
    "    \n",
    "    client.split_data()\n",
    "    client.train_model(selected_model)\n",
    "    print(f'Model accuracy: {client.accuracy}')\n",
    "    print(f'Model f1 score: {client.F1}')\n",
    "    f1_before.append(client.F1)\n",
    "    print(f'Total size: {client.x.shape[0]}')\n",
    "    print(f'Totla sum of malicious packets: {client.y.sum()}')"
   ]
  },
  {
   "cell_type": "code",
   "execution_count": 109,
   "metadata": {},
   "outputs": [],
   "source": [
    "global_model = Global_model(selected_model)\n",
    "global_model.init_global_model(client1.x.shape[1], selected_model)"
   ]
  },
  {
   "cell_type": "code",
   "execution_count": 114,
   "metadata": {},
   "outputs": [
    {
     "name": "stdout",
     "output_type": "stream",
     "text": [
      "Starting new round!\n",
      "Client name: node1\n",
      "Client name: node2\n",
      "Client name: node3\n",
      "[0.36675173 0.36704389 0.26620438]\n",
      "f1 local:  0.8749489726493401\n",
      "f1 fede:  0.8749489726493401\n",
      "the same\n",
      "f1 local:  0.8764819409980701\n",
      "f1 fede:  0.8763611302549966\n",
      "f1 local was better\n",
      "f1 local:  0.8720770288858322\n",
      "f1 fede:  0.872317006053935\n",
      "f1 fede was better\n",
      "++++++++++++++++++++++++++++++++++++++++++++++++++++++++++++++++++++++++++++++\n",
      "Starting new round!\n",
      "Client name: node3\n",
      "Client name: node1\n",
      "Client name: node5\n",
      "[0.26197651 0.35802371 0.37999978]\n",
      "f1 local:  0.872317006053935\n",
      "f1 fede:  0.8720066061106523\n",
      "f1 local was better\n",
      "f1 local:  0.8749489726493401\n",
      "f1 fede:  0.8745578231292516\n",
      "f1 local was better\n",
      "f1 local:  0.8733830845771144\n",
      "f1 fede:  0.8731027618810651\n",
      "f1 local was better\n",
      "++++++++++++++++++++++++++++++++++++++++++++++++++++++++++++++++++++++++++++++\n",
      "Starting new round!\n",
      "Client name: node4\n",
      "Client name: node5\n",
      "Client name: node2\n",
      "[0.26334809 0.37916922 0.35748269]\n",
      "f1 local:  0.8839114995902759\n",
      "f1 fede:  0.8836065573770492\n",
      "f1 local was better\n",
      "f1 local:  0.8733830845771144\n",
      "f1 fede:  0.8734917278268441\n",
      "f1 fede was better\n",
      "f1 local:  0.8764819409980701\n",
      "f1 fede:  0.8759144237405107\n",
      "f1 local was better\n",
      "++++++++++++++++++++++++++++++++++++++++++++++++++++++++++++++++++++++++++++++\n",
      "Starting new round!\n",
      "Client name: node5\n",
      "Client name: node2\n",
      "Client name: node1\n",
      "[0.34551842 0.32738679 0.32709479]\n",
      "f1 local:  0.8734917278268441\n",
      "f1 fede:  0.8731027618810651\n",
      "f1 local was better\n",
      "f1 local:  0.8764819409980701\n",
      "f1 fede:  0.8760171010895049\n",
      "f1 local was better\n",
      "f1 local:  0.8749489726493401\n",
      "f1 fede:  0.8745578231292516\n",
      "f1 local was better\n",
      "++++++++++++++++++++++++++++++++++++++++++++++++++++++++++++++++++++++++++++++\n",
      "Starting new round!\n",
      "Client name: node5\n",
      "Client name: node3\n",
      "Client name: node4\n",
      "[0.42984916 0.28397317 0.28617768]\n",
      "f1 local:  0.8734917278268441\n",
      "f1 fede:  0.8733515799950237\n",
      "f1 local was better\n",
      "f1 local:  0.872317006053935\n",
      "f1 fede:  0.8728673637864613\n",
      "f1 fede was better\n",
      "f1 local:  0.8839114995902759\n",
      "f1 fede:  0.8836065573770492\n",
      "f1 local was better\n",
      "++++++++++++++++++++++++++++++++++++++++++++++++++++++++++++++++++++++++++++++\n"
     ]
    }
   ],
   "source": [
    "number_of_rounds = 5\n",
    "batch_size = 20\n",
    "\n",
    "for _ in range(number_of_rounds):\n",
    "\n",
    "    print(f'Starting new round!')\n",
    "    f1s = np.empty((0,RANDOM_NUMBER_OF_CLIENTS), float)\n",
    "    data_weights = arr = np.empty((0,RANDOM_NUMBER_OF_CLIENTS), float)\n",
    "    total_data = 0\n",
    "\n",
    "    applicable_clients = random.sample((clients), RANDOM_NUMBER_OF_CLIENTS)\n",
    "\n",
    "    for client in applicable_clients:\n",
    "        X_train, X_test, y_train, y_test = train_test_split(client.x, client.y, shuffle=True, train_size=batch_size, stratify=y, random_state=seed+i+r)\n",
    "        X_train = prep.fit_transform(X_train)\n",
    "\n",
    "    for client in applicable_clients:\n",
    "        print(f'Client name: {client.name}')\n",
    "        client.test_model_f1()\n",
    "        f1s = np.append(f1s, client.F1)\n",
    "        #sum data\n",
    "        data_weights = np.append(data_weights, client.x.shape[0])\n",
    "    \n",
    "    # print(f'Weights: {f1s/sum(f1s)}')\n",
    "    # print(f'weigths data: {data_weights/sum(data_weights)}')\n",
    "    \n",
    "    round_weights = (f1s/sum(f1s) + data_weights/sum(data_weights))/2\n",
    "    \n",
    "    print(round_weights)\n",
    "\n",
    "    global_model.update_global_model(applicable_clients,round_weights,selected_model)\n",
    "    \n",
    "    for client in applicable_clients:\n",
    "        f1_local = client.test_model_f1()\n",
    "        if selected_model == Supported_modles.MLP_classifier:\n",
    "            int_local = client.model.intercepts_\n",
    "            coef_local = client.model.coefs_\n",
    "            # if client in applicable_clients:\n",
    "            #     print(f'Intercepts local: {int_local}')\n",
    "            #     print(f'Intercepts fede: {global_model.model.intercepts_}')\n",
    "            client.model.intercepts_ = global_model.model.intercepts_\n",
    "            client.model.coefs_ = global_model.model.coefs_\n",
    "        else:\n",
    "            int_local = client.model.intercept_\n",
    "            coef_local = client.model.coef_\n",
    "            client.model.intercept_ = global_model.model.intercept_\n",
    "            client.model.coef_ = global_model.model.coef_\n",
    "        print(\"f1 local: \", f1_local)\n",
    "\n",
    "        f1_fede = client.test_model_f1()\n",
    "        print(\"f1 fede: \", f1_fede)\n",
    "        if f1_fede < f1_local:\n",
    "            # local was better set to local values\n",
    "            if selected_model == Supported_modles.MLP_classifier:\n",
    "                client.model.intercepts_ = int_local\n",
    "                client.model.coefs_ = coef_local\n",
    "            else:\n",
    "                client.model.intercept_ = int_local\n",
    "                client.model.coef_ = coef_local\n",
    "            print(\"f1 local was better\")\n",
    "        elif f1_fede == f1_local:\n",
    "            print(\"the same\")\n",
    "        else:\n",
    "            print(\"f1 fede was better\")\n",
    "            client.F1 = f1_fede\n",
    "    print(f'++++++++++++++++++++++++++++++++++++++++++++++++++++++++++++++++++++++++++++++')"
   ]
  },
  {
   "cell_type": "code",
   "execution_count": 115,
   "metadata": {},
   "outputs": [
    {
     "name": "stdout",
     "output_type": "stream",
     "text": [
      "Difference 0.003871673369351014\n",
      "Difference 0.013595485986285905\n",
      "Difference 0.005684187250766803\n",
      "Difference 0.005139947866137917\n",
      "Difference 0.00010864324972970074\n"
     ]
    }
   ],
   "source": [
    "i = 0\n",
    "for client in clients:\n",
    "    f1_before[i]\n",
    "    print(f'Difference {client.F1-f1_before[i]}')\n",
    "    i = i + 1"
   ]
  },
  {
   "cell_type": "code",
   "execution_count": null,
   "metadata": {},
   "outputs": [],
   "source": []
  },
  {
   "cell_type": "code",
   "execution_count": null,
   "metadata": {},
   "outputs": [],
   "source": []
  }
 ],
 "metadata": {
  "kernelspec": {
   "display_name": "Python 3.10.4 64-bit",
   "language": "python",
   "name": "python3"
  },
  "language_info": {
   "codemirror_mode": {
    "name": "ipython",
    "version": 3
   },
   "file_extension": ".py",
   "mimetype": "text/x-python",
   "name": "python",
   "nbconvert_exporter": "python",
   "pygments_lexer": "ipython3",
   "version": "3.10.6"
  },
  "orig_nbformat": 4,
  "vscode": {
   "interpreter": {
    "hash": "916dbcbb3f70747c44a77c7bcd40155683ae19c65e1c03b4aa3499c5328201f1"
   }
  }
 },
 "nbformat": 4,
 "nbformat_minor": 2
}
