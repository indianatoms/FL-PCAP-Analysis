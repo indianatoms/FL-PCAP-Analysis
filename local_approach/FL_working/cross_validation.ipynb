{
 "cells": [
  {
   "cell_type": "code",
   "execution_count": 29,
   "metadata": {},
   "outputs": [],
   "source": [
    "import os\n",
    "import sys\n",
    "module_path = os.path.abspath(os.path.join('fede'))\n",
    "if module_path not in sys.path:\n",
    "    sys.path.append(module_path)\n",
    "from client import Client\n",
    "from network import Net2nn\n",
    "from supported_modles import Supported_modles\n",
    "from sklearn.linear_model import (\n",
    "    LogisticRegression,\n",
    "    SGDClassifier,\n",
    ")\n",
    "from sklearn.model_selection import GridSearchCV\n",
    "import numpy as np\n",
    "\n",
    "from sklearn.datasets import make_classification\n",
    "from sklearn.model_selection import RepeatedKFold\n",
    "from sklearn.model_selection import cross_val_score\n",
    "from sklearn.model_selection import KFold\n",
    "\n",
    "from numpy import mean\n",
    "from numpy import std\n",
    "import pandas as pd"
   ]
  },
  {
   "cell_type": "code",
   "execution_count": 30,
   "metadata": {},
   "outputs": [
    {
     "name": "stdout",
     "output_type": "stream",
     "text": [
      "Creating node1.\n"
     ]
    }
   ],
   "source": [
    "selected_model = Supported_modles.SGD_classifier\n",
    "client1 = Client(\"node1\",\"0.0.0.0\", 5001, selected_model, 'api')\n",
    "dataset = client1.load_data('data/Wednesday-workingHours.pcap_ISCX.csv', True)"
   ]
  },
  {
   "cell_type": "code",
   "execution_count": 31,
   "metadata": {},
   "outputs": [],
   "source": [
    "client1.preprocess_data(dataset, True)\n",
    "client1.prep_data()"
   ]
  },
  {
   "cell_type": "code",
   "execution_count": 32,
   "metadata": {},
   "outputs": [],
   "source": [
    "X_train = client1.x\n",
    "y_train = client1.y"
   ]
  },
  {
   "cell_type": "code",
   "execution_count": 28,
   "metadata": {},
   "outputs": [
    {
     "name": "stderr",
     "output_type": "stream",
     "text": [
      "/home/tk/anaconda3/lib/python3.9/site-packages/sklearn/linear_model/_logistic.py:814: ConvergenceWarning: lbfgs failed to converge (status=1):\n",
      "STOP: TOTAL NO. of ITERATIONS REACHED LIMIT.\n",
      "\n",
      "Increase the number of iterations (max_iter) or scale the data as shown in:\n",
      "    https://scikit-learn.org/stable/modules/preprocessing.html\n",
      "Please also refer to the documentation for alternative solver options:\n",
      "    https://scikit-learn.org/stable/modules/linear_model.html#logistic-regression\n",
      "  n_iter_i = _check_optimize_result(\n",
      "/home/tk/anaconda3/lib/python3.9/site-packages/sklearn/linear_model/_logistic.py:814: ConvergenceWarning: lbfgs failed to converge (status=1):\n",
      "STOP: TOTAL NO. of ITERATIONS REACHED LIMIT.\n",
      "\n",
      "Increase the number of iterations (max_iter) or scale the data as shown in:\n",
      "    https://scikit-learn.org/stable/modules/preprocessing.html\n",
      "Please also refer to the documentation for alternative solver options:\n",
      "    https://scikit-learn.org/stable/modules/linear_model.html#logistic-regression\n",
      "  n_iter_i = _check_optimize_result(\n",
      "/home/tk/anaconda3/lib/python3.9/site-packages/sklearn/linear_model/_logistic.py:814: ConvergenceWarning: lbfgs failed to converge (status=1):\n",
      "STOP: TOTAL NO. of ITERATIONS REACHED LIMIT.\n",
      "\n",
      "Increase the number of iterations (max_iter) or scale the data as shown in:\n",
      "    https://scikit-learn.org/stable/modules/preprocessing.html\n",
      "Please also refer to the documentation for alternative solver options:\n",
      "    https://scikit-learn.org/stable/modules/linear_model.html#logistic-regression\n",
      "  n_iter_i = _check_optimize_result(\n",
      "/home/tk/anaconda3/lib/python3.9/site-packages/sklearn/linear_model/_logistic.py:814: ConvergenceWarning: lbfgs failed to converge (status=1):\n",
      "STOP: TOTAL NO. of ITERATIONS REACHED LIMIT.\n",
      "\n",
      "Increase the number of iterations (max_iter) or scale the data as shown in:\n",
      "    https://scikit-learn.org/stable/modules/preprocessing.html\n",
      "Please also refer to the documentation for alternative solver options:\n",
      "    https://scikit-learn.org/stable/modules/linear_model.html#logistic-regression\n",
      "  n_iter_i = _check_optimize_result(\n"
     ]
    },
    {
     "name": "stdout",
     "output_type": "stream",
     "text": [
      "Accuracy: 0.919 (0.057)\n"
     ]
    },
    {
     "name": "stderr",
     "output_type": "stream",
     "text": [
      "/home/tk/anaconda3/lib/python3.9/site-packages/sklearn/linear_model/_logistic.py:814: ConvergenceWarning: lbfgs failed to converge (status=1):\n",
      "STOP: TOTAL NO. of ITERATIONS REACHED LIMIT.\n",
      "\n",
      "Increase the number of iterations (max_iter) or scale the data as shown in:\n",
      "    https://scikit-learn.org/stable/modules/preprocessing.html\n",
      "Please also refer to the documentation for alternative solver options:\n",
      "    https://scikit-learn.org/stable/modules/linear_model.html#logistic-regression\n",
      "  n_iter_i = _check_optimize_result(\n"
     ]
    }
   ],
   "source": [
    "cv = KFold(n_splits=5, shuffle=False)\n",
    "# create model\n",
    "# model = SGDClassifier(\n",
    "#                 loss=\"log\",\n",
    "#                 alpha=0.001,\n",
    "#                 penalty='l2',\n",
    "#                 max_iter=50,\n",
    "#             )\n",
    "\n",
    "model = LogisticRegression(\n",
    "                C=100000,\n",
    "                penalty=\"l2\"\n",
    "            )\n",
    "\n",
    "# evaluate model\n",
    "scores = cross_val_score(model, X_train, y_train, scoring='f1_macro', cv=cv, n_jobs=-1)\n",
    "# report performance\n",
    "print('Accuracy: %.3f (%.3f)' % (mean(scores), std(scores)))"
   ]
  },
  {
   "cell_type": "code",
   "execution_count": 18,
   "metadata": {},
   "outputs": [],
   "source": [
    "dataset = client1.load_data(\"data/UNSW_NB15_train-set.csv\")\n",
    "test_dataset = client1.load_data(\"data/UNSW_NB15_test-set.csv\")\n",
    "df = pd.concat([test_dataset,dataset], ignore_index=True)\n",
    "\n",
    "client1.preprocess_data(df, False)\n",
    "client1.prep_data()"
   ]
  },
  {
   "cell_type": "code",
   "execution_count": 19,
   "metadata": {},
   "outputs": [],
   "source": [
    "X_train = client1.x\n",
    "y_train = client1.y"
   ]
  },
  {
   "cell_type": "code",
   "execution_count": 21,
   "metadata": {},
   "outputs": [
    {
     "name": "stderr",
     "output_type": "stream",
     "text": [
      "/home/tk/anaconda3/lib/python3.9/site-packages/sklearn/linear_model/_logistic.py:814: ConvergenceWarning: lbfgs failed to converge (status=1):\n",
      "STOP: TOTAL NO. of ITERATIONS REACHED LIMIT.\n",
      "\n",
      "Increase the number of iterations (max_iter) or scale the data as shown in:\n",
      "    https://scikit-learn.org/stable/modules/preprocessing.html\n",
      "Please also refer to the documentation for alternative solver options:\n",
      "    https://scikit-learn.org/stable/modules/linear_model.html#logistic-regression\n",
      "  n_iter_i = _check_optimize_result(\n",
      "/home/tk/anaconda3/lib/python3.9/site-packages/sklearn/linear_model/_logistic.py:814: ConvergenceWarning: lbfgs failed to converge (status=1):\n",
      "STOP: TOTAL NO. of ITERATIONS REACHED LIMIT.\n",
      "\n",
      "Increase the number of iterations (max_iter) or scale the data as shown in:\n",
      "    https://scikit-learn.org/stable/modules/preprocessing.html\n",
      "Please also refer to the documentation for alternative solver options:\n",
      "    https://scikit-learn.org/stable/modules/linear_model.html#logistic-regression\n",
      "  n_iter_i = _check_optimize_result(\n",
      "/home/tk/anaconda3/lib/python3.9/site-packages/sklearn/linear_model/_logistic.py:814: ConvergenceWarning: lbfgs failed to converge (status=1):\n",
      "STOP: TOTAL NO. of ITERATIONS REACHED LIMIT.\n",
      "\n",
      "Increase the number of iterations (max_iter) or scale the data as shown in:\n",
      "    https://scikit-learn.org/stable/modules/preprocessing.html\n",
      "Please also refer to the documentation for alternative solver options:\n",
      "    https://scikit-learn.org/stable/modules/linear_model.html#logistic-regression\n",
      "  n_iter_i = _check_optimize_result(\n",
      "/home/tk/anaconda3/lib/python3.9/site-packages/sklearn/linear_model/_logistic.py:814: ConvergenceWarning: lbfgs failed to converge (status=1):\n",
      "STOP: TOTAL NO. of ITERATIONS REACHED LIMIT.\n",
      "\n",
      "Increase the number of iterations (max_iter) or scale the data as shown in:\n",
      "    https://scikit-learn.org/stable/modules/preprocessing.html\n",
      "Please also refer to the documentation for alternative solver options:\n",
      "    https://scikit-learn.org/stable/modules/linear_model.html#logistic-regression\n",
      "  n_iter_i = _check_optimize_result(\n",
      "/home/tk/anaconda3/lib/python3.9/site-packages/sklearn/linear_model/_logistic.py:814: ConvergenceWarning: lbfgs failed to converge (status=1):\n",
      "STOP: TOTAL NO. of ITERATIONS REACHED LIMIT.\n",
      "\n",
      "Increase the number of iterations (max_iter) or scale the data as shown in:\n",
      "    https://scikit-learn.org/stable/modules/preprocessing.html\n",
      "Please also refer to the documentation for alternative solver options:\n",
      "    https://scikit-learn.org/stable/modules/linear_model.html#logistic-regression\n",
      "  n_iter_i = _check_optimize_result(\n",
      "/home/tk/anaconda3/lib/python3.9/site-packages/sklearn/linear_model/_logistic.py:814: ConvergenceWarning: lbfgs failed to converge (status=1):\n",
      "STOP: TOTAL NO. of ITERATIONS REACHED LIMIT.\n",
      "\n",
      "Increase the number of iterations (max_iter) or scale the data as shown in:\n",
      "    https://scikit-learn.org/stable/modules/preprocessing.html\n",
      "Please also refer to the documentation for alternative solver options:\n",
      "    https://scikit-learn.org/stable/modules/linear_model.html#logistic-regression\n",
      "  n_iter_i = _check_optimize_result(\n",
      "/home/tk/anaconda3/lib/python3.9/site-packages/sklearn/linear_model/_logistic.py:814: ConvergenceWarning: lbfgs failed to converge (status=1):\n",
      "STOP: TOTAL NO. of ITERATIONS REACHED LIMIT.\n",
      "\n",
      "Increase the number of iterations (max_iter) or scale the data as shown in:\n",
      "    https://scikit-learn.org/stable/modules/preprocessing.html\n",
      "Please also refer to the documentation for alternative solver options:\n",
      "    https://scikit-learn.org/stable/modules/linear_model.html#logistic-regression\n",
      "  n_iter_i = _check_optimize_result(\n",
      "/home/tk/anaconda3/lib/python3.9/site-packages/sklearn/linear_model/_logistic.py:814: ConvergenceWarning: lbfgs failed to converge (status=1):\n",
      "STOP: TOTAL NO. of ITERATIONS REACHED LIMIT.\n",
      "\n",
      "Increase the number of iterations (max_iter) or scale the data as shown in:\n",
      "    https://scikit-learn.org/stable/modules/preprocessing.html\n",
      "Please also refer to the documentation for alternative solver options:\n",
      "    https://scikit-learn.org/stable/modules/linear_model.html#logistic-regression\n",
      "  n_iter_i = _check_optimize_result(\n",
      "/home/tk/anaconda3/lib/python3.9/site-packages/sklearn/linear_model/_logistic.py:814: ConvergenceWarning: lbfgs failed to converge (status=1):\n",
      "STOP: TOTAL NO. of ITERATIONS REACHED LIMIT.\n",
      "\n",
      "Increase the number of iterations (max_iter) or scale the data as shown in:\n",
      "    https://scikit-learn.org/stable/modules/preprocessing.html\n",
      "Please also refer to the documentation for alternative solver options:\n",
      "    https://scikit-learn.org/stable/modules/linear_model.html#logistic-regression\n",
      "  n_iter_i = _check_optimize_result(\n"
     ]
    },
    {
     "name": "stdout",
     "output_type": "stream",
     "text": [
      "Accuracy: 0.892 (0.089)\n"
     ]
    },
    {
     "name": "stderr",
     "output_type": "stream",
     "text": [
      "/home/tk/anaconda3/lib/python3.9/site-packages/sklearn/linear_model/_logistic.py:814: ConvergenceWarning: lbfgs failed to converge (status=1):\n",
      "STOP: TOTAL NO. of ITERATIONS REACHED LIMIT.\n",
      "\n",
      "Increase the number of iterations (max_iter) or scale the data as shown in:\n",
      "    https://scikit-learn.org/stable/modules/preprocessing.html\n",
      "Please also refer to the documentation for alternative solver options:\n",
      "    https://scikit-learn.org/stable/modules/linear_model.html#logistic-regression\n",
      "  n_iter_i = _check_optimize_result(\n"
     ]
    }
   ],
   "source": [
    "cv = KFold(n_splits=10, random_state=None, shuffle=False)\n",
    "# create model\n",
    "# model = SGDClassifier(\n",
    "#                 loss=\"log\",\n",
    "#                 alpha=0.001,\n",
    "#                 penalty='l1',\n",
    "#                 max_iter=30\n",
    "#             )\n",
    "\n",
    "model = LogisticRegression(\n",
    "                C=100000,\n",
    "                penalty=\"l2\"\n",
    "            )\n",
    "\n",
    "# evaluate model\n",
    "scores = cross_val_score(model, X_train, y_train, scoring='f1_micro', cv=cv, n_jobs=-1)\n",
    "# report performance\n",
    "print('Accuracy: %.3f (%.3f)' % (mean(scores), std(scores)))"
   ]
  },
  {
   "cell_type": "code",
   "execution_count": 115,
   "metadata": {},
   "outputs": [
    {
     "data": {
      "text/plain": [
       "array([0.93573424, 0.99906861, 0.9975163 , 0.80898789, 0.94621236,\n",
       "       0.40181621, 0.77421608, 0.98408879, 0.99091897, 0.76071096,\n",
       "       0.85284073, 0.89886681, 0.84344924, 0.90250718, 0.8857409 ,\n",
       "       0.93456493, 0.98346658, 0.95870527, 0.98765815, 0.97259955])"
      ]
     },
     "execution_count": 115,
     "metadata": {},
     "output_type": "execute_result"
    }
   ],
   "source": [
    "scores"
   ]
  },
  {
   "cell_type": "code",
   "execution_count": 34,
   "metadata": {},
   "outputs": [],
   "source": [
    "import torch\n",
    "from torch import nn\n",
    "import torch.nn.functional as F\n",
    "from skorch import NeuralNetClassifier\n",
    "import numpy as np\n",
    "from sklearn.datasets import make_classification\n",
    "from torch import nn"
   ]
  },
  {
   "cell_type": "code",
   "execution_count": 35,
   "metadata": {},
   "outputs": [],
   "source": [
    "X = X_train.astype(np.float32)\n",
    "y = y_train.astype(np.int64)\n",
    "\n",
    "class MyModule(nn.Module):\n",
    "    def __init__(self):\n",
    "        super(MyModule, self).__init__()\n",
    "        self.fc1=nn.Linear(78,40)\n",
    "        self.fc2=nn.Linear(40,2)\n",
    "        self.relu = nn.ReLU()\n",
    "        \n",
    "    def forward(self,x):\n",
    "        x=F.relu(self.fc1(x))\n",
    "        x=self.fc2(x)\n",
    "        return x"
   ]
  },
  {
   "cell_type": "code",
   "execution_count": 38,
   "metadata": {},
   "outputs": [
    {
     "name": "stdout",
     "output_type": "stream",
     "text": [
      "  epoch    train_loss    valid_acc    valid_loss     dur\n",
      "-------  ------------  -----------  ------------  ------\n",
      "      1        \u001b[36m0.0509\u001b[0m       \u001b[32m0.8564\u001b[0m        \u001b[35m1.1561\u001b[0m  7.8194\n",
      "  epoch    train_loss    valid_acc    valid_loss     dur\n",
      "-------  ------------  -----------  ------------  ------\n",
      "      1        \u001b[36m0.0312\u001b[0m       \u001b[32m0.8613\u001b[0m        \u001b[35m0.8833\u001b[0m  7.8487\n",
      "  epoch    train_loss    valid_acc    valid_loss     dur\n",
      "-------  ------------  -----------  ------------  ------\n",
      "      1        \u001b[36m0.0497\u001b[0m       \u001b[32m0.9783\u001b[0m        \u001b[35m0.0526\u001b[0m  8.0046\n",
      "      2        \u001b[36m0.0158\u001b[0m       \u001b[32m0.8723\u001b[0m        0.9832  8.4130\n",
      "      2        \u001b[36m0.0347\u001b[0m       \u001b[32m0.8646\u001b[0m        1.5538  8.4700\n",
      "      2        \u001b[36m0.0288\u001b[0m       \u001b[32m0.9789\u001b[0m        \u001b[35m0.0438\u001b[0m  8.6081\n",
      "      3        \u001b[36m0.0145\u001b[0m       \u001b[32m0.8821\u001b[0m        1.0481  10.7729\n",
      "      3        \u001b[36m0.0307\u001b[0m       \u001b[32m0.8719\u001b[0m        1.8415  10.7589\n",
      "      3        \u001b[36m0.0243\u001b[0m       \u001b[32m0.9790\u001b[0m        \u001b[35m0.0435\u001b[0m  10.9334\n",
      "      4        \u001b[36m0.0285\u001b[0m       \u001b[32m0.8739\u001b[0m        2.2394  10.7265\n",
      "      4        \u001b[36m0.0139\u001b[0m       \u001b[32m0.8932\u001b[0m        1.1287  10.8488\n",
      "      4        \u001b[36m0.0221\u001b[0m       \u001b[32m0.9790\u001b[0m        0.0478  10.8550\n",
      "      5        \u001b[36m0.0272\u001b[0m       \u001b[32m0.8761\u001b[0m        2.4236  10.9005\n",
      "      5        \u001b[36m0.0134\u001b[0m       \u001b[32m0.8945\u001b[0m        1.2200  11.1205\n",
      "      5        \u001b[36m0.0211\u001b[0m       0.9789        0.0465  11.1640\n",
      "      6        \u001b[36m0.0264\u001b[0m       \u001b[32m0.8769\u001b[0m        2.6257  10.9425\n",
      "      6        \u001b[36m0.0131\u001b[0m       \u001b[32m0.8955\u001b[0m        1.2255  10.7962\n",
      "      6        \u001b[36m0.0204\u001b[0m       0.9789        \u001b[35m0.0406\u001b[0m  10.7988\n",
      "      7        \u001b[36m0.0259\u001b[0m       \u001b[32m0.9085\u001b[0m        2.7558  11.5330\n",
      "      7        \u001b[36m0.0127\u001b[0m       0.8951        1.3448  11.6512\n",
      "      7        \u001b[36m0.0200\u001b[0m       \u001b[32m0.9791\u001b[0m        \u001b[35m0.0400\u001b[0m  11.8154\n",
      "      8        \u001b[36m0.0254\u001b[0m       \u001b[32m0.9085\u001b[0m        2.8894  13.4915\n",
      "      8        \u001b[36m0.0125\u001b[0m       \u001b[32m0.8955\u001b[0m        1.3319  13.9783\n",
      "      8        \u001b[36m0.0197\u001b[0m       \u001b[32m0.9802\u001b[0m        \u001b[35m0.0308\u001b[0m  14.2786\n",
      "      9        \u001b[36m0.0251\u001b[0m       \u001b[32m0.9091\u001b[0m        3.0436  13.8603\n",
      "      9        \u001b[36m0.0123\u001b[0m       \u001b[32m0.8956\u001b[0m        1.4226  13.5874\n",
      "      9        \u001b[36m0.0193\u001b[0m       0.9798        0.0330  13.6673\n",
      "     10        \u001b[36m0.0250\u001b[0m       \u001b[32m0.9096\u001b[0m        3.1567  12.8768\n",
      "     10        \u001b[36m0.0122\u001b[0m       0.8954        1.4591  12.5317\n",
      "     10        \u001b[36m0.0191\u001b[0m       0.9795        0.0448  12.6473\n",
      "     11        \u001b[36m0.0120\u001b[0m       \u001b[32m0.8957\u001b[0m        1.4536  11.8244\n",
      "     11        \u001b[36m0.0247\u001b[0m       \u001b[32m0.9099\u001b[0m        3.2594  12.1516\n",
      "     11        \u001b[36m0.0189\u001b[0m       0.9798        0.0404  12.0602\n",
      "     12        \u001b[36m0.0119\u001b[0m       0.8956        1.5131  11.8371\n",
      "     12        \u001b[36m0.0245\u001b[0m       0.9097        3.3148  12.0147\n",
      "     12        \u001b[36m0.0188\u001b[0m       0.9799        0.0483  12.1838\n",
      "     13        \u001b[36m0.0117\u001b[0m       0.8957        1.5421  11.3902\n",
      "     13        \u001b[36m0.0242\u001b[0m       0.8798        3.4912  11.4903\n",
      "     13        \u001b[36m0.0187\u001b[0m       0.9800        0.0384  11.7810\n",
      "     14        \u001b[36m0.0116\u001b[0m       0.8929        1.6596  12.3094\n",
      "     14        \u001b[36m0.0240\u001b[0m       \u001b[32m0.9103\u001b[0m        3.5477  11.8856\n",
      "     14        0.0188       \u001b[32m0.9804\u001b[0m        0.0339  12.0360\n",
      "     15        \u001b[36m0.0115\u001b[0m       0.8905        1.6818  11.2698\n",
      "     15        \u001b[36m0.0238\u001b[0m       \u001b[32m0.9103\u001b[0m        3.6400  11.5116\n",
      "     15        \u001b[36m0.0183\u001b[0m       0.9802        0.0369  11.7808\n",
      "Accuracy: 0.960 (0.002)\n"
     ]
    }
   ],
   "source": [
    "cv = KFold(n_splits=3, random_state=None, shuffle=False)\n",
    "# create model\n",
    "model = NeuralNetClassifier(\n",
    "    MyModule,\n",
    "    max_epochs=15,\n",
    "    criterion=nn.CrossEntropyLoss(),\n",
    "    optimizer=torch.optim.SGD,\n",
    "    lr=0.1,\n",
    "    # Shuffle training data on each epoch\n",
    "    iterator_train__shuffle=True,\n",
    ")\n",
    "# evaluate model\n",
    "scores = cross_val_score(model, X, y, scoring='f1_micro', cv=cv, n_jobs=-1)\n",
    "# report performance\n",
    "print('Accuracy: %.3f (%.3f)' % (mean(scores), std(scores)))"
   ]
  },
  {
   "cell_type": "code",
   "execution_count": null,
   "metadata": {},
   "outputs": [],
   "source": []
  }
 ],
 "metadata": {
  "kernelspec": {
   "display_name": "base",
   "language": "python",
   "name": "python3"
  },
  "language_info": {
   "codemirror_mode": {
    "name": "ipython",
    "version": 3
   },
   "file_extension": ".py",
   "mimetype": "text/x-python",
   "name": "python",
   "nbconvert_exporter": "python",
   "pygments_lexer": "ipython3",
   "version": "3.9.12"
  },
  "orig_nbformat": 4,
  "vscode": {
   "interpreter": {
    "hash": "a23a6e25f04d9f91b77ea4396a46e870b27d23d0696169b2210a13d1cc496850"
   }
  }
 },
 "nbformat": 4,
 "nbformat_minor": 2
}
