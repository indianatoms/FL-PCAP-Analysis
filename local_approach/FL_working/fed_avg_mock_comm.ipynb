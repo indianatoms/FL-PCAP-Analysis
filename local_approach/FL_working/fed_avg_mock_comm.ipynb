{
 "cells": [
  {
   "cell_type": "code",
   "execution_count": 1,
   "metadata": {},
   "outputs": [],
   "source": [
    "### Different approach - batch size learning \n",
    "from sklearn.utils.class_weight import compute_sample_weight, compute_class_weight\n",
    "from sklearn.model_selection import StratifiedKFold, GridSearchCV, train_test_split\n",
    "from sklearn.preprocessing import StandardScaler\n",
    "import numpy as np\n",
    "from client import Client\n",
    "from fedavg import Fedavg\n",
    "from sklearn.metrics import accuracy_score, f1_score\n",
    "from sklearn.utils import shuffle\n",
    "from supported_modles import Supported_modles\n",
    "import random\n",
    "import utils"
   ]
  },
  {
   "cell_type": "code",
   "execution_count": 3,
   "metadata": {},
   "outputs": [],
   "source": [
    "def warn(*args, **kwargs):\n",
    "    pass\n",
    "import warnings\n",
    "warnings.warn = warn"
   ]
  },
  {
   "cell_type": "code",
   "execution_count": 4,
   "metadata": {},
   "outputs": [],
   "source": [
    "client1 = Client(\"node1\",\"0.0.0.0\")\n",
    "client2 = Client(\"node2\",\"0.0.0.0\")\n",
    "client3 = Client(\"node3\",\"0.0.0.0\")\n",
    "client4 = Client(\"node4\",\"0.0.0.0\")\n",
    "client5 = Client(\"node5\",\"0.0.0.0\")\n",
    "client6 = Client(\"node6\",\"0.0.0.0\")\n",
    "client7 = Client(\"node7\",\"0.0.0.0\")\n",
    "client8 = Client(\"node8\",\"0.0.0.0\")\n",
    "client9 = Client(\"node9\",\"0.0.0.0\")\n",
    "client10 = Client(\"node10\",\"0.0.0.0\")"
   ]
  },
  {
   "cell_type": "code",
   "execution_count": 5,
   "metadata": {},
   "outputs": [],
   "source": [
    "dataset1 = client1.load_data('../../datasets/MachineLearningCSV/MachineLearningCVE/new_pcapaa.csv', True)\n",
    "dataset2 = client2.load_data('../../datasets/MachineLearningCSV/MachineLearningCVE/new_pcapab.csv', True)  \n",
    "dataset3 = client3.load_data('../../datasets/MachineLearningCSV/MachineLearningCVE/new_pcapac.csv', True)  \n",
    "dataset4 = client4.load_data('../../datasets/MachineLearningCSV/MachineLearningCVE/new_pcapad.csv', True)  \n",
    "dataset5 = client5.load_data('../../datasets/MachineLearningCSV/MachineLearningCVE/new_pcapae.csv', True)  \n",
    "dataset6 = client6.load_data('../../datasets/MachineLearningCSV/MachineLearningCVE/new_pcapaf.csv', True)  \n",
    "dataset7 = client7.load_data('../../datasets/MachineLearningCSV/MachineLearningCVE/new_pcapag.csv', True)  \n",
    "dataset8 = client8.load_data('../../datasets/MachineLearningCSV/MachineLearningCVE/new_pcapah.csv', True)  \n",
    "dataset9 = client9.load_data('../../datasets/MachineLearningCSV/MachineLearningCVE/new_pcapai.csv', True)  \n",
    "dataset10 = client10.load_data('../../datasets/MachineLearningCSV/MachineLearningCVE/new_pcapaj.csv', True)"
   ]
  },
  {
   "cell_type": "code",
   "execution_count": 6,
   "metadata": {},
   "outputs": [],
   "source": [
    "client1.preprocess_data(dataset1, True)\n",
    "client2.preprocess_data(dataset2, True)\n",
    "client3.preprocess_data(dataset3, True)\n",
    "client4.preprocess_data(dataset4, True)\n",
    "client5.preprocess_data(dataset5, True)\n",
    "client6.preprocess_data(dataset6, True)\n",
    "client7.preprocess_data(dataset7, True)\n",
    "client8.preprocess_data(dataset8, True)\n",
    "client9.preprocess_data(dataset9, True)\n",
    "client10.preprocess_data(dataset10, True)"
   ]
  },
  {
   "cell_type": "code",
   "execution_count": 7,
   "metadata": {},
   "outputs": [],
   "source": [
    "clients = [client1,client2,client3,client4,client5,client6,client7,client8,client9,client10]\n",
    "for client in clients:\n",
    "    client.split_data()\n",
    "    client.init_empty_model(Supported_modles.SGD_classifier)"
   ]
  },
  {
   "cell_type": "code",
   "execution_count": 10,
   "metadata": {},
   "outputs": [],
   "source": [
    "fedavg = Fedavg(\"global\")\n",
    "lr = 0.05\n",
    "fedavg.init_global_model(lr, Supported_modles.SGD_classifier, None,78)"
   ]
  },
  {
   "cell_type": "code",
   "execution_count": null,
   "metadata": {},
   "outputs": [],
   "source": []
  }
 ],
 "metadata": {
  "kernelspec": {
   "display_name": "Python 3.10.6 ('flower_venv': venv)",
   "language": "python",
   "name": "python3"
  },
  "language_info": {
   "codemirror_mode": {
    "name": "ipython",
    "version": 3
   },
   "file_extension": ".py",
   "mimetype": "text/x-python",
   "name": "python",
   "nbconvert_exporter": "python",
   "pygments_lexer": "ipython3",
   "version": "3.10.6"
  },
  "orig_nbformat": 4,
  "vscode": {
   "interpreter": {
    "hash": "37a3f064d08b70021b14be81b11bab9d127cd79189cce72309f16083e51f60cf"
   }
  }
 },
 "nbformat": 4,
 "nbformat_minor": 2
}
