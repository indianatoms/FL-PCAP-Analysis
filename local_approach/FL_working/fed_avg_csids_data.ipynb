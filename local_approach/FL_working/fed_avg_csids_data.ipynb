{
 "cells": [
  {
   "cell_type": "code",
   "execution_count": 1,
   "metadata": {},
   "outputs": [],
   "source": [
    "import os\n",
    "import sys\n",
    "module_path = os.path.abspath(os.path.join('fede'))\n",
    "if module_path not in sys.path:\n",
    "    sys.path.append(module_path)\n",
    "\n",
    "from client import Client\n",
    "import pandas as pd\n",
    "from supported_modles import Supported_modles\n",
    "import utils\n",
    "from fedavg import Fedavg\n",
    "from sklearn.utils.class_weight import compute_sample_weight, compute_class_weight\n",
    "from sklearn.model_selection import StratifiedKFold, GridSearchCV, train_test_split\n",
    "from sklearn.preprocessing import StandardScaler\n",
    "import numpy as np\n",
    "from sklearn.metrics import accuracy_score, f1_score\n",
    "import random"
   ]
  },
  {
   "cell_type": "code",
   "execution_count": 2,
   "metadata": {},
   "outputs": [],
   "source": [
    "def warn(*args, **kwargs):\n",
    "    pass\n",
    "import warnings\n",
    "warnings.warn = warn"
   ]
  },
  {
   "cell_type": "code",
   "execution_count": 3,
   "metadata": {},
   "outputs": [],
   "source": [
    "selected_model = Supported_modles.SGD_classifier"
   ]
  },
  {
   "cell_type": "code",
   "execution_count": 4,
   "metadata": {},
   "outputs": [
    {
     "name": "stdout",
     "output_type": "stream",
     "text": [
      "Creating node1.\n",
      "Creating node2.\n",
      "Creating node3.\n",
      "Creating node4.\n",
      "Creating node5.\n",
      "0.36208\n",
      "0.3635\n",
      "0.36181\n",
      "0.36647\n",
      "0.36462\n"
     ]
    }
   ],
   "source": [
    "clients, text_x, test_y = utils.set_data(True)\n",
    "f1_before = []\n",
    "for client in clients:\n",
    "    client.init_empty_model(selected_model,0.001)\n",
    "    client.prep_data()\n",
    "    client.train_model()\n",
    "    print(client.y.mean())\n",
    "    y_hat = client.model.predict(text_x)\n",
    "    f1_before.append(f1_score(test_y,y_hat, average=\"binary\"))"
   ]
  },
  {
   "cell_type": "code",
   "execution_count": 5,
   "metadata": {},
   "outputs": [
    {
     "data": {
      "text/plain": [
       "[0.9562169016185574,\n",
       " 0.9557097038860297,\n",
       " 0.9558433033982756,\n",
       " 0.9556656125067129,\n",
       " 0.9563169037182813]"
      ]
     },
     "execution_count": 5,
     "metadata": {},
     "output_type": "execute_result"
    }
   ],
   "source": [
    "f1_before"
   ]
  },
  {
   "cell_type": "code",
   "execution_count": 6,
   "metadata": {},
   "outputs": [],
   "source": [
    "selected_model = Supported_modles.SGD_classifier"
   ]
  },
  {
   "cell_type": "code",
   "execution_count": 7,
   "metadata": {},
   "outputs": [],
   "source": [
    "# clients = utils.set_data(True)\n",
    "for client in clients:\n",
    "    # client.split_data()\n",
    "    client.init_empty_model(selected_model,0.00001,None)"
   ]
  },
  {
   "cell_type": "code",
   "execution_count": 8,
   "metadata": {},
   "outputs": [
    {
     "name": "stdout",
     "output_type": "stream",
     "text": [
      "[Errno 98] Address already in use\n",
      "Waitiing for a Connection..\n"
     ]
    }
   ],
   "source": [
    "fedavg = Fedavg(\"global\", 0.00001)\n",
    "fedavg.init_global_model(selected_model, None,78)"
   ]
  },
  {
   "cell_type": "code",
   "execution_count": 13,
   "metadata": {},
   "outputs": [
    {
     "name": "stdout",
     "output_type": "stream",
     "text": [
      "0 1 2 3 4 5 6 7 8 9 10 11 12 13 14 15 16 17 18 19 20 21 22 23 24 25 26 27 28 29 30 31 32 33 34 35 36 37 38 39 40 41 42 43 44 45 46 47 48 49 "
     ]
    }
   ],
   "source": [
    "number_of_rounds=50\n",
    "batch_size = 0.2\n",
    "epochs = 10\n",
    "prep = StandardScaler() \n",
    "\n",
    "\n",
    "for _ in range(number_of_rounds):\n",
    "    print(_,end=\" \")\n",
    "\n",
    "    applicable_clients = random.sample((clients), random.randint(2, 4))\n",
    "    applicable_models = []\n",
    "    applicable_name = []\n",
    "    round_weights = []\n",
    "    dataset_size = 0\n",
    "    \n",
    "\n",
    "    for client in applicable_clients:\n",
    "        # print(f'Client name: {client.name}')\n",
    "\n",
    "        X = client.x\n",
    "        y = client.y\n",
    "\n",
    "        X_train, X_test, y_train, y_test = train_test_split(X, y, shuffle=True, train_size=batch_size, stratify=y, random_state=random.randint(0,10))\n",
    "       \n",
    "        X_train = prep.fit_transform(X_train)\n",
    "\n",
    "        dataset_size += X_train.shape[0]\n",
    "        sample_weights = compute_sample_weight('balanced', y=y_train)\n",
    "\n",
    "        fedavg.load_global_model(client.model, selected_model)\n",
    "        fedavg.train_local_agent(X_train, y_train, client.model, epochs, sample_weights, selected_model)\n",
    "        round_weights.append(X_train.shape[0])\n",
    "        applicable_models.append(client.model)\n",
    "\n",
    "\n",
    "    round_weights = np.array(round_weights) / dataset_size # calculate weight based on actual dataset size\n",
    "    # round_weights = weights\n",
    "    fedavg.update_global_model(applicable_models, round_weights, selected_model)"
   ]
  },
  {
   "cell_type": "code",
   "execution_count": 14,
   "metadata": {},
   "outputs": [
    {
     "name": "stdout",
     "output_type": "stream",
     "text": [
      "[0.9755885960451133, 0.9642601545269983, 0.9769707048360036, 0.9758556725706079, 0.9715094673509114]\n"
     ]
    }
   ],
   "source": [
    "f1_fedavg = []\n",
    "for client in clients:\n",
    "    # x = prep.transform(client.x_test)\n",
    "    y_hat = client.model.predict(text_x)\n",
    "    f1_fedavg.append(f1_score(test_y,y_hat,average=\"binary\"))\n",
    "print(f1_fedavg)"
   ]
  },
  {
   "cell_type": "code",
   "execution_count": 15,
   "metadata": {},
   "outputs": [
    {
     "name": "stdout",
     "output_type": "stream",
     "text": [
      "Difference 0.01937169442655584\n",
      "Difference 0.008550450640968599\n",
      "Difference 0.021127401437727955\n",
      "Difference 0.02019006006389501\n",
      "Difference 0.015192563632630107\n"
     ]
    }
   ],
   "source": [
    "i = 0\n",
    "for client in clients:\n",
    "    print(f'Difference {f1_fedavg[i]-f1_before[i]}')\n",
    "    i += 1"
   ]
  },
  {
   "cell_type": "code",
   "execution_count": null,
   "metadata": {},
   "outputs": [],
   "source": []
  }
 ],
 "metadata": {
  "kernelspec": {
   "display_name": "Python 3.9.12 ('base')",
   "language": "python",
   "name": "python3"
  },
  "language_info": {
   "codemirror_mode": {
    "name": "ipython",
    "version": 3
   },
   "file_extension": ".py",
   "mimetype": "text/x-python",
   "name": "python",
   "nbconvert_exporter": "python",
   "pygments_lexer": "ipython3",
   "version": "3.9.12"
  },
  "orig_nbformat": 4,
  "vscode": {
   "interpreter": {
    "hash": "a23a6e25f04d9f91b77ea4396a46e870b27d23d0696169b2210a13d1cc496850"
   }
  }
 },
 "nbformat": 4,
 "nbformat_minor": 2
}
