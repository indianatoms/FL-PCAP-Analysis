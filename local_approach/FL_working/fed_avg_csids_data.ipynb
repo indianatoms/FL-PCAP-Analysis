{
 "cells": [
  {
   "cell_type": "code",
   "execution_count": 1,
   "metadata": {},
   "outputs": [],
   "source": [
    "import os\n",
    "import sys\n",
    "module_path = os.path.abspath(os.path.join('fede'))\n",
    "if module_path not in sys.path:\n",
    "    sys.path.append(module_path)\n",
    "# import pandas as pd\n",
    "from client import Client\n",
    "from supported_modles import Supported_modles\n",
    "import utils\n",
    "from fedavg import Fedavg\n",
    "from sklearn.utils.class_weight import compute_sample_weight\n",
    "import numpy as np\n",
    "import random\n",
    "from copy import deepcopy"
   ]
  },
  {
   "cell_type": "code",
   "execution_count": 2,
   "metadata": {},
   "outputs": [],
   "source": [
    "def warn(*args, **kwargs):\n",
    "    pass\n",
    "import warnings\n",
    "warnings.warn = warn"
   ]
  },
  {
   "cell_type": "code",
   "execution_count": 3,
   "metadata": {},
   "outputs": [],
   "source": [
    "selected_model = Supported_modles.NN_classifier"
   ]
  },
  {
   "cell_type": "code",
   "execution_count": 4,
   "metadata": {},
   "outputs": [
    {
     "name": "stdout",
     "output_type": "stream",
     "text": [
      "Creating node1.\n",
      "Creating node2.\n",
      "Creating node3.\n",
      "Creating node4.\n",
      "Creating node5.\n"
     ]
    }
   ],
   "source": [
    "clients, test_x, test_y = utils.set_data(selected_model, False, False)"
   ]
  },
  {
   "cell_type": "code",
   "execution_count": 5,
   "metadata": {},
   "outputs": [
    {
     "name": "stdout",
     "output_type": "stream",
     "text": [
      "0.0\n",
      "0.6352988477775544\n",
      "0.7101767138739191\n",
      "0.7152865438020701\n",
      "0.7101767138739191\n"
     ]
    }
   ],
   "source": [
    "f1_before = []\n",
    "for client in clients:\n",
    "    client.init_empty_model(0.01)\n",
    "    client.train_model(epochs=50)\n",
    "    try: \n",
    "        score = client.test_model_f1(y_test=test_y, X_test=test_x)\n",
    "    except IndexError:\n",
    "        score = 0\n",
    "    f1_before.append(score)\n",
    "    print(score)"
   ]
  },
  {
   "cell_type": "code",
   "execution_count": 42,
   "metadata": {},
   "outputs": [],
   "source": [
    "clients.remove(clients[0])"
   ]
  },
  {
   "cell_type": "code",
   "execution_count": 43,
   "metadata": {},
   "outputs": [
    {
     "name": "stdout",
     "output_type": "stream",
     "text": [
      "[Errno 98] Address already in use\n",
      "Waitiing for a Connection..\n"
     ]
    }
   ],
   "source": [
    "fedavg = Fedavg(\"global\", 0.1, selected_model)"
   ]
  },
  {
   "cell_type": "code",
   "execution_count": 69,
   "metadata": {},
   "outputs": [
    {
     "name": "stdout",
     "output_type": "stream",
     "text": [
      ".\n",
      ".\n",
      ".\n",
      ".\n"
     ]
    }
   ],
   "source": [
    "###First learn model on clients:\n",
    "round_weights = []\n",
    "dataset_size = 0\n",
    "applicable_models = []\n",
    "first = True\n",
    "epochs = 5\n",
    "\n",
    "for client in clients:\n",
    "    client.init_empty_model(0.01)\n",
    "    X_train, X_test, y_train, y_test = client.split_data(0.9)\n",
    "\n",
    "    # X_train = client.x_chunks[0]\n",
    "    # y_train = client.y_chunks[0]\n",
    "\n",
    "    client.train_model(X_train,y_train,epochs=epochs)\n",
    "    dataset_size += client.x.shape[0]\n",
    "    round_weights.append(dataset_size)\n",
    "    applicable_models.append(client.model)\n",
    "    if first:\n",
    "        fedavg.init_global_model(client.model)\n",
    "        first = False\n",
    "    print('.')\n",
    "\n",
    "round_weights = np.array(round_weights) / dataset_size # calculate weight based on actual dataset size\n",
    "fedavg.update_global_model(applicable_models, round_weights, selected_model)"
   ]
  },
  {
   "cell_type": "code",
   "execution_count": 70,
   "metadata": {},
   "outputs": [
    {
     "name": "stdout",
     "output_type": "stream",
     "text": [
      "0.7901208746198158\n"
     ]
    }
   ],
   "source": [
    "score = fedavg.test_model_f1(y_test=test_y, X_test=test_x)\n",
    "print(score)"
   ]
  },
  {
   "cell_type": "code",
   "execution_count": 71,
   "metadata": {},
   "outputs": [
    {
     "name": "stdout",
     "output_type": "stream",
     "text": [
      "0 ....0.8032042297251744\n",
      "1 ....2 ....3 ....4 ....5 ....6 ....7 ....8 ...."
     ]
    }
   ],
   "source": [
    "number_of_rounds = 9\n",
    "epochs = 5\n",
    "max_score = 0\n",
    "optimal_model = None\n",
    "\n",
    "\n",
    "for round in range(number_of_rounds):\n",
    "    print(round, end=' ')\n",
    "\n",
    "    applicable_clients = random.sample((clients), len(clients))#random.randint(1, 4))\n",
    "    applicable_models = []\n",
    "    applicable_name = []\n",
    "    round_weights = []\n",
    "    dataset_size = 0\n",
    "    \n",
    "\n",
    "    for client in applicable_clients:\n",
    "        print(f'.', end='')\n",
    "\n",
    "        X_train, X_test, y_train, y_test = client.split_data(0.9)\n",
    "\n",
    "        # X_train = client.x_chunks[round + 1]\n",
    "        # y_train = client.y_chunks[round + 1]\n",
    "\n",
    "       \n",
    "        dataset_size += X_train.shape[0]\n",
    "        sample_weights = compute_sample_weight('balanced', y=y_train)\n",
    "\n",
    "        client.load_global_model(fedavg.model)\n",
    "        client.train_local_agent(X_train, y_train, epochs, sample_weights)\n",
    "        round_weights.append(X_train.shape[0])\n",
    "        applicable_models.append(client.model)\n",
    "\n",
    "\n",
    "    round_weights = np.array(round_weights) / dataset_size\n",
    "    fedavg.update_global_model(applicable_models, round_weights, selected_model)\n",
    "\n",
    "    score = fedavg.test_model_f1(y_test=test_y, X_test=test_x)\n",
    "    if score > max_score:\n",
    "        print(score)\n",
    "        max_score = score\n",
    "        optimal_model = deepcopy(fedavg.model)"
   ]
  },
  {
   "cell_type": "code",
   "execution_count": 72,
   "metadata": {},
   "outputs": [
    {
     "name": "stdout",
     "output_type": "stream",
     "text": [
      "0.7915963594715815\n",
      "0.8032042297251744\n"
     ]
    }
   ],
   "source": [
    "# x = test_x\n",
    "# y_hat = optimal_model.predict(x)\n",
    "# score = f1_score(test_y,y_hat)\n",
    "score = fedavg.test_model_f1(y_test=test_y, X_test=test_x)\n",
    "print(score)\n",
    "fedavg.model = optimal_model\n",
    "score = fedavg.test_model_f1(y_test=test_y, X_test=test_x)\n",
    "print(score)"
   ]
  },
  {
   "cell_type": "code",
   "execution_count": 73,
   "metadata": {},
   "outputs": [
    {
     "name": "stdout",
     "output_type": "stream",
     "text": [
      "Difference 0.8032042297251744\n",
      "Difference 0.01799659104678697\n",
      "Difference 0.07859577694692976\n",
      "Difference 0.09302751585125524\n",
      "Difference 0.09302751585125524\n"
     ]
    }
   ],
   "source": [
    "for i in f1_before:\n",
    "    print(f'Difference {score-i}')"
   ]
  },
  {
   "cell_type": "markdown",
   "metadata": {},
   "source": [
    "## Centralized Zone"
   ]
  },
  {
   "cell_type": "code",
   "execution_count": 14,
   "metadata": {},
   "outputs": [
    {
     "name": "stdout",
     "output_type": "stream",
     "text": [
      "Creating node1.\n",
      ".\n",
      ".\n",
      ".\n",
      ".\n",
      ".\n"
     ]
    }
   ],
   "source": [
    "client1 = Client(\"node1\",\"0.0.0.0\", 5001, selected_model)\n",
    "client1.x = clients[0].x\n",
    "client1.init_empty_model(0.01)\n",
    "\n",
    "\n",
    "for client in clients:\n",
    "    client1.train_model(x=client.x,y=client.y,epochs=50)\n",
    "    print(f'.')"
   ]
  },
  {
   "cell_type": "code",
   "execution_count": 15,
   "metadata": {},
   "outputs": [
    {
     "name": "stdout",
     "output_type": "stream",
     "text": [
      "0.7945415125621731\n"
     ]
    }
   ],
   "source": [
    "score = client1.test_model_f1(y_test=test_y, X_test=test_x)\n",
    "print(score)"
   ]
  },
  {
   "cell_type": "code",
   "execution_count": null,
   "metadata": {},
   "outputs": [],
   "source": []
  }
 ],
 "metadata": {
  "kernelspec": {
   "display_name": "Python 3.9.12 ('base')",
   "language": "python",
   "name": "python3"
  },
  "language_info": {
   "codemirror_mode": {
    "name": "ipython",
    "version": 3
   },
   "file_extension": ".py",
   "mimetype": "text/x-python",
   "name": "python",
   "nbconvert_exporter": "python",
   "pygments_lexer": "ipython3",
   "version": "3.9.12"
  },
  "orig_nbformat": 4,
  "vscode": {
   "interpreter": {
    "hash": "a23a6e25f04d9f91b77ea4396a46e870b27d23d0696169b2210a13d1cc496850"
   }
  }
 },
 "nbformat": 4,
 "nbformat_minor": 2
}
