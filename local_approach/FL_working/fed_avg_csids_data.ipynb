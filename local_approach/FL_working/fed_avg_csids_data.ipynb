{
 "cells": [
  {
   "cell_type": "code",
   "execution_count": 1,
   "metadata": {},
   "outputs": [],
   "source": [
    "import os\n",
    "import sys\n",
    "module_path = os.path.abspath(os.path.join('fede'))\n",
    "if module_path not in sys.path:\n",
    "    sys.path.append(module_path)\n",
    "# import pandas as pd\n",
    "from client import Client\n",
    "from supported_modles import Supported_modles\n",
    "import utils\n",
    "from fedavg import Fedavg\n",
    "from sklearn.utils.class_weight import compute_sample_weight\n",
    "import numpy as np\n",
    "import random\n",
    "from copy import deepcopy\n",
    "import statistics\n",
    "import matplotlib.pyplot as plt"
   ]
  },
  {
   "cell_type": "code",
   "execution_count": 2,
   "metadata": {},
   "outputs": [],
   "source": [
    "def warn(*args, **kwargs):\n",
    "    pass\n",
    "import warnings\n",
    "warnings.warn = warn"
   ]
  },
  {
   "cell_type": "code",
   "execution_count": 3,
   "metadata": {},
   "outputs": [],
   "source": [
    "selected_model = Supported_modles.SGD_classifier"
   ]
  },
  {
   "cell_type": "code",
   "execution_count": 4,
   "metadata": {},
   "outputs": [
    {
     "name": "stdout",
     "output_type": "stream",
     "text": [
      "Creating node1.\n",
      "Creating node2.\n",
      "Creating node3.\n",
      "Creating node4.\n",
      "Creating node5.\n",
      "test\n"
     ]
    }
   ],
   "source": [
    "clients, test_x, test_y = utils.set_data(selected_model, False, False, False)"
   ]
  },
  {
   "cell_type": "code",
   "execution_count": 31,
   "metadata": {},
   "outputs": [
    {
     "data": {
      "text/plain": [
       "40916"
      ]
     },
     "execution_count": 31,
     "metadata": {},
     "output_type": "execute_result"
    }
   ],
   "source": [
    "test_y.sum()"
   ]
  },
  {
   "cell_type": "code",
   "execution_count": 32,
   "metadata": {},
   "outputs": [
    {
     "name": "stdout",
     "output_type": "stream",
     "text": [
      "node1\n",
      "0.8514577738495881\n",
      "0.7654152400269096\n",
      "0.7122941094360692\n",
      "0.7618035354665474\n"
     ]
    }
   ],
   "source": [
    "f1_before = []\n",
    "for client in clients:\n",
    "    client.init_empty_model(epochs=30)\n",
    "    try:\n",
    "        client.train_model(epochs=50)\n",
    "    except ValueError:\n",
    "        score = 0\n",
    "        print(client.name)\n",
    "        f1_before.append(score)\n",
    "        continue \n",
    "    try: \n",
    "        score = client.test_model_f1(y_test=test_y, X_test=test_x)\n",
    "    except IndexError:\n",
    "        score = 0\n",
    "    f1_before.append(score)\n",
    "    print(score)"
   ]
  },
  {
   "cell_type": "code",
   "execution_count": 33,
   "metadata": {},
   "outputs": [
    {
     "name": "stdout",
     "output_type": "stream",
     "text": [
      "[Errno 98] Address already in use\n",
      "Waitiing for a Connection..\n"
     ]
    }
   ],
   "source": [
    "fedavg = Fedavg(\"global\", selected_model)"
   ]
  },
  {
   "cell_type": "code",
   "execution_count": 34,
   "metadata": {},
   "outputs": [],
   "source": [
    "clients.remove(clients[0])"
   ]
  },
  {
   "cell_type": "code",
   "execution_count": 35,
   "metadata": {},
   "outputs": [],
   "source": [
    "###First learn model on clients:\n",
    "def plot(epochs, split, rounds):\n",
    "    epochs = epochs\n",
    "    split = split\n",
    "    scores = []\n",
    "\n",
    "    for _ in range(10):\n",
    "        round_scores = []\n",
    "        score = 0\n",
    "        round_weights = []\n",
    "        dataset_size = 0\n",
    "        applicable_models = []\n",
    "        first = True\n",
    "\n",
    "        for client in clients:\n",
    "            client.init_empty_model(epochs)\n",
    "            X_train, X_test, y_train, y_test = client.split_data(split)\n",
    "\n",
    "            # X_train = client.x_chunks[0]\n",
    "            # y_train = client.y_chunks[0]\n",
    "\n",
    "            client.train_model(X_train,y_train,epochs=epochs)\n",
    "            dataset_size += client.x.shape[0]\n",
    "            round_weights.append(dataset_size)\n",
    "            applicable_models.append(client.model)\n",
    "            if first:\n",
    "                fedavg.init_global_model(client.model)\n",
    "                first = False\n",
    "            # print('.')\n",
    "\n",
    "        round_weights = np.array(round_weights) / dataset_size # calculate weight based on actual dataset size\n",
    "        fedavg.update_global_model(applicable_models, round_weights, selected_model)\n",
    "\n",
    "        score = fedavg.test_model_f1(y_test=test_y, X_test=test_x)\n",
    "        round_scores.append(score)\n",
    "\n",
    "        number_of_rounds = rounds\n",
    "        max_score = 0\n",
    "        optimal_model = None\n",
    "\n",
    "\n",
    "        for round in range(number_of_rounds):\n",
    "\n",
    "            applicable_clients = random.sample((clients), len(clients))\n",
    "            applicable_models = []\n",
    "            applicable_name = []\n",
    "            round_weights = []\n",
    "            dataset_size = 0\n",
    "            \n",
    "\n",
    "            for client in applicable_clients:\n",
    "                # print(f'.', end='')\n",
    "\n",
    "                X_train, X_test, y_train, y_test = client.split_data(split)\n",
    "\n",
    "                # X_train = client.x_chunks[round + 1]\n",
    "                # y_train = client.y_chunks[round + 1]\n",
    "            \n",
    "                dataset_size += X_train.shape[0]\n",
    "                sample_weights = compute_sample_weight('balanced', y=y_train)\n",
    "\n",
    "                client.load_global_model(fedavg.model)\n",
    "                client.train_local_agent(X_train, y_train, epochs, sample_weights)\n",
    "                round_weights.append(X_train.shape[0])\n",
    "                applicable_models.append(client.model)\n",
    "\n",
    "\n",
    "            round_weights = np.array(round_weights) / dataset_size\n",
    "            fedavg.update_global_model(applicable_models, round_weights, selected_model)\n",
    "\n",
    "            score = fedavg.test_model_f1(y_test=test_y, X_test=test_x)\n",
    "            round_scores.append(score)\n",
    "            # print(score, end=' ')\n",
    "            if score > max_score:\n",
    "                # print(score)\n",
    "                max_score = score\n",
    "                optimal_model = deepcopy(fedavg.model)\n",
    "        print(score)\n",
    "        print('--------------------')\n",
    "        scores.append(round_scores)\n",
    "\n",
    "    # print(f'epochs: {epochs} split = {split} --- {statistics.mean(scores)} stdev {statistics.stdev(scores)}')\n",
    "    plt.rcParams[\"figure.figsize\"] = (10,10)\n",
    "    for x in scores:\n",
    "        plt.plot(x)\n",
    "\n",
    "    plt.xlabel(\"Number of Rounds\", fontsize=16)\n",
    "    plt.ylabel(\"F1-Score\", fontsize=16)\n",
    "    plt.xticks(range(0,rounds+1,5))\n",
    "    plt.xticks(size = 16)\n",
    "    plt.yticks(size = 16)\n",
    "    plt.title('UNSW - LR-SGD, E=' +str(epochs)+', B=' + str(split) +', C=5')\n",
    "    plt.show()\n"
   ]
  },
  {
   "cell_type": "code",
   "execution_count": 36,
   "metadata": {},
   "outputs": [],
   "source": [
    "###First learn model on clients:\n",
    "def find_scores(epochs, split, rounds):\n",
    "    epochs = epochs\n",
    "    split = split\n",
    "    scores = []\n",
    "\n",
    "    for _ in range(10):\n",
    "        score = 0\n",
    "        round_weights = []\n",
    "        dataset_size = 0\n",
    "        applicable_models = []\n",
    "        first = True\n",
    "\n",
    "        for client in clients:\n",
    "            client.init_empty_model(epochs)\n",
    "            X_train, X_test, y_train, y_test = client.split_data(split)\n",
    "\n",
    "            client.train_model(X_train,y_train,epochs=epochs)\n",
    "            dataset_size += client.x.shape[0]\n",
    "            round_weights.append(dataset_size)\n",
    "            applicable_models.append(client.model)\n",
    "            if first:\n",
    "                fedavg.init_global_model(client.model)\n",
    "                first = False\n",
    "            # print('.')\n",
    "\n",
    "        round_weights = np.array(round_weights) / dataset_size # calculate weight based on actual dataset size\n",
    "        fedavg.update_global_model(applicable_models, round_weights, selected_model)\n",
    "\n",
    "        score = fedavg.test_model_f1(y_test=test_y, X_test=test_x)\n",
    "\n",
    "        number_of_rounds = rounds\n",
    "        max_score = 0\n",
    "        optimal_model = None\n",
    "\n",
    "\n",
    "        for round in range(number_of_rounds):\n",
    "\n",
    "            applicable_clients = random.sample((clients), len(clients))\n",
    "            applicable_models = []\n",
    "            applicable_name = []\n",
    "            round_weights = []\n",
    "            dataset_size = 0\n",
    "            \n",
    "\n",
    "            for client in applicable_clients:\n",
    "                # print(f'.', end='')\n",
    "\n",
    "                X_train, X_test, y_train, y_test = client.split_data(split)\n",
    "            \n",
    "                dataset_size += X_train.shape[0]\n",
    "                sample_weights = compute_sample_weight('balanced', y=y_train)\n",
    "\n",
    "                client.load_global_model(fedavg.model)\n",
    "                client.train_local_agent(X_train, y_train, epochs, sample_weights)\n",
    "                round_weights.append(X_train.shape[0])\n",
    "                applicable_models.append(client.model)\n",
    "\n",
    "\n",
    "            round_weights = np.array(round_weights) / dataset_size\n",
    "            fedavg.update_global_model(applicable_models, round_weights, selected_model)\n",
    "\n",
    "            score = fedavg.test_model_f1(y_test=test_y, X_test=test_x)\n",
    "            # print(score, end=' ')\n",
    "            if score > max_score:\n",
    "                # print(score)\n",
    "                max_score = score\n",
    "                optimal_model = deepcopy(fedavg.model)\n",
    "        print(score)\n",
    "        print('--------------------')\n",
    "        scores.append(score)\n",
    "\n",
    "    print(f'epochs: {epochs} split = {split} --- {statistics.mean(scores)} stdev {statistics.stdev(scores)}')\n",
    "    plt.rcParams[\"figure.figsize\"] = (10,10)\n",
    "    for x in scores:\n",
    "        plt.plot(x)\n",
    "\n",
    "    plt.xlabel(\"Number of Rounds\", fontsize=16)\n",
    "    plt.ylabel(\"F1-Score\", fontsize=16)\n",
    "    plt.xticks(range(0,rounds+1,5))\n",
    "    plt.xticks(size = 16)\n",
    "    plt.yticks(size = 16)\n",
    "    plt.title('UNSW - LR-SGD, E=' +str(epochs)+', B=' + str(split) +', C=5')\n",
    "    plt.show()\n"
   ]
  },
  {
   "cell_type": "code",
   "execution_count": 37,
   "metadata": {},
   "outputs": [],
   "source": [
    "# plot(10,0.9,19)"
   ]
  },
  {
   "cell_type": "code",
   "execution_count": 38,
   "metadata": {},
   "outputs": [],
   "source": [
    "# plot(10,0.8,19)"
   ]
  },
  {
   "cell_type": "code",
   "execution_count": 39,
   "metadata": {},
   "outputs": [],
   "source": [
    "# plot(20,0.9,9)"
   ]
  },
  {
   "cell_type": "code",
   "execution_count": 40,
   "metadata": {},
   "outputs": [],
   "source": [
    "# plot(20,0.8,9)"
   ]
  },
  {
   "cell_type": "code",
   "execution_count": 41,
   "metadata": {},
   "outputs": [
    {
     "name": "stdout",
     "output_type": "stream",
     "text": [
      "0.8154240291145908\n",
      "--------------------\n",
      "0.8734868773433316\n",
      "--------------------\n"
     ]
    },
    {
     "ename": "KeyboardInterrupt",
     "evalue": "",
     "output_type": "error",
     "traceback": [
      "\u001b[0;31m---------------------------------------------------------------------------\u001b[0m",
      "\u001b[0;31mKeyboardInterrupt\u001b[0m                         Traceback (most recent call last)",
      "\u001b[1;32m/home/tk/Desktop/Studia/masters/git-repo/local_approach/FL_working/fed_avg_csids_data.ipynb Cell 15\u001b[0m in \u001b[0;36m<cell line: 1>\u001b[0;34m()\u001b[0m\n\u001b[0;32m----> <a href='vscode-notebook-cell:/home/tk/Desktop/Studia/masters/git-repo/local_approach/FL_working/fed_avg_csids_data.ipynb#X20sZmlsZQ%3D%3D?line=0'>1</a>\u001b[0m find_scores(\u001b[39m10\u001b[39;49m, \u001b[39m0.9\u001b[39;49m, \u001b[39m15\u001b[39;49m)\n",
      "\u001b[1;32m/home/tk/Desktop/Studia/masters/git-repo/local_approach/FL_working/fed_avg_csids_data.ipynb Cell 15\u001b[0m in \u001b[0;36mfind_scores\u001b[0;34m(epochs, split, rounds)\u001b[0m\n\u001b[1;32m     <a href='vscode-notebook-cell:/home/tk/Desktop/Studia/masters/git-repo/local_approach/FL_working/fed_avg_csids_data.ipynb#X20sZmlsZQ%3D%3D?line=13'>14</a>\u001b[0m \u001b[39mfor\u001b[39;00m client \u001b[39min\u001b[39;00m clients:\n\u001b[1;32m     <a href='vscode-notebook-cell:/home/tk/Desktop/Studia/masters/git-repo/local_approach/FL_working/fed_avg_csids_data.ipynb#X20sZmlsZQ%3D%3D?line=14'>15</a>\u001b[0m     client\u001b[39m.\u001b[39minit_empty_model(epochs)\n\u001b[0;32m---> <a href='vscode-notebook-cell:/home/tk/Desktop/Studia/masters/git-repo/local_approach/FL_working/fed_avg_csids_data.ipynb#X20sZmlsZQ%3D%3D?line=15'>16</a>\u001b[0m     X_train, X_test, y_train, y_test \u001b[39m=\u001b[39m client\u001b[39m.\u001b[39;49msplit_data(split)\n\u001b[1;32m     <a href='vscode-notebook-cell:/home/tk/Desktop/Studia/masters/git-repo/local_approach/FL_working/fed_avg_csids_data.ipynb#X20sZmlsZQ%3D%3D?line=17'>18</a>\u001b[0m     client\u001b[39m.\u001b[39mtrain_model(X_train,y_train,epochs\u001b[39m=\u001b[39mepochs)\n\u001b[1;32m     <a href='vscode-notebook-cell:/home/tk/Desktop/Studia/masters/git-repo/local_approach/FL_working/fed_avg_csids_data.ipynb#X20sZmlsZQ%3D%3D?line=18'>19</a>\u001b[0m     dataset_size \u001b[39m+\u001b[39m\u001b[39m=\u001b[39m client\u001b[39m.\u001b[39mx\u001b[39m.\u001b[39mshape[\u001b[39m0\u001b[39m]\n",
      "File \u001b[0;32m~/Desktop/Studia/masters/git-repo/local_approach/FL_working/fede/client.py:182\u001b[0m, in \u001b[0;36mClient.split_data\u001b[0;34m(self, test_size)\u001b[0m\n\u001b[1;32m    181\u001b[0m \u001b[39mdef\u001b[39;00m \u001b[39msplit_data\u001b[39m(\u001b[39mself\u001b[39m, test_size):\n\u001b[0;32m--> 182\u001b[0m     \u001b[39mreturn\u001b[39;00m train_test_split(\n\u001b[1;32m    183\u001b[0m         \u001b[39mself\u001b[39;49m\u001b[39m.\u001b[39;49mx, \u001b[39mself\u001b[39;49m\u001b[39m.\u001b[39;49my, test_size\u001b[39m=\u001b[39;49mtest_size, stratify\u001b[39m=\u001b[39;49m\u001b[39mself\u001b[39;49m\u001b[39m.\u001b[39;49my, random_state\u001b[39m=\u001b[39;49m\u001b[39m1\u001b[39;49m\n\u001b[1;32m    184\u001b[0m     )\n",
      "File \u001b[0;32m~/anaconda3/lib/python3.9/site-packages/sklearn/model_selection/_split.py:2443\u001b[0m, in \u001b[0;36mtrain_test_split\u001b[0;34m(test_size, train_size, random_state, shuffle, stratify, *arrays)\u001b[0m\n\u001b[1;32m   2439\u001b[0m     cv \u001b[39m=\u001b[39m CVClass(test_size\u001b[39m=\u001b[39mn_test, train_size\u001b[39m=\u001b[39mn_train, random_state\u001b[39m=\u001b[39mrandom_state)\n\u001b[1;32m   2441\u001b[0m     train, test \u001b[39m=\u001b[39m \u001b[39mnext\u001b[39m(cv\u001b[39m.\u001b[39msplit(X\u001b[39m=\u001b[39marrays[\u001b[39m0\u001b[39m], y\u001b[39m=\u001b[39mstratify))\n\u001b[0;32m-> 2443\u001b[0m \u001b[39mreturn\u001b[39;00m \u001b[39mlist\u001b[39;49m(\n\u001b[1;32m   2444\u001b[0m     chain\u001b[39m.\u001b[39;49mfrom_iterable(\n\u001b[1;32m   2445\u001b[0m         (_safe_indexing(a, train), _safe_indexing(a, test)) \u001b[39mfor\u001b[39;49;00m a \u001b[39min\u001b[39;49;00m arrays\n\u001b[1;32m   2446\u001b[0m     )\n\u001b[1;32m   2447\u001b[0m )\n",
      "File \u001b[0;32m~/anaconda3/lib/python3.9/site-packages/sklearn/model_selection/_split.py:2445\u001b[0m, in \u001b[0;36m<genexpr>\u001b[0;34m(.0)\u001b[0m\n\u001b[1;32m   2439\u001b[0m     cv \u001b[39m=\u001b[39m CVClass(test_size\u001b[39m=\u001b[39mn_test, train_size\u001b[39m=\u001b[39mn_train, random_state\u001b[39m=\u001b[39mrandom_state)\n\u001b[1;32m   2441\u001b[0m     train, test \u001b[39m=\u001b[39m \u001b[39mnext\u001b[39m(cv\u001b[39m.\u001b[39msplit(X\u001b[39m=\u001b[39marrays[\u001b[39m0\u001b[39m], y\u001b[39m=\u001b[39mstratify))\n\u001b[1;32m   2443\u001b[0m \u001b[39mreturn\u001b[39;00m \u001b[39mlist\u001b[39m(\n\u001b[1;32m   2444\u001b[0m     chain\u001b[39m.\u001b[39mfrom_iterable(\n\u001b[0;32m-> 2445\u001b[0m         (_safe_indexing(a, train), _safe_indexing(a, test)) \u001b[39mfor\u001b[39;00m a \u001b[39min\u001b[39;00m arrays\n\u001b[1;32m   2446\u001b[0m     )\n\u001b[1;32m   2447\u001b[0m )\n",
      "File \u001b[0;32m~/anaconda3/lib/python3.9/site-packages/sklearn/utils/__init__.py:378\u001b[0m, in \u001b[0;36m_safe_indexing\u001b[0;34m(X, indices, axis)\u001b[0m\n\u001b[1;32m    376\u001b[0m     \u001b[39mreturn\u001b[39;00m _pandas_indexing(X, indices, indices_dtype, axis\u001b[39m=\u001b[39maxis)\n\u001b[1;32m    377\u001b[0m \u001b[39melif\u001b[39;00m \u001b[39mhasattr\u001b[39m(X, \u001b[39m\"\u001b[39m\u001b[39mshape\u001b[39m\u001b[39m\"\u001b[39m):\n\u001b[0;32m--> 378\u001b[0m     \u001b[39mreturn\u001b[39;00m _array_indexing(X, indices, indices_dtype, axis\u001b[39m=\u001b[39;49maxis)\n\u001b[1;32m    379\u001b[0m \u001b[39melse\u001b[39;00m:\n\u001b[1;32m    380\u001b[0m     \u001b[39mreturn\u001b[39;00m _list_indexing(X, indices, indices_dtype)\n",
      "File \u001b[0;32m~/anaconda3/lib/python3.9/site-packages/sklearn/utils/__init__.py:202\u001b[0m, in \u001b[0;36m_array_indexing\u001b[0;34m(array, key, key_dtype, axis)\u001b[0m\n\u001b[1;32m    200\u001b[0m \u001b[39mif\u001b[39;00m \u001b[39misinstance\u001b[39m(key, \u001b[39mtuple\u001b[39m):\n\u001b[1;32m    201\u001b[0m     key \u001b[39m=\u001b[39m \u001b[39mlist\u001b[39m(key)\n\u001b[0;32m--> 202\u001b[0m \u001b[39mreturn\u001b[39;00m array[key] \u001b[39mif\u001b[39;00m axis \u001b[39m==\u001b[39m \u001b[39m0\u001b[39m \u001b[39melse\u001b[39;00m array[:, key]\n",
      "\u001b[0;31mKeyboardInterrupt\u001b[0m: "
     ]
    }
   ],
   "source": [
    "find_scores(10, 0.9, 15)"
   ]
  },
  {
   "cell_type": "code",
   "execution_count": null,
   "metadata": {},
   "outputs": [],
   "source": []
  }
 ],
 "metadata": {
  "kernelspec": {
   "display_name": "Python 3.9.12 ('base')",
   "language": "python",
   "name": "python3"
  },
  "language_info": {
   "codemirror_mode": {
    "name": "ipython",
    "version": 3
   },
   "file_extension": ".py",
   "mimetype": "text/x-python",
   "name": "python",
   "nbconvert_exporter": "python",
   "pygments_lexer": "ipython3",
   "version": "3.9.12 (main, Apr  5 2022, 06:56:58) \n[GCC 7.5.0]"
  },
  "orig_nbformat": 4,
  "vscode": {
   "interpreter": {
    "hash": "a23a6e25f04d9f91b77ea4396a46e870b27d23d0696169b2210a13d1cc496850"
   }
  }
 },
 "nbformat": 4,
 "nbformat_minor": 2
}
