{
 "cells": [
  {
   "cell_type": "code",
   "execution_count": 20,
   "metadata": {},
   "outputs": [],
   "source": [
    "import os\n",
    "import sys\n",
    "module_path = os.path.abspath(os.path.join('fede'))\n",
    "if module_path not in sys.path:\n",
    "    sys.path.append(module_path)\n",
    "\n",
    "from client import Client\n",
    "import pandas as pd\n",
    "from supported_modles import Supported_modles\n",
    "import utils\n",
    "from fedavg import Fedavg\n",
    "from sklearn.utils.class_weight import compute_sample_weight, compute_class_weight\n",
    "from sklearn.model_selection import StratifiedKFold, GridSearchCV, train_test_split\n",
    "from sklearn.preprocessing import StandardScaler\n",
    "import numpy as np\n",
    "from sklearn.metrics import accuracy_score, f1_score\n",
    "import random"
   ]
  },
  {
   "cell_type": "code",
   "execution_count": 21,
   "metadata": {},
   "outputs": [],
   "source": [
    "def warn(*args, **kwargs):\n",
    "    pass\n",
    "import warnings\n",
    "warnings.warn = warn"
   ]
  },
  {
   "cell_type": "code",
   "execution_count": 22,
   "metadata": {},
   "outputs": [
    {
     "name": "stdout",
     "output_type": "stream",
     "text": [
      "Creating node1.\n",
      "Creating node2.\n",
      "Creating node3.\n",
      "Creating node4.\n",
      "Creating node5.\n",
      "DOWNSAMLING node3\n"
     ]
    }
   ],
   "source": [
    "clients = utils.set_data(True)"
   ]
  },
  {
   "cell_type": "code",
   "execution_count": 23,
   "metadata": {},
   "outputs": [],
   "source": [
    "selected_model = Supported_modles.logistic_regression"
   ]
  },
  {
   "cell_type": "code",
   "execution_count": 24,
   "metadata": {},
   "outputs": [],
   "source": [
    "f1_before = []\n",
    "for client in clients:\n",
    "    # client.downsample_data(['Destination Port','Flow Duration','Flow Bytes/s'])\n",
    "    client.init_empty_model(selected_model,0.01,None)\n",
    "    client.split_data()\n",
    "    client.prep_data()\n",
    "    client.train_model(selected_model)\n",
    "    f1_before.append(client.f1)"
   ]
  },
  {
   "cell_type": "code",
   "execution_count": 25,
   "metadata": {},
   "outputs": [
    {
     "data": {
      "text/plain": [
       "[0.9987980378780495,\n",
       " 0.9981154570978039,\n",
       " 0.9762174405436014,\n",
       " 0.9981196663613134,\n",
       " 0.998695591097911]"
      ]
     },
     "execution_count": 25,
     "metadata": {},
     "output_type": "execute_result"
    }
   ],
   "source": [
    "f1_before"
   ]
  },
  {
   "cell_type": "code",
   "execution_count": 30,
   "metadata": {},
   "outputs": [],
   "source": [
    "selected_model = Supported_modles.SGD_classifier"
   ]
  },
  {
   "cell_type": "code",
   "execution_count": 31,
   "metadata": {},
   "outputs": [],
   "source": [
    "# clients = utils.set_data(True)\n",
    "for client in clients:\n",
    "    # client.split_data()\n",
    "    client.init_empty_model(selected_model,0.001,None)"
   ]
  },
  {
   "cell_type": "code",
   "execution_count": 32,
   "metadata": {},
   "outputs": [
    {
     "name": "stdout",
     "output_type": "stream",
     "text": [
      "[Errno 98] Address already in use\n",
      "Waitiing for a Connection..\n"
     ]
    }
   ],
   "source": [
    "fedavg = Fedavg(\"global\", 0.001)\n",
    "fedavg.init_global_model(selected_model, None,78)"
   ]
  },
  {
   "cell_type": "code",
   "execution_count": 33,
   "metadata": {},
   "outputs": [
    {
     "name": "stdout",
     "output_type": "stream",
     "text": [
      "Starting new round!\n",
      "[-1.42460015]\n",
      "Starting new round!\n",
      "[-1.13735378]\n",
      "Starting new round!\n",
      "[-1.49025118]\n",
      "Starting new round!\n",
      "[-2.00654842]\n",
      "Starting new round!\n",
      "[-1.46212165]\n",
      "Starting new round!\n",
      "[-1.38347927]\n",
      "Starting new round!\n",
      "[-1.28266448]\n",
      "Starting new round!\n",
      "[-1.9356928]\n",
      "Starting new round!\n",
      "[-0.47679585]\n",
      "Starting new round!\n",
      "[-1.51380943]\n",
      "Starting new round!\n",
      "[-0.67098428]\n",
      "Starting new round!\n",
      "[-0.37208545]\n",
      "Starting new round!\n",
      "[-1.03548755]\n",
      "Starting new round!\n",
      "[-1.84481393]\n",
      "Starting new round!\n",
      "[-1.30826009]\n",
      "Starting new round!\n",
      "[-1.39318034]\n",
      "Starting new round!\n",
      "[-1.27555453]\n",
      "Starting new round!\n",
      "[-1.35986574]\n",
      "Starting new round!\n",
      "[-1.42960143]\n",
      "Starting new round!\n",
      "[-1.39527299]\n",
      "Starting new round!\n",
      "[-0.84421742]\n",
      "Starting new round!\n",
      "[-1.51724269]\n",
      "Starting new round!\n",
      "[-2.08898618]\n",
      "Starting new round!\n",
      "[-1.20098129]\n",
      "Starting new round!\n",
      "[-0.94560117]\n",
      "Starting new round!\n",
      "[-1.20586156]\n",
      "Starting new round!\n",
      "[-1.43387917]\n",
      "Starting new round!\n",
      "[-0.89930606]\n",
      "Starting new round!\n",
      "[-1.65562261]\n",
      "Starting new round!\n",
      "[-1.55853501]\n",
      "Starting new round!\n",
      "[-1.12711774]\n",
      "Starting new round!\n",
      "[-1.62419774]\n",
      "Starting new round!\n",
      "[-1.49408912]\n",
      "Starting new round!\n",
      "[-1.12806606]\n",
      "Starting new round!\n",
      "[-1.40636192]\n",
      "Starting new round!\n",
      "[-1.45329232]\n",
      "Starting new round!\n",
      "[-1.75785975]\n",
      "Starting new round!\n",
      "[-1.02177671]\n",
      "Starting new round!\n",
      "[-2.23018178]\n",
      "Starting new round!\n",
      "[-2.53359111]\n",
      "Starting new round!\n",
      "[-1.7838906]\n",
      "Starting new round!\n",
      "[-1.68400032]\n",
      "Starting new round!\n",
      "[-1.58978769]\n",
      "Starting new round!\n",
      "[-1.89438577]\n",
      "Starting new round!\n",
      "[-1.71080662]\n",
      "Starting new round!\n",
      "[-1.6864879]\n",
      "Starting new round!\n",
      "[-1.61151066]\n",
      "Starting new round!\n",
      "[-1.32847695]\n",
      "Starting new round!\n",
      "[-1.52327492]\n",
      "Starting new round!\n",
      "[-1.16361629]\n"
     ]
    }
   ],
   "source": [
    "number_of_rounds =50\n",
    "batch_size = 0.2\n",
    "epochs = 20\n",
    "prep = StandardScaler() \n",
    "\n",
    "\n",
    "for _ in range(number_of_rounds):\n",
    "    print(f'Starting new round!')\n",
    "\n",
    "    applicable_clients = random.sample((clients), random.randint(2, 4))\n",
    "    applicable_models = []\n",
    "    applicable_name = []\n",
    "    round_weights = []\n",
    "    dataset_size = 0\n",
    "    \n",
    "\n",
    "    for client in applicable_clients:\n",
    "        # print(f'Client name: {client.name}')\n",
    "\n",
    "        X = client.x\n",
    "        y = client.y\n",
    "\n",
    "        X_train, X_test, y_train, y_test = train_test_split(X, y, shuffle=True, train_size=batch_size, stratify=y, random_state=random.randint(0,10))\n",
    "       \n",
    "        # X_train = prep.fit_transform(X_train)\n",
    "\n",
    "        dataset_size += X_train.shape[0]\n",
    "        sample_weights = compute_sample_weight('balanced', y=y_train)\n",
    "\n",
    "        fedavg.load_global_model(client.model, selected_model)\n",
    "        fedavg.train_local_agent(X_train, y_train, client.model, epochs, sample_weights, selected_model)\n",
    "        round_weights.append(X_train.shape[0])\n",
    "        applicable_models.append(client.model)\n",
    "\n",
    "\n",
    "    round_weights = np.array(round_weights) / dataset_size # calculate weight based on actual dataset size\n",
    "    # round_weights = weights\n",
    "    fedavg.update_global_model(applicable_models, round_weights, selected_model)\n",
    "    print(fedavg.model.intercept_)"
   ]
  },
  {
   "cell_type": "code",
   "execution_count": 34,
   "metadata": {},
   "outputs": [
    {
     "name": "stdout",
     "output_type": "stream",
     "text": [
      "[0.9720025510204081, 0.936849710982659, 0.7098445595854923, 0.8967811622380644, 0.9954929577464788]\n"
     ]
    }
   ],
   "source": [
    "f1_fedavg = []\n",
    "for client in clients:\n",
    "    # x = prep.transform(client.x_test)\n",
    "    x = client.x_test\n",
    "    y_hat = fedavg.model.predict(x)\n",
    "    f1_fedavg.append(f1_score(client.y_test,y_hat))\n",
    "print(f1_fedavg)"
   ]
  },
  {
   "cell_type": "code",
   "execution_count": 35,
   "metadata": {},
   "outputs": [
    {
     "name": "stdout",
     "output_type": "stream",
     "text": [
      "Difference -0.026795486857641437\n",
      "Difference -0.0612657461151449\n",
      "Difference -0.26637288095810907\n",
      "Difference -0.10133850412324907\n",
      "Difference -0.003202633351432116\n"
     ]
    }
   ],
   "source": [
    "i = 0\n",
    "for client in clients:\n",
    "    print(f'Difference {f1_fedavg[i]-f1_before[i]}')\n",
    "    i += 1"
   ]
  },
  {
   "cell_type": "code",
   "execution_count": null,
   "metadata": {},
   "outputs": [],
   "source": []
  }
 ],
 "metadata": {
  "kernelspec": {
   "display_name": "Python 3.9.12 ('base')",
   "language": "python",
   "name": "python3"
  },
  "language_info": {
   "codemirror_mode": {
    "name": "ipython",
    "version": 3
   },
   "file_extension": ".py",
   "mimetype": "text/x-python",
   "name": "python",
   "nbconvert_exporter": "python",
   "pygments_lexer": "ipython3",
   "version": "3.9.12"
  },
  "orig_nbformat": 4,
  "vscode": {
   "interpreter": {
    "hash": "a23a6e25f04d9f91b77ea4396a46e870b27d23d0696169b2210a13d1cc496850"
   }
  }
 },
 "nbformat": 4,
 "nbformat_minor": 2
}
