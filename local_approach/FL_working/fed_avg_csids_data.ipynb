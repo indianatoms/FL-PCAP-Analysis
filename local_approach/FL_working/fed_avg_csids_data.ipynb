{
 "cells": [
  {
   "cell_type": "code",
   "execution_count": 1,
   "metadata": {},
   "outputs": [],
   "source": [
    "import os\n",
    "import sys\n",
    "module_path = os.path.abspath(os.path.join('fede'))\n",
    "if module_path not in sys.path:\n",
    "    sys.path.append(module_path)\n",
    "# import pandas as pd\n",
    "from client import Client\n",
    "from supported_modles import Supported_modles\n",
    "import utils\n",
    "from fedavg import Fedavg\n",
    "from sklearn.utils.class_weight import compute_sample_weight\n",
    "import numpy as np\n",
    "import random\n",
    "from copy import deepcopy"
   ]
  },
  {
   "cell_type": "code",
   "execution_count": 2,
   "metadata": {},
   "outputs": [],
   "source": [
    "def warn(*args, **kwargs):\n",
    "    pass\n",
    "import warnings\n",
    "warnings.warn = warn"
   ]
  },
  {
   "cell_type": "code",
   "execution_count": 3,
   "metadata": {},
   "outputs": [],
   "source": [
    "selected_model = Supported_modles.SGD_classifier"
   ]
  },
  {
   "cell_type": "code",
   "execution_count": 4,
   "metadata": {},
   "outputs": [
    {
     "name": "stdout",
     "output_type": "stream",
     "text": [
      "Creating node1.\n",
      "Creating node2.\n",
      "Creating node3.\n",
      "Creating node4.\n",
      "Creating node5.\n"
     ]
    }
   ],
   "source": [
    "clients, test_x, test_y = utils.set_data(selected_model, True, False)"
   ]
  },
  {
   "cell_type": "code",
   "execution_count": 5,
   "metadata": {},
   "outputs": [
    {
     "name": "stdout",
     "output_type": "stream",
     "text": [
      "0.7228167633363288\n",
      "0.3577753076009046\n",
      "0.427153345052218\n",
      "0.5425398358281023\n",
      "0.7501653220473482\n"
     ]
    }
   ],
   "source": [
    "f1_before = []\n",
    "for client in clients:\n",
    "    client.init_empty_model(0.01)\n",
    "    try:\n",
    "        client.train_model(epochs=50)\n",
    "    except ValueError:\n",
    "        score = 0\n",
    "        print(client.name)\n",
    "        f1_before.append(score)\n",
    "        continue \n",
    "    try: \n",
    "        score = client.test_model_f1(y_test=test_y, X_test=test_x)\n",
    "    except IndexError:\n",
    "        score = 0\n",
    "    f1_before.append(score)\n",
    "    print(score)"
   ]
  },
  {
   "cell_type": "code",
   "execution_count": 6,
   "metadata": {},
   "outputs": [
    {
     "name": "stdout",
     "output_type": "stream",
     "text": [
      "Waitiing for a Connection..\n"
     ]
    }
   ],
   "source": [
    "fedavg = Fedavg(\"global\", selected_model)"
   ]
  },
  {
   "cell_type": "code",
   "execution_count": 7,
   "metadata": {},
   "outputs": [],
   "source": [
    "clients.remove(clients[0])\n"
   ]
  },
  {
   "cell_type": "code",
   "execution_count": 23,
   "metadata": {},
   "outputs": [
    {
     "name": "stdout",
     "output_type": "stream",
     "text": [
      ".\n",
      ".\n",
      ".\n",
      ".\n"
     ]
    }
   ],
   "source": [
    "###First learn model on clients:\n",
    "round_weights = []\n",
    "dataset_size = 0\n",
    "applicable_models = []\n",
    "first = True\n",
    "epochs = 10\n",
    "\n",
    "for client in clients:\n",
    "    client.init_empty_model(0.001)\n",
    "    X_train, X_test, y_train, y_test = client.split_data(0.8)\n",
    "\n",
    "    # X_train = client.x_chunks[0]\n",
    "    # y_train = client.y_chunks[0]\n",
    "\n",
    "    client.train_model(X_train,y_train,epochs=epochs)\n",
    "    dataset_size += client.x.shape[0]\n",
    "    round_weights.append(dataset_size)\n",
    "    applicable_models.append(client.model)\n",
    "    if first:\n",
    "        fedavg.init_global_model(client.model)\n",
    "        first = False\n",
    "    print('.')\n",
    "\n",
    "round_weights = np.array(round_weights) / dataset_size # calculate weight based on actual dataset size\n",
    "fedavg.update_global_model(applicable_models, round_weights, selected_model)"
   ]
  },
  {
   "cell_type": "code",
   "execution_count": 24,
   "metadata": {},
   "outputs": [
    {
     "name": "stdout",
     "output_type": "stream",
     "text": [
      "0.7190751445086706\n"
     ]
    }
   ],
   "source": [
    "score = fedavg.test_model_f1(y_test=test_y, X_test=test_x)\n",
    "print(score)"
   ]
  },
  {
   "cell_type": "code",
   "execution_count": 25,
   "metadata": {},
   "outputs": [
    {
     "name": "stdout",
     "output_type": "stream",
     "text": [
      "1 ....0.7233834733346357\n",
      "0.7233834733346357\n",
      "2 ....0.7858646891879522\n",
      "0.7858646891879522\n",
      "3 ....0.7239448391140826\n",
      "4 ....0.7656616560952297\n",
      "5 ....0.7612825582394912\n",
      "6 ....0.7281409517536637\n",
      "7 ....0.7277362059041197\n",
      "8 ....0.7310356200527703\n",
      "9 ....0.7291426690801383\n"
     ]
    }
   ],
   "source": [
    "number_of_rounds = 9\n",
    "epochs = 10\n",
    "max_score = 0\n",
    "optimal_model = None\n",
    "\n",
    "\n",
    "for round in range(number_of_rounds):\n",
    "    print(round +1, end=' ')\n",
    "\n",
    "    applicable_clients = random.sample((clients), len(clients))#random.randint(1, 4))\n",
    "    applicable_models = []\n",
    "    applicable_name = []\n",
    "    round_weights = []\n",
    "    dataset_size = 0\n",
    "    \n",
    "\n",
    "    for client in applicable_clients:\n",
    "        print(f'.', end='')\n",
    "\n",
    "        X_train, X_test, y_train, y_test = client.split_data(0.8)\n",
    "\n",
    "        # X_train = client.x_chunks[round + 1]\n",
    "        # y_train = client.y_chunks[round + 1]\n",
    "\n",
    "       \n",
    "        dataset_size += X_train.shape[0]\n",
    "        sample_weights = compute_sample_weight('balanced', y=y_train)\n",
    "\n",
    "        client.load_global_model(fedavg.model)\n",
    "        client.train_local_agent(X_train, y_train, epochs, sample_weights)\n",
    "        round_weights.append(X_train.shape[0])\n",
    "        applicable_models.append(client.model)\n",
    "\n",
    "\n",
    "    round_weights = np.array(round_weights) / dataset_size\n",
    "    fedavg.update_global_model(applicable_models, round_weights, selected_model)\n",
    "\n",
    "    score = fedavg.test_model_f1(y_test=test_y, X_test=test_x)\n",
    "    print(score)\n",
    "    if score > max_score:\n",
    "        print(score)\n",
    "        max_score = score\n",
    "        optimal_model = deepcopy(fedavg.model)"
   ]
  },
  {
   "cell_type": "code",
   "execution_count": 48,
   "metadata": {},
   "outputs": [
    {
     "name": "stdout",
     "output_type": "stream",
     "text": [
      "0.7853693435879092\n",
      "0.9887922907719703\n"
     ]
    }
   ],
   "source": [
    "# x = test_x\n",
    "# y_hat = optimal_model.predict(x)\n",
    "# score = f1_score(test_y,y_hat)\n",
    "score = fedavg.test_model_f1(y_test=test_y, X_test=test_x)\n",
    "print(score)\n",
    "fedavg.model = optimal_model\n",
    "score = fedavg.test_model_f1(y_test=test_y, X_test=test_x)\n",
    "print(score)"
   ]
  },
  {
   "cell_type": "code",
   "execution_count": 33,
   "metadata": {},
   "outputs": [
    {
     "name": "stdout",
     "output_type": "stream",
     "text": [
      "Difference 0.8150804331921274\n",
      "Difference 0.17995327679351436\n",
      "Difference 0.1049037193182083\n",
      "Difference 0.09979388939005729\n",
      "Difference 0.1049037193182083\n"
     ]
    }
   ],
   "source": [
    "for i in f1_before:\n",
    "    print(f'Difference {score-i}')"
   ]
  },
  {
   "cell_type": "markdown",
   "metadata": {},
   "source": [
    "## Centralized Zone"
   ]
  },
  {
   "cell_type": "code",
   "execution_count": null,
   "metadata": {},
   "outputs": [
    {
     "name": "stdout",
     "output_type": "stream",
     "text": [
      "Creating node1.\n",
      ".\n",
      ".\n",
      ".\n",
      ".\n",
      ".\n"
     ]
    }
   ],
   "source": [
    "client1 = Client(\"node1\",\"0.0.0.0\", 5001, selected_model)\n",
    "client1.x = clients[0].x\n",
    "client1.init_empty_model(0.01)\n",
    "\n",
    "\n",
    "for client in clients:\n",
    "    client1.train_model(x=client.x,y=client.y,epochs=200)\n",
    "    print(f'.')"
   ]
  },
  {
   "cell_type": "code",
   "execution_count": null,
   "metadata": {},
   "outputs": [
    {
     "name": "stdout",
     "output_type": "stream",
     "text": [
      "0.8262882168694737\n"
     ]
    }
   ],
   "source": [
    "score = client1.test_model_f1(y_test=test_y, X_test=test_x)\n",
    "print(score)"
   ]
  },
  {
   "cell_type": "code",
   "execution_count": null,
   "metadata": {},
   "outputs": [],
   "source": []
  }
 ],
 "metadata": {
  "kernelspec": {
   "display_name": "Python 3.9.12 ('base')",
   "language": "python",
   "name": "python3"
  },
  "language_info": {
   "codemirror_mode": {
    "name": "ipython",
    "version": 3
   },
   "file_extension": ".py",
   "mimetype": "text/x-python",
   "name": "python",
   "nbconvert_exporter": "python",
   "pygments_lexer": "ipython3",
   "version": "3.9.12"
  },
  "orig_nbformat": 4,
  "vscode": {
   "interpreter": {
    "hash": "a23a6e25f04d9f91b77ea4396a46e870b27d23d0696169b2210a13d1cc496850"
   }
  }
 },
 "nbformat": 4,
 "nbformat_minor": 2
}
