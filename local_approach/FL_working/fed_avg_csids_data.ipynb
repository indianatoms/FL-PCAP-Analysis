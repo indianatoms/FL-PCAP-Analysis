{
 "cells": [
  {
   "cell_type": "code",
   "execution_count": 93,
   "metadata": {},
   "outputs": [],
   "source": [
    "import os\n",
    "import sys\n",
    "module_path = os.path.abspath(os.path.join('fede'))\n",
    "if module_path not in sys.path:\n",
    "    sys.path.append(module_path)\n",
    "\n",
    "from client import Client\n",
    "import pandas as pd\n",
    "from supported_modles import Supported_modles\n",
    "import utils\n",
    "from fedavg import Fedavg\n",
    "from sklearn.utils.class_weight import compute_sample_weight, compute_class_weight\n",
    "from sklearn.model_selection import StratifiedKFold, GridSearchCV, train_test_split\n",
    "from sklearn.preprocessing import StandardScaler\n",
    "import numpy as np\n",
    "from sklearn.metrics import accuracy_score, f1_score\n",
    "import random"
   ]
  },
  {
   "cell_type": "code",
   "execution_count": 94,
   "metadata": {},
   "outputs": [],
   "source": [
    "def warn(*args, **kwargs):\n",
    "    pass\n",
    "import warnings\n",
    "warnings.warn = warn"
   ]
  },
  {
   "cell_type": "code",
   "execution_count": 95,
   "metadata": {},
   "outputs": [
    {
     "name": "stdout",
     "output_type": "stream",
     "text": [
      "Creating node1.\n",
      "Creating node2.\n",
      "Creating node3.\n",
      "Creating node4.\n",
      "Creating node5.\n",
      "DOWNSAMLING node2\n",
      "DOWNSAMLING node4\n",
      "DOWNSAMLING node5\n"
     ]
    }
   ],
   "source": [
    "clients = utils.set_data(True)"
   ]
  },
  {
   "cell_type": "code",
   "execution_count": 96,
   "metadata": {},
   "outputs": [],
   "source": [
    "selected_model = Supported_modles.logistic_regression"
   ]
  },
  {
   "cell_type": "code",
   "execution_count": 97,
   "metadata": {},
   "outputs": [],
   "source": [
    "f1_before = []\n",
    "for client in clients:\n",
    "    client.split_data()\n",
    "    # client.downsample_data(['sbytes','dbytes','sttl','dttl','spkts','dpkts'])\n",
    "    # client.prep_data()\n",
    "    client.train_model(selected_model)\n",
    "    f1_before.append(client.f1)"
   ]
  },
  {
   "cell_type": "code",
   "execution_count": 98,
   "metadata": {},
   "outputs": [
    {
     "data": {
      "text/plain": [
       "[0.8044233807266984,\n",
       " 0.9162861491628614,\n",
       " 0.8668208503824943,\n",
       " 0.9771689497716894,\n",
       " 0.9945298254753843]"
      ]
     },
     "execution_count": 98,
     "metadata": {},
     "output_type": "execute_result"
    }
   ],
   "source": [
    "f1_before"
   ]
  },
  {
   "cell_type": "code",
   "execution_count": 99,
   "metadata": {},
   "outputs": [],
   "source": [
    "selected_model = Supported_modles.SGD_classifier"
   ]
  },
  {
   "cell_type": "code",
   "execution_count": 100,
   "metadata": {},
   "outputs": [],
   "source": [
    "# clients = utils.set_data(True)\n",
    "for client in clients:\n",
    "    # client.split_data()\n",
    "    client.init_empty_model(selected_model,None)"
   ]
  },
  {
   "cell_type": "code",
   "execution_count": 101,
   "metadata": {},
   "outputs": [
    {
     "name": "stdout",
     "output_type": "stream",
     "text": [
      "[Errno 98] Address already in use\n",
      "Waitiing for a Connection..\n"
     ]
    }
   ],
   "source": [
    "fedavg = Fedavg(\"global\", 0.1)\n",
    "fedavg.init_global_model(selected_model, None,78)"
   ]
  },
  {
   "cell_type": "code",
   "execution_count": null,
   "metadata": {},
   "outputs": [],
   "source": []
  },
  {
   "cell_type": "code",
   "execution_count": 102,
   "metadata": {},
   "outputs": [
    {
     "name": "stdout",
     "output_type": "stream",
     "text": [
      "Starting new round!\n",
      "[1.]\n",
      "Starting new round!\n",
      "[0.4602559  0.00379848 0.48504598 0.05089964]\n",
      "Starting new round!\n",
      "[0.88644501 0.11355499]\n",
      "Starting new round!\n",
      "[0.00818542 0.99181458]\n",
      "Starting new round!\n",
      "[1.]\n",
      "Starting new round!\n",
      "[0.88105626 0.11894374]\n",
      "Starting new round!\n",
      "[1.]\n",
      "Starting new round!\n",
      "[1.]\n",
      "Starting new round!\n",
      "[0.4602559  0.05089964 0.48504598 0.00379848]\n",
      "Starting new round!\n",
      "[1.]\n",
      "Starting new round!\n",
      "[0.88033382 0.00689405 0.11277213]\n",
      "Starting new round!\n",
      "[0.45514215 0.47965679 0.00375628 0.06144478]\n",
      "Starting new round!\n",
      "[0.43566051 0.03251198 0.53182752]\n",
      "Starting new round!\n",
      "[0.45030067 0.54969933]\n",
      "Starting new round!\n",
      "[1.]\n",
      "Starting new round!\n",
      "[0.87469605 0.00721884 0.11808511]\n",
      "Starting new round!\n",
      "[0.05109372 0.46201084 0.48689544]\n",
      "Starting new round!\n",
      "[1.]\n",
      "Starting new round!\n",
      "[0.45030067 0.54969933]\n",
      "Starting new round!\n",
      "[1.]\n",
      "Starting new round!\n",
      "[1.]\n",
      "Starting new round!\n",
      "[0.00379848 0.48504598 0.05089964 0.4602559 ]\n",
      "Starting new round!\n",
      "[0.00737635 0.09884308 0.89378057]\n",
      "Starting new round!\n",
      "[0.08456786 0.10323524 0.80588587 0.00631103]\n",
      "Starting new round!\n",
      "[0.08456786 0.10323524 0.80588587 0.00631103]\n",
      "Starting new round!\n",
      "[0.45830972 0.048094   0.05871019 0.43488609]\n",
      "Starting new round!\n",
      "[0.00379848 0.05089964 0.4602559  0.48504598]\n",
      "Starting new round!\n",
      "[0.00375628 0.06144478 0.47965679 0.45514215]\n",
      "Starting new round!\n",
      "[0.00375628 0.06144478 0.45514215 0.47965679]\n",
      "Starting new round!\n",
      "[0.48493912 0.51105868 0.00400219]\n",
      "Starting new round!\n",
      "[0.05871019 0.048094   0.45830972 0.43488609]\n",
      "Starting new round!\n",
      "[0.03251198 0.53182752 0.43566051]\n",
      "Starting new round!\n",
      "[0.10389089 0.81100414 0.08510496]\n",
      "Starting new round!\n",
      "[0.94238933 0.05761067]\n",
      "Starting new round!\n",
      "[0.81100414 0.08510496 0.10389089]\n",
      "Starting new round!\n",
      "[0.48689544 0.46201084 0.05109372]\n",
      "Starting new round!\n",
      "[1.]\n",
      "Starting new round!\n",
      "[0.03251198 0.53182752 0.43566051]\n",
      "Starting new round!\n",
      "[1.]\n",
      "Starting new round!\n",
      "[0.00375628 0.45514215 0.06144478 0.47965679]\n"
     ]
    }
   ],
   "source": [
    "number_of_rounds = 40\n",
    "batch_size = 0.2\n",
    "epochs = 20\n",
    "prep = StandardScaler() \n",
    "\n",
    "for _ in range(number_of_rounds):\n",
    "    print(f'Starting new round!')\n",
    "\n",
    "    applicable_clients = random.sample((clients), random.randint(1, 4))\n",
    "    applicable_models = []\n",
    "    applicable_name = []\n",
    "    round_weights = []\n",
    "    dataset_size = 0\n",
    "    \n",
    "\n",
    "    for client in applicable_clients:\n",
    "        # print(f'Client name: {client.name}')\n",
    "\n",
    "        X = client.x\n",
    "        y = client.y\n",
    "\n",
    "        X_train, X_test, y_train, y_test = train_test_split(X, y, shuffle=True, train_size=batch_size, stratify=y, random_state=random.randint(0,10))\n",
    "       \n",
    "        # X_train = prep.fit_transform(X_train)\n",
    "\n",
    "        dataset_size += X_train.shape[0]\n",
    "        sample_weights = compute_sample_weight('balanced', y=y_train)\n",
    "\n",
    "        fedavg.load_global_model(client.model, selected_model)\n",
    "        fedavg.train_local_agent(X_train, y_train, client.model, epochs, sample_weights, selected_model)\n",
    "        round_weights.append(X_train.shape[0])\n",
    "        applicable_models.append(client.model)\n",
    "\n",
    "\n",
    "    round_weights = np.array(round_weights) / dataset_size # calculate weight based on actual dataset size\n",
    "    print(round_weights)\n",
    "    # round_weights = weights\n",
    "    fedavg.update_global_model(applicable_models, round_weights, selected_model)"
   ]
  },
  {
   "cell_type": "code",
   "execution_count": 103,
   "metadata": {},
   "outputs": [
    {
     "name": "stdout",
     "output_type": "stream",
     "text": [
      "[0.8754461493174376, 0.8275669642857143, 0.7901105075856901, 0.5810055865921787, 0.506726457399103]\n"
     ]
    }
   ],
   "source": [
    "f1_fedavg = []\n",
    "for client in clients:\n",
    "    # x = prep.transform(client.x_test)\n",
    "    y_hat = fedavg.model.predict(client.x_test)\n",
    "    f1_fedavg.append(f1_score(client.y_test,y_hat))\n",
    "print(f1_fedavg)"
   ]
  },
  {
   "cell_type": "code",
   "execution_count": 104,
   "metadata": {},
   "outputs": [
    {
     "name": "stdout",
     "output_type": "stream",
     "text": [
      "Difference 0.0710227685907392\n",
      "Difference -0.08871918487714714\n",
      "Difference -0.07671034279680422\n",
      "Difference -0.39616336317951073\n",
      "Difference -0.4878033680762812\n"
     ]
    }
   ],
   "source": [
    "i = 0\n",
    "for client in clients:\n",
    "    print(f'Difference {f1_fedavg[i]-f1_before[i]}')\n",
    "    i += 1"
   ]
  },
  {
   "cell_type": "code",
   "execution_count": null,
   "metadata": {},
   "outputs": [],
   "source": []
  }
 ],
 "metadata": {
  "kernelspec": {
   "display_name": "Python 3.9.12 ('base')",
   "language": "python",
   "name": "python3"
  },
  "language_info": {
   "codemirror_mode": {
    "name": "ipython",
    "version": 3
   },
   "file_extension": ".py",
   "mimetype": "text/x-python",
   "name": "python",
   "nbconvert_exporter": "python",
   "pygments_lexer": "ipython3",
   "version": "3.9.12"
  },
  "orig_nbformat": 4,
  "vscode": {
   "interpreter": {
    "hash": "a23a6e25f04d9f91b77ea4396a46e870b27d23d0696169b2210a13d1cc496850"
   }
  }
 },
 "nbformat": 4,
 "nbformat_minor": 2
}
