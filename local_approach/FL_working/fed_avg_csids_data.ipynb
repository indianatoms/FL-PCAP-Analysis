{
 "cells": [
  {
   "cell_type": "code",
   "execution_count": 74,
   "metadata": {},
   "outputs": [],
   "source": [
    "import os\n",
    "import sys\n",
    "module_path = os.path.abspath(os.path.join('fede'))\n",
    "if module_path not in sys.path:\n",
    "    sys.path.append(module_path)\n",
    "# import pandas as pd\n",
    "from client import Client\n",
    "from supported_modles import Supported_modles\n",
    "import utils\n",
    "from fedavg import Fedavg\n",
    "from sklearn.utils.class_weight import compute_sample_weight\n",
    "import numpy as np\n",
    "import random\n",
    "from copy import deepcopy\n",
    "import statistics\n",
    "import matplotlib.pyplot as plt"
   ]
  },
  {
   "cell_type": "code",
   "execution_count": 75,
   "metadata": {},
   "outputs": [],
   "source": [
    "def warn(*args, **kwargs):\n",
    "    pass\n",
    "import warnings\n",
    "warnings.warn = warn"
   ]
  },
  {
   "cell_type": "code",
   "execution_count": 76,
   "metadata": {},
   "outputs": [],
   "source": [
    "selected_model = Supported_modles.SGD_classifier"
   ]
  },
  {
   "cell_type": "code",
   "execution_count": 98,
   "metadata": {},
   "outputs": [
    {
     "name": "stdout",
     "output_type": "stream",
     "text": [
      "Creating node1.\n",
      "Creating node2.\n",
      "Creating node3.\n",
      "Creating node4.\n",
      "Creating node5.\n"
     ]
    }
   ],
   "source": [
    "clients, test_x, test_y = utils.set_data(selected_model, False, True, True)"
   ]
  },
  {
   "cell_type": "code",
   "execution_count": 99,
   "metadata": {},
   "outputs": [
    {
     "data": {
      "text/plain": [
       "49768"
      ]
     },
     "execution_count": 99,
     "metadata": {},
     "output_type": "execute_result"
    }
   ],
   "source": [
    "test_y.sum()"
   ]
  },
  {
   "cell_type": "code",
   "execution_count": 100,
   "metadata": {},
   "outputs": [
    {
     "name": "stdout",
     "output_type": "stream",
     "text": [
      "0.7547664028001528\n",
      "0.7574753952035327\n",
      "0.7573513856568648\n",
      "0.7571061553441338\n",
      "0.757123919240741\n"
     ]
    }
   ],
   "source": [
    "f1_before = []\n",
    "for client in clients:\n",
    "    client.init_empty_model(0.001, epochs=30)\n",
    "    try:\n",
    "        client.train_model(epochs=50)\n",
    "    except ValueError:\n",
    "        score = 0\n",
    "        print(client.name)\n",
    "        f1_before.append(score)\n",
    "        continue \n",
    "    try: \n",
    "        score = client.test_model_f1(y_test=test_y, X_test=test_x)\n",
    "    except IndexError:\n",
    "        score = 0\n",
    "    f1_before.append(score)\n",
    "    print(score)"
   ]
  },
  {
   "cell_type": "code",
   "execution_count": 101,
   "metadata": {},
   "outputs": [
    {
     "name": "stdout",
     "output_type": "stream",
     "text": [
      "[Errno 98] Address already in use\n",
      "Waitiing for a Connection..\n"
     ]
    }
   ],
   "source": [
    "fedavg = Fedavg(\"global\", selected_model)"
   ]
  },
  {
   "cell_type": "code",
   "execution_count": 102,
   "metadata": {},
   "outputs": [],
   "source": [
    "clients.remove(clients[0])"
   ]
  },
  {
   "cell_type": "code",
   "execution_count": 103,
   "metadata": {},
   "outputs": [],
   "source": [
    "###First learn model on clients:\n",
    "def plot(epochs, split, rounds):\n",
    "    epochs = epochs\n",
    "    split = split\n",
    "    scores = []\n",
    "\n",
    "    for _ in range(10):\n",
    "        round_scores = []\n",
    "        score = 0\n",
    "        round_weights = []\n",
    "        dataset_size = 0\n",
    "        applicable_models = []\n",
    "        first = True\n",
    "\n",
    "        for client in clients:\n",
    "            client.init_empty_model(0.001,epochs)\n",
    "            X_train, X_test, y_train, y_test = client.split_data(split)\n",
    "\n",
    "            # X_train = client.x_chunks[0]\n",
    "            # y_train = client.y_chunks[0]\n",
    "\n",
    "            client.train_model(X_train,y_train,epochs=epochs)\n",
    "            dataset_size += client.x.shape[0]\n",
    "            round_weights.append(dataset_size)\n",
    "            applicable_models.append(client.model)\n",
    "            if first:\n",
    "                fedavg.init_global_model(client.model)\n",
    "                first = False\n",
    "            # print('.')\n",
    "\n",
    "        round_weights = np.array(round_weights) / dataset_size # calculate weight based on actual dataset size\n",
    "        fedavg.update_global_model(applicable_models, round_weights, selected_model)\n",
    "\n",
    "        score = fedavg.test_model_f1(y_test=test_y, X_test=test_x)\n",
    "        round_scores.append(score)\n",
    "\n",
    "        number_of_rounds = rounds\n",
    "        max_score = 0\n",
    "        optimal_model = None\n",
    "\n",
    "\n",
    "        for round in range(number_of_rounds):\n",
    "\n",
    "            applicable_clients = random.sample((clients), len(clients))\n",
    "            applicable_models = []\n",
    "            applicable_name = []\n",
    "            round_weights = []\n",
    "            dataset_size = 0\n",
    "            \n",
    "\n",
    "            for client in applicable_clients:\n",
    "                # print(f'.', end='')\n",
    "\n",
    "                X_train, X_test, y_train, y_test = client.split_data(split)\n",
    "\n",
    "                # X_train = client.x_chunks[round + 1]\n",
    "                # y_train = client.y_chunks[round + 1]\n",
    "            \n",
    "                dataset_size += X_train.shape[0]\n",
    "                sample_weights = compute_sample_weight('balanced', y=y_train)\n",
    "\n",
    "                client.load_global_model(fedavg.model)\n",
    "                client.train_local_agent(X_train, y_train, epochs, sample_weights)\n",
    "                round_weights.append(X_train.shape[0])\n",
    "                applicable_models.append(client.model)\n",
    "\n",
    "\n",
    "            round_weights = np.array(round_weights) / dataset_size\n",
    "            fedavg.update_global_model(applicable_models, round_weights, selected_model)\n",
    "\n",
    "            score = fedavg.test_model_f1(y_test=test_y, X_test=test_x)\n",
    "            round_scores.append(score)\n",
    "            # print(score, end=' ')\n",
    "            if score > max_score:\n",
    "                # print(score)\n",
    "                max_score = score\n",
    "                optimal_model = deepcopy(fedavg.model)\n",
    "        print(score)\n",
    "        print('--------------------')\n",
    "        scores.append(round_scores)\n",
    "\n",
    "    # print(f'epochs: {epochs} split = {split} --- {statistics.mean(scores)} stdev {statistics.stdev(scores)}')\n",
    "    plt.rcParams[\"figure.figsize\"] = (10,10)\n",
    "    for x in scores:\n",
    "        plt.plot(x)\n",
    "\n",
    "    plt.xlabel(\"Number of Rounds\", fontsize=16)\n",
    "    plt.ylabel(\"F1-Score\", fontsize=16)\n",
    "    plt.xticks(range(0,rounds+1,5))\n",
    "    plt.xticks(size = 16)\n",
    "    plt.yticks(size = 16)\n",
    "    plt.title('UNSW - LR-SGD, E=' +str(epochs)+', B=' + str(split) +', C=5')\n",
    "    plt.show()\n"
   ]
  },
  {
   "cell_type": "code",
   "execution_count": 104,
   "metadata": {},
   "outputs": [],
   "source": [
    "###First learn model on clients:\n",
    "def find_scores(epochs, split, rounds):\n",
    "    epochs = epochs\n",
    "    split = split\n",
    "    scores = []\n",
    "\n",
    "    for _ in range(10):\n",
    "        score = 0\n",
    "        round_weights = []\n",
    "        dataset_size = 0\n",
    "        applicable_models = []\n",
    "        first = True\n",
    "\n",
    "        for client in clients:\n",
    "            client.init_empty_model(0.1,epochs)\n",
    "            X_train, X_test, y_train, y_test = client.split_data(split)\n",
    "\n",
    "            # X_train = client.x_chunks[0]\n",
    "            # y_train = client.y_chunks[0]\n",
    "\n",
    "            client.train_model(X_train,y_train,epochs=epochs)\n",
    "            dataset_size += client.x.shape[0]\n",
    "            round_weights.append(dataset_size)\n",
    "            applicable_models.append(client.model)\n",
    "            if first:\n",
    "                fedavg.init_global_model(client.model)\n",
    "                first = False\n",
    "            # print('.')\n",
    "\n",
    "        round_weights = np.array(round_weights) / dataset_size # calculate weight based on actual dataset size\n",
    "        fedavg.update_global_model(applicable_models, round_weights, selected_model)\n",
    "\n",
    "        score = fedavg.test_model_f1(y_test=test_y, X_test=test_x)\n",
    "\n",
    "        number_of_rounds = rounds\n",
    "        max_score = 0\n",
    "        optimal_model = None\n",
    "\n",
    "\n",
    "        for round in range(number_of_rounds):\n",
    "\n",
    "            applicable_clients = random.sample((clients), len(clients))\n",
    "            applicable_models = []\n",
    "            applicable_name = []\n",
    "            round_weights = []\n",
    "            dataset_size = 0\n",
    "            \n",
    "\n",
    "            for client in applicable_clients:\n",
    "                # print(f'.', end='')\n",
    "\n",
    "                X_train, X_test, y_train, y_test = client.split_data(split)\n",
    "\n",
    "                # X_train = client.x_chunks[round + 1]\n",
    "                # y_train = client.y_chunks[round + 1]\n",
    "            \n",
    "                dataset_size += X_train.shape[0]\n",
    "                sample_weights = compute_sample_weight('balanced', y=y_train)\n",
    "\n",
    "                client.load_global_model(fedavg.model)\n",
    "                client.train_local_agent(X_train, y_train, epochs, sample_weights)\n",
    "                round_weights.append(X_train.shape[0])\n",
    "                applicable_models.append(client.model)\n",
    "\n",
    "\n",
    "            round_weights = np.array(round_weights) / dataset_size\n",
    "            fedavg.update_global_model(applicable_models, round_weights, selected_model)\n",
    "\n",
    "            score = fedavg.test_model_f1(y_test=test_y, X_test=test_x)\n",
    "            # print(score, end=' ')\n",
    "            if score > max_score:\n",
    "                # print(score)\n",
    "                max_score = score\n",
    "                optimal_model = deepcopy(fedavg.model)\n",
    "        print(score)\n",
    "        print('--------------------')\n",
    "        scores.append(score)\n",
    "\n",
    "    print(f'epochs: {epochs} split = {split} --- {statistics.mean(scores)} stdev {statistics.stdev(scores)}')\n",
    "    plt.rcParams[\"figure.figsize\"] = (10,10)\n",
    "    for x in scores:\n",
    "        plt.plot(x)\n",
    "\n",
    "    plt.xlabel(\"Number of Rounds\", fontsize=16)\n",
    "    plt.ylabel(\"F1-Score\", fontsize=16)\n",
    "    plt.xticks(range(0,rounds+1,5))\n",
    "    plt.xticks(size = 16)\n",
    "    plt.yticks(size = 16)\n",
    "    plt.title('UNSW - LR-SGD, E=' +str(epochs)+', B=' + str(split) +', C=5')\n",
    "    plt.show()\n"
   ]
  },
  {
   "cell_type": "code",
   "execution_count": 105,
   "metadata": {},
   "outputs": [],
   "source": [
    "# plot(10,0.9,19)"
   ]
  },
  {
   "cell_type": "code",
   "execution_count": 106,
   "metadata": {},
   "outputs": [],
   "source": [
    "# plot(10,0.8,19)"
   ]
  },
  {
   "cell_type": "code",
   "execution_count": 107,
   "metadata": {},
   "outputs": [],
   "source": [
    "# plot(20,0.9,9)"
   ]
  },
  {
   "cell_type": "code",
   "execution_count": 108,
   "metadata": {},
   "outputs": [],
   "source": [
    "# plot(20,0.8,9)"
   ]
  },
  {
   "cell_type": "code",
   "execution_count": 110,
   "metadata": {},
   "outputs": [
    {
     "name": "stdout",
     "output_type": "stream",
     "text": [
      "0.7564715581203628\n",
      "--------------------\n",
      "0.7564715581203628\n",
      "--------------------\n",
      "0.7564715581203628\n",
      "--------------------\n",
      "0.7564715581203628\n",
      "--------------------\n",
      "0.7564715581203628\n",
      "--------------------\n",
      "0.7564715581203628\n",
      "--------------------\n",
      "0.7564715581203628\n",
      "--------------------\n",
      "0.7564715581203628\n",
      "--------------------\n",
      "0.7564715581203628\n",
      "--------------------\n",
      "0.7564715581203628\n",
      "--------------------\n",
      "epochs: 10 split = 0.9 --- 0.7564715581203628 stdev 0.0\n"
     ]
    },
    {
     "data": {
      "image/png": "[encoded data removed]",
      "text/plain": [
       "<Figure size 720x720 with 1 Axes>"
      ]
     },
     "metadata": {
      "needs_background": "light"
     },
     "output_type": "display_data"
    }
   ],
   "source": [
    "find_scores(10, 0.9, 15)"
   ]
  },
  {
   "cell_type": "code",
   "execution_count": null,
   "metadata": {},
   "outputs": [],
   "source": []
  }
 ],
 "metadata": {
  "kernelspec": {
   "display_name": "Python 3.9.12 ('base')",
   "language": "python",
   "name": "python3"
  },
  "language_info": {
   "codemirror_mode": {
    "name": "ipython",
    "version": 3
   },
   "file_extension": ".py",
   "mimetype": "text/x-python",
   "name": "python",
   "nbconvert_exporter": "python",
   "pygments_lexer": "ipython3",
   "version": "3.9.12 (main, Apr  5 2022, 06:56:58) \n[GCC 7.5.0]"
  },
  "orig_nbformat": 4,
  "vscode": {
   "interpreter": {
    "hash": "a23a6e25f04d9f91b77ea4396a46e870b27d23d0696169b2210a13d1cc496850"
   }
  }
 },
 "nbformat": 4,
 "nbformat_minor": 2
}
