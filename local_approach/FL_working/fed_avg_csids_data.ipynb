{
 "cells": [
  {
   "cell_type": "code",
   "execution_count": 1,
   "metadata": {},
   "outputs": [],
   "source": [
    "import os\n",
    "import sys\n",
    "module_path = os.path.abspath(os.path.join('fede'))\n",
    "if module_path not in sys.path:\n",
    "    sys.path.append(module_path)\n",
    "# import pandas as pd\n",
    "from client import Client\n",
    "from supported_modles import Supported_modles\n",
    "import utils\n",
    "from fedavg import Fedavg\n",
    "from sklearn.utils.class_weight import compute_sample_weight\n",
    "import numpy as np\n",
    "import random\n",
    "from copy import deepcopy"
   ]
  },
  {
   "cell_type": "code",
   "execution_count": 2,
   "metadata": {},
   "outputs": [],
   "source": [
    "def warn(*args, **kwargs):\n",
    "    pass\n",
    "import warnings\n",
    "warnings.warn = warn"
   ]
  },
  {
   "cell_type": "code",
   "execution_count": 3,
   "metadata": {},
   "outputs": [],
   "source": [
    "selected_model = Supported_modles.NN_classifier"
   ]
  },
  {
   "cell_type": "code",
   "execution_count": 8,
   "metadata": {},
   "outputs": [
    {
     "name": "stdout",
     "output_type": "stream",
     "text": [
      "Creating node1.\n",
      "Creating node2.\n",
      "Creating node3.\n",
      "Creating node4.\n",
      "Creating node5.\n"
     ]
    }
   ],
   "source": [
    "clients, test_x, test_y = utils.set_data(selected_model, True, False)"
   ]
  },
  {
   "cell_type": "code",
   "execution_count": 32,
   "metadata": {},
   "outputs": [
    {
     "name": "stdout",
     "output_type": "stream",
     "text": [
      "0.6984561752988048\n",
      "0.09834562653665042\n",
      "0.09983713010554816\n",
      "0.0\n",
      "0.000846740050804403\n"
     ]
    }
   ],
   "source": [
    "f1_before = []\n",
    "for client in clients:\n",
    "    client.init_empty_model(0.01)\n",
    "    client.train_model(epochs=50)\n",
    "    try: \n",
    "        score = client.test_model_f1(y_test=test_y, X_test=test_x)\n",
    "    except IndexError:\n",
    "        score = 0\n",
    "    f1_before.append(score)\n",
    "    print(score)"
   ]
  },
  {
   "cell_type": "code",
   "execution_count": 33,
   "metadata": {},
   "outputs": [
    {
     "name": "stdout",
     "output_type": "stream",
     "text": [
      "Waitiing for a Connection..\n"
     ]
    }
   ],
   "source": [
    "fedavg = Fedavg(\"global\", 0.1, selected_model)"
   ]
  },
  {
   "cell_type": "code",
   "execution_count": 34,
   "metadata": {},
   "outputs": [
    {
     "name": "stdout",
     "output_type": "stream",
     "text": [
      ".\n",
      ".\n",
      ".\n",
      ".\n",
      ".\n"
     ]
    }
   ],
   "source": [
    "###First learn model on clients:\n",
    "round_weights = []\n",
    "dataset_size = 0\n",
    "applicable_models = []\n",
    "first = True\n",
    "epochs = 2\n",
    "\n",
    "for client in clients:\n",
    "    client.init_empty_model(0.01)\n",
    "    X_train, X_test, y_train, y_test = client.split_data(0.96)\n",
    "\n",
    "    # X_train = client.x_chunks[0]\n",
    "    # y_train = client.y_chunks[0]\n",
    "\n",
    "    client.train_model(X_train,y_train,epochs=epochs)\n",
    "    dataset_size += client.x.shape[0]\n",
    "    round_weights.append(dataset_size)\n",
    "    applicable_models.append(client.model)\n",
    "    if first:\n",
    "        fedavg.init_global_model(client.model)\n",
    "        first = False\n",
    "    print('.')\n",
    "\n",
    "round_weights = np.array(round_weights) / dataset_size # calculate weight based on actual dataset size\n",
    "fedavg.update_global_model(applicable_models, round_weights, selected_model)"
   ]
  },
  {
   "cell_type": "markdown",
   "metadata": {},
   "source": []
  },
  {
   "cell_type": "code",
   "execution_count": 35,
   "metadata": {},
   "outputs": [
    {
     "name": "stdout",
     "output_type": "stream",
     "text": [
      "0.0\n"
     ]
    }
   ],
   "source": [
    "score = fedavg.test_model_f1(y_test=test_y, X_test=test_x)\n",
    "print(score)"
   ]
  },
  {
   "cell_type": "code",
   "execution_count": 36,
   "metadata": {},
   "outputs": [
    {
     "name": "stdout",
     "output_type": "stream",
     "text": [
      "0 .....0.04871001031991744\n",
      "1 .....0.11807833301176926\n",
      "2 .....0.3520450405696307\n",
      "3 .....0.6156721399012148\n",
      "4 .....0.69222235917663\n",
      "5 .....0.6977707394323304\n",
      "6 .....0.6982894577217031\n",
      "7 .....0.7000971345313259\n",
      "8 .....0.7034197395643179\n",
      "9 .....0.7066861883845779\n",
      "10 .....0.7241087613293051\n",
      "11 .....0.738788831137435\n",
      "12 .....0.7546262917567893\n",
      "13 .....0.7655180693960859\n",
      "14 .....0.7676428228516563\n",
      "15 .....0.7782138185277678\n",
      "16 .....0.7879933821791538\n",
      "17 .....0.7913464948575482\n",
      "18 .....0.8042105263157895\n",
      "19 .....0.8114897081055936\n",
      "20 .....0.8165073443693168\n",
      "21 .....0.8264058679706601\n",
      "22 .....0.8368548666435747\n",
      "23 .....0.8404292142609899\n"
     ]
    }
   ],
   "source": [
    "number_of_rounds = 24\n",
    "epochs = 2\n",
    "max_score = 0\n",
    "optimal_model = None\n",
    "\n",
    "\n",
    "for round in range(number_of_rounds):\n",
    "    print(round, end=' ')\n",
    "\n",
    "    applicable_clients = random.sample((clients), len(clients))#random.randint(1, 4))\n",
    "    applicable_models = []\n",
    "    applicable_name = []\n",
    "    round_weights = []\n",
    "    dataset_size = 0\n",
    "    \n",
    "\n",
    "    for client in applicable_clients:\n",
    "        print(f'.', end='')\n",
    "\n",
    "        X_train, X_test, y_train, y_test = client.split_data(0.98)\n",
    "\n",
    "        # X_train = client.x_chunks[round + 1]\n",
    "        # y_train = client.y_chunks[round + 1]\n",
    "\n",
    "       \n",
    "        dataset_size += X_train.shape[0]\n",
    "        sample_weights = compute_sample_weight('balanced', y=y_train)\n",
    "\n",
    "        client.load_global_model(fedavg.model)\n",
    "        client.train_local_agent(X_train, y_train, epochs, sample_weights)\n",
    "        round_weights.append(X_train.shape[0])\n",
    "        applicable_models.append(client.model)\n",
    "\n",
    "\n",
    "    round_weights = np.array(round_weights) / dataset_size\n",
    "    fedavg.update_global_model(applicable_models, round_weights, selected_model)\n",
    "\n",
    "    score = fedavg.test_model_f1(y_test=test_y, X_test=test_x)\n",
    "    if score > max_score:\n",
    "        print(score)\n",
    "        max_score = score\n",
    "        optimal_model = deepcopy(fedavg.model)"
   ]
  },
  {
   "cell_type": "code",
   "execution_count": 30,
   "metadata": {},
   "outputs": [
    {
     "name": "stdout",
     "output_type": "stream",
     "text": [
      "0.7817234274633378\n",
      "0.7817234274633378\n"
     ]
    }
   ],
   "source": [
    "# x = test_x\n",
    "# y_hat = optimal_model.predict(x)\n",
    "# score = f1_score(test_y,y_hat)\n",
    "score = fedavg.test_model_f1(y_test=test_y, X_test=test_x)\n",
    "print(score)\n",
    "fedavg.model = optimal_model\n",
    "score = fedavg.test_model_f1(y_test=test_y, X_test=test_x)\n",
    "print(score)"
   ]
  },
  {
   "cell_type": "code",
   "execution_count": 31,
   "metadata": {},
   "outputs": [
    {
     "name": "stdout",
     "output_type": "stream",
     "text": [
      "Difference 0.07948893085274267\n",
      "Difference 0.6834310492875777\n",
      "Difference 0.6830168599214869\n",
      "Difference 0.7817234274633378\n",
      "Difference 0.7817234274633378\n"
     ]
    }
   ],
   "source": [
    "for i in f1_before:\n",
    "    print(f'Difference {score-i}')"
   ]
  },
  {
   "cell_type": "markdown",
   "metadata": {},
   "source": [
    "## Centralized Zone"
   ]
  },
  {
   "cell_type": "code",
   "execution_count": 14,
   "metadata": {},
   "outputs": [
    {
     "name": "stdout",
     "output_type": "stream",
     "text": [
      "Creating node1.\n",
      ".\n",
      ".\n",
      ".\n",
      ".\n",
      ".\n"
     ]
    }
   ],
   "source": [
    "client1 = Client(\"node1\",\"0.0.0.0\", 5001, selected_model)\n",
    "client1.x = clients[0].x\n",
    "client1.init_empty_model(0.01)\n",
    "\n",
    "\n",
    "for client in clients:\n",
    "    client1.train_model(x=client.x,y=client.y,epochs=50)\n",
    "    print(f'.')"
   ]
  },
  {
   "cell_type": "code",
   "execution_count": 15,
   "metadata": {},
   "outputs": [
    {
     "name": "stdout",
     "output_type": "stream",
     "text": [
      "0.7945415125621731\n"
     ]
    }
   ],
   "source": [
    "score = client1.test_model_f1(y_test=test_y, X_test=test_x)\n",
    "print(score)"
   ]
  },
  {
   "cell_type": "code",
   "execution_count": null,
   "metadata": {},
   "outputs": [],
   "source": []
  }
 ],
 "metadata": {
  "kernelspec": {
   "display_name": "Python 3.9.12 ('base')",
   "language": "python",
   "name": "python3"
  },
  "language_info": {
   "codemirror_mode": {
    "name": "ipython",
    "version": 3
   },
   "file_extension": ".py",
   "mimetype": "text/x-python",
   "name": "python",
   "nbconvert_exporter": "python",
   "pygments_lexer": "ipython3",
   "version": "3.9.12"
  },
  "orig_nbformat": 4,
  "vscode": {
   "interpreter": {
    "hash": "a23a6e25f04d9f91b77ea4396a46e870b27d23d0696169b2210a13d1cc496850"
   }
  }
 },
 "nbformat": 4,
 "nbformat_minor": 2
}
