{
 "cells": [
  {
   "cell_type": "code",
   "execution_count": 59,
   "metadata": {},
   "outputs": [],
   "source": [
    "import os\n",
    "import sys\n",
    "module_path = os.path.abspath(os.path.join('fede'))\n",
    "if module_path not in sys.path:\n",
    "    sys.path.append(module_path)\n",
    "\n",
    "from client import Client\n",
    "import pandas as pd\n",
    "from supported_modles import Supported_modles\n",
    "import utils\n",
    "from fedavg import Fedavg\n",
    "from sklearn.utils.class_weight import compute_sample_weight, compute_class_weight\n",
    "from sklearn.model_selection import StratifiedKFold, GridSearchCV, train_test_split\n",
    "from sklearn.preprocessing import StandardScaler\n",
    "import numpy as np\n",
    "from sklearn.metrics import accuracy_score, f1_score\n",
    "import random"
   ]
  },
  {
   "cell_type": "code",
   "execution_count": 60,
   "metadata": {},
   "outputs": [],
   "source": [
    "def warn(*args, **kwargs):\n",
    "    pass\n",
    "import warnings\n",
    "warnings.warn = warn"
   ]
  },
  {
   "cell_type": "code",
   "execution_count": 61,
   "metadata": {},
   "outputs": [
    {
     "name": "stdout",
     "output_type": "stream",
     "text": [
      "Creating node1 on 0.0.0.0:11111.\n",
      "Creating node2 on 0.0.0.0:11111.\n",
      "Creating node3 on 0.0.0.0:11111.\n",
      "Creating node4 on 0.0.0.0:11111.\n",
      "Creating node5 on 0.0.0.0:11111.\n"
     ]
    }
   ],
   "source": [
    "clients = utils.set_data(True)"
   ]
  },
  {
   "cell_type": "code",
   "execution_count": 110,
   "metadata": {},
   "outputs": [],
   "source": [
    "selected_model = Supported_modles.SGD_classifier"
   ]
  },
  {
   "cell_type": "code",
   "execution_count": 113,
   "metadata": {},
   "outputs": [
    {
     "name": "stdout",
     "output_type": "stream",
     "text": [
      "0.4839184115802918\n",
      "0.9439932112983392\n",
      "0.4781666605457417\n",
      "0.004133419596003163\n",
      "0.051953449709060684\n"
     ]
    }
   ],
   "source": [
    "f1_before = []\n",
    "for client in clients:\n",
    "    client.split_data()\n",
    "    # client.downsample_data(['sbytes','dbytes','sttl','dttl','spkts','dpkts'])\n",
    "    # client.prep_data()\n",
    "    client.train_model(selected_model)\n",
    "    print(client.y.mean())\n",
    "    f1_before.append(client.f1)"
   ]
  },
  {
   "cell_type": "code",
   "execution_count": 112,
   "metadata": {},
   "outputs": [
    {
     "data": {
      "text/plain": [
       "[0.8656527865507021,\n",
       " 0.9460682401858873,\n",
       " 0.7963212202781517,\n",
       " 0.03576044808272296,\n",
       " 0.7898944675407739]"
      ]
     },
     "execution_count": 112,
     "metadata": {},
     "output_type": "execute_result"
    }
   ],
   "source": [
    "f1_before"
   ]
  },
  {
   "cell_type": "code",
   "execution_count": 104,
   "metadata": {},
   "outputs": [],
   "source": [
    "selected_model = Supported_modles.SGD_classifier"
   ]
  },
  {
   "cell_type": "code",
   "execution_count": 105,
   "metadata": {},
   "outputs": [],
   "source": [
    "# clients = utils.set_data(True)\n",
    "for client in clients:\n",
    "    # client.split_data()\n",
    "    client.init_empty_model(selected_model,None)"
   ]
  },
  {
   "cell_type": "code",
   "execution_count": 106,
   "metadata": {},
   "outputs": [],
   "source": [
    "fedavg = Fedavg(\"global\", 0.1)\n",
    "fedavg.init_global_model(selected_model, None,78)"
   ]
  },
  {
   "cell_type": "code",
   "execution_count": 107,
   "metadata": {},
   "outputs": [
    {
     "name": "stdout",
     "output_type": "stream",
     "text": [
      "Starting new round!\n",
      "Starting new round!\n",
      "Starting new round!\n",
      "Starting new round!\n",
      "Starting new round!\n",
      "Starting new round!\n",
      "Starting new round!\n",
      "Starting new round!\n",
      "Starting new round!\n",
      "Starting new round!\n",
      "Starting new round!\n",
      "Starting new round!\n",
      "Starting new round!\n",
      "Starting new round!\n",
      "Starting new round!\n",
      "Starting new round!\n",
      "Starting new round!\n",
      "Starting new round!\n",
      "Starting new round!\n",
      "Starting new round!\n"
     ]
    }
   ],
   "source": [
    "number_of_rounds = 20\n",
    "batch_size = 0.1\n",
    "epochs = 10\n",
    "prep = StandardScaler() \n",
    "\n",
    "for _ in range(number_of_rounds):\n",
    "    print(f'Starting new round!')\n",
    "\n",
    "    applicable_clients = random.sample((clients), random.randint(1, 4))\n",
    "    applicable_models = []\n",
    "    applicable_name = []\n",
    "    round_weights = []\n",
    "    dataset_size = 0\n",
    "    \n",
    "\n",
    "    for client in applicable_clients:\n",
    "        # print(f'Client name: {client.name}')\n",
    "\n",
    "        X = client.x\n",
    "        y = client.y\n",
    "\n",
    "        X_train, X_test, y_train, y_test = train_test_split(X, y, shuffle=True, train_size=batch_size, stratify=y, random_state=random.randint(0,10))\n",
    "       \n",
    "        # X_train = prep.fit_transform(X_train)\n",
    "\n",
    "        dataset_size += X_train.shape[0]\n",
    "        sample_weights = compute_sample_weight('balanced', y=y_train)\n",
    "\n",
    "        fedavg.load_global_model(client.model, selected_model)\n",
    "        fedavg.train_local_agent(X_train, y_train, client.model, epochs, sample_weights, selected_model)\n",
    "        round_weights.append(X_train.shape[0])\n",
    "        applicable_models.append(client.model)\n",
    "\n",
    "\n",
    "    round_weights = np.array(round_weights) / dataset_size # calculate weight based on actual dataset size\n",
    "    # round_weights = weights\n",
    "    fedavg.update_global_model(applicable_models, round_weights, selected_model)"
   ]
  },
  {
   "cell_type": "code",
   "execution_count": 108,
   "metadata": {},
   "outputs": [
    {
     "name": "stdout",
     "output_type": "stream",
     "text": [
      "[0.8083289641225376, 0.9326733903535114, 0.759502262443439, 0.028340963592762156, 0.56353591160221]\n"
     ]
    }
   ],
   "source": [
    "f1_fedavg = []\n",
    "for client in clients:\n",
    "    # x = prep.transform(client.x_test)\n",
    "    y_hat = fedavg.model.predict(client.x_test)\n",
    "    f1_fedavg.append(f1_score(client.y_test,y_hat))\n",
    "print(f1_fedavg)"
   ]
  },
  {
   "cell_type": "code",
   "execution_count": 109,
   "metadata": {},
   "outputs": [
    {
     "name": "stdout",
     "output_type": "stream",
     "text": [
      "Difference 0.007427668510094798\n",
      "Difference -0.04635713729693236\n",
      "Difference -0.10905939603059389\n",
      "Difference -0.5326346461633353\n",
      "Difference -0.37956967845990175\n"
     ]
    }
   ],
   "source": [
    "i = 0\n",
    "for client in clients:\n",
    "    print(f'Difference {f1_fedavg[i]-f1_before[i]}')\n",
    "    i += 1"
   ]
  },
  {
   "cell_type": "code",
   "execution_count": null,
   "metadata": {},
   "outputs": [],
   "source": []
  }
 ],
 "metadata": {
  "kernelspec": {
   "display_name": "Python 3.9.12 ('base')",
   "language": "python",
   "name": "python3"
  },
  "language_info": {
   "codemirror_mode": {
    "name": "ipython",
    "version": 3
   },
   "file_extension": ".py",
   "mimetype": "text/x-python",
   "name": "python",
   "nbconvert_exporter": "python",
   "pygments_lexer": "ipython3",
   "version": "3.9.12"
  },
  "orig_nbformat": 4,
  "vscode": {
   "interpreter": {
    "hash": "a23a6e25f04d9f91b77ea4396a46e870b27d23d0696169b2210a13d1cc496850"
   }
  }
 },
 "nbformat": 4,
 "nbformat_minor": 2
}
