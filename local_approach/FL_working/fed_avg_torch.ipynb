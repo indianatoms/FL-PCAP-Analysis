{
 "cells": [
  {
   "cell_type": "code",
   "execution_count": 1,
   "metadata": {},
   "outputs": [],
   "source": [
    "import os\n",
    "import sys\n",
    "module_path = os.path.abspath(os.path.join('fede'))\n",
    "if module_path not in sys.path:\n",
    "    sys.path.append(module_path)\n",
    "\n",
    "from client import Client\n",
    "from network import Net2nn\n",
    "import torch \n",
    "import pandas as pd\n",
    "from supported_modles import Supported_modles\n",
    "import utils\n",
    "from fedavg import Fedavg\n",
    "from sklearn.utils.class_weight import compute_sample_weight, compute_class_weight\n",
    "from sklearn.model_selection import train_test_split\n",
    "from sklearn.preprocessing import StandardScaler\n",
    "import numpy as np\n",
    "from sklearn.metrics import accuracy_score, f1_score\n",
    "from torch import nn\n",
    "import torch"
   ]
  },
  {
   "cell_type": "code",
   "execution_count": 9,
   "metadata": {},
   "outputs": [],
   "source": [
    "def warn(*args, **kwargs):\n",
    "    pass\n",
    "import warnings\n",
    "warnings.warn = warn"
   ]
  },
  {
   "cell_type": "code",
   "execution_count": 10,
   "metadata": {},
   "outputs": [],
   "source": [
    "selected_model = Supported_modles.NN_classifier"
   ]
  },
  {
   "cell_type": "code",
   "execution_count": 11,
   "metadata": {},
   "outputs": [
    {
     "name": "stdout",
     "output_type": "stream",
     "text": [
      "Creating node1.\n",
      "Creating node2.\n",
      "Creating node3.\n",
      "Creating node4.\n",
      "Creating node5.\n"
     ]
    }
   ],
   "source": [
    "clients, test_x, test_y = utils.set_data(selected_model,True, False)"
   ]
  },
  {
   "cell_type": "code",
   "execution_count": 12,
   "metadata": {},
   "outputs": [],
   "source": [
    "model = Net2nn()\n",
    "optimizer = torch.optim.SGD(model.parameters(), lr=0.01, momentum=0.9)\n",
    "criterion = nn.CrossEntropyLoss()"
   ]
  },
  {
   "cell_type": "code",
   "execution_count": 13,
   "metadata": {},
   "outputs": [],
   "source": [
    "x = clients[0].x\n",
    "y = clients[0].y"
   ]
  },
  {
   "cell_type": "code",
   "execution_count": 14,
   "metadata": {},
   "outputs": [],
   "source": [
    "x_train = np.float32(x)  \n",
    "y_train = np.float32(y)"
   ]
  },
  {
   "cell_type": "code",
   "execution_count": 15,
   "metadata": {},
   "outputs": [],
   "source": [
    "\n",
    "x_train = torch.FloatTensor(x_train)\n",
    "y_train = torch.LongTensor(y_train)"
   ]
  },
  {
   "cell_type": "code",
   "execution_count": 25,
   "metadata": {},
   "outputs": [],
   "source": [
    "clients[0].init_empty_model(0.01)\n",
    "clients[0].train(x_train, y_train, 100)"
   ]
  },
  {
   "cell_type": "code",
   "execution_count": 19,
   "metadata": {},
   "outputs": [],
   "source": [
    "test_x = np.float32(test_x)  \n",
    "test_x = torch.FloatTensor(test_x)"
   ]
  },
  {
   "cell_type": "code",
   "execution_count": 20,
   "metadata": {},
   "outputs": [],
   "source": [
    "output = model(test_x)"
   ]
  },
  {
   "cell_type": "code",
   "execution_count": 21,
   "metadata": {},
   "outputs": [],
   "source": [
    "prediction = output.argmax(dim=1, keepdim=True)"
   ]
  },
  {
   "cell_type": "code",
   "execution_count": 22,
   "metadata": {},
   "outputs": [
    {
     "data": {
      "text/plain": [
       "0.5529025706444656"
      ]
     },
     "execution_count": 22,
     "metadata": {},
     "output_type": "execute_result"
    }
   ],
   "source": [
    "f1_score(prediction,test_y)"
   ]
  },
  {
   "cell_type": "code",
   "execution_count": 24,
   "metadata": {},
   "outputs": [
    {
     "name": "stdout",
     "output_type": "stream",
     "text": [
      "tensor([[ 0.0091,  0.0010, -0.0067,  ...,  0.0096,  0.0070,  0.0036],\n",
      "        [ 0.0034,  0.0002,  0.0097,  ..., -0.0004,  0.0108,  0.0013],\n",
      "        [ 0.0065, -0.0065, -0.0016,  ..., -0.0035,  0.0066,  0.0070],\n",
      "        ...,\n",
      "        [-0.0053,  0.0059,  0.0066,  ..., -0.0036,  0.0019, -0.0057],\n",
      "        [-0.0036,  0.0027,  0.0074,  ..., -0.0068, -0.0045, -0.0054],\n",
      "        [ 0.0003, -0.0033,  0.0101,  ..., -0.0003, -0.0064, -0.0075]])\n",
      "tensor([ 0.0266, -0.1085, -0.0427, -0.0729,  0.0768, -0.0808, -0.0303,  0.0736,\n",
      "         0.0021,  0.0826,  0.0488, -0.0297,  0.0535, -0.1127,  0.0385,  0.0074,\n",
      "        -0.0946, -0.0966,  0.0973,  0.0117, -0.0085, -0.0178,  0.0559, -0.0946,\n",
      "        -0.0667, -0.0429,  0.0805, -0.0248,  0.0652, -0.0356,  0.0219,  0.0478,\n",
      "         0.0948, -0.0525, -0.0185,  0.0713, -0.0426, -0.0952, -0.0118, -0.0862,\n",
      "        -0.0988, -0.0461,  0.0487, -0.0731, -0.0818, -0.0504, -0.1051,  0.0921,\n",
      "         0.0040,  0.1100, -0.0605,  0.0352,  0.0682, -0.0450,  0.0962, -0.0508,\n",
      "        -0.1033, -0.0346,  0.0451, -0.0575,  0.0483,  0.0908, -0.0515, -0.1073,\n",
      "         0.0765, -0.0764, -0.0266,  0.0379, -0.0853,  0.0284,  0.0410,  0.1098,\n",
      "        -0.0465, -0.0112,  0.0274, -0.0026,  0.0331, -0.0255,  0.1073,  0.0978,\n",
      "        -0.0047, -0.0581,  0.0811,  0.0746, -0.0464, -0.0297, -0.0903,  0.0797,\n",
      "         0.0245, -0.0310, -0.1124,  0.0513, -0.0429, -0.0782,  0.0233,  0.0163,\n",
      "        -0.0748,  0.0452, -0.0861, -0.0832,  0.0278, -0.0254,  0.0891,  0.0407,\n",
      "        -0.0858, -0.0362,  0.0610, -0.0506,  0.0686,  0.0832,  0.0693,  0.0133,\n",
      "         0.0264, -0.0865,  0.0346, -0.1112,  0.0909,  0.0996, -0.0140,  0.0677,\n",
      "        -0.0117,  0.0868, -0.1107,  0.0043,  0.0732, -0.0994,  0.0817, -0.1079,\n",
      "        -0.0743, -0.0989, -0.0114, -0.0200, -0.0401, -0.0151, -0.0496,  0.0896,\n",
      "         0.1115,  0.0150,  0.0098,  0.0559, -0.0820,  0.0765, -0.0716,  0.0134,\n",
      "         0.1103, -0.0514, -0.1094,  0.0040,  0.0996, -0.1107, -0.1103,  0.0405,\n",
      "        -0.1107,  0.1089,  0.0587, -0.0249,  0.0089, -0.0281, -0.1000, -0.0962,\n",
      "        -0.0458, -0.0097,  0.0340,  0.0036,  0.0664, -0.0161,  0.0711, -0.0672,\n",
      "         0.1059, -0.0451, -0.0352, -0.0978, -0.0334,  0.0175, -0.0314, -0.1107,\n",
      "         0.0821,  0.0025,  0.0378,  0.0320, -0.0377, -0.0904,  0.0580,  0.0440,\n",
      "         0.0050,  0.1044, -0.0961,  0.0560,  0.0897,  0.0891, -0.0958,  0.1046,\n",
      "         0.0107,  0.0128,  0.0993,  0.1054,  0.0059,  0.0107, -0.1032, -0.0495,\n",
      "        -0.0914,  0.0915,  0.0133, -0.0074, -0.0651,  0.0462,  0.0266,  0.0708,\n",
      "        -0.0649, -0.0967,  0.1089,  0.0479, -0.0344, -0.0733,  0.0429,  0.0063,\n",
      "        -0.0032, -0.0157,  0.0210,  0.0173, -0.0986,  0.0700, -0.0452,  0.0438,\n",
      "        -0.0533, -0.0218,  0.0358,  0.0042,  0.0529,  0.0710, -0.0509, -0.0148,\n",
      "         0.0372,  0.0418, -0.0654,  0.0343,  0.0466, -0.0887, -0.0817,  0.0118,\n",
      "         0.0168,  0.0864,  0.0951, -0.0623,  0.0662, -0.0482, -0.1128,  0.1030,\n",
      "        -0.0166,  0.0817, -0.0058,  0.0604, -0.0381,  0.0765, -0.0447,  0.0348])\n",
      "tensor([[-0.0016,  0.0289,  0.0164,  ..., -0.0133, -0.0566,  0.0466],\n",
      "        [-0.0524,  0.0463,  0.0553,  ...,  0.0170,  0.0044,  0.0215],\n",
      "        [-0.0177, -0.0158,  0.0512,  ...,  0.0513,  0.0466,  0.0004],\n",
      "        ...,\n",
      "        [ 0.0191, -0.0288,  0.0363,  ...,  0.0460,  0.0436, -0.0227],\n",
      "        [ 0.0568,  0.0010, -0.0367,  ..., -0.0409, -0.0610, -0.0530],\n",
      "        [-0.0418, -0.0243, -0.0469,  ...,  0.0237,  0.0395,  0.0232]])\n",
      "tensor([-0.0024, -0.0077,  0.0594, -0.0417, -0.0368, -0.0165,  0.0545,  0.0376,\n",
      "        -0.0069,  0.0373,  0.0510,  0.0394, -0.0346,  0.0178, -0.0337, -0.0473,\n",
      "        -0.0072,  0.0006,  0.0138, -0.0247, -0.0507,  0.0119, -0.0205,  0.0478,\n",
      "         0.0459,  0.0055,  0.0602, -0.0442, -0.0276, -0.0282, -0.0565, -0.0544,\n",
      "        -0.0230, -0.0417, -0.0314, -0.0251,  0.0491, -0.0421, -0.0091, -0.0348,\n",
      "        -0.0037, -0.0559, -0.0330,  0.0089,  0.0443,  0.0441,  0.0568,  0.0095,\n",
      "         0.0381, -0.0172,  0.0338, -0.0292, -0.0045, -0.0389,  0.0226,  0.0310,\n",
      "         0.0346,  0.0488, -0.0231, -0.0328, -0.0160,  0.0579,  0.0280,  0.0593])\n",
      "tensor([[-0.0069,  0.0238, -0.1192,  0.1015,  0.0577, -0.1181, -0.0355, -0.0426,\n",
      "          0.1095,  0.0290,  0.0126,  0.1136,  0.1052,  0.1066, -0.0125,  0.0121,\n",
      "         -0.0981, -0.0532, -0.0811,  0.0715, -0.1191, -0.0050, -0.0648, -0.1136,\n",
      "         -0.0256,  0.0564,  0.0576, -0.1150,  0.1235,  0.0865, -0.0729,  0.0959,\n",
      "         -0.0568, -0.0469,  0.0694,  0.0902,  0.0567,  0.1035,  0.0500, -0.0720,\n",
      "         -0.0885, -0.0323, -0.0126,  0.0158,  0.0095,  0.0369, -0.0640, -0.0507,\n",
      "          0.0010, -0.1208,  0.0181, -0.0570,  0.0460, -0.0449, -0.0212,  0.0568,\n",
      "         -0.0640,  0.1091, -0.0503, -0.0253, -0.0543, -0.0458, -0.0404, -0.0443],\n",
      "        [-0.0991, -0.1070,  0.0369,  0.0449, -0.0176,  0.0405,  0.1031,  0.0713,\n",
      "          0.0457,  0.0711, -0.0470,  0.0714, -0.0434, -0.0263, -0.0198, -0.0399,\n",
      "          0.0148,  0.0611,  0.0782, -0.0305,  0.0626,  0.0751,  0.0606,  0.0882,\n",
      "          0.0493, -0.0397,  0.1059, -0.0269, -0.0946,  0.0253, -0.0603,  0.1039,\n",
      "          0.1097, -0.0868, -0.0636,  0.0339,  0.0915, -0.0457,  0.0266, -0.0361,\n",
      "         -0.1169, -0.0854, -0.0271, -0.0072,  0.0983, -0.0677,  0.0041,  0.0924,\n",
      "          0.0336,  0.0378, -0.0659,  0.1226, -0.0518, -0.0192,  0.0239,  0.0082,\n",
      "          0.0541, -0.0032, -0.0420,  0.0253, -0.0916, -0.0218, -0.0620,  0.0147]])\n",
      "tensor([-0.0627, -0.0051])\n"
     ]
    }
   ],
   "source": [
    "print(model.fc1.weight.data.clone()\n",
    "print(model.fc1.bias.data.clone())\n",
    "print(model.fc2.weight.data.clone())\n",
    "print(model.fc2.bias.data.clone())\n",
    "print(model.fc3.weight.data.clone())\n",
    "print(model.fc3.bias.data.clone())"
   ]
  },
  {
   "cell_type": "code",
   "execution_count": null,
   "metadata": {},
   "outputs": [],
   "source": []
  }
 ],
 "metadata": {
  "kernelspec": {
   "display_name": "Python 3.9.12 ('base')",
   "language": "python",
   "name": "python3"
  },
  "language_info": {
   "codemirror_mode": {
    "name": "ipython",
    "version": 3
   },
   "file_extension": ".py",
   "mimetype": "text/x-python",
   "name": "python",
   "nbconvert_exporter": "python",
   "pygments_lexer": "ipython3",
   "version": "3.9.12"
  },
  "orig_nbformat": 4,
  "vscode": {
   "interpreter": {
    "hash": "a23a6e25f04d9f91b77ea4396a46e870b27d23d0696169b2210a13d1cc496850"
   }
  }
 },
 "nbformat": 4,
 "nbformat_minor": 2
}
