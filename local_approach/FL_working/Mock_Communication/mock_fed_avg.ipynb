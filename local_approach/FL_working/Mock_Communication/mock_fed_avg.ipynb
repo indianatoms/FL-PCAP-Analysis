{
 "cells": [
  {
   "cell_type": "code",
   "execution_count": 6,
   "metadata": {},
   "outputs": [],
   "source": [
    "### Different approach - batch size learning \n",
    "from sklearn.utils.class_weight import compute_sample_weight, compute_class_weight\n",
    "from sklearn.model_selection import StratifiedKFold, GridSearchCV, train_test_split\n",
    "from sklearn.preprocessing import StandardScaler\n",
    "import numpy as np\n",
    "from sklearn.metrics import accuracy_score, f1_score\n",
    "from sklearn.utils import shuffle\n",
    "import random\n",
    "\n",
    "import sys\n",
    "sys.path.append(\"..\")\n",
    "import fede.utils\n",
    "from fede.fedavg import Fedavg\n",
    "from fede.fed_transfer import Fed_Avg_Client\n",
    "from fede.supported_modles import Supported_modles"
   ]
  },
  {
   "cell_type": "code",
   "execution_count": 7,
   "metadata": {},
   "outputs": [],
   "source": [
    "def warn(*args, **kwargs):\n",
    "    pass\n",
    "import warnings\n",
    "warnings.warn = warn"
   ]
  },
  {
   "cell_type": "code",
   "execution_count": 8,
   "metadata": {},
   "outputs": [],
   "source": [
    "fedavg = Fedavg(\"global\")\n",
    "lr = 0.05\n",
    "fedavg.init_global_model(lr, Supported_modles.SGD_classifier, None,78)\n",
    "# applicable_clients = fedavg.wait_for_data(3)"
   ]
  },
  {
   "cell_type": "code",
   "execution_count": 9,
   "metadata": {},
   "outputs": [],
   "source": [
    "# applicable_clients"
   ]
  },
  {
   "cell_type": "code",
   "execution_count": 10,
   "metadata": {},
   "outputs": [
    {
     "name": "stdout",
     "output_type": "stream",
     "text": [
      "Starting new round!\n",
      "Server is Listening.....\n",
      "Data received from client1\n",
      "Data received from client2\n",
      "Data received from client3\n",
      "Client name: client1\n",
      "[8954]\n",
      "Client name: client1\n",
      "[8954, 8226]\n",
      "Client name: client1\n",
      "[8954, 8226, 8244]\n",
      "[-2982.34814272]\n",
      "Starting new round!\n",
      "Server is Listening.....\n",
      "Data received from client1\n",
      "Data received from client2\n",
      "Data received from client3\n",
      "Client name: client1\n",
      "[8954]\n",
      "Client name: client1\n",
      "[8954, 8226]\n",
      "Client name: client1\n",
      "[8954, 8226, 8244]\n",
      "[-6555.19546864]\n",
      "Starting new round!\n",
      "Server is Listening.....\n",
      "Data received from client1\n",
      "Data received from client2\n",
      "Data received from client3\n",
      "Client name: client1\n",
      "[8954]\n",
      "Client name: client1\n",
      "[8954, 8226]\n",
      "Client name: client1\n",
      "[8954, 8226, 8244]\n",
      "[-8651.42657597]\n"
     ]
    }
   ],
   "source": [
    "selected_model = Supported_modles.SGD_classifier\n",
    "number_of_rounds = 3\n",
    "batch_size = 0.05\n",
    "epochs = 10\n",
    "# prep = StandardScaler() \n",
    "\n",
    "for _ in range(number_of_rounds):\n",
    "    print(f'Starting new round!')\n",
    "\n",
    "    # applicable_clients = random.sample((clients), random.randint(1, 4))\n",
    "    applicable_models = []\n",
    "    applicable_name = []\n",
    "    round_weights = []\n",
    "    dataset_size = 0\n",
    "\n",
    "    applicable_clients = fedavg.wait_for_data(3)\n",
    "    \n",
    "    for client in applicable_clients:\n",
    "\n",
    "        print(f'Client name: {client.name}')\n",
    "        \n",
    "        fedavg.load_global_model(client.model, selected_model) #load global model on the client model\n",
    "\n",
    "        fedavg.train_local_agent(client.X_train, client.y_train, client.model, epochs, client.sample_weights, selected_model) #make partial fit on globsl model\n",
    "\n",
    "        round_weights.append(client.X_train.shape[0])\n",
    "        dataset_size += client.X_train.shape[0]\n",
    "        print(round_weights)\n",
    "        applicable_models.append(client.model)\n",
    "\n",
    "\n",
    "    round_weights = np.array(round_weights) / dataset_size # calculate weight based on actual dataset size\n",
    "    # round_weights = weights\n",
    "    fedavg.update_global_model(applicable_models, round_weights, selected_model)\n",
    "    print(fedavg.model.intercept_)"
   ]
  },
  {
   "cell_type": "code",
   "execution_count": null,
   "metadata": {},
   "outputs": [],
   "source": [
    "fedavg.sendmodel()"
   ]
  }
 ],
 "metadata": {
  "kernelspec": {
   "display_name": "Python 3.9.12 ('base')",
   "language": "python",
   "name": "python3"
  },
  "language_info": {
   "codemirror_mode": {
    "name": "ipython",
    "version": 3
   },
   "file_extension": ".py",
   "mimetype": "text/x-python",
   "name": "python",
   "nbconvert_exporter": "python",
   "pygments_lexer": "ipython3",
   "version": "3.9.12"
  },
  "orig_nbformat": 4,
  "vscode": {
   "interpreter": {
    "hash": "a23a6e25f04d9f91b77ea4396a46e870b27d23d0696169b2210a13d1cc496850"
   }
  }
 },
 "nbformat": 4,
 "nbformat_minor": 2
}
