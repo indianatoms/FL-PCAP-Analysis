{
 "cells": [
  {
   "cell_type": "code",
   "execution_count": 4,
   "metadata": {},
   "outputs": [],
   "source": [
    "### Different approach - batch size learning \n",
    "from sklearn.utils.class_weight import compute_sample_weight, compute_class_weight\n",
    "from sklearn.model_selection import StratifiedKFold, GridSearchCV, train_test_split\n",
    "from sklearn.preprocessing import StandardScaler\n",
    "import numpy as np\n",
    "from sklearn.metrics import accuracy_score, f1_score\n",
    "from sklearn.utils import shuffle\n",
    "import random\n",
    "\n",
    "import sys\n",
    "sys.path.append(\"..\")\n",
    "import fede.utils\n",
    "from fede.fedavg import Fedavg\n",
    "from fede.fed_transfer import Fed_Avg_Client\n",
    "from fede.supported_modles import Supported_modles"
   ]
  },
  {
   "cell_type": "code",
   "execution_count": 5,
   "metadata": {},
   "outputs": [],
   "source": [
    "def warn(*args, **kwargs):\n",
    "    pass\n",
    "import warnings\n",
    "warnings.warn = warn"
   ]
  },
  {
   "cell_type": "code",
   "execution_count": 6,
   "metadata": {},
   "outputs": [
    {
     "name": "stdout",
     "output_type": "stream",
     "text": [
      "Server is Listening.....\n"
     ]
    }
   ],
   "source": [
    "fedavg = Fedavg(\"global\")\n",
    "lr = 0.05\n",
    "fedavg.init_global_model(lr, Supported_modles.SGD_classifier, None,78)\n",
    "applicable_clients = fedavg.wait_for_data(5)"
   ]
  },
  {
   "cell_type": "code",
   "execution_count": 7,
   "metadata": {},
   "outputs": [
    {
     "data": {
      "text/plain": [
       "'client1'"
      ]
     },
     "execution_count": 7,
     "metadata": {},
     "output_type": "execute_result"
    }
   ],
   "source": [
    "applicable_clients.name"
   ]
  },
  {
   "cell_type": "code",
   "execution_count": 4,
   "metadata": {},
   "outputs": [
    {
     "name": "stdout",
     "output_type": "stream",
     "text": [
      "Starting new round!\n",
      "Server is Listening.....\n",
      "Connected by ('127.0.0.1', 45132)\n"
     ]
    },
    {
     "ename": "OSError",
     "evalue": "[Errno 107] Transport endpoint is not connected",
     "output_type": "error",
     "traceback": [
      "\u001b[0;31m---------------------------------------------------------------------------\u001b[0m",
      "\u001b[0;31mOSError\u001b[0m                                   Traceback (most recent call last)",
      "\u001b[1;32m/home/tk/Desktop/Studia/masters/git-repo/local_approach/FL_working/mock_fed_avg.ipynb Cell 4\u001b[0m in \u001b[0;36m<cell line: 7>\u001b[0;34m()\u001b[0m\n\u001b[1;32m     <a href='vscode-notebook-cell:/home/tk/Desktop/Studia/masters/git-repo/local_approach/FL_working/mock_fed_avg.ipynb#X10sZmlsZQ%3D%3D?line=12'>13</a>\u001b[0m round_weights \u001b[39m=\u001b[39m []\n\u001b[1;32m     <a href='vscode-notebook-cell:/home/tk/Desktop/Studia/masters/git-repo/local_approach/FL_working/mock_fed_avg.ipynb#X10sZmlsZQ%3D%3D?line=13'>14</a>\u001b[0m dataset_size \u001b[39m=\u001b[39m \u001b[39m0\u001b[39m\n\u001b[0;32m---> <a href='vscode-notebook-cell:/home/tk/Desktop/Studia/masters/git-repo/local_approach/FL_working/mock_fed_avg.ipynb#X10sZmlsZQ%3D%3D?line=15'>16</a>\u001b[0m applicable_clients \u001b[39m=\u001b[39m fedavg\u001b[39m.\u001b[39;49mwait_for_data(\u001b[39m5\u001b[39;49m)\n\u001b[1;32m     <a href='vscode-notebook-cell:/home/tk/Desktop/Studia/masters/git-repo/local_approach/FL_working/mock_fed_avg.ipynb#X10sZmlsZQ%3D%3D?line=17'>18</a>\u001b[0m \u001b[39mfor\u001b[39;00m client \u001b[39min\u001b[39;00m applicable_clients:\n\u001b[1;32m     <a href='vscode-notebook-cell:/home/tk/Desktop/Studia/masters/git-repo/local_approach/FL_working/mock_fed_avg.ipynb#X10sZmlsZQ%3D%3D?line=18'>19</a>\u001b[0m     \u001b[39m# print(f'Client name: {client.name}')\u001b[39;00m\n\u001b[1;32m     <a href='vscode-notebook-cell:/home/tk/Desktop/Studia/masters/git-repo/local_approach/FL_working/mock_fed_avg.ipynb#X10sZmlsZQ%3D%3D?line=20'>21</a>\u001b[0m     X_train, X_test, y_train, y_test \u001b[39m=\u001b[39m train_test_split(client\u001b[39m.\u001b[39mx, client\u001b[39m.\u001b[39my, shuffle\u001b[39m=\u001b[39m\u001b[39mTrue\u001b[39;00m, train_size\u001b[39m=\u001b[39mbatch_size, stratify\u001b[39m=\u001b[39my, random_state\u001b[39m=\u001b[39mrandom\u001b[39m.\u001b[39mrandint(\u001b[39m0\u001b[39m,\u001b[39m10\u001b[39m))\n",
      "File \u001b[0;32m~/Desktop/Studia/masters/git-repo/local_approach/FL_working/fedavg.py:81\u001b[0m, in \u001b[0;36mFedavg.wait_for_data\u001b[0;34m(self, number_of_clients)\u001b[0m\n\u001b[1;32m     79\u001b[0m data \u001b[39m=\u001b[39m []\n\u001b[1;32m     80\u001b[0m \u001b[39m# while True:\u001b[39;00m\n\u001b[0;32m---> 81\u001b[0m packet \u001b[39m=\u001b[39m s\u001b[39m.\u001b[39;49mrecv(\u001b[39m4096\u001b[39;49m)\n\u001b[1;32m     82\u001b[0m     \u001b[39m# if not packet: break\u001b[39;00m\n\u001b[1;32m     83\u001b[0m     \u001b[39m# data.append(packet)\u001b[39;00m\n\u001b[1;32m     84\u001b[0m \n\u001b[1;32m     85\u001b[0m \u001b[39m# data_arr = pickle.loads(b\"\".join(data))\u001b[39;00m\n\u001b[1;32m     86\u001b[0m data_arr \u001b[39m=\u001b[39m pickle\u001b[39m.\u001b[39mloads(data_arr)\n",
      "\u001b[0;31mOSError\u001b[0m: [Errno 107] Transport endpoint is not connected"
     ]
    }
   ],
   "source": [
    "selected_model = Supported_modles.SGD_classifier\n",
    "number_of_rounds = 2\n",
    "batch_size = 0.05\n",
    "epochs = 20\n",
    "# prep = StandardScaler() \n",
    "\n",
    "for _ in range(number_of_rounds):\n",
    "    print(f'Starting new round!')\n",
    "\n",
    "    #applicable_clients = random.sample((clients), random.randint(1, 4))\n",
    "    applicable_models = []\n",
    "    applicable_name = []\n",
    "    round_weights = []\n",
    "    dataset_size = 0\n",
    "\n",
    "    applicable_clients = fedavg.wait_for_data(5)\n",
    "    \n",
    "    for client in applicable_clients:\n",
    "        # print(f'Client name: {client.name}')\n",
    "\n",
    "        X_train, X_test, y_train, y_test = train_test_split(client.x, client.y, shuffle=True, train_size=batch_size, stratify=y, random_state=random.randint(0,10))\n",
    "        # X_train = prep.fit_transform(X_train)\n",
    "        dataset_size += X_train.shape[0]\n",
    "        sample_weights = compute_sample_weight('balanced', y=y_train)\n",
    "        \n",
    "        #send datasize and sample weights and X_train and y_train and client.model by client\n",
    "\n",
    "        fedavg.load_global_model(client.model, selected_model) #load global model on the client model\n",
    "\n",
    "        fedavg.train_local_agent(X_train, y_train, client.model, epochs, sample_weights, selected_model) #make partial fit on globsl model\n",
    "\n",
    "        round_weights.append(X_train.shape[0])\n",
    "        applicable_models.append(client.model)\n",
    "\n",
    "\n",
    "    round_weights = np.array(round_weights) / dataset_size # calculate weight based on actual dataset size\n",
    "    # round_weights = weights\n",
    "    fedavg.update_global_model(applicable_models, round_weights, selected_model)"
   ]
  },
  {
   "cell_type": "code",
   "execution_count": null,
   "metadata": {},
   "outputs": [],
   "source": []
  }
 ],
 "metadata": {
  "kernelspec": {
   "display_name": "Python 3.9.12 ('base')",
   "language": "python",
   "name": "python3"
  },
  "language_info": {
   "codemirror_mode": {
    "name": "ipython",
    "version": 3
   },
   "file_extension": ".py",
   "mimetype": "text/x-python",
   "name": "python",
   "nbconvert_exporter": "python",
   "pygments_lexer": "ipython3",
   "version": "3.9.12"
  },
  "orig_nbformat": 4,
  "vscode": {
   "interpreter": {
    "hash": "a23a6e25f04d9f91b77ea4396a46e870b27d23d0696169b2210a13d1cc496850"
   }
  }
 },
 "nbformat": 4,
 "nbformat_minor": 2
}
