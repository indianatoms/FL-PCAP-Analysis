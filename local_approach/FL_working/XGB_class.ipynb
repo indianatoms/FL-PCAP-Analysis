{
 "cells": [
  {
   "cell_type": "code",
   "execution_count": 8,
   "metadata": {},
   "outputs": [],
   "source": [
    "from client import Client\n",
    "from global_model import Global_model\n",
    "from sklearn.utils import shuffle\n",
    "from supported_modles import Supported_modles\n",
    "import numpy as np\n",
    "from sklearn.metrics import accuracy_score, f1_score\n",
    "import random"
   ]
  },
  {
   "cell_type": "code",
   "execution_count": 9,
   "metadata": {},
   "outputs": [],
   "source": [
    "selected_model = Supported_modles.gradient_boosting_classifier"
   ]
  },
  {
   "cell_type": "code",
   "execution_count": 10,
   "metadata": {},
   "outputs": [],
   "source": [
    "#NODEs\n",
    "client1 = Client(\"node1\",\"0.0.0.0\")\n",
    "dataset = client1.load_data(\"../../datasets/UNSW_NB15_training-set.csv\")\n",
    "client2 = Client(\"node2\",\"0.0.0.0\")\n",
    "client3 = Client(\"node3\",\"0.0.0.0\")\n",
    "client4 = Client(\"node4\",\"0.0.0.0\")\n",
    "client5 = Client(\"node5\",\"0.0.0.0\")\n",
    "\n",
    "dataset = shuffle(dataset)\n",
    "\n",
    "clients = [client1, client2, client3, client4, client5]\n",
    "\n",
    "client1.preprocess_data(dataset)\n",
    "\n",
    "X = client1.x\n",
    "y = client1.y\n",
    "\n",
    "client1.x = X[:20000]\n",
    "client1.y = y[:20000]\n",
    "\n",
    "client2.x = X[20000:40000]\n",
    "client2.y = y[20000:40000]\n",
    "\n",
    "client3.x = X[40000:50000]\n",
    "client3.y = y[40000:50000]\n",
    "\n",
    "client4.x = X[50000:60000]\n",
    "client4.y = y[50000:60000]\n",
    "\n",
    "client5.x = X[60000:]\n",
    "client5.y = y[60000:]"
   ]
  },
  {
   "cell_type": "code",
   "execution_count": 11,
   "metadata": {},
   "outputs": [
    {
     "name": "stdout",
     "output_type": "stream",
     "text": [
      "Model accuracy: 0.9345454545454546\n",
      "Model f1 score: 0.941031941031941\n",
      "Total size: 13400\n",
      "Totla sum of malicious packets: 7394\n",
      "Model accuracy: 0.9513636363636364\n",
      "Model f1 score: 0.9551111732624807\n",
      "Total size: 13400\n",
      "Totla sum of malicious packets: 7350\n",
      "Model accuracy: 0.9484848484848485\n",
      "Model f1 score: 0.953219592735278\n",
      "Total size: 6700\n",
      "Totla sum of malicious packets: 3658\n",
      "Model accuracy: 0.9466666666666667\n",
      "Model f1 score: 0.9505895564289726\n",
      "Total size: 6700\n",
      "Totla sum of malicious packets: 3682\n",
      "Model accuracy: 0.9489823609226594\n",
      "Model f1 score: 0.9539328595932369\n",
      "Total size: 14962\n",
      "Totla sum of malicious packets: 8267\n"
     ]
    }
   ],
   "source": [
    "f1_before = []\n",
    "for client in clients:\n",
    "    client.split_data()\n",
    "    client.train_model(selected_model)\n",
    "    print(f'Model accuracy: {client.accuracy}')\n",
    "    print(f'Model f1 score: {client.F1}')\n",
    "    f1_before.append(client.F1)\n",
    "    print(f'Total size: {client.x.shape[0]}')\n",
    "    print(f'Totla sum of malicious packets: {client.y.sum()}')"
   ]
  },
  {
   "cell_type": "code",
   "execution_count": 5,
   "metadata": {},
   "outputs": [
    {
     "data": {
      "text/plain": [
       "{'ccp_alpha': 0.0,\n",
       " 'criterion': 'friedman_mse',\n",
       " 'init': None,\n",
       " 'learning_rate': 1.0,\n",
       " 'loss': 'deviance',\n",
       " 'max_depth': 1,\n",
       " 'max_features': None,\n",
       " 'max_leaf_nodes': None,\n",
       " 'min_impurity_decrease': 0.0,\n",
       " 'min_samples_leaf': 1,\n",
       " 'min_samples_split': 2,\n",
       " 'min_weight_fraction_leaf': 0.0,\n",
       " 'n_estimators': 100,\n",
       " 'n_iter_no_change': None,\n",
       " 'random_state': 0,\n",
       " 'subsample': 1.0,\n",
       " 'tol': 0.0001,\n",
       " 'validation_fraction': 0.1,\n",
       " 'verbose': 0,\n",
       " 'warm_start': False}"
      ]
     },
     "execution_count": 5,
     "metadata": {},
     "output_type": "execute_result"
    }
   ],
   "source": [
    "client1.model.get_params()"
   ]
  },
  {
   "cell_type": "code",
   "execution_count": 6,
   "metadata": {},
   "outputs": [],
   "source": [
    "def bag_models(clients,data):\n",
    "    result = []\n",
    "    for x in data:\n",
    "        c1 = 0\n",
    "        c0 = 0\n",
    "        for client in clients:\n",
    "            c1 = c1 + (client.model.predict_proba([x])[0][1])\n",
    "            c0 = c0 + (client.model.predict_proba([x])[0][0])\n",
    "        if c1 > c0:\n",
    "            result.append(1)\n",
    "        else:\n",
    "            result.append(0)\n",
    "    return result"
   ]
  },
  {
   "cell_type": "code",
   "execution_count": 7,
   "metadata": {},
   "outputs": [
    {
     "name": "stdout",
     "output_type": "stream",
     "text": [
      "0.02204819810631109\n",
      "+++++++++++++++++++++\n",
      "-0.0006512547735952889\n",
      "+++++++++++++++++++++\n",
      "0.003378519670148794\n",
      "+++++++++++++++++++++\n",
      "-0.005208790088206849\n",
      "+++++++++++++++++++++\n",
      "-0.0021226593866008336\n",
      "+++++++++++++++++++++\n"
     ]
    }
   ],
   "source": [
    "for client in clients:\n",
    "    result = bag_models(clients,client.x_test)\n",
    "    y_hat = client.model.predict(client.x_test)\n",
    "    print(f1_score(client.y_test,result) - f1_score(client.y_test,y_hat))\n",
    "    print(\"+++++++++++++++++++++\")"
   ]
  },
  {
   "cell_type": "code",
   "execution_count": null,
   "metadata": {},
   "outputs": [],
   "source": []
  }
 ],
 "metadata": {
  "kernelspec": {
   "display_name": "Python 3.9.12 ('base')",
   "language": "python",
   "name": "python3"
  },
  "language_info": {
   "codemirror_mode": {
    "name": "ipython",
    "version": 3
   },
   "file_extension": ".py",
   "mimetype": "text/x-python",
   "name": "python",
   "nbconvert_exporter": "python",
   "pygments_lexer": "ipython3",
   "version": "3.9.12"
  },
  "orig_nbformat": 4,
  "vscode": {
   "interpreter": {
    "hash": "a23a6e25f04d9f91b77ea4396a46e870b27d23d0696169b2210a13d1cc496850"
   }
  }
 },
 "nbformat": 4,
 "nbformat_minor": 2
}
