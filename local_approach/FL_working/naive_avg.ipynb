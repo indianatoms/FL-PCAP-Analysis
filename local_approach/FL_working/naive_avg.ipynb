{
 "cells": [
  {
   "cell_type": "code",
   "execution_count": 1,
   "metadata": {},
   "outputs": [],
   "source": [
    "import os\n",
    "import sys\n",
    "module_path = os.path.abspath(os.path.join('fede'))\n",
    "if module_path not in sys.path:\n",
    "    sys.path.append(module_path)\n",
    "# import pandas as pd\n",
    "from client import Client\n",
    "from supported_modles import Supported_modles\n",
    "import utils\n",
    "\n",
    "from global_model import GlobalModel\n",
    "from supported_modles import Supported_modles\n",
    "import utils\n",
    "import numpy as np"
   ]
  },
  {
   "cell_type": "code",
   "execution_count": 2,
   "metadata": {},
   "outputs": [],
   "source": [
    "def warn(*args, **kwargs):\n",
    "    pass\n",
    "import warnings\n",
    "warnings.warn = warn"
   ]
  },
  {
   "cell_type": "code",
   "execution_count": 3,
   "metadata": {},
   "outputs": [],
   "source": [
    "selected_model = Supported_modles.NN_classifier"
   ]
  },
  {
   "cell_type": "code",
   "execution_count": 5,
   "metadata": {},
   "outputs": [
    {
     "name": "stdout",
     "output_type": "stream",
     "text": [
      "Creating node1.\n",
      "Creating node2.\n",
      "Creating node3.\n",
      "Creating node4.\n"
     ]
    }
   ],
   "source": [
    "clients, test_x, test_y = utils.set_data_mock(selected_model, True, False)"
   ]
  },
  {
   "cell_type": "code",
   "execution_count": 60,
   "metadata": {},
   "outputs": [
    {
     "name": "stdout",
     "output_type": "stream",
     "text": [
      "(100000, 78)\n",
      "0.7446709708345192\n",
      "(100000, 78)\n",
      "0.7420468113642683\n",
      "(100000, 78)\n",
      "0.6660716835641869\n",
      "(100000, 78)\n",
      "0.0\n",
      "(100000, 78)\n",
      "0.560557745251441\n"
     ]
    }
   ],
   "source": [
    "f1_before = []\n",
    "for client in clients:\n",
    "    print(client.x.shape)\n",
    "    client.init_empty_model(0.1)\n",
    "    try:\n",
    "        client.train_model(epochs=50)\n",
    "    except ValueError:\n",
    "        score = 0\n",
    "        print(client.name)\n",
    "        f1_before.append(score)\n",
    "        continue \n",
    "    try: \n",
    "        score = client.test_model_f1(y_test=test_y, X_test=test_x)\n",
    "    except IndexError:\n",
    "        score = 0\n",
    "    f1_before.append(score)\n",
    "    print(score)"
   ]
  },
  {
   "cell_type": "code",
   "execution_count": 61,
   "metadata": {},
   "outputs": [
    {
     "data": {
      "text/plain": [
       "[0.7446709708345192,\n",
       " 0.7420468113642683,\n",
       " 0.6660716835641869,\n",
       " 0.0,\n",
       " 0.560557745251441]"
      ]
     },
     "execution_count": 61,
     "metadata": {},
     "output_type": "execute_result"
    }
   ],
   "source": [
    "f1_before"
   ]
  },
  {
   "cell_type": "code",
   "execution_count": 62,
   "metadata": {},
   "outputs": [],
   "source": [
    "clients.remove(clients[3])"
   ]
  },
  {
   "cell_type": "code",
   "execution_count": 63,
   "metadata": {},
   "outputs": [],
   "source": [
    "global_model = GlobalModel(selected_model)"
   ]
  },
  {
   "cell_type": "code",
   "execution_count": 64,
   "metadata": {},
   "outputs": [
    {
     "name": "stdout",
     "output_type": "stream",
     "text": [
      "Starting new round!\n",
      "node1\n",
      "Initializing Global Model\n",
      "node2\n",
      "node3\n",
      "node5\n",
      "[0.25 0.25 0.25 0.25]\n"
     ]
    }
   ],
   "source": [
    "\n",
    "NUMBER_OF_CLIENTS = len(clients)\n",
    "applicable_clients = []\n",
    "start = True\n",
    "\n",
    "print(f'Starting new round!')\n",
    "f1s = np.empty((0,NUMBER_OF_CLIENTS), float)\n",
    "data_weights = arr = np.empty((0,NUMBER_OF_CLIENTS), float)\n",
    "\n",
    "for client in clients:\n",
    "    print(client.name)\n",
    "    if start:\n",
    "        print(f'Initializing Global Model')\n",
    "        global_model.model = client.model\n",
    "        start = False\n",
    "\n",
    "    applicable_clients.append(client) \n",
    "    data_weights = np.append(data_weights, client.x.shape[0])\n",
    "    \n",
    "round_weights = data_weights/sum(data_weights)\n",
    "print(round_weights)\n",
    "\n",
    "global_model.update_global_model(applicable_clients,round_weights,selected_model)\n",
    "\n",
    "# for client in clients:\n",
    "#     print(client.name)\n",
    "#     f1_fede = global_model.f1_score(client.x_test,client.y_test)\n",
    "#     f1_local = client.f1\n",
    "\n",
    "#     print(f'{f1_fede}:{f1_local}')\n",
    "\n",
    "#     if f1_fede > f1_local:\n",
    "#         print(\"f1 fede was better\")\n",
    "#         client.f1 = f1_fede\n",
    "#         # local was better set to local values\n",
    "#         client.model = global_model.model\n",
    "            \n",
    "# print(f'++++++++++++++++++++++++++++++++++++++++++++++++++++++++++++++++++++++++++++++')"
   ]
  },
  {
   "cell_type": "code",
   "execution_count": 65,
   "metadata": {},
   "outputs": [
    {
     "data": {
      "text/plain": [
       "[0.7446709708345192,\n",
       " 0.7420468113642683,\n",
       " 0.6660716835641869,\n",
       " 0.0,\n",
       " 0.560557745251441]"
      ]
     },
     "execution_count": 65,
     "metadata": {},
     "output_type": "execute_result"
    }
   ],
   "source": [
    "f1_before"
   ]
  },
  {
   "cell_type": "code",
   "execution_count": 66,
   "metadata": {},
   "outputs": [
    {
     "data": {
      "text/plain": [
       "0.5658833908092068"
      ]
     },
     "execution_count": 66,
     "metadata": {},
     "output_type": "execute_result"
    }
   ],
   "source": [
    "global_model.f1_score(test_x,test_y)"
   ]
  },
  {
   "cell_type": "code",
   "execution_count": null,
   "metadata": {},
   "outputs": [],
   "source": []
  }
 ],
 "metadata": {
  "kernelspec": {
   "display_name": "Python 3.9.12 ('base')",
   "language": "python",
   "name": "python3"
  },
  "language_info": {
   "codemirror_mode": {
    "name": "ipython",
    "version": 3
   },
   "file_extension": ".py",
   "mimetype": "text/x-python",
   "name": "python",
   "nbconvert_exporter": "python",
   "pygments_lexer": "ipython3",
   "version": "3.9.12"
  },
  "orig_nbformat": 4,
  "vscode": {
   "interpreter": {
    "hash": "a23a6e25f04d9f91b77ea4396a46e870b27d23d0696169b2210a13d1cc496850"
   }
  }
 },
 "nbformat": 4,
 "nbformat_minor": 2
}
