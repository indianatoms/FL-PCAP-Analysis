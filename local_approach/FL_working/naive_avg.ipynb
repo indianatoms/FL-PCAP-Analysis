{
 "cells": [
  {
   "cell_type": "code",
   "execution_count": 27,
   "metadata": {},
   "outputs": [],
   "source": [
    "import os, sys\n",
    "module_path = os.path.abspath(os.path.join('fede'))\n",
    "if module_path not in sys.path:\n",
    "    sys.path.append(module_path)\n",
    "\n",
    "from client import Client\n",
    "from sklearn.utils import shuffle\n",
    "from global_model import GlobalModel\n",
    "from supported_modles import Supported_modles\n",
    "import numpy as np\n",
    "import utils\n",
    "from sklearn.metrics import accuracy_score, f1_score\n",
    "\n",
    "import random"
   ]
  },
  {
   "cell_type": "code",
   "execution_count": 28,
   "metadata": {},
   "outputs": [],
   "source": [
    "def warn(*args, **kwargs):\n",
    "    pass\n",
    "import warnings\n",
    "warnings.warn = warn"
   ]
  },
  {
   "cell_type": "code",
   "execution_count": 29,
   "metadata": {},
   "outputs": [],
   "source": [
    "selected_model = Supported_modles.logistic_regression"
   ]
  },
  {
   "cell_type": "code",
   "execution_count": 30,
   "metadata": {},
   "outputs": [
    {
     "name": "stdout",
     "output_type": "stream",
     "text": [
      "Creating node1.\n",
      "Creating node2.\n",
      "Creating node3.\n",
      "Creating node4.\n",
      "Creating node5.\n"
     ]
    }
   ],
   "source": [
    "#NODEs\n",
    "clients, test_x, test_y = utils.set_data(False,True)"
   ]
  },
  {
   "cell_type": "code",
   "execution_count": 31,
   "metadata": {},
   "outputs": [
    {
     "data": {
      "text/plain": [
       "(20000, 6)"
      ]
     },
     "execution_count": 31,
     "metadata": {},
     "output_type": "execute_result"
    }
   ],
   "source": [
    "clients[0].x.shape"
   ]
  },
  {
   "cell_type": "code",
   "execution_count": 32,
   "metadata": {},
   "outputs": [],
   "source": [
    "f1_before = []\n",
    "for client in clients:\n",
    "    client.init_empty_model(selected_model,0.001)\n",
    "    client.train_model()\n",
    "    y_hat = client.model.predict(test_x)\n",
    "    f1_before.append(f1_score(test_y,y_hat, average=\"binary\"))"
   ]
  },
  {
   "cell_type": "code",
   "execution_count": 33,
   "metadata": {},
   "outputs": [
    {
     "name": "stdout",
     "output_type": "stream",
     "text": [
      "[0.7676124157344987, 0.7672480835462727, 0.7773463257381493, 0.7689692131426248, 0.7676535899333826]\n"
     ]
    }
   ],
   "source": [
    "print(f1_before)"
   ]
  },
  {
   "cell_type": "code",
   "execution_count": 34,
   "metadata": {},
   "outputs": [],
   "source": [
    "global_model = GlobalModel(selected_model)\n",
    "global_model.init_global_model(selected_model,78)"
   ]
  },
  {
   "cell_type": "code",
   "execution_count": 38,
   "metadata": {},
   "outputs": [
    {
     "name": "stdout",
     "output_type": "stream",
     "text": [
      "Starting new round!\n",
      "Client name: node2\n",
      "Client name: node1\n",
      "++++++++++++++++++++++++++++++++++++++++++++++++++++++++++++++++++++++++++++++\n",
      "Starting new round!\n",
      "Client name: node1\n",
      "Client name: node2\n",
      "Client name: node3\n",
      "f1 fede was better\n",
      "f1 fede was better\n",
      "f1 fede was better\n",
      "f1 fede was better\n",
      "++++++++++++++++++++++++++++++++++++++++++++++++++++++++++++++++++++++++++++++\n",
      "Starting new round!\n",
      "Client name: node4\n",
      "Client name: node3\n",
      "Client name: node1\n",
      "Client name: node5\n",
      "Client name: node2\n",
      "f1 fede was better\n",
      "f1 fede was better\n",
      "f1 fede was better\n",
      "f1 fede was better\n",
      "++++++++++++++++++++++++++++++++++++++++++++++++++++++++++++++++++++++++++++++\n",
      "Starting new round!\n",
      "Client name: node2\n",
      "Client name: node5\n",
      "++++++++++++++++++++++++++++++++++++++++++++++++++++++++++++++++++++++++++++++\n",
      "Starting new round!\n",
      "Client name: node3\n",
      "Client name: node2\n",
      "f1 fede was better\n",
      "f1 fede was better\n",
      "f1 fede was better\n",
      "f1 fede was better\n",
      "++++++++++++++++++++++++++++++++++++++++++++++++++++++++++++++++++++++++++++++\n",
      "Starting new round!\n",
      "Client name: node5\n",
      "++++++++++++++++++++++++++++++++++++++++++++++++++++++++++++++++++++++++++++++\n",
      "Starting new round!\n",
      "Client name: node3\n",
      "Client name: node5\n",
      "Client name: node1\n",
      "Client name: node2\n",
      "Client name: node4\n",
      "++++++++++++++++++++++++++++++++++++++++++++++++++++++++++++++++++++++++++++++\n",
      "Starting new round!\n",
      "Client name: node1\n",
      "++++++++++++++++++++++++++++++++++++++++++++++++++++++++++++++++++++++++++++++\n",
      "Starting new round!\n",
      "Client name: node1\n",
      "Client name: node3\n",
      "Client name: node2\n",
      "Client name: node5\n",
      "++++++++++++++++++++++++++++++++++++++++++++++++++++++++++++++++++++++++++++++\n",
      "Starting new round!\n",
      "Client name: node1\n",
      "Client name: node5\n",
      "Client name: node2\n",
      "Client name: node4\n",
      "++++++++++++++++++++++++++++++++++++++++++++++++++++++++++++++++++++++++++++++\n",
      "Starting new round!\n",
      "Client name: node2\n",
      "Client name: node4\n",
      "++++++++++++++++++++++++++++++++++++++++++++++++++++++++++++++++++++++++++++++\n",
      "Starting new round!\n",
      "Client name: node1\n",
      "Client name: node4\n",
      "++++++++++++++++++++++++++++++++++++++++++++++++++++++++++++++++++++++++++++++\n",
      "Starting new round!\n",
      "Client name: node3\n",
      "f1 fede was better\n",
      "f1 fede was better\n",
      "f1 fede was better\n",
      "f1 fede was better\n",
      "++++++++++++++++++++++++++++++++++++++++++++++++++++++++++++++++++++++++++++++\n",
      "Starting new round!\n",
      "Client name: node4\n",
      "Client name: node3\n",
      "Client name: node2\n",
      "Client name: node1\n",
      "++++++++++++++++++++++++++++++++++++++++++++++++++++++++++++++++++++++++++++++\n",
      "Starting new round!\n",
      "Client name: node3\n",
      "Client name: node5\n",
      "Client name: node4\n",
      "++++++++++++++++++++++++++++++++++++++++++++++++++++++++++++++++++++++++++++++\n",
      "Starting new round!\n",
      "Client name: node1\n",
      "Client name: node5\n",
      "Client name: node2\n",
      "Client name: node4\n",
      "++++++++++++++++++++++++++++++++++++++++++++++++++++++++++++++++++++++++++++++\n",
      "Starting new round!\n",
      "Client name: node4\n",
      "++++++++++++++++++++++++++++++++++++++++++++++++++++++++++++++++++++++++++++++\n",
      "Starting new round!\n",
      "Client name: node3\n",
      "Client name: node2\n",
      "++++++++++++++++++++++++++++++++++++++++++++++++++++++++++++++++++++++++++++++\n",
      "Starting new round!\n",
      "Client name: node5\n",
      "Client name: node1\n",
      "Client name: node3\n",
      "Client name: node2\n",
      "Client name: node4\n",
      "++++++++++++++++++++++++++++++++++++++++++++++++++++++++++++++++++++++++++++++\n",
      "Starting new round!\n",
      "Client name: node2\n",
      "Client name: node1\n",
      "Client name: node5\n",
      "Client name: node3\n",
      "++++++++++++++++++++++++++++++++++++++++++++++++++++++++++++++++++++++++++++++\n"
     ]
    }
   ],
   "source": [
    "number_of_rounds = 20\n",
    "for _ in range(number_of_rounds):\n",
    "    RANDOM_NUMBER_OF_CLIENTS = random.randint(1, 5)\n",
    "\n",
    "    print(f'Starting new round!')\n",
    "    f1s = np.empty((0,RANDOM_NUMBER_OF_CLIENTS), float)\n",
    "    data_weights = arr = np.empty((0,RANDOM_NUMBER_OF_CLIENTS), float)\n",
    "\n",
    "    applicable_clients = random.sample((clients), RANDOM_NUMBER_OF_CLIENTS)\n",
    "\n",
    "    for client in applicable_clients:\n",
    "        print(f'Client name: {client.name}')\n",
    "        y_hat = client.model.predict(test_x)\n",
    "        f1_local = f1_score(test_y,y_hat)\n",
    "        f1s = np.append(f1s, f1_local)\n",
    "        data_weights = np.append(data_weights, client.x.shape[0])\n",
    "    \n",
    "    # print(f'Weights: {f1s/sum(f1s)}')\n",
    "    # print(f'weigths data: {data_weights/sum(data_weights)}')\n",
    "    \n",
    "    round_weights = (f1s/sum(f1s) + data_weights/sum(data_weights))/2\n",
    "    \n",
    "    # print(round_weights)\n",
    "\n",
    "    global_model.update_global_model(applicable_clients,round_weights,selected_model)\n",
    "\n",
    "    for client in clients:\n",
    "        y_hat = global_model.model.predict(test_x)\n",
    "        f1_fede = f1_score(test_y,y_hat)\n",
    "        y_hat = client.model.predict(test_x)\n",
    "        f1_local = f1_score(test_y,y_hat)\n",
    "\n",
    "        if f1_fede > f1_local:\n",
    "            print(\"f1 fede was better\")\n",
    "            client.F1 = f1_fede\n",
    "            # local was better set to local values\n",
    "            if selected_model == Supported_modles.MLP_classifier:\n",
    "                client.model.intercepts_ = global_model.model.intercepts_\n",
    "                client.model.coefs_ = global_model.model.coefs_\n",
    "            else:\n",
    "                client.model.intercept_ = global_model.model.intercept_\n",
    "                client.model.coef_ = global_model.model.coef_\n",
    "                \n",
    "    print(f'++++++++++++++++++++++++++++++++++++++++++++++++++++++++++++++++++++++++++++++')"
   ]
  },
  {
   "cell_type": "code",
   "execution_count": 39,
   "metadata": {},
   "outputs": [
    {
     "name": "stdout",
     "output_type": "stream",
     "text": [
      "[0.7773463257381493, 0.7773463257381493, 0.7773463257381493, 0.7773463257381493, 0.7773463257381493]\n"
     ]
    }
   ],
   "source": [
    "f1_fedavg = []\n",
    "for client in clients:\n",
    "    x = test_x\n",
    "    y_hat = global_model.model.predict(x)\n",
    "    f1_fedavg.append(f1_score(test_y,y_hat))\n",
    "print(f1_fedavg)"
   ]
  },
  {
   "cell_type": "code",
   "execution_count": 40,
   "metadata": {},
   "outputs": [
    {
     "name": "stdout",
     "output_type": "stream",
     "text": [
      "Difference 0.009733910003650648\n",
      "Difference 0.010098242191876605\n",
      "Difference 0.0\n",
      "Difference 0.008377112595524538\n",
      "Difference 0.009692735804766706\n"
     ]
    }
   ],
   "source": [
    "i = 0\n",
    "for client in clients:\n",
    "    print(f'Difference {f1_fedavg[i]-f1_before[i]}')\n",
    "    i += 1"
   ]
  },
  {
   "cell_type": "code",
   "execution_count": null,
   "metadata": {},
   "outputs": [],
   "source": []
  }
 ],
 "metadata": {
  "kernelspec": {
   "display_name": "Python 3.9.12 ('base')",
   "language": "python",
   "name": "python3"
  },
  "language_info": {
   "codemirror_mode": {
    "name": "ipython",
    "version": 3
   },
   "file_extension": ".py",
   "mimetype": "text/x-python",
   "name": "python",
   "nbconvert_exporter": "python",
   "pygments_lexer": "ipython3",
   "version": "3.9.12"
  },
  "orig_nbformat": 4,
  "vscode": {
   "interpreter": {
    "hash": "a23a6e25f04d9f91b77ea4396a46e870b27d23d0696169b2210a13d1cc496850"
   }
  }
 },
 "nbformat": 4,
 "nbformat_minor": 2
}
