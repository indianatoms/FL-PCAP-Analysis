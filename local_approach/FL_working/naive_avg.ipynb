{
 "cells": [
  {
   "cell_type": "code",
   "execution_count": 23,
   "metadata": {},
   "outputs": [],
   "source": [
    "import os\n",
    "import sys\n",
    "module_path = os.path.abspath(os.path.join('fede'))\n",
    "if module_path not in sys.path:\n",
    "    sys.path.append(module_path)\n",
    "\n",
    "from global_model import GlobalModel\n",
    "from supported_modles import Supported_modles\n",
    "import utils\n",
    "import numpy as np"
   ]
  },
  {
   "cell_type": "code",
   "execution_count": 24,
   "metadata": {},
   "outputs": [],
   "source": [
    "def warn(*args, **kwargs):\n",
    "    pass\n",
    "import warnings\n",
    "warnings.warn = warn"
   ]
  },
  {
   "cell_type": "code",
   "execution_count": 25,
   "metadata": {},
   "outputs": [],
   "source": [
    "selected_model = Supported_modles.MLP_classifier"
   ]
  },
  {
   "cell_type": "code",
   "execution_count": 26,
   "metadata": {},
   "outputs": [
    {
     "name": "stdout",
     "output_type": "stream",
     "text": [
      "Creating node1.\n",
      "Creating node2.\n",
      "Creating node3.\n",
      "Creating node4.\n",
      "Creating node5.\n"
     ]
    }
   ],
   "source": [
    "clients, test_x, test_y = utils.set_data(selected_model,True, False)"
   ]
  },
  {
   "cell_type": "code",
   "execution_count": 27,
   "metadata": {},
   "outputs": [
    {
     "name": "stdout",
     "output_type": "stream",
     "text": [
      "0.36216\n",
      ".\n",
      "0.36443\n",
      ".\n",
      "0.36469\n",
      ".\n",
      "0.36501\n",
      ".\n",
      "0.36343\n",
      ".\n"
     ]
    }
   ],
   "source": [
    "f1_before = []\n",
    "for client in clients:\n",
    "    client.init_empty_model(0.01)\n",
    "    # client.x, client.x_test, client.y ,client.y_test = client.split_data(0.2)\n",
    "    print(client.y.mean())\n",
    "    try:\n",
    "        client.train_model()\n",
    "    except ValueError:\n",
    "        print(client.name)\n",
    "        f1_before.append(0)\n",
    "        continue\n",
    "    client.f1 = client.test_model_f1(test_y,test_x)\n",
    "    f1_before.append(client.f1)\n",
    "\n",
    "    print('.')"
   ]
  },
  {
   "cell_type": "code",
   "execution_count": 28,
   "metadata": {},
   "outputs": [
    {
     "data": {
      "text/plain": [
       "[0.9799646522404242,\n",
       " 0.9795718400190029,\n",
       " 0.980089973720547,\n",
       " 0.9802203676754478,\n",
       " 0.9832010228049831]"
      ]
     },
     "execution_count": 28,
     "metadata": {},
     "output_type": "execute_result"
    }
   ],
   "source": [
    "f1_before"
   ]
  },
  {
   "cell_type": "code",
   "execution_count": 33,
   "metadata": {},
   "outputs": [],
   "source": [
    "global_model = GlobalModel(selected_model)"
   ]
  },
  {
   "cell_type": "code",
   "execution_count": 34,
   "metadata": {},
   "outputs": [
    {
     "name": "stdout",
     "output_type": "stream",
     "text": [
      "Starting new round!\n",
      "Initializing Global Model\n",
      "[0.18326757 0.18322751 0.18328035 0.18329364 0.26693094]\n"
     ]
    },
    {
     "name": "stderr",
     "output_type": "stream",
     "text": [
      "/home/tk/anaconda3/lib/python3.9/site-packages/numpy/lib/function_base.py:377: VisibleDeprecationWarning: Creating an ndarray from ragged nested sequences (which is a list-or-tuple of lists-or-tuples-or ndarrays with different lengths or shapes) is deprecated. If you meant to do this, you must specify 'dtype=object' when creating the ndarray.\n",
      "  a = np.asanyarray(a)\n"
     ]
    }
   ],
   "source": [
    "\n",
    "NUMBER_OF_CLIENTS = len(clients)\n",
    "applicable_clients = []\n",
    "start = True\n",
    "\n",
    "print(f'Starting new round!')\n",
    "f1s = np.empty((0,NUMBER_OF_CLIENTS), float)\n",
    "data_weights = arr = np.empty((0,NUMBER_OF_CLIENTS), float)\n",
    "\n",
    "for client in clients:\n",
    "    if client.f1 != 0:\n",
    "        if start:\n",
    "            print(f'Initializing Global Model')\n",
    "            global_model.model = client.model\n",
    "            start = False\n",
    "\n",
    "        applicable_clients.append(client) \n",
    "        f1s = np.append(f1s, client.f1)\n",
    "        data_weights = np.append(data_weights, client.x.shape[0])\n",
    "    \n",
    "round_weights = (f1s/sum(f1s) + data_weights/sum(data_weights))/2\n",
    "print(round_weights)\n",
    "\n",
    "global_model.update_global_model(applicable_clients,round_weights,selected_model)\n",
    "\n",
    "# for client in clients:\n",
    "#     print(client.name)\n",
    "#     f1_fede = global_model.f1_score(client.x_test,client.y_test)\n",
    "#     f1_local = client.f1\n",
    "\n",
    "#     print(f'{f1_fede}:{f1_local}')\n",
    "\n",
    "#     if f1_fede > f1_local:\n",
    "#         print(\"f1 fede was better\")\n",
    "#         client.f1 = f1_fede\n",
    "#         # local was better set to local values\n",
    "#         client.model = global_model.model\n",
    "            \n",
    "# print(f'++++++++++++++++++++++++++++++++++++++++++++++++++++++++++++++++++++++++++++++')"
   ]
  },
  {
   "cell_type": "code",
   "execution_count": 35,
   "metadata": {},
   "outputs": [
    {
     "data": {
      "text/plain": [
       "[0.9799646522404242,\n",
       " 0.9795718400190029,\n",
       " 0.980089973720547,\n",
       " 0.9802203676754478,\n",
       " 0.9832010228049831]"
      ]
     },
     "execution_count": 35,
     "metadata": {},
     "output_type": "execute_result"
    }
   ],
   "source": [
    "f1_before"
   ]
  },
  {
   "cell_type": "code",
   "execution_count": 36,
   "metadata": {},
   "outputs": [
    {
     "data": {
      "text/plain": [
       "0.783232573384806"
      ]
     },
     "execution_count": 36,
     "metadata": {},
     "output_type": "execute_result"
    }
   ],
   "source": [
    "global_model.f1_score(test_x,test_y)"
   ]
  },
  {
   "cell_type": "code",
   "execution_count": null,
   "metadata": {},
   "outputs": [],
   "source": []
  }
 ],
 "metadata": {
  "kernelspec": {
   "display_name": "Python 3.9.12 ('base')",
   "language": "python",
   "name": "python3"
  },
  "language_info": {
   "codemirror_mode": {
    "name": "ipython",
    "version": 3
   },
   "file_extension": ".py",
   "mimetype": "text/x-python",
   "name": "python",
   "nbconvert_exporter": "python",
   "pygments_lexer": "ipython3",
   "version": "3.9.12"
  },
  "orig_nbformat": 4,
  "vscode": {
   "interpreter": {
    "hash": "a23a6e25f04d9f91b77ea4396a46e870b27d23d0696169b2210a13d1cc496850"
   }
  }
 },
 "nbformat": 4,
 "nbformat_minor": 2
}
