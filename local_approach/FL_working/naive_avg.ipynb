{
 "cells": [
  {
   "cell_type": "code",
   "execution_count": 168,
   "metadata": {},
   "outputs": [],
   "source": [
    "import os\n",
    "import sys\n",
    "module_path = os.path.abspath(os.path.join('fede'))\n",
    "if module_path not in sys.path:\n",
    "    sys.path.append(module_path)\n",
    "# import pandas as pd\n",
    "from client import Client\n",
    "from supported_modles import Supported_modles\n",
    "import utils\n",
    "\n",
    "from global_model import GlobalModel\n",
    "from supported_modles import Supported_modles\n",
    "import utils\n",
    "import numpy as np"
   ]
  },
  {
   "cell_type": "code",
   "execution_count": 179,
   "metadata": {},
   "outputs": [],
   "source": [
    "def warn(*args, **kwargs):\n",
    "    pass\n",
    "import warnings\n",
    "warnings.warn = warn"
   ]
  },
  {
   "cell_type": "code",
   "execution_count": 189,
   "metadata": {},
   "outputs": [],
   "source": [
    "selected_model = Supported_modles.NN_classifier"
   ]
  },
  {
   "cell_type": "code",
   "execution_count": 204,
   "metadata": {},
   "outputs": [
    {
     "name": "stdout",
     "output_type": "stream",
     "text": [
      "Creating node1.\n",
      "Creating node2.\n",
      "Creating node3.\n",
      "Creating node4.\n",
      "Creating node5.\n",
      "439683\n",
      "251723\n"
     ]
    }
   ],
   "source": [
    "clients, test_x, test_y = utils.set_data(selected_model, True, False, True)"
   ]
  },
  {
   "cell_type": "code",
   "execution_count": 205,
   "metadata": {},
   "outputs": [
    {
     "name": "stdout",
     "output_type": "stream",
     "text": [
      "(100000, 78)\n",
      "tensor(0.6882, grad_fn=<NllLossBackward0>)\n",
      "tensor(0.2429, grad_fn=<NllLossBackward0>)\n",
      "tensor(0.1073, grad_fn=<NllLossBackward0>)\n",
      "tensor(0.0754, grad_fn=<NllLossBackward0>)\n",
      "tensor(0.0605, grad_fn=<NllLossBackward0>)\n",
      "0.9721115537848606\n",
      "(100000, 78)\n",
      "tensor(0.7289, grad_fn=<NllLossBackward0>)\n",
      "tensor(0.2496, grad_fn=<NllLossBackward0>)\n",
      "tensor(0.1351, grad_fn=<NllLossBackward0>)\n",
      "tensor(0.0835, grad_fn=<NllLossBackward0>)\n",
      "tensor(0.0683, grad_fn=<NllLossBackward0>)\n",
      "0.9728651128697281\n",
      "(100000, 78)\n",
      "tensor(0.6933, grad_fn=<NllLossBackward0>)\n",
      "tensor(0.2625, grad_fn=<NllLossBackward0>)\n",
      "tensor(0.1337, grad_fn=<NllLossBackward0>)\n",
      "tensor(0.0805, grad_fn=<NllLossBackward0>)\n",
      "tensor(0.0651, grad_fn=<NllLossBackward0>)\n",
      "0.972735053184986\n",
      "(100000, 78)\n",
      "tensor(0.7083, grad_fn=<NllLossBackward0>)\n",
      "tensor(0.2844, grad_fn=<NllLossBackward0>)\n",
      "tensor(0.1390, grad_fn=<NllLossBackward0>)\n",
      "tensor(0.0790, grad_fn=<NllLossBackward0>)\n",
      "tensor(0.0642, grad_fn=<NllLossBackward0>)\n",
      "0.9727901321777404\n",
      "(100000, 78)\n",
      "tensor(0.7108, grad_fn=<NllLossBackward0>)\n",
      "tensor(0.2732, grad_fn=<NllLossBackward0>)\n",
      "tensor(0.1323, grad_fn=<NllLossBackward0>)\n",
      "tensor(0.0772, grad_fn=<NllLossBackward0>)\n",
      "tensor(0.0620, grad_fn=<NllLossBackward0>)\n",
      "0.9726789332680565\n"
     ]
    }
   ],
   "source": [
    "f1_before = []\n",
    "for client in clients:\n",
    "    print(client.x.shape)\n",
    "    client.init_empty_model(0.1)\n",
    "    try:\n",
    "        client.train_model(epochs=50)\n",
    "    except ValueError:\n",
    "        score = 0\n",
    "        print(client.name)\n",
    "        f1_before.append(score)\n",
    "        continue \n",
    "    try: \n",
    "        score = client.test_model_f1(y_test=test_y, X_test=test_x)\n",
    "    except IndexError:\n",
    "        score = 0\n",
    "    f1_before.append(score)\n",
    "    print(score)"
   ]
  },
  {
   "cell_type": "code",
   "execution_count": 206,
   "metadata": {},
   "outputs": [
    {
     "data": {
      "text/plain": [
       "[0.9721115537848606,\n",
       " 0.9728651128697281,\n",
       " 0.972735053184986,\n",
       " 0.9727901321777404,\n",
       " 0.9726789332680565]"
      ]
     },
     "execution_count": 206,
     "metadata": {},
     "output_type": "execute_result"
    }
   ],
   "source": [
    "f1_before"
   ]
  },
  {
   "cell_type": "code",
   "execution_count": 207,
   "metadata": {},
   "outputs": [],
   "source": [
    "# clients.remove(clients[0])"
   ]
  },
  {
   "cell_type": "code",
   "execution_count": 208,
   "metadata": {},
   "outputs": [],
   "source": [
    "global_model = GlobalModel(selected_model)"
   ]
  },
  {
   "cell_type": "code",
   "execution_count": 213,
   "metadata": {},
   "outputs": [
    {
     "name": "stdout",
     "output_type": "stream",
     "text": [
      "Starting new round!\n",
      "node1\n",
      "Initializing Global Model\n",
      "node2\n",
      "node3\n",
      "node4\n",
      "node5\n",
      "[0.2 0.2 0.2 0.2 0.2]\n"
     ]
    }
   ],
   "source": [
    "\n",
    "NUMBER_OF_CLIENTS = len(clients)\n",
    "applicable_clients = []\n",
    "start = True\n",
    "\n",
    "print(f'Starting new round!')\n",
    "f1s = np.empty((0,NUMBER_OF_CLIENTS), float)\n",
    "data_weights = arr = np.empty((0,NUMBER_OF_CLIENTS), float)\n",
    "\n",
    "for client in clients:\n",
    "    print(client.name)\n",
    "    if start:\n",
    "        print(f'Initializing Global Model')\n",
    "        global_model.model = client.model\n",
    "        start = False\n",
    "\n",
    "    applicable_clients.append(client) \n",
    "    data_weights = np.append(data_weights, client.x.shape[0])\n",
    "    \n",
    "round_weights = data_weights/sum(data_weights)\n",
    "print(round_weights)\n",
    "\n",
    "global_model.update_global_model(applicable_clients,round_weights,selected_model)\n",
    "\n",
    "# for client in clients:\n",
    "#     print(client.name)\n",
    "#     f1_fede = global_model.f1_score(client.x_test,client.y_test)\n",
    "#     f1_local = client.f1\n",
    "\n",
    "#     print(f'{f1_fede}:{f1_local}')\n",
    "\n",
    "#     if f1_fede > f1_local:\n",
    "#         print(\"f1 fede was better\")\n",
    "#         client.f1 = f1_fede\n",
    "#         # local was better set to local values\n",
    "#         client.model = global_model.model\n",
    "            \n",
    "# print(f'++++++++++++++++++++++++++++++++++++++++++++++++++++++++++++++++++++++++++++++')"
   ]
  },
  {
   "cell_type": "code",
   "execution_count": 214,
   "metadata": {},
   "outputs": [
    {
     "data": {
      "text/plain": [
       "[0.9721115537848606,\n",
       " 0.9728651128697281,\n",
       " 0.972735053184986,\n",
       " 0.9727901321777404,\n",
       " 0.9726789332680565]"
      ]
     },
     "execution_count": 214,
     "metadata": {},
     "output_type": "execute_result"
    }
   ],
   "source": [
    "f1_before"
   ]
  },
  {
   "cell_type": "code",
   "execution_count": 215,
   "metadata": {},
   "outputs": [
    {
     "data": {
      "text/plain": [
       "0.028762198253723677"
      ]
     },
     "execution_count": 215,
     "metadata": {},
     "output_type": "execute_result"
    }
   ],
   "source": [
    "global_model.f1_score(test_x,test_y)"
   ]
  },
  {
   "cell_type": "code",
   "execution_count": null,
   "metadata": {},
   "outputs": [],
   "source": []
  }
 ],
 "metadata": {
  "kernelspec": {
   "display_name": "Python 3.9.12 ('base')",
   "language": "python",
   "name": "python3"
  },
  "language_info": {
   "codemirror_mode": {
    "name": "ipython",
    "version": 3
   },
   "file_extension": ".py",
   "mimetype": "text/x-python",
   "name": "python",
   "nbconvert_exporter": "python",
   "pygments_lexer": "ipython3",
   "version": "3.9.12 (main, Apr  5 2022, 06:56:58) \n[GCC 7.5.0]"
  },
  "orig_nbformat": 4,
  "vscode": {
   "interpreter": {
    "hash": "a23a6e25f04d9f91b77ea4396a46e870b27d23d0696169b2210a13d1cc496850"
   }
  }
 },
 "nbformat": 4,
 "nbformat_minor": 2
}
