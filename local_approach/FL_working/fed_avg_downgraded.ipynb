{
 "cells": [
  {
   "cell_type": "code",
   "execution_count": 5,
   "metadata": {},
   "outputs": [],
   "source": [
    "from sklearn.utils.class_weight import compute_sample_weight, compute_class_weight\n",
    "from sklearn.model_selection import StratifiedKFold, GridSearchCV, train_test_split\n",
    "from sklearn.preprocessing import StandardScaler\n",
    "import numpy as np\n",
    "import pandas as pd\n",
    "import os\n",
    "import sys\n",
    "module_path = os.path.abspath(os.path.join('fede'))\n",
    "if module_path not in sys.path:\n",
    "    sys.path.append(module_path)\n",
    "from client import Client\n",
    "from fedavg import Fedavg\n",
    "from sklearn.metrics import accuracy_score, f1_score\n",
    "from sklearn.utils import shuffle\n",
    "from supported_modles import Supported_modles\n",
    "import random\n",
    "import utils"
   ]
  },
  {
   "cell_type": "code",
   "execution_count": 25,
   "metadata": {},
   "outputs": [],
   "source": [
    "def warn(*args, **kwargs):\n",
    "    pass\n",
    "import warnings\n",
    "warnings.warn = warn"
   ]
  },
  {
   "cell_type": "code",
   "execution_count": 26,
   "metadata": {},
   "outputs": [],
   "source": [
    "selected_model = Supported_modles.logistic_regression"
   ]
  },
  {
   "cell_type": "code",
   "execution_count": 27,
   "metadata": {},
   "outputs": [
    {
     "name": "stdout",
     "output_type": "stream",
     "text": [
      "Creating node1.\n",
      "Creating node2.\n",
      "Creating node3.\n",
      "Creating node4.\n",
      "Creating node5.\n"
     ]
    }
   ],
   "source": [
    "clients = utils.set_data()"
   ]
  },
  {
   "cell_type": "code",
   "execution_count": 62,
   "metadata": {},
   "outputs": [
    {
     "name": "stdout",
     "output_type": "stream",
     "text": [
      "Creating node1.\n",
      "Creating node2.\n",
      "Creating node3.\n",
      "Creating node4.\n",
      "Creating node5.\n",
      "0.5520149253731343\n",
      "0.5533582089552239\n",
      "0.5540298507462686\n",
      "0.5455223880597015\n",
      "0.5515305440449138\n"
     ]
    }
   ],
   "source": [
    "clients = utils.set_data()\n",
    "f1_before = []\n",
    "for client in clients:\n",
    "    client.downsample_data(['sbytes','dbytes','sttl','dttl','spkts','dpkts'])\n",
    "    client.split_data()\n",
    "    client.prep_data()\n",
    "    print(client.y.mean())\n",
    "    client.train_model(selected_model)\n",
    "    f1_before.append(client.f1)"
   ]
  },
  {
   "cell_type": "code",
   "execution_count": 29,
   "metadata": {},
   "outputs": [
    {
     "data": {
      "text/plain": [
       "[0.7728169708929452,\n",
       " 0.763525527051054,\n",
       " 0.7711676129350779,\n",
       " 0.767365496337459,\n",
       " 0.7704644169729369]"
      ]
     },
     "execution_count": 29,
     "metadata": {},
     "output_type": "execute_result"
    }
   ],
   "source": [
    "f1_before"
   ]
  },
  {
   "cell_type": "code",
   "execution_count": 56,
   "metadata": {},
   "outputs": [],
   "source": [
    "selected_model = Supported_modles.SGD_classifier"
   ]
  },
  {
   "cell_type": "code",
   "execution_count": 57,
   "metadata": {},
   "outputs": [
    {
     "name": "stdout",
     "output_type": "stream",
     "text": [
      "[Errno 98] Address already in use\n",
      "Waitiing for a Connection..\n"
     ]
    }
   ],
   "source": [
    "fedavg = Fedavg(\"global\",0.1)\n",
    "fedavg.init_global_model(selected_model, clients[0].model,6)"
   ]
  },
  {
   "cell_type": "code",
   "execution_count": 58,
   "metadata": {},
   "outputs": [
    {
     "name": "stdout",
     "output_type": "stream",
     "text": [
      "Creating node1.\n",
      "Creating node2.\n",
      "Creating node3.\n",
      "Creating node4.\n",
      "Creating node5.\n"
     ]
    }
   ],
   "source": [
    "model = clients[0].model\n",
    "clients = utils.set_data()\n",
    "for client in clients:\n",
    "    client.downsample_data(['sbytes','dbytes','sttl','dttl','spkts','dpkts'])\n",
    "    client.split_data()\n",
    "    client.init_empty_model(selected_model,mod)"
   ]
  },
  {
   "cell_type": "code",
   "execution_count": 59,
   "metadata": {},
   "outputs": [
    {
     "name": "stdout",
     "output_type": "stream",
     "text": [
      "Starting new round!\n",
      "[1.]\n",
      "Starting new round!\n",
      "[0.35823755 0.16044061 0.32088123 0.16044061]\n",
      "Starting new round!\n",
      "[0.33333333 0.33333333 0.16666667 0.16666667]\n",
      "Starting new round!\n",
      "[0.16044061 0.16044061 0.32088123 0.35823755]\n",
      "Starting new round!\n",
      "[0.38220194 0.42669709 0.19110097]\n",
      "Starting new round!\n",
      "[0.30870821 0.27651671 0.27651671 0.13825836]\n",
      "Starting new round!\n",
      "[0.23624824 0.52750353 0.23624824]\n",
      "Starting new round!\n",
      "[0.5 0.5]\n",
      "Starting new round!\n",
      "[1.]\n",
      "Starting new round!\n",
      "[0.2 0.4 0.4]\n",
      "Starting new round!\n",
      "[1.]\n",
      "Starting new round!\n",
      "[1.]\n",
      "Starting new round!\n",
      "[0.33333333 0.66666667]\n",
      "Starting new round!\n",
      "[0.4 0.2 0.4]\n",
      "Starting new round!\n",
      "[0.5 0.5]\n",
      "Starting new round!\n",
      "[0.47249647 0.52750353]\n",
      "Starting new round!\n",
      "[0.5 0.5]\n",
      "Starting new round!\n",
      "[0.4 0.4 0.2]\n",
      "Starting new round!\n",
      "[1.]\n",
      "Starting new round!\n",
      "[0.5  0.25 0.25]\n",
      "Starting new round!\n",
      "[0.13825836 0.27651671 0.27651671 0.30870821]\n",
      "Starting new round!\n",
      "[0.16044061 0.16044061 0.32088123 0.35823755]\n",
      "Starting new round!\n",
      "[0.30932595 0.69067405]\n",
      "Starting new round!\n",
      "[0.5  0.25 0.25]\n",
      "Starting new round!\n",
      "[0.25 0.25 0.5 ]\n",
      "Starting new round!\n",
      "[0.42669709 0.19110097 0.38220194]\n",
      "Starting new round!\n",
      "[0.32088123 0.16044061 0.16044061 0.35823755]\n",
      "Starting new round!\n",
      "[0.19110097 0.38220194 0.42669709]\n",
      "Starting new round!\n",
      "[1.]\n",
      "Starting new round!\n",
      "[0.66666667 0.33333333]\n",
      "Starting new round!\n",
      "[0.5 0.5]\n",
      "Starting new round!\n",
      "[1.]\n",
      "Starting new round!\n",
      "[0.33333333 0.16666667 0.16666667 0.33333333]\n",
      "Starting new round!\n",
      "[1.]\n",
      "Starting new round!\n",
      "[0.19110097 0.38220194 0.42669709]\n",
      "Starting new round!\n",
      "[0.2 0.4 0.4]\n",
      "Starting new round!\n",
      "[0.16044061 0.35823755 0.32088123 0.16044061]\n",
      "Starting new round!\n",
      "[1.]\n",
      "Starting new round!\n",
      "[0.47249647 0.52750353]\n",
      "Starting new round!\n",
      "[0.69067405 0.30932595]\n"
     ]
    }
   ],
   "source": [
    "number_of_rounds = 40\n",
    "batch_size = 0.2\n",
    "epochs = 20\n",
    "prep = StandardScaler() \n",
    "\n",
    "for _ in range(number_of_rounds):\n",
    "    print(f'Starting new round!')\n",
    "\n",
    "    applicable_clients = random.sample((clients), random.randint(1, 4))\n",
    "    applicable_models = []\n",
    "    applicable_name = []\n",
    "    round_weights = []\n",
    "    dataset_size = 0\n",
    "    \n",
    "\n",
    "    for client in applicable_clients:\n",
    "        # print(f'Client name: {client.name}')\n",
    "\n",
    "        X = client.x\n",
    "        y = client.y\n",
    "\n",
    "        X_train, X_test, y_train, y_test = train_test_split(X, y, shuffle=True, train_size=batch_size, stratify=y, random_state=random.randint(0,10))\n",
    "       \n",
    "        X_train = prep.fit_transform(X_train)\n",
    "\n",
    "        dataset_size += X_train.shape[0]\n",
    "        sample_weights = compute_sample_weight('balanced', y=y_train)\n",
    "\n",
    "        fedavg.load_global_model(client.model, selected_model)\n",
    "        fedavg.train_local_agent(X_train, y_train, client.model, epochs, sample_weights, selected_model)\n",
    "        round_weights.append(X_train.shape[0])\n",
    "        applicable_models.append(client.model)\n",
    "\n",
    "\n",
    "    round_weights = np.array(round_weights) / dataset_size # calculate weight based on actual dataset size\n",
    "    # round_weights = weights\n",
    "    print(round_weights)\n",
    "    fedavg.update_global_model(applicable_models, round_weights, selected_model)"
   ]
  },
  {
   "cell_type": "code",
   "execution_count": 60,
   "metadata": {},
   "outputs": [
    {
     "name": "stdout",
     "output_type": "stream",
     "text": [
      "[0.7859208045254557, 0.7884953529264004, 0.7826306488260539, 0.789553752535497, 0.783642626958551]\n"
     ]
    }
   ],
   "source": [
    "f1_fedavg = []\n",
    "for client in clients:\n",
    "    x = prep.transform(client.x_test)\n",
    "    # x = client.x_test\n",
    "    y_hat = fedavg.model.predict(x)\n",
    "    f1_fedavg.append(f1_score(client.y_test,y_hat))\n",
    "print(f1_fedavg)"
   ]
  },
  {
   "cell_type": "code",
   "execution_count": 61,
   "metadata": {},
   "outputs": [
    {
     "name": "stdout",
     "output_type": "stream",
     "text": [
      "Difference 0.013103833632510442\n",
      "Difference 0.024969825875346352\n",
      "Difference 0.011463035890976081\n",
      "Difference 0.022188256198037992\n",
      "Difference 0.013178209985614142\n"
     ]
    }
   ],
   "source": [
    "i = 0\n",
    "for client in clients:\n",
    "    print(f'Difference {f1_fedavg[i]-f1_before[i]}')\n",
    "    i += 1"
   ]
  },
  {
   "cell_type": "code",
   "execution_count": 198,
   "metadata": {},
   "outputs": [
    {
     "name": "stdout",
     "output_type": "stream",
     "text": [
      "Creating node1 on 0.0.0.0:11111.\n",
      "0.8913590604026845\n"
     ]
    }
   ],
   "source": [
    "selected_model = Supported_modles.gradient_boosting_classifier\n",
    "client = utils.centralized_data()\n",
    "client.downsample_data(['sbytes','dbytes','sttl','dttl','spkts','dpkts'])\n",
    "client.split_data()\n",
    "client.train_model(selected_model)\n",
    "print(client.f1)"
   ]
  },
  {
   "cell_type": "code",
   "execution_count": null,
   "metadata": {},
   "outputs": [],
   "source": []
  }
 ],
 "metadata": {
  "kernelspec": {
   "display_name": "Python 3.9.12 ('base')",
   "language": "python",
   "name": "python3"
  },
  "language_info": {
   "codemirror_mode": {
    "name": "ipython",
    "version": 3
   },
   "file_extension": ".py",
   "mimetype": "text/x-python",
   "name": "python",
   "nbconvert_exporter": "python",
   "pygments_lexer": "ipython3",
   "version": "3.9.12"
  },
  "orig_nbformat": 4,
  "vscode": {
   "interpreter": {
    "hash": "a23a6e25f04d9f91b77ea4396a46e870b27d23d0696169b2210a13d1cc496850"
   }
  }
 },
 "nbformat": 4,
 "nbformat_minor": 2
}
