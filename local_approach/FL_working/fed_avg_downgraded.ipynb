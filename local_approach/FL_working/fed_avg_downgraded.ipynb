{
 "cells": [
  {
   "cell_type": "code",
   "execution_count": 1,
   "metadata": {},
   "outputs": [],
   "source": [
    "from sklearn.utils.class_weight import compute_sample_weight, compute_class_weight\n",
    "from sklearn.model_selection import StratifiedKFold, GridSearchCV, train_test_split\n",
    "from sklearn.preprocessing import StandardScaler\n",
    "import numpy as np\n",
    "import pandas as pd\n",
    "from client import Client\n",
    "from fedavg import Fedavg\n",
    "from sklearn.metrics import accuracy_score, f1_score\n",
    "from sklearn.utils import shuffle\n",
    "from supported_modles import Supported_modles\n",
    "import random\n",
    "import utils"
   ]
  },
  {
   "cell_type": "code",
   "execution_count": 2,
   "metadata": {},
   "outputs": [],
   "source": [
    "def warn(*args, **kwargs):\n",
    "    pass\n",
    "import warnings\n",
    "warnings.warn = warn"
   ]
  },
  {
   "cell_type": "code",
   "execution_count": 3,
   "metadata": {},
   "outputs": [],
   "source": [
    "selected_model = Supported_modles.logistic_regression"
   ]
  },
  {
   "cell_type": "code",
   "execution_count": 4,
   "metadata": {},
   "outputs": [],
   "source": [
    "clients = utils.set_data()"
   ]
  },
  {
   "cell_type": "code",
   "execution_count": 5,
   "metadata": {},
   "outputs": [],
   "source": [
    "clients = utils.set_data()\n",
    "f1_before = []\n",
    "for client in clients:\n",
    "    client.downsample_data(['sbytes','dbytes','sttl','dttl','spkts','dpkts'])\n",
    "    client.split_data()\n",
    "    #client.prep_data()\n",
    "    client.train_model(selected_model)\n",
    "    f1_before.append(client.F1)"
   ]
  },
  {
   "cell_type": "code",
   "execution_count": 6,
   "metadata": {},
   "outputs": [
    {
     "data": {
      "text/plain": [
       "[0.7646612740141556,\n",
       " 0.7757980697847068,\n",
       " 0.7692307692307693,\n",
       " 0.770508303975843,\n",
       " 0.7710494033679044]"
      ]
     },
     "execution_count": 6,
     "metadata": {},
     "output_type": "execute_result"
    }
   ],
   "source": [
    "f1_before"
   ]
  },
  {
   "cell_type": "code",
   "execution_count": 7,
   "metadata": {},
   "outputs": [],
   "source": [
    "selected_model = Supported_modles.SGD_classifier"
   ]
  },
  {
   "cell_type": "code",
   "execution_count": 8,
   "metadata": {},
   "outputs": [],
   "source": [
    "fedavg = Fedavg(\"global\")\n",
    "lr = 0.1\n",
    "fedavg.init_global_model(lr, selected_model, clients[0].model,6)"
   ]
  },
  {
   "cell_type": "code",
   "execution_count": 9,
   "metadata": {},
   "outputs": [],
   "source": [
    "model = clients[0].model\n",
    "clients = utils.set_data()\n",
    "for client in clients:\n",
    "    client.downsample_data(['sbytes','dbytes','sttl','dttl','spkts','dpkts'])\n",
    "    client.split_data()\n",
    "    client.init_empty_model(selected_model,model)"
   ]
  },
  {
   "cell_type": "code",
   "execution_count": 10,
   "metadata": {},
   "outputs": [
    {
     "name": "stdout",
     "output_type": "stream",
     "text": [
      "Starting new round!\n"
     ]
    },
    {
     "ename": "ValueError",
     "evalue": "early_stopping should be False with partial_fit",
     "output_type": "error",
     "traceback": [
      "\u001b[0;31m---------------------------------------------------------------------------\u001b[0m",
      "\u001b[0;31mValueError\u001b[0m                                Traceback (most recent call last)",
      "Cell \u001b[0;32mIn [10], line 30\u001b[0m\n\u001b[1;32m     27\u001b[0m sample_weights \u001b[39m=\u001b[39m compute_sample_weight(\u001b[39m'\u001b[39m\u001b[39mbalanced\u001b[39m\u001b[39m'\u001b[39m, y\u001b[39m=\u001b[39my_train)\n\u001b[1;32m     29\u001b[0m fedavg\u001b[39m.\u001b[39mload_global_model(client\u001b[39m.\u001b[39mmodel, selected_model)\n\u001b[0;32m---> 30\u001b[0m fedavg\u001b[39m.\u001b[39;49mtrain_local_agent(X_train, y_train, client\u001b[39m.\u001b[39;49mmodel, epochs, sample_weights, selected_model)\n\u001b[1;32m     31\u001b[0m round_weights\u001b[39m.\u001b[39mappend(X_train\u001b[39m.\u001b[39mshape[\u001b[39m0\u001b[39m])\n\u001b[1;32m     32\u001b[0m applicable_models\u001b[39m.\u001b[39mappend(client\u001b[39m.\u001b[39mmodel)\n",
      "File \u001b[0;32m~/Desktop/Studia/masters/git-repo/local_approach/FL_working/fedavg.py:57\u001b[0m, in \u001b[0;36mFedavg.train_local_agent\u001b[0;34m(self, X, y, model, epochs, class_weight, model_name)\u001b[0m\n\u001b[1;32m     55\u001b[0m \u001b[39mfor\u001b[39;00m _ \u001b[39min\u001b[39;00m \u001b[39mrange\u001b[39m(\u001b[39m0\u001b[39m, epochs):\n\u001b[1;32m     56\u001b[0m     \u001b[39mif\u001b[39;00m model_name \u001b[39m==\u001b[39m Supported_modles\u001b[39m.\u001b[39mSGD_classifier:\n\u001b[0;32m---> 57\u001b[0m         model\u001b[39m.\u001b[39;49mpartial_fit(X, y, classes\u001b[39m=\u001b[39;49mnp\u001b[39m.\u001b[39;49munique(y), sample_weight\u001b[39m=\u001b[39;49mclass_weight)\n\u001b[1;32m     58\u001b[0m     \u001b[39mif\u001b[39;00m model_name \u001b[39m==\u001b[39m Supported_modles\u001b[39m.\u001b[39mMLP_classifier:\n\u001b[1;32m     59\u001b[0m         model\u001b[39m.\u001b[39mpartial_fit(X, y, classes\u001b[39m=\u001b[39mnp\u001b[39m.\u001b[39munique(y))\n",
      "File \u001b[0;32m~/Desktop/Studia/masters/git-repo/flower/flower_venv/lib/python3.10/site-packages/sklearn/linear_model/_stochastic_gradient.py:835\u001b[0m, in \u001b[0;36mBaseSGDClassifier.partial_fit\u001b[0;34m(self, X, y, classes, sample_weight)\u001b[0m\n\u001b[1;32m    802\u001b[0m \u001b[39mdef\u001b[39;00m \u001b[39mpartial_fit\u001b[39m(\u001b[39mself\u001b[39m, X, y, classes\u001b[39m=\u001b[39m\u001b[39mNone\u001b[39;00m, sample_weight\u001b[39m=\u001b[39m\u001b[39mNone\u001b[39;00m):\n\u001b[1;32m    803\u001b[0m     \u001b[39m\"\"\"Perform one epoch of stochastic gradient descent on given samples.\u001b[39;00m\n\u001b[1;32m    804\u001b[0m \n\u001b[1;32m    805\u001b[0m \u001b[39m    Internally, this method uses ``max_iter = 1``. Therefore, it is not\u001b[39;00m\n\u001b[0;32m   (...)\u001b[0m\n\u001b[1;32m    833\u001b[0m \u001b[39m        Returns an instance of self.\u001b[39;00m\n\u001b[1;32m    834\u001b[0m \u001b[39m    \"\"\"\u001b[39;00m\n\u001b[0;32m--> 835\u001b[0m     \u001b[39mself\u001b[39;49m\u001b[39m.\u001b[39;49m_validate_params(for_partial_fit\u001b[39m=\u001b[39;49m\u001b[39mTrue\u001b[39;49;00m)\n\u001b[1;32m    836\u001b[0m     \u001b[39mif\u001b[39;00m \u001b[39mself\u001b[39m\u001b[39m.\u001b[39mclass_weight \u001b[39min\u001b[39;00m [\u001b[39m\"\u001b[39m\u001b[39mbalanced\u001b[39m\u001b[39m\"\u001b[39m]:\n\u001b[1;32m    837\u001b[0m         \u001b[39mraise\u001b[39;00m \u001b[39mValueError\u001b[39;00m(\n\u001b[1;32m    838\u001b[0m             \u001b[39m\"\u001b[39m\u001b[39mclass_weight \u001b[39m\u001b[39m'\u001b[39m\u001b[39m{0}\u001b[39;00m\u001b[39m'\u001b[39m\u001b[39m is not supported for \u001b[39m\u001b[39m\"\u001b[39m\n\u001b[1;32m    839\u001b[0m             \u001b[39m\"\u001b[39m\u001b[39mpartial_fit. In order to use \u001b[39m\u001b[39m'\u001b[39m\u001b[39mbalanced\u001b[39m\u001b[39m'\u001b[39m\u001b[39m weights,\u001b[39m\u001b[39m\"\u001b[39m\n\u001b[0;32m   (...)\u001b[0m\n\u001b[1;32m    846\u001b[0m             \u001b[39m\"\u001b[39m\u001b[39mparameter.\u001b[39m\u001b[39m\"\u001b[39m\u001b[39m.\u001b[39mformat(\u001b[39mself\u001b[39m\u001b[39m.\u001b[39mclass_weight)\n\u001b[1;32m    847\u001b[0m         )\n",
      "File \u001b[0;32m~/Desktop/Studia/masters/git-repo/flower/flower_venv/lib/python3.10/site-packages/sklearn/linear_model/_stochastic_gradient.py:135\u001b[0m, in \u001b[0;36mBaseSGD._validate_params\u001b[0;34m(self, for_partial_fit)\u001b[0m\n\u001b[1;32m    133\u001b[0m     \u001b[39mraise\u001b[39;00m \u001b[39mValueError\u001b[39;00m(\u001b[39m\"\u001b[39m\u001b[39mearly_stopping must be either True or False\u001b[39m\u001b[39m\"\u001b[39m)\n\u001b[1;32m    134\u001b[0m \u001b[39mif\u001b[39;00m \u001b[39mself\u001b[39m\u001b[39m.\u001b[39mearly_stopping \u001b[39mand\u001b[39;00m for_partial_fit:\n\u001b[0;32m--> 135\u001b[0m     \u001b[39mraise\u001b[39;00m \u001b[39mValueError\u001b[39;00m(\u001b[39m\"\u001b[39m\u001b[39mearly_stopping should be False with partial_fit\u001b[39m\u001b[39m\"\u001b[39m)\n\u001b[1;32m    136\u001b[0m \u001b[39mif\u001b[39;00m \u001b[39mself\u001b[39m\u001b[39m.\u001b[39mmax_iter \u001b[39mis\u001b[39;00m \u001b[39mnot\u001b[39;00m \u001b[39mNone\u001b[39;00m \u001b[39mand\u001b[39;00m \u001b[39mself\u001b[39m\u001b[39m.\u001b[39mmax_iter \u001b[39m<\u001b[39m\u001b[39m=\u001b[39m \u001b[39m0\u001b[39m:\n\u001b[1;32m    137\u001b[0m     \u001b[39mraise\u001b[39;00m \u001b[39mValueError\u001b[39;00m(\u001b[39m\"\u001b[39m\u001b[39mmax_iter must be > zero. Got \u001b[39m\u001b[39m%f\u001b[39;00m\u001b[39m\"\u001b[39m \u001b[39m%\u001b[39m \u001b[39mself\u001b[39m\u001b[39m.\u001b[39mmax_iter)\n",
      "\u001b[0;31mValueError\u001b[0m: early_stopping should be False with partial_fit"
     ]
    }
   ],
   "source": [
    "number_of_rounds = 20\n",
    "batch_size = 0.1\n",
    "epochs = 20\n",
    "prep = StandardScaler() \n",
    "\n",
    "for _ in range(number_of_rounds):\n",
    "    print(f'Starting new round!')\n",
    "\n",
    "    applicable_clients = random.sample((clients), random.randint(1, 4))\n",
    "    applicable_models = []\n",
    "    applicable_name = []\n",
    "    round_weights = []\n",
    "    dataset_size = 0\n",
    "    \n",
    "\n",
    "    for client in applicable_clients:\n",
    "        # print(f'Client name: {client.name}')\n",
    "\n",
    "        X = client.x\n",
    "        y = client.y\n",
    "\n",
    "        X_train, X_test, y_train, y_test = train_test_split(X, y, shuffle=True, train_size=batch_size, stratify=y, random_state=random.randint(0,10))\n",
    "       \n",
    "        #X_train = prep.fit_transform(X_train)\n",
    "\n",
    "        dataset_size += X_train.shape[0]\n",
    "        sample_weights = compute_sample_weight('balanced', y=y_train)\n",
    "\n",
    "        fedavg.load_global_model(client.model, selected_model)\n",
    "        fedavg.train_local_agent(X_train, y_train, client.model, epochs, sample_weights, selected_model)\n",
    "        round_weights.append(X_train.shape[0])\n",
    "        applicable_models.append(client.model)\n",
    "\n",
    "\n",
    "    round_weights = np.array(round_weights) / dataset_size # calculate weight based on actual dataset size\n",
    "    # round_weights = weights\n",
    "    fedavg.update_global_model(applicable_models, round_weights, selected_model)"
   ]
  },
  {
   "cell_type": "code",
   "execution_count": 40,
   "metadata": {},
   "outputs": [
    {
     "name": "stdout",
     "output_type": "stream",
     "text": [
      "[0.8261363636363637, 0.8161116832589541, 0.8237442922374429, 0.8316605839416058, 0.81985670419652]\n"
     ]
    }
   ],
   "source": [
    "f1_fedavg = []\n",
    "for client in clients:\n",
    "    #x = prep.transform(client.x_test)\n",
    "    y_hat = fedavg.model.predict(client.x_test)\n",
    "    f1_fedavg.append(f1_score(client.y_test,y_hat))\n",
    "print(f1_fedavg)"
   ]
  },
  {
   "cell_type": "code",
   "execution_count": 48,
   "metadata": {},
   "outputs": [
    {
     "name": "stdout",
     "output_type": "stream",
     "text": [
      "Difference 0.05260073373958474\n",
      "Difference 0.0510898219222895\n",
      "Difference 0.0668507936287912\n",
      "Difference 0.049860684494647534\n",
      "Difference 0.06269918166885946\n"
     ]
    }
   ],
   "source": [
    "i = 0\n",
    "for client in clients:\n",
    "    print(f'Difference {f1_fedavg[i]-f1_before[i]}')\n",
    "    i += 1"
   ]
  },
  {
   "cell_type": "code",
   "execution_count": 236,
   "metadata": {},
   "outputs": [
    {
     "name": "stdout",
     "output_type": "stream",
     "text": [
      "0.8966526176460343\n"
     ]
    }
   ],
   "source": [
    "selected_model = Supported_modles.gradient_boosting_classifier\n",
    "client = utils.centralized_data()\n",
    "client.downsample_data(['sbytes','dbytes','sttl','dttl','spkts','dpkts'])\n",
    "client.split_data()\n",
    "client.train_model(selected_model)\n",
    "print(client.F1)"
   ]
  },
  {
   "cell_type": "code",
   "execution_count": null,
   "metadata": {},
   "outputs": [],
   "source": []
  }
 ],
 "metadata": {
  "kernelspec": {
   "display_name": "Python 3.10.6 ('flower_venv': venv)",
   "language": "python",
   "name": "python3"
  },
  "language_info": {
   "codemirror_mode": {
    "name": "ipython",
    "version": 3
   },
   "file_extension": ".py",
   "mimetype": "text/x-python",
   "name": "python",
   "nbconvert_exporter": "python",
   "pygments_lexer": "ipython3",
   "version": "3.10.6"
  },
  "orig_nbformat": 4,
  "vscode": {
   "interpreter": {
    "hash": "37a3f064d08b70021b14be81b11bab9d127cd79189cce72309f16083e51f60cf"
   }
  }
 },
 "nbformat": 4,
 "nbformat_minor": 2
}
